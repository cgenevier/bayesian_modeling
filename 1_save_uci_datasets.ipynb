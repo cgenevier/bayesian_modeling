{
 "cells": [
  {
   "cell_type": "code",
   "execution_count": 4,
   "metadata": {},
   "outputs": [],
   "source": [
    "# Define UCI Datasets to pull\n",
    "# https://archive.ics.uci.edu/ml/datasets.php\n",
    "uci_datasets = [1,9,10,16,60,87,89,92,162,165,183,186,189,211,242,244,270,275,291,294,300,320,332,368,374,381,390,409,464,471,477,492,519,544,547,560,563,565,597,601,713,849,851,857,880,890,925,942]\n",
    "\n",
    "# 59 total regression datasets available for python import - below are the ones that have no target column\n",
    "# 29, 235, 247, 360, 390, 461, 462, 536, 551, 555, 760, 913"
   ]
  },
  {
   "cell_type": "code",
   "execution_count": 5,
   "metadata": {},
   "outputs": [],
   "source": [
    "# Load necessary libraries and helper functions\n",
    " \n",
    "# import dataset class\n",
    "from helpers.model import Model"
   ]
  },
  {
   "cell_type": "code",
   "execution_count": 6,
   "metadata": {},
   "outputs": [],
   "source": [
    "# Loop over each dataset, then import, normalize, and save it\n",
    "for dataset in uci_datasets:\n",
    "\n",
    "    # Define the dataset\n",
    "    model = Model()\n",
    "    model.import_from_uci(dataset, True)\n"
   ]
  },
  {
   "cell_type": "markdown",
   "metadata": {},
   "source": [
    "Manual Adjustments Necessary:\n",
    "\n",
    "Dataset 92: The wrong column is marked as a target in the UCI metadata. It should be num_thermal_distress not num_O_rings"
   ]
  }
 ],
 "metadata": {
  "kernelspec": {
   "display_name": "pymc_env",
   "language": "python",
   "name": "python3"
  },
  "language_info": {
   "codemirror_mode": {
    "name": "ipython",
    "version": 3
   },
   "file_extension": ".py",
   "mimetype": "text/x-python",
   "name": "python",
   "nbconvert_exporter": "python",
   "pygments_lexer": "ipython3",
   "version": "3.12.4"
  }
 },
 "nbformat": 4,
 "nbformat_minor": 2
}
