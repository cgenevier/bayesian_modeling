{
 "cells": [
  {
   "cell_type": "code",
   "execution_count": 1,
   "metadata": {},
   "outputs": [],
   "source": [
    "# Config Variables\n",
    "\n",
    "# Define UCI Datasets to pull\n",
    "# https://archive.ics.uci.edu/ml/datasets.php\n",
    "uci_datasets = [165]\n",
    "\n",
    "# Use all data (vs just training data) for OLS to determine co-efficient sign\n",
    "ols_use_all_data = True\n",
    "\n",
    "# Training set sizes to use (only training set sizes < 60% of total dataset size will be used)\n",
    "training_set_sizes = [10, 40, 160, 610, 2560, 10240, 40960]\n",
    "chain_lengths = [20000, 20000, 100000, 100000, 100000, 100000, 100000]\n",
    "\n",
    "# Number of etas (prior standard deviation) to test between 1e-04 and 1e05 (recommend 20)\n",
    "# Limits at 0 and infinity are calculated separately\n",
    "# Note: In practice, sigma^2 (likelihood variance) is set to 1/eta^2 and\n",
    "#       lambda (penalty) is set to 1/eta^4 \n",
    "num_etas = 20\n",
    "\n",
    "# Number of folds for cross-validation (set to 300 in 2018 paper, recommend testing with 5 to see if it works)\n",
    "cv_folds = 5\n",
    "\n",
    "# Overwrite model if it's already saved to file\n",
    "overwrite_model = False"
   ]
  },
  {
   "cell_type": "code",
   "execution_count": 2,
   "metadata": {},
   "outputs": [
    {
     "name": "stderr",
     "output_type": "stream",
     "text": [
      "WARNING (pytensor.tensor.blas): Using NumPy C-API based implementation for BLAS functions.\n"
     ]
    }
   ],
   "source": [
    "# Load necessary libraries and helper functions\n",
    "\n",
    "# import helper functions from helpers/data_manipulation.py\n",
    "from helpers.data_manipulation import *\n",
    "\n",
    "# import half_ridge functions from helpers/half_ridge.py\n",
    "from helpers.half_ridge import *\n",
    "\n",
    "# import dataset class\n",
    "from helpers.model import Model\n",
    "\n",
    "# import os and pickle\n",
    "import os\n",
    "import pickle\n",
    " \n",
    "# Pandas and numpy for data manipulation\n",
    "import pandas as pd\n",
    "import numpy as np\n",
    "np.random.seed(42)\n",
    "\n",
    "# Matplotlib and seaborn for plotting\n",
    "import matplotlib.pyplot as plt\n",
    "%matplotlib inline\n",
    "\n",
    "from matplotlib.ticker import FuncFormatter\n",
    "import matplotlib\n",
    "matplotlib.rcParams['font.size'] = 16\n",
    "matplotlib.rcParams['figure.figsize'] = (9, 9)\n",
    "\n",
    "import seaborn as sns\n",
    "import time\n",
    "\n",
    "from IPython.core.pylabtools import figsize\n",
    "\n",
    "# Scipy helper functions\n",
    "from scipy.stats import percentileofscore\n",
    "from scipy import stats\n",
    "\n",
    "# Standard ML Models for comparison\n",
    "from sklearn.linear_model import LinearRegression\n",
    "\n",
    "# Splitting data into training/testing\n",
    "from sklearn.model_selection import train_test_split\n",
    "from sklearn.preprocessing import MinMaxScaler\n",
    "\n",
    "# Metrics\n",
    "from sklearn.metrics import mean_squared_error, mean_absolute_error, median_absolute_error\n",
    "\n",
    "# Distributions\n",
    "import scipy\n",
    "\n",
    "# PyMC3 for Bayesian Inference\n",
    "import arviz as az\n",
    "import pymc as pm"
   ]
  },
  {
   "cell_type": "code",
   "execution_count": 3,
   "metadata": {},
   "outputs": [
    {
     "name": "stdout",
     "output_type": "stream",
     "text": [
      "[10, 40, 160, 610]\n",
      "Training Set Index: 0, Training Set Value: 10\n",
      "Training Set Value: 10, Eta: 0.0, Fold: 0 of range(0, 5)\n",
      "Running half-ridge regression...\n",
      "{'Cement': 0.7978845608028654, 'Superplasticizer': -0.7978845608028654, 'Age': -0.7978845608028654, 'Water': -0.7978845608028654, 'Fine Aggregate': -0.7978845608028654, 'Coarse Aggregate': -0.7978845608028654, 'Blast Furnace Slag': -0.7978845608028654, 'Fly Ash': -0.7978845608028654}\n",
      "Half ridge regression rejection sampling took 7.033348083496094e-05 seconds\n",
      "half-ridge coefficients\n",
      "{'Age': -0.7978845608028654, 'Blast Furnace Slag': -0.7978845608028654, 'Cement': 0.7978845608028654, 'Coarse Aggregate': -0.7978845608028654, 'Fine Aggregate': -0.7978845608028654, 'Fly Ash': -0.7978845608028654, 'Superplasticizer': -0.7978845608028654, 'Water': -0.7978845608028654, 'intercept': 0}\n",
      "binary comparisons\n",
      "0.46\n",
      "Training Set Value: 10, Eta: 0.0, Fold: 1 of range(0, 5)\n",
      "Running half-ridge regression...\n",
      "{'Cement': 0.7978845608028654, 'Superplasticizer': -0.7978845608028654, 'Age': -0.7978845608028654, 'Water': -0.7978845608028654, 'Fine Aggregate': -0.7978845608028654, 'Coarse Aggregate': -0.7978845608028654, 'Blast Furnace Slag': -0.7978845608028654, 'Fly Ash': -0.7978845608028654}\n",
      "Half ridge regression rejection sampling took 7.224082946777344e-05 seconds\n",
      "half-ridge coefficients\n",
      "{'Age': -0.7978845608028654, 'Blast Furnace Slag': -0.7978845608028654, 'Cement': 0.7978845608028654, 'Coarse Aggregate': -0.7978845608028654, 'Fine Aggregate': -0.7978845608028654, 'Fly Ash': -0.7978845608028654, 'Superplasticizer': -0.7978845608028654, 'Water': -0.7978845608028654, 'intercept': 0}\n",
      "binary comparisons\n",
      "0.476\n",
      "Training Set Value: 10, Eta: 0.0, Fold: 2 of range(0, 5)\n",
      "Running half-ridge regression...\n",
      "{'Cement': 0.7978845608028654, 'Superplasticizer': -0.7978845608028654, 'Age': -0.7978845608028654, 'Water': -0.7978845608028654, 'Fine Aggregate': -0.7978845608028654, 'Coarse Aggregate': -0.7978845608028654, 'Blast Furnace Slag': -0.7978845608028654, 'Fly Ash': -0.7978845608028654}\n",
      "Half ridge regression rejection sampling took 5.841255187988281e-05 seconds\n",
      "half-ridge coefficients\n",
      "{'Age': -0.7978845608028654, 'Blast Furnace Slag': -0.7978845608028654, 'Cement': 0.7978845608028654, 'Coarse Aggregate': -0.7978845608028654, 'Fine Aggregate': -0.7978845608028654, 'Fly Ash': -0.7978845608028654, 'Superplasticizer': -0.7978845608028654, 'Water': -0.7978845608028654, 'intercept': 0}\n",
      "binary comparisons\n",
      "0.491\n",
      "Training Set Value: 10, Eta: 0.0, Fold: 3 of range(0, 5)\n",
      "Running half-ridge regression...\n",
      "{'Cement': 0.7978845608028654, 'Superplasticizer': -0.7978845608028654, 'Age': -0.7978845608028654, 'Water': -0.7978845608028654, 'Fine Aggregate': -0.7978845608028654, 'Coarse Aggregate': -0.7978845608028654, 'Blast Furnace Slag': -0.7978845608028654, 'Fly Ash': -0.7978845608028654}\n",
      "Half ridge regression rejection sampling took 8.630752563476562e-05 seconds\n",
      "half-ridge coefficients\n",
      "{'Age': -0.7978845608028654, 'Blast Furnace Slag': -0.7978845608028654, 'Cement': 0.7978845608028654, 'Coarse Aggregate': -0.7978845608028654, 'Fine Aggregate': -0.7978845608028654, 'Fly Ash': -0.7978845608028654, 'Superplasticizer': -0.7978845608028654, 'Water': -0.7978845608028654, 'intercept': 0}\n",
      "binary comparisons\n",
      "0.45\n",
      "Training Set Value: 10, Eta: 0.0, Fold: 4 of range(0, 5)\n",
      "Running half-ridge regression...\n",
      "{'Cement': 0.7978845608028654, 'Superplasticizer': -0.7978845608028654, 'Age': -0.7978845608028654, 'Water': -0.7978845608028654, 'Fine Aggregate': -0.7978845608028654, 'Coarse Aggregate': -0.7978845608028654, 'Blast Furnace Slag': -0.7978845608028654, 'Fly Ash': -0.7978845608028654}\n",
      "Half ridge regression rejection sampling took 5.984306335449219e-05 seconds\n",
      "half-ridge coefficients\n",
      "{'Age': -0.7978845608028654, 'Blast Furnace Slag': -0.7978845608028654, 'Cement': 0.7978845608028654, 'Coarse Aggregate': -0.7978845608028654, 'Fine Aggregate': -0.7978845608028654, 'Fly Ash': -0.7978845608028654, 'Superplasticizer': -0.7978845608028654, 'Water': -0.7978845608028654, 'intercept': 0}\n",
      "binary comparisons\n",
      "0.437\n",
      "Training Set Value: 10, Eta: 0.0001, Fold: 0 of range(0, 5)\n",
      "Running half-ridge regression...\n",
      "Half ridge regression rejection sampling took 0.011440515518188477 seconds\n",
      "half-ridge coefficients\n",
      "{'Age': -7.0916193981473365e-09, 'Blast Furnace Slag': -7.613052256348503e-09, 'Cement': 8.78490296841303e-09, 'Coarse Aggregate': -7.703333282755256e-09, 'Fine Aggregate': -7.194892289120792e-09, 'Fly Ash': -7.740847339603532e-09, 'Superplasticizer': -8.452818852747832e-09, 'Water': -7.401885594137777e-09, 'intercept': 0}\n",
      "binary comparisons\n",
      "0.443\n",
      "Training Set Value: 10, Eta: 0.0001, Fold: 1 of range(0, 5)\n",
      "Running half-ridge regression...\n",
      "Half ridge regression rejection sampling took 0.008643865585327148 seconds\n",
      "half-ridge coefficients\n",
      "{'Age': -7.269010118041379e-09, 'Blast Furnace Slag': -7.266324088217907e-09, 'Cement': 8.798290546160452e-09, 'Coarse Aggregate': -8.06632568090524e-09, 'Fine Aggregate': -7.807710330806747e-09, 'Fly Ash': -8.878662845274346e-09, 'Superplasticizer': -7.1640862630100595e-09, 'Water': -7.361509571656422e-09, 'intercept': 0}\n",
      "binary comparisons\n",
      "0.498\n",
      "Training Set Value: 10, Eta: 0.0001, Fold: 2 of range(0, 5)\n",
      "Running half-ridge regression...\n",
      "Half ridge regression rejection sampling took 0.015761375427246094 seconds\n",
      "half-ridge coefficients\n",
      "{'Age': -7.870251227752691e-09, 'Blast Furnace Slag': -8.499491744714014e-09, 'Cement': 7.942243112501059e-09, 'Coarse Aggregate': -7.179896194406509e-09, 'Fine Aggregate': -7.175059549454472e-09, 'Fly Ash': -8.662751600783897e-09, 'Superplasticizer': -7.65390957059279e-09, 'Water': -6.861847720275577e-09, 'intercept': 0}\n",
      "binary comparisons\n",
      "0.427\n",
      "Training Set Value: 10, Eta: 0.0001, Fold: 3 of range(0, 5)\n",
      "Running half-ridge regression...\n",
      "Half ridge regression rejection sampling took 0.011716365814208984 seconds\n",
      "half-ridge coefficients\n",
      "{'Age': -7.5814950510057e-09, 'Blast Furnace Slag': -8.095983902290584e-09, 'Cement': 8.013675502494374e-09, 'Coarse Aggregate': -8.802715473448306e-09, 'Fine Aggregate': -8.66994582615418e-09, 'Fly Ash': -8.163533041826439e-09, 'Superplasticizer': -7.696356500303768e-09, 'Water': -7.150917135062829e-09, 'intercept': 0}\n",
      "binary comparisons\n",
      "0.473\n",
      "Training Set Value: 10, Eta: 0.0001, Fold: 4 of range(0, 5)\n",
      "Running half-ridge regression...\n",
      "Half ridge regression rejection sampling took 0.013343095779418945 seconds\n",
      "half-ridge coefficients\n",
      "{'Age': -7.2625671380175266e-09, 'Blast Furnace Slag': -8.347636498419664e-09, 'Cement': 6.3223705745000815e-09, 'Coarse Aggregate': -6.893223844587284e-09, 'Fine Aggregate': -8.181421580766124e-09, 'Fly Ash': -6.317221501283405e-09, 'Superplasticizer': -7.966096380759423e-09, 'Water': -7.670372006658539e-09, 'intercept': 0}\n",
      "binary comparisons\n",
      "0.47\n",
      "Training Set Value: 10, Eta: 0.00029763514416313193, Fold: 0 of range(0, 5)\n",
      "Running half-ridge regression...\n",
      "Half ridge regression rejection sampling took 0.013566732406616211 seconds\n",
      "half-ridge coefficients\n",
      "{'Age': -6.334096894208983e-08, 'Blast Furnace Slag': -7.044112986201087e-08, 'Cement': 6.938598113836703e-08, 'Coarse Aggregate': -6.122618840476959e-08, 'Fine Aggregate': -7.441659447862012e-08, 'Fly Ash': -7.362237884752836e-08, 'Superplasticizer': -7.343281417562028e-08, 'Water': -7.654062236933297e-08, 'intercept': 0}\n",
      "binary comparisons\n",
      "0.475\n",
      "Training Set Value: 10, Eta: 0.00029763514416313193, Fold: 1 of range(0, 5)\n",
      "Running half-ridge regression...\n",
      "Half ridge regression rejection sampling took 0.015339374542236328 seconds\n",
      "half-ridge coefficients\n",
      "{'Age': -6.700857705720636e-08, 'Blast Furnace Slag': -6.094918263746582e-08, 'Cement': 6.9525605118133e-08, 'Coarse Aggregate': -6.893451021313491e-08, 'Fine Aggregate': -6.001071321577807e-08, 'Fly Ash': -7.243815274131858e-08, 'Superplasticizer': -9.057735684325153e-08, 'Water': -7.394241101242895e-08, 'intercept': 0}\n",
      "binary comparisons\n",
      "0.439\n",
      "Training Set Value: 10, Eta: 0.00029763514416313193, Fold: 2 of range(0, 5)\n",
      "Running half-ridge regression...\n",
      "Half ridge regression rejection sampling took 0.012731552124023438 seconds\n",
      "half-ridge coefficients\n",
      "{'Age': -6.827141512176231e-08, 'Blast Furnace Slag': -5.991088898038504e-08, 'Cement': 6.312143820003093e-08, 'Coarse Aggregate': -6.897542575177487e-08, 'Fine Aggregate': -7.440620675518692e-08, 'Fly Ash': -7.195431378888514e-08, 'Superplasticizer': -6.4054125257503e-08, 'Water': -7.105785340333541e-08, 'intercept': 0}\n",
      "binary comparisons\n",
      "0.518\n",
      "Training Set Value: 10, Eta: 0.00029763514416313193, Fold: 3 of range(0, 5)\n",
      "Running half-ridge regression...\n",
      "Half ridge regression rejection sampling took 0.008646726608276367 seconds\n",
      "half-ridge coefficients\n",
      "{'Age': -6.508001881600823e-08, 'Blast Furnace Slag': -7.66879700779707e-08, 'Cement': 6.977745132463081e-08, 'Coarse Aggregate': -6.57396389909017e-08, 'Fine Aggregate': -7.079920602476715e-08, 'Fly Ash': -7.075897323707057e-08, 'Superplasticizer': -6.08539800050858e-08, 'Water': -6.75309064573288e-08, 'intercept': 0}\n",
      "binary comparisons\n",
      "0.491\n",
      "Training Set Value: 10, Eta: 0.00029763514416313193, Fold: 4 of range(0, 5)\n",
      "Running half-ridge regression...\n",
      "Half ridge regression rejection sampling took 0.00884389877319336 seconds\n",
      "half-ridge coefficients\n",
      "{'Age': -7.604392751342589e-08, 'Blast Furnace Slag': -7.183656767443365e-08, 'Cement': 7.946992857193124e-08, 'Coarse Aggregate': -7.205181395220716e-08, 'Fine Aggregate': -7.374168551579147e-08, 'Fly Ash': -7.65034607730659e-08, 'Superplasticizer': -6.756215956555145e-08, 'Water': -6.486297109247097e-08, 'intercept': 0}\n",
      "binary comparisons\n",
      "0.454\n",
      "Training Set Value: 10, Eta: 0.0008858667904100823, Fold: 0 of range(0, 5)\n",
      "Running half-ridge regression...\n",
      "Half ridge regression rejection sampling took 0.008925676345825195 seconds\n",
      "half-ridge coefficients\n",
      "{'Age': -6.387434528699179e-07, 'Blast Furnace Slag': -5.849964760522835e-07, 'Cement': 6.286017404246602e-07, 'Coarse Aggregate': -6.680011084179532e-07, 'Fine Aggregate': -6.196354140899384e-07, 'Fly Ash': -6.70508406998747e-07, 'Superplasticizer': -5.937007997980501e-07, 'Water': -5.556813482521898e-07, 'intercept': 0}\n",
      "binary comparisons\n",
      "0.459\n",
      "Training Set Value: 10, Eta: 0.0008858667904100823, Fold: 1 of range(0, 5)\n",
      "Running half-ridge regression...\n",
      "Half ridge regression rejection sampling took 0.00877070426940918 seconds\n",
      "half-ridge coefficients\n",
      "{'Age': -5.695808245217431e-07, 'Blast Furnace Slag': -7.208303009578851e-07, 'Cement': 5.789800212617867e-07, 'Coarse Aggregate': -7.202418969044584e-07, 'Fine Aggregate': -5.307487897813957e-07, 'Fly Ash': -6.541193910654006e-07, 'Superplasticizer': -6.206898996059599e-07, 'Water': -6.1748132311628e-07, 'intercept': 0}\n",
      "binary comparisons\n",
      "0.482\n",
      "Training Set Value: 10, Eta: 0.0008858667904100823, Fold: 2 of range(0, 5)\n",
      "Running half-ridge regression...\n",
      "Half ridge regression rejection sampling took 0.008799552917480469 seconds\n",
      "half-ridge coefficients\n",
      "{'Age': -5.618644500456057e-07, 'Blast Furnace Slag': -5.986306494110522e-07, 'Cement': 6.250797306082068e-07, 'Coarse Aggregate': -6.190455386681276e-07, 'Fine Aggregate': -6.730094280560079e-07, 'Fly Ash': -5.766468735099204e-07, 'Superplasticizer': -5.321619969524588e-07, 'Water': -5.592775962432677e-07, 'intercept': 0}\n",
      "binary comparisons\n",
      "0.481\n",
      "Training Set Value: 10, Eta: 0.0008858667904100823, Fold: 3 of range(0, 5)\n",
      "Running half-ridge regression...\n",
      "Half ridge regression rejection sampling took 0.00878286361694336 seconds\n",
      "half-ridge coefficients\n",
      "{'Age': -6.07114742525867e-07, 'Blast Furnace Slag': -6.517383785428965e-07, 'Cement': 5.811172118958198e-07, 'Coarse Aggregate': -5.710772079733886e-07, 'Fine Aggregate': -6.383665511963545e-07, 'Fly Ash': -6.182599511239801e-07, 'Superplasticizer': -7.325663358866936e-07, 'Water': -7.105712842242902e-07, 'intercept': 0}\n",
      "binary comparisons\n",
      "0.458\n",
      "Training Set Value: 10, Eta: 0.0008858667904100823, Fold: 4 of range(0, 5)\n",
      "Running half-ridge regression...\n",
      "Half ridge regression rejection sampling took 0.008679628372192383 seconds\n",
      "half-ridge coefficients\n",
      "{'Age': -5.744345292645913e-07, 'Blast Furnace Slag': -5.782470373321767e-07, 'Cement': 5.527112734297533e-07, 'Coarse Aggregate': -5.918057015580399e-07, 'Fine Aggregate': -5.969206131439203e-07, 'Fly Ash': -5.526144518291809e-07, 'Superplasticizer': -6.145562697737816e-07, 'Water': -6.19325467266104e-07, 'intercept': 0}\n",
      "binary comparisons\n",
      "0.447\n",
      "Training Set Value: 10, Eta: 0.0026366508987303583, Fold: 0 of range(0, 5)\n",
      "Running half-ridge regression...\n",
      "Half ridge regression rejection sampling took 0.008788108825683594 seconds\n",
      "half-ridge coefficients\n",
      "{'Age': -5.345036093026935e-06, 'Blast Furnace Slag': -4.9139026051168335e-06, 'Cement': 4.8071036303999265e-06, 'Coarse Aggregate': -5.1363577243160145e-06, 'Fine Aggregate': -5.967509170990067e-06, 'Fly Ash': -6.134411440001464e-06, 'Superplasticizer': -5.883136753512813e-06, 'Water': -6.1805453602294805e-06, 'intercept': 0}\n",
      "binary comparisons\n",
      "0.481\n",
      "Training Set Value: 10, Eta: 0.0026366508987303583, Fold: 1 of range(0, 5)\n",
      "Running half-ridge regression...\n",
      "Half ridge regression rejection sampling took 0.008746862411499023 seconds\n",
      "half-ridge coefficients\n",
      "{'Age': -5.711798151504353e-06, 'Blast Furnace Slag': -5.805252727514324e-06, 'Cement': 5.111620174121691e-06, 'Coarse Aggregate': -5.913048090169571e-06, 'Fine Aggregate': -5.471589043192403e-06, 'Fly Ash': -4.359603846793751e-06, 'Superplasticizer': -5.36519643350846e-06, 'Water': -4.957560126099658e-06, 'intercept': 0}\n",
      "binary comparisons\n",
      "0.467\n",
      "Training Set Value: 10, Eta: 0.0026366508987303583, Fold: 2 of range(0, 5)\n",
      "Running half-ridge regression...\n",
      "Half ridge regression rejection sampling took 0.008951425552368164 seconds\n",
      "half-ridge coefficients\n",
      "{'Age': -5.6345554210811265e-06, 'Blast Furnace Slag': -5.431858487888924e-06, 'Cement': 5.487633556911934e-06, 'Coarse Aggregate': -4.944717774601862e-06, 'Fine Aggregate': -5.567031532761818e-06, 'Fly Ash': -5.3794241010504296e-06, 'Superplasticizer': -6.008455779104027e-06, 'Water': -5.347598895240223e-06, 'intercept': 0}\n",
      "binary comparisons\n",
      "0.461\n",
      "Training Set Value: 10, Eta: 0.0026366508987303583, Fold: 3 of range(0, 5)\n",
      "Running half-ridge regression...\n",
      "Half ridge regression rejection sampling took 0.008722066879272461 seconds\n",
      "half-ridge coefficients\n",
      "{'Age': -5.754191598174665e-06, 'Blast Furnace Slag': -5.070819162264098e-06, 'Cement': 5.219893679047922e-06, 'Coarse Aggregate': -6.112975506787785e-06, 'Fine Aggregate': -5.06911584571857e-06, 'Fly Ash': -5.532033204197484e-06, 'Superplasticizer': -5.935960751317047e-06, 'Water': -5.176329278586389e-06, 'intercept': 0}\n",
      "binary comparisons\n",
      "0.471\n",
      "Training Set Value: 10, Eta: 0.0026366508987303583, Fold: 4 of range(0, 5)\n",
      "Running half-ridge regression...\n",
      "Half ridge regression rejection sampling took 0.008933544158935547 seconds\n",
      "half-ridge coefficients\n",
      "{'Age': -5.012123513314105e-06, 'Blast Furnace Slag': -6.353090997519333e-06, 'Cement': 5.442382434647e-06, 'Coarse Aggregate': -5.536738202545557e-06, 'Fine Aggregate': -5.803462449653882e-06, 'Fly Ash': -5.8825877043620326e-06, 'Superplasticizer': -6.003850662439888e-06, 'Water': -5.6260468954875365e-06, 'intercept': 0}\n",
      "binary comparisons\n",
      "0.449\n",
      "Training Set Value: 10, Eta: 0.007847599703514606, Fold: 0 of range(0, 5)\n",
      "Running half-ridge regression...\n",
      "Half ridge regression rejection sampling took 0.008731603622436523 seconds\n",
      "half-ridge coefficients\n",
      "{'Age': -5.177497418331375e-05, 'Blast Furnace Slag': -5.0702786284760964e-05, 'Cement': 4.7004067119058866e-05, 'Coarse Aggregate': -5.2205171158498194e-05, 'Fine Aggregate': -4.5659322523455315e-05, 'Fly Ash': -4.3961336645365353e-05, 'Superplasticizer': -5.304141303494497e-05, 'Water': -5.615804717789865e-05, 'intercept': 0}\n",
      "binary comparisons\n",
      "0.464\n",
      "Training Set Value: 10, Eta: 0.007847599703514606, Fold: 1 of range(0, 5)\n",
      "Running half-ridge regression...\n",
      "Half ridge regression rejection sampling took 0.009790897369384766 seconds\n",
      "half-ridge coefficients\n",
      "{'Age': -4.522421507953903e-05, 'Blast Furnace Slag': -4.543754538884869e-05, 'Cement': 4.460151427978311e-05, 'Coarse Aggregate': -4.1993404222846e-05, 'Fine Aggregate': -4.294163843894411e-05, 'Fly Ash': -5.2460149250422374e-05, 'Superplasticizer': -5.009955633068022e-05, 'Water': -5.259362827907821e-05, 'intercept': 0}\n",
      "binary comparisons\n",
      "0.481\n",
      "Training Set Value: 10, Eta: 0.007847599703514606, Fold: 2 of range(0, 5)\n",
      "Running half-ridge regression...\n",
      "Half ridge regression rejection sampling took 0.010615110397338867 seconds\n",
      "half-ridge coefficients\n",
      "{'Age': -6.0809719726509314e-05, 'Blast Furnace Slag': -5.162389965447745e-05, 'Cement': 5.038769759984054e-05, 'Coarse Aggregate': -4.6174423541449216e-05, 'Fine Aggregate': -4.828848307837874e-05, 'Fly Ash': -5.3311325086633534e-05, 'Superplasticizer': -4.481770455009582e-05, 'Water': -4.9985615131553526e-05, 'intercept': 0}\n",
      "binary comparisons\n",
      "0.474\n",
      "Training Set Value: 10, Eta: 0.007847599703514606, Fold: 3 of range(0, 5)\n",
      "Running half-ridge regression...\n",
      "Half ridge regression rejection sampling took 0.014881134033203125 seconds\n",
      "half-ridge coefficients\n",
      "{'Age': -5.107802831583499e-05, 'Blast Furnace Slag': -4.798059457315384e-05, 'Cement': 4.844679443099897e-05, 'Coarse Aggregate': -5.0566367916601065e-05, 'Fine Aggregate': -4.049127883964584e-05, 'Fly Ash': -4.877064011455541e-05, 'Superplasticizer': -4.6368422988309866e-05, 'Water': -4.37865725524333e-05, 'intercept': 0}\n",
      "binary comparisons\n",
      "0.487\n",
      "Training Set Value: 10, Eta: 0.007847599703514606, Fold: 4 of range(0, 5)\n",
      "Running half-ridge regression...\n",
      "Half ridge regression rejection sampling took 0.020717859268188477 seconds\n",
      "half-ridge coefficients\n",
      "{'Age': -4.3224949033002403e-05, 'Blast Furnace Slag': -4.4298596613117425e-05, 'Cement': 5.1180590604259313e-05, 'Coarse Aggregate': -4.6046595111249883e-05, 'Fine Aggregate': -4.9655898426471834e-05, 'Fly Ash': -5.037775687722488e-05, 'Superplasticizer': -4.832050781358032e-05, 'Water': -4.101517035607058e-05, 'intercept': 0}\n",
      "binary comparisons\n",
      "0.467\n",
      "Training Set Value: 10, Eta: 0.023357214690901212, Fold: 0 of range(0, 5)\n",
      "Running half-ridge regression...\n",
      "Half ridge regression rejection sampling took 0.013597965240478516 seconds\n",
      "half-ridge coefficients\n",
      "{'Age': -0.00043941448694536923, 'Blast Furnace Slag': -0.00041651278024900957, 'Cement': 0.000415704095917099, 'Coarse Aggregate': -0.0004584531504531151, 'Fine Aggregate': -0.0003750857116656044, 'Fly Ash': -0.00043121204295000867, 'Superplasticizer': -0.0004368187812453387, 'Water': -0.00039299310163700915, 'intercept': 0}\n",
      "binary comparisons\n",
      "0.449\n",
      "Training Set Value: 10, Eta: 0.023357214690901212, Fold: 1 of range(0, 5)\n",
      "Running half-ridge regression...\n",
      "Half ridge regression rejection sampling took 0.00952458381652832 seconds\n",
      "half-ridge coefficients\n",
      "{'Age': -0.00038494797017653824, 'Blast Furnace Slag': -0.0004835932154965386, 'Cement': 0.0004313049860883061, 'Coarse Aggregate': -0.0003925365740132613, 'Fine Aggregate': -0.00044669407908797204, 'Fly Ash': -0.00042326217753256757, 'Superplasticizer': -0.00048424854262269076, 'Water': -0.0004402112257406067, 'intercept': 0}\n",
      "binary comparisons\n",
      "0.46\n",
      "Training Set Value: 10, Eta: 0.023357214690901212, Fold: 2 of range(0, 5)\n",
      "Running half-ridge regression...\n",
      "Half ridge regression rejection sampling took 0.008848428726196289 seconds\n",
      "half-ridge coefficients\n",
      "{'Age': -0.00044155031975088145, 'Blast Furnace Slag': -0.00045891409223681675, 'Cement': 0.0005264051391535137, 'Coarse Aggregate': -0.00038281279548438226, 'Fine Aggregate': -0.00046236112759317957, 'Fly Ash': -0.00045245302637338607, 'Superplasticizer': -0.0004089900102205027, 'Water': -0.0004537177163170743, 'intercept': 0}\n",
      "binary comparisons\n",
      "0.482\n",
      "Training Set Value: 10, Eta: 0.023357214690901212, Fold: 3 of range(0, 5)\n",
      "Running half-ridge regression...\n",
      "Half ridge regression rejection sampling took 0.017200469970703125 seconds\n",
      "half-ridge coefficients\n",
      "{'Age': -0.00046627240484488705, 'Blast Furnace Slag': -0.0003817545824354555, 'Cement': 0.0004662329352863648, 'Coarse Aggregate': -0.00042605654424980924, 'Fine Aggregate': -0.0003990411897903407, 'Fly Ash': -0.0005155348284669345, 'Superplasticizer': -0.0003974569045916999, 'Water': -0.00037773988654128286, 'intercept': 0}\n",
      "binary comparisons\n",
      "0.484\n",
      "Training Set Value: 10, Eta: 0.023357214690901212, Fold: 4 of range(0, 5)\n",
      "Running half-ridge regression...\n",
      "Half ridge regression rejection sampling took 0.008640289306640625 seconds\n",
      "half-ridge coefficients\n",
      "{'Age': -0.0003597057374207975, 'Blast Furnace Slag': -0.00046742400910491244, 'Cement': 0.0004421280032773733, 'Coarse Aggregate': -0.0004341059871543941, 'Fine Aggregate': -0.0003709088930709928, 'Fly Ash': -0.00039083604703489723, 'Superplasticizer': -0.0005040166133888789, 'Water': -0.0003561287512194216, 'intercept': 0}\n",
      "binary comparisons\n",
      "0.473\n",
      "Training Set Value: 10, Eta: 0.06951927961775606, Fold: 0 of range(0, 5)\n",
      "Running half-ridge regression...\n",
      "Half ridge regression rejection sampling took 0.014273405075073242 seconds\n",
      "half-ridge coefficients\n",
      "{'Age': -0.003680046602331371, 'Blast Furnace Slag': -0.003832273848580044, 'Cement': 0.0035374674229109375, 'Coarse Aggregate': -0.0039852514680959635, 'Fine Aggregate': -0.004206084481105908, 'Fly Ash': -0.003926973334599953, 'Superplasticizer': -0.00352148119142839, 'Water': -0.0032930249768191775, 'intercept': 0}\n",
      "binary comparisons\n",
      "0.475\n",
      "Training Set Value: 10, Eta: 0.06951927961775606, Fold: 1 of range(0, 5)\n",
      "Running half-ridge regression...\n",
      "Half ridge regression rejection sampling took 0.008772611618041992 seconds\n",
      "half-ridge coefficients\n",
      "{'Age': -0.00359207408754532, 'Blast Furnace Slag': -0.0037741154928171796, 'Cement': 0.003843917169350819, 'Coarse Aggregate': -0.0037593811047455703, 'Fine Aggregate': -0.0043563710681639835, 'Fly Ash': -0.003853038643568305, 'Superplasticizer': -0.004072316347267441, 'Water': -0.003674051986233126, 'intercept': 0}\n",
      "binary comparisons\n",
      "0.483\n",
      "Training Set Value: 10, Eta: 0.06951927961775606, Fold: 2 of range(0, 5)\n",
      "Running half-ridge regression...\n",
      "Half ridge regression rejection sampling took 0.008713960647583008 seconds\n",
      "half-ridge coefficients\n",
      "{'Age': -0.0037793973352454754, 'Blast Furnace Slag': -0.004127466190722636, 'Cement': 0.003382406648999392, 'Coarse Aggregate': -0.003708887277433215, 'Fine Aggregate': -0.003314959751013648, 'Fly Ash': -0.0038216500470514185, 'Superplasticizer': -0.004072969174242978, 'Water': -0.0037197680978212845, 'intercept': 0}\n",
      "binary comparisons\n",
      "0.472\n",
      "Training Set Value: 10, Eta: 0.06951927961775606, Fold: 3 of range(0, 5)\n",
      "Running half-ridge regression...\n",
      "Half ridge regression rejection sampling took 0.00870060920715332 seconds\n",
      "half-ridge coefficients\n",
      "{'Age': -0.0035406392665654415, 'Blast Furnace Slag': -0.0040332225827967695, 'Cement': 0.003177115479214582, 'Coarse Aggregate': -0.003721342857821766, 'Fine Aggregate': -0.004033184322006666, 'Fly Ash': -0.0037485485429045646, 'Superplasticizer': -0.003443067908383134, 'Water': -0.0035882434002137125, 'intercept': 0}\n",
      "binary comparisons\n",
      "0.492\n",
      "Training Set Value: 10, Eta: 0.06951927961775606, Fold: 4 of range(0, 5)\n",
      "Running half-ridge regression...\n",
      "Half ridge regression rejection sampling took 0.010649442672729492 seconds\n",
      "half-ridge coefficients\n",
      "{'Age': -0.003728776428767916, 'Blast Furnace Slag': -0.0036809708144969282, 'Cement': 0.0035633836986399105, 'Coarse Aggregate': -0.004078575523706763, 'Fine Aggregate': -0.004003587808307788, 'Fly Ash': -0.0035705088907523885, 'Superplasticizer': -0.004673998348088841, 'Water': -0.0038981898896333672, 'intercept': 0}\n",
      "binary comparisons\n",
      "0.475\n",
      "Training Set Value: 10, Eta: 0.2069138081114788, Fold: 0 of range(0, 5)\n",
      "Running half-ridge regression...\n",
      "Half ridge regression rejection sampling took 0.010744571685791016 seconds\n",
      "half-ridge coefficients\n",
      "{'Age': -0.033990291293183046, 'Blast Furnace Slag': -0.03163800786195598, 'Cement': 0.028456326206266817, 'Coarse Aggregate': -0.0333870526235177, 'Fine Aggregate': -0.030998152690035793, 'Fly Ash': -0.03327538158879071, 'Superplasticizer': -0.038639363526337615, 'Water': -0.033684438146405794, 'intercept': 0}\n",
      "binary comparisons\n",
      "0.439\n",
      "Training Set Value: 10, Eta: 0.2069138081114788, Fold: 1 of range(0, 5)\n",
      "Running half-ridge regression...\n",
      "Half ridge regression rejection sampling took 0.008571386337280273 seconds\n",
      "half-ridge coefficients\n",
      "{'Age': -0.03354350171219146, 'Blast Furnace Slag': -0.03314110354241527, 'Cement': 0.026162299294075018, 'Coarse Aggregate': -0.03429868511196626, 'Fine Aggregate': -0.034629758889997794, 'Fly Ash': -0.03019105162299904, 'Superplasticizer': -0.03312076775363068, 'Water': -0.03214272412839213, 'intercept': 0}\n",
      "binary comparisons\n",
      "0.461\n",
      "Training Set Value: 10, Eta: 0.2069138081114788, Fold: 2 of range(0, 5)\n",
      "Running half-ridge regression...\n",
      "Half ridge regression rejection sampling took 0.012020349502563477 seconds\n",
      "half-ridge coefficients\n",
      "{'Age': -0.03688354721648266, 'Blast Furnace Slag': -0.03141891046316547, 'Cement': 0.032029835088047395, 'Coarse Aggregate': -0.03705788462072684, 'Fine Aggregate': -0.03565388103782578, 'Fly Ash': -0.030593349249422554, 'Superplasticizer': -0.031524726106964614, 'Water': -0.04122849369586694, 'intercept': 0}\n",
      "binary comparisons\n",
      "0.509\n",
      "Training Set Value: 10, Eta: 0.2069138081114788, Fold: 3 of range(0, 5)\n",
      "Running half-ridge regression...\n",
      "Half ridge regression rejection sampling took 0.008826971054077148 seconds\n",
      "half-ridge coefficients\n",
      "{'Age': -0.0360104921860502, 'Blast Furnace Slag': -0.03685736050078209, 'Cement': 0.032272139817198245, 'Coarse Aggregate': -0.03346690924643036, 'Fine Aggregate': -0.03385213523521835, 'Fly Ash': -0.03470670117493095, 'Superplasticizer': -0.033275186560565585, 'Water': -0.0324703810520797, 'intercept': 0}\n",
      "binary comparisons\n",
      "0.468\n",
      "Training Set Value: 10, Eta: 0.2069138081114788, Fold: 4 of range(0, 5)\n",
      "Running half-ridge regression...\n",
      "Half ridge regression rejection sampling took 0.019781112670898438 seconds\n",
      "half-ridge coefficients\n",
      "{'Age': -0.03332377225754805, 'Blast Furnace Slag': -0.026435606333526675, 'Cement': 0.026751291892065186, 'Coarse Aggregate': -0.037741854265443645, 'Fine Aggregate': -0.03062236884167523, 'Fly Ash': -0.03929871595693552, 'Superplasticizer': -0.03626142001751051, 'Water': -0.03333108879327477, 'intercept': 0}\n",
      "binary comparisons\n",
      "0.487\n",
      "Training Set Value: 10, Eta: 0.615848211066026, Fold: 0 of range(0, 5)\n",
      "Running half-ridge regression...\n",
      "Half ridge regression rejection sampling took 0.012892484664916992 seconds\n",
      "half-ridge coefficients\n",
      "{'Age': -0.1460449932681594, 'Blast Furnace Slag': -0.26993504622500825, 'Cement': 0.36698476658621815, 'Coarse Aggregate': -0.34227973067291023, 'Fine Aggregate': -0.2701732833474102, 'Fly Ash': -0.37675177542976934, 'Superplasticizer': -0.1989081027690143, 'Water': -0.35985836868518006, 'intercept': 0}\n",
      "binary comparisons\n",
      "0.54\n",
      "Training Set Value: 10, Eta: 0.615848211066026, Fold: 1 of range(0, 5)\n",
      "Running half-ridge regression...\n",
      "Half ridge regression rejection sampling took 0.01619696617126465 seconds\n",
      "half-ridge coefficients\n",
      "{'Age': -0.2709459829826898, 'Blast Furnace Slag': -0.32099460455505796, 'Cement': 0.33582433718063026, 'Coarse Aggregate': -0.31027017471174645, 'Fine Aggregate': -0.2569308931695286, 'Fly Ash': -0.21396091576232634, 'Superplasticizer': -0.2221704402930722, 'Water': -0.3306692707740843, 'intercept': 0}\n",
      "binary comparisons\n",
      "0.486\n",
      "Training Set Value: 10, Eta: 0.615848211066026, Fold: 2 of range(0, 5)\n",
      "Running half-ridge regression...\n",
      "Half ridge regression rejection sampling took 0.010574817657470703 seconds\n",
      "half-ridge coefficients\n",
      "{'Age': -0.2256875546953239, 'Blast Furnace Slag': -0.29332310345923807, 'Cement': 0.2888578053369908, 'Coarse Aggregate': -0.3265635569649004, 'Fine Aggregate': -0.25850737357056, 'Fly Ash': -0.17253616960784085, 'Superplasticizer': -0.18353280515134762, 'Water': -0.36192361657057104, 'intercept': 0}\n",
      "binary comparisons\n",
      "0.538\n",
      "Training Set Value: 10, Eta: 0.615848211066026, Fold: 3 of range(0, 5)\n",
      "Running half-ridge regression...\n",
      "Half ridge regression rejection sampling took 0.010767936706542969 seconds\n",
      "half-ridge coefficients\n",
      "{'Age': -0.22917416805483473, 'Blast Furnace Slag': -0.2846875267758663, 'Cement': 0.2499187083547038, 'Coarse Aggregate': -0.22845955735589746, 'Fine Aggregate': -0.33478108940762163, 'Fly Ash': -0.24654107055398064, 'Superplasticizer': -0.2671284944082552, 'Water': -0.4221735361687809, 'intercept': 0}\n",
      "binary comparisons\n",
      "0.481\n",
      "Training Set Value: 10, Eta: 0.615848211066026, Fold: 4 of range(0, 5)\n",
      "Running half-ridge regression...\n",
      "Half ridge regression rejection sampling took 0.012394189834594727 seconds\n",
      "half-ridge coefficients\n",
      "{'Age': -0.16725669630017248, 'Blast Furnace Slag': -0.2785016429372741, 'Cement': 0.41749887625339344, 'Coarse Aggregate': -0.3192778042740441, 'Fine Aggregate': -0.3175690391363709, 'Fly Ash': -0.27953397780950595, 'Superplasticizer': -0.16971709778485924, 'Water': -0.3918285612708138, 'intercept': 0}\n",
      "binary comparisons\n",
      "0.569\n",
      "Training Set Value: 10, Eta: 1.8329807108324339, Fold: 0 of range(0, 5)\n",
      "Running half-ridge regression...\n",
      "Half ridge regression rejection sampling took 0.03509044647216797 seconds\n",
      "half-ridge coefficients\n",
      "{'Age': 0.30594466506539375, 'Blast Furnace Slag': -0.9578574751797183, 'Cement': -0.6518901764479974, 'Coarse Aggregate': -0.8732751204230709, 'Fine Aggregate': -1.0066548461501565, 'Fly Ash': -1.167124536046061, 'Superplasticizer': 0.24469654081675596, 'Water': -1.231845667067245, 'intercept': 0}\n"
     ]
    },
    {
     "name": "stderr",
     "output_type": "stream",
     "text": [
      "/workspaces/codespaces-jupyter/helpers/half_ridge.py:149: RuntimeWarning: Mean of empty slice\n",
      "  post_weights = np.nanmean(samples1, axis=0)\n"
     ]
    },
    {
     "name": "stdout",
     "output_type": "stream",
     "text": [
      "binary comparisons\n",
      "0.703\n",
      "Training Set Value: 10, Eta: 1.8329807108324339, Fold: 1 of range(0, 5)\n",
      "Running half-ridge regression...\n",
      "Half ridge regression rejection sampling took 0.006690502166748047 seconds\n",
      "half-ridge coefficients\n",
      "{'Age': -0.15044696865679263, 'Blast Furnace Slag': -1.9536993971058199, 'Cement': 1.195516786507513, 'Coarse Aggregate': -0.7098744191294153, 'Fine Aggregate': -4.02170702758751, 'Fly Ash': -0.1794007489733467, 'Superplasticizer': -1.1402645486531087, 'Water': -3.0076543621831724, 'intercept': 0}\n",
      "binary comparisons\n",
      "0.588\n",
      "Training Set Value: 10, Eta: 1.8329807108324339, Fold: 2 of range(0, 5)\n",
      "Running half-ridge regression...\n",
      "Half ridge regression rejection sampling took 0.00676274299621582 seconds\n",
      "half-ridge coefficients\n",
      "{'Age': -0.11756158318110099, 'Blast Furnace Slag': -0.33756943000911277, 'Cement': 0.21575045413455185, 'Coarse Aggregate': -0.8857297678603572, 'Fine Aggregate': -0.48581294051801327, 'Fly Ash': -0.36233078768938065, 'Superplasticizer': -0.10491528159098126, 'Water': -1.5533123295352476, 'intercept': 0}\n",
      "binary comparisons\n",
      "0.667\n",
      "Training Set Value: 10, Eta: 1.8329807108324339, Fold: 3 of range(0, 5)\n",
      "Running half-ridge regression...\n",
      "Half ridge regression rejection sampling took 0.010573387145996094 seconds\n",
      "half-ridge coefficients\n",
      "{'Age': -0.006007798458034008, 'Blast Furnace Slag': -0.09800846111937167, 'Cement': 0.47388835713782396, 'Coarse Aggregate': -0.38361254806984457, 'Fine Aggregate': -0.7425797982119173, 'Fly Ash': -0.4604743336589864, 'Superplasticizer': -0.23189783110983053, 'Water': -1.608652732479296, 'intercept': 0}\n",
      "binary comparisons\n",
      "0.674\n",
      "Training Set Value: 10, Eta: 1.8329807108324339, Fold: 4 of range(0, 5)\n",
      "Running half-ridge regression...\n",
      "Half ridge regression rejection sampling took 0.009756088256835938 seconds\n",
      "half-ridge coefficients\n",
      "{'Age': -0.09205646714222841, 'Blast Furnace Slag': -0.41289650874068506, 'Cement': 0.5410054856661962, 'Coarse Aggregate': -1.410589620884252, 'Fine Aggregate': -1.130685918714871, 'Fly Ash': -0.35241461658674167, 'Superplasticizer': -1.0009189754563195, 'Water': -1.7214931442405363, 'intercept': 0}\n",
      "binary comparisons\n",
      "0.603\n",
      "Training Set Value: 10, Eta: 5.455594781168514, Fold: 0 of range(0, 5)\n",
      "Running half-ridge regression...\n",
      "Half ridge regression rejection sampling took 0.02935004234313965 seconds\n",
      "half-ridge coefficients\n",
      "{'Age': 0.21474186205795143, 'Blast Furnace Slag': -1.8182465379582615, 'Cement': -1.858490217638758, 'Coarse Aggregate': -1.5402091417968102, 'Fine Aggregate': -1.745305193676585, 'Fly Ash': -2.268830148183486, 'Superplasticizer': 0.22944694681407876, 'Water': -1.9662770863943937, 'intercept': 0}\n"
     ]
    },
    {
     "name": "stderr",
     "output_type": "stream",
     "text": [
      "/workspaces/codespaces-jupyter/helpers/half_ridge.py:149: RuntimeWarning: Mean of empty slice\n",
      "  post_weights = np.nanmean(samples1, axis=0)\n"
     ]
    },
    {
     "name": "stdout",
     "output_type": "stream",
     "text": [
      "binary comparisons\n",
      "0.691\n",
      "Training Set Value: 10, Eta: 5.455594781168514, Fold: 1 of range(0, 5)\n",
      "Running half-ridge regression...\n",
      "Half ridge regression rejection sampling took 0.03320646286010742 seconds\n",
      "half-ridge coefficients\n",
      "{'Age': 0.6985349117448929, 'Blast Furnace Slag': -0.11900582806200281, 'Cement': 1.5089065782131243, 'Coarse Aggregate': 0.7425795608693303, 'Fine Aggregate': -1.3049627621611073, 'Fly Ash': 0.7601170841734838, 'Superplasticizer': -0.0073350442032962225, 'Water': -0.5059854869612874, 'intercept': 0}\n"
     ]
    },
    {
     "name": "stderr",
     "output_type": "stream",
     "text": [
      "/workspaces/codespaces-jupyter/helpers/half_ridge.py:149: RuntimeWarning: Mean of empty slice\n",
      "  post_weights = np.nanmean(samples1, axis=0)\n"
     ]
    },
    {
     "name": "stdout",
     "output_type": "stream",
     "text": [
      "binary comparisons\n",
      "0.564\n",
      "Training Set Value: 10, Eta: 5.455594781168514, Fold: 2 of range(0, 5)\n",
      "Running half-ridge regression...\n",
      "Half ridge regression rejection sampling took 0.04003119468688965 seconds\n",
      "half-ridge coefficients\n",
      "{'Age': 0.7310515551958464, 'Blast Furnace Slag': 0.6335220189077295, 'Cement': 1.3134598330863216, 'Coarse Aggregate': 0.3112388259193855, 'Fine Aggregate': 0.1279101974391324, 'Fly Ash': 0.6284153843700218, 'Superplasticizer': 0.036387043122961336, 'Water': -0.40946605968088623, 'intercept': 0}\n"
     ]
    },
    {
     "name": "stderr",
     "output_type": "stream",
     "text": [
      "/workspaces/codespaces-jupyter/helpers/half_ridge.py:149: RuntimeWarning: Mean of empty slice\n",
      "  post_weights = np.nanmean(samples1, axis=0)\n"
     ]
    },
    {
     "name": "stdout",
     "output_type": "stream",
     "text": [
      "binary comparisons\n",
      "0.588\n",
      "Training Set Value: 10, Eta: 5.455594781168514, Fold: 3 of range(0, 5)\n",
      "Running half-ridge regression...\n",
      "Half ridge regression rejection sampling took 0.04361772537231445 seconds\n",
      "half-ridge coefficients\n",
      "{'Age': 1.3838093925288308, 'Blast Furnace Slag': -1.1119936169382025, 'Cement': -0.8145366651997463, 'Coarse Aggregate': -0.850331393778019, 'Fine Aggregate': -1.3209710816758744, 'Fly Ash': -0.35843513243788716, 'Superplasticizer': -0.79697810221261, 'Water': -1.382448946938178, 'intercept': 0}\n",
      "binary comparisons\n",
      "0.701\n",
      "Training Set Value: 10, Eta: 5.455594781168514, Fold: 4 of range(0, 5)\n"
     ]
    },
    {
     "name": "stderr",
     "output_type": "stream",
     "text": [
      "/workspaces/codespaces-jupyter/helpers/half_ridge.py:149: RuntimeWarning: Mean of empty slice\n",
      "  post_weights = np.nanmean(samples1, axis=0)\n"
     ]
    },
    {
     "name": "stdout",
     "output_type": "stream",
     "text": [
      "Running half-ridge regression...\n",
      "Half ridge regression rejection sampling took 0.013055801391601562 seconds\n",
      "half-ridge coefficients\n",
      "{'Age': -0.03779689418368018, 'Blast Furnace Slag': -0.10377233622265636, 'Cement': 0.9876108945589654, 'Coarse Aggregate': -1.2451486179574924, 'Fine Aggregate': -0.8739187028135903, 'Fly Ash': -0.11828968363483594, 'Superplasticizer': -1.1508295642181443, 'Water': -1.6437104506772586, 'intercept': 0}\n",
      "binary comparisons\n",
      "0.642\n",
      "Training Set Value: 10, Eta: 16.23776739188721, Fold: 0 of range(0, 5)\n",
      "Running half-ridge regression...\n",
      "Half ridge regression rejection sampling took 0.03366208076477051 seconds\n",
      "half-ridge coefficients\n",
      "{'Age': 0.2142100006489475, 'Blast Furnace Slag': -1.8242917736053172, 'Cement': -1.866821191995299, 'Coarse Aggregate': -1.544566620964802, 'Fine Aggregate': -1.7503304516529032, 'Fly Ash': -2.276126922266288, 'Superplasticizer': 0.2303211947651406, 'Water': -1.9705464291028407, 'intercept': 0}\n"
     ]
    },
    {
     "name": "stderr",
     "output_type": "stream",
     "text": [
      "/workspaces/codespaces-jupyter/helpers/half_ridge.py:149: RuntimeWarning: Mean of empty slice\n",
      "  post_weights = np.nanmean(samples1, axis=0)\n"
     ]
    },
    {
     "name": "stdout",
     "output_type": "stream",
     "text": [
      "binary comparisons\n",
      "0.675\n",
      "Training Set Value: 10, Eta: 16.23776739188721, Fold: 1 of range(0, 5)\n",
      "Running half-ridge regression...\n",
      "Half ridge regression rejection sampling took 0.0322415828704834 seconds\n",
      "half-ridge coefficients\n",
      "{'Age': 0.6989624672425127, 'Blast Furnace Slag': -0.12054034363572784, 'Cement': 1.5076817561386144, 'Coarse Aggregate': 0.7409942119230126, 'Fine Aggregate': -1.30732718611311, 'Fly Ash': 0.7592524068772354, 'Superplasticizer': -0.007400696661175759, 'Water': -0.5076121380355826, 'intercept': 0}\n",
      "binary comparisons\n",
      "0.559\n",
      "Training Set Value: 10, Eta: 16.23776739188721, Fold: 2 of range(0, 5)\n"
     ]
    },
    {
     "name": "stderr",
     "output_type": "stream",
     "text": [
      "/workspaces/codespaces-jupyter/helpers/half_ridge.py:149: RuntimeWarning: Mean of empty slice\n",
      "  post_weights = np.nanmean(samples1, axis=0)\n"
     ]
    },
    {
     "name": "stdout",
     "output_type": "stream",
     "text": [
      "Running half-ridge regression...\n",
      "Half ridge regression rejection sampling took 0.038741350173950195 seconds\n",
      "half-ridge coefficients\n",
      "{'Age': 0.7298875576343057, 'Blast Furnace Slag': 0.6328088015017299, 'Cement': 1.3137959862614754, 'Coarse Aggregate': 0.31085971938075074, 'Fine Aggregate': 0.1277776612008432, 'Fly Ash': 0.6292051504571204, 'Superplasticizer': 0.03629638168089007, 'Water': -0.4084600360320299, 'intercept': 0}\n",
      "binary comparisons\n",
      "0.615\n",
      "Training Set Value: 10, Eta: 16.23776739188721, Fold: 3 of range(0, 5)\n"
     ]
    },
    {
     "name": "stderr",
     "output_type": "stream",
     "text": [
      "/workspaces/codespaces-jupyter/helpers/half_ridge.py:149: RuntimeWarning: Mean of empty slice\n",
      "  post_weights = np.nanmean(samples1, axis=0)\n"
     ]
    },
    {
     "name": "stdout",
     "output_type": "stream",
     "text": [
      "Running half-ridge regression...\n",
      "Half ridge regression rejection sampling took 0.03302645683288574 seconds\n",
      "half-ridge coefficients\n",
      "{'Age': 1.384454398318002, 'Blast Furnace Slag': -1.113637819639785, 'Cement': -0.8163929239746714, 'Coarse Aggregate': -0.8514947027758064, 'Fine Aggregate': -1.3221022723400369, 'Fly Ash': -0.35817834428447376, 'Superplasticizer': -0.7994483191809155, 'Water': -1.3844722146133444, 'intercept': 0}\n"
     ]
    },
    {
     "name": "stderr",
     "output_type": "stream",
     "text": [
      "/workspaces/codespaces-jupyter/helpers/half_ridge.py:149: RuntimeWarning: Mean of empty slice\n",
      "  post_weights = np.nanmean(samples1, axis=0)\n"
     ]
    },
    {
     "name": "stdout",
     "output_type": "stream",
     "text": [
      "binary comparisons\n",
      "0.694\n",
      "Training Set Value: 10, Eta: 16.23776739188721, Fold: 4 of range(0, 5)\n",
      "Running half-ridge regression...\n",
      "Half ridge regression rejection sampling took 0.06385135650634766 seconds\n",
      "half-ridge coefficients\n",
      "{'Age': 0.1183703871491915, 'Blast Furnace Slag': 0.6166485296021302, 'Cement': 1.4317295325974604, 'Coarse Aggregate': -0.7709507588004564, 'Fine Aggregate': -0.3446964199046398, 'Fly Ash': 0.8046308203050396, 'Superplasticizer': -1.200258578246082, 'Water': -1.0707212589172588, 'intercept': 0}\n"
     ]
    },
    {
     "name": "stderr",
     "output_type": "stream",
     "text": [
      "/workspaces/codespaces-jupyter/helpers/half_ridge.py:149: RuntimeWarning: Mean of empty slice\n",
      "  post_weights = np.nanmean(samples1, axis=0)\n"
     ]
    },
    {
     "name": "stdout",
     "output_type": "stream",
     "text": [
      "binary comparisons\n",
      "0.529\n",
      "Training Set Value: 10, Eta: 48.32930238571752, Fold: 0 of range(0, 5)\n",
      "Running half-ridge regression...\n",
      "Half ridge regression rejection sampling took 0.03719305992126465 seconds\n",
      "half-ridge coefficients\n",
      "{'Age': 0.2143842419436342, 'Blast Furnace Slag': -1.8227454705576278, 'Cement': -1.8650307346852306, 'Coarse Aggregate': -1.5437371151442159, 'Fine Aggregate': -1.7493753598687312, 'Fly Ash': -2.27426960780699, 'Superplasticizer': 0.22962976671010524, 'Water': -1.9699931022191302, 'intercept': 0}\n"
     ]
    },
    {
     "name": "stderr",
     "output_type": "stream",
     "text": [
      "/workspaces/codespaces-jupyter/helpers/half_ridge.py:149: RuntimeWarning: Mean of empty slice\n",
      "  post_weights = np.nanmean(samples1, axis=0)\n"
     ]
    },
    {
     "name": "stdout",
     "output_type": "stream",
     "text": [
      "binary comparisons\n",
      "0.643\n",
      "Training Set Value: 10, Eta: 48.32930238571752, Fold: 1 of range(0, 5)\n",
      "Running half-ridge regression...\n",
      "Half ridge regression rejection sampling took 0.037871360778808594 seconds\n",
      "half-ridge coefficients\n",
      "{'Age': 0.6988828064178876, 'Blast Furnace Slag': -0.12095972486695009, 'Cement': 1.5079030881783086, 'Coarse Aggregate': 0.7412665583137819, 'Fine Aggregate': -1.3082475012461265, 'Fly Ash': 0.7592600391312012, 'Superplasticizer': -0.007611198662355579, 'Water': -0.5083164988625655, 'intercept': 0}\n",
      "binary comparisons\n",
      "0.533\n",
      "Training Set Value: 10, Eta: 48.32930238571752, Fold: 2 of range(0, 5)\n"
     ]
    },
    {
     "name": "stderr",
     "output_type": "stream",
     "text": [
      "/workspaces/codespaces-jupyter/helpers/half_ridge.py:149: RuntimeWarning: Mean of empty slice\n",
      "  post_weights = np.nanmean(samples1, axis=0)\n"
     ]
    },
    {
     "name": "stdout",
     "output_type": "stream",
     "text": [
      "Running half-ridge regression...\n",
      "Half ridge regression rejection sampling took 0.05683279037475586 seconds\n",
      "half-ridge coefficients\n",
      "{'Age': 0.7302095973019846, 'Blast Furnace Slag': 0.632210245183194, 'Cement': 1.3130958160055826, 'Coarse Aggregate': 0.3100860897211121, 'Fine Aggregate': 0.12731213067073838, 'Fly Ash': 0.6285483852644984, 'Superplasticizer': 0.03609437429156325, 'Water': -0.40910745909451457, 'intercept': 0}\n"
     ]
    },
    {
     "name": "stderr",
     "output_type": "stream",
     "text": [
      "/workspaces/codespaces-jupyter/helpers/half_ridge.py:149: RuntimeWarning: Mean of empty slice\n",
      "  post_weights = np.nanmean(samples1, axis=0)\n"
     ]
    },
    {
     "name": "stdout",
     "output_type": "stream",
     "text": [
      "binary comparisons\n",
      "0.601\n",
      "Training Set Value: 10, Eta: 48.32930238571752, Fold: 3 of range(0, 5)\n",
      "Running half-ridge regression...\n",
      "Half ridge regression rejection sampling took 0.031638145446777344 seconds\n",
      "half-ridge coefficients\n",
      "{'Age': 1.384934236609299, 'Blast Furnace Slag': -1.1148181747309376, 'Cement': -0.817806788528806, 'Coarse Aggregate': -0.8523475897901086, 'Fine Aggregate': -1.3229890283470414, 'Fly Ash': -0.3585482168837903, 'Superplasticizer': -0.8000556787487462, 'Water': -1.3851203803493757, 'intercept': 0}\n"
     ]
    },
    {
     "name": "stderr",
     "output_type": "stream",
     "text": [
      "/workspaces/codespaces-jupyter/helpers/half_ridge.py:149: RuntimeWarning: Mean of empty slice\n",
      "  post_weights = np.nanmean(samples1, axis=0)\n"
     ]
    },
    {
     "name": "stdout",
     "output_type": "stream",
     "text": [
      "binary comparisons\n",
      "0.704\n",
      "Training Set Value: 10, Eta: 48.32930238571752, Fold: 4 of range(0, 5)\n",
      "Running half-ridge regression...\n",
      "Half ridge regression rejection sampling took 0.039031028747558594 seconds\n",
      "half-ridge coefficients\n",
      "{'Age': 0.1184562557598574, 'Blast Furnace Slag': 0.6168820589952636, 'Cement': 1.4316928854902267, 'Coarse Aggregate': -0.770811318363263, 'Fine Aggregate': -0.3443011466175074, 'Fly Ash': 0.8048710162259788, 'Superplasticizer': -1.1999275504023543, 'Water': -1.0702445870410546, 'intercept': 0}\n"
     ]
    },
    {
     "name": "stderr",
     "output_type": "stream",
     "text": [
      "/workspaces/codespaces-jupyter/helpers/half_ridge.py:149: RuntimeWarning: Mean of empty slice\n",
      "  post_weights = np.nanmean(samples1, axis=0)\n"
     ]
    },
    {
     "name": "stdout",
     "output_type": "stream",
     "text": [
      "binary comparisons\n",
      "0.562\n",
      "Training Set Value: 10, Eta: 143.8449888287663, Fold: 0 of range(0, 5)\n",
      "Running half-ridge regression...\n",
      "Half ridge regression rejection sampling took 0.06646156311035156 seconds\n",
      "half-ridge coefficients\n",
      "{'Age': 0.21437799913374467, 'Blast Furnace Slag': -1.823082226164052, 'Cement': -1.865399904053495, 'Coarse Aggregate': -1.5439648658943388, 'Fine Aggregate': -1.7497164161731198, 'Fly Ash': -2.274548969636023, 'Superplasticizer': 0.22970857597803643, 'Water': -1.9702735070846658, 'intercept': 0}\n"
     ]
    },
    {
     "name": "stderr",
     "output_type": "stream",
     "text": [
      "/workspaces/codespaces-jupyter/helpers/half_ridge.py:149: RuntimeWarning: Mean of empty slice\n",
      "  post_weights = np.nanmean(samples1, axis=0)\n"
     ]
    },
    {
     "name": "stdout",
     "output_type": "stream",
     "text": [
      "binary comparisons\n",
      "0.667\n",
      "Training Set Value: 10, Eta: 143.8449888287663, Fold: 1 of range(0, 5)\n",
      "Running half-ridge regression...\n",
      "Half ridge regression rejection sampling took 0.037421226501464844 seconds\n",
      "half-ridge coefficients\n",
      "{'Age': 0.6988190770688423, 'Blast Furnace Slag': -0.1212517569287661, 'Cement': 1.5079161800307943, 'Coarse Aggregate': 0.7412919089485596, 'Fine Aggregate': -1.3087901389511816, 'Fly Ash': 0.759146546991911, 'Superplasticizer': -0.007662007912028098, 'Water': -0.5087076916249481, 'intercept': 0}\n",
      "binary comparisons\n",
      "0.562\n",
      "Training Set Value: 10, Eta: 143.8449888287663, Fold: 2 of range(0, 5)\n"
     ]
    },
    {
     "name": "stderr",
     "output_type": "stream",
     "text": [
      "/workspaces/codespaces-jupyter/helpers/half_ridge.py:149: RuntimeWarning: Mean of empty slice\n",
      "  post_weights = np.nanmean(samples1, axis=0)\n"
     ]
    },
    {
     "name": "stdout",
     "output_type": "stream",
     "text": [
      "Running half-ridge regression...\n",
      "Half ridge regression rejection sampling took 0.0320127010345459 seconds\n",
      "half-ridge coefficients\n",
      "{'Age': 0.7300912749486396, 'Blast Furnace Slag': 0.6323955176468508, 'Cement': 1.3134242395091817, 'Coarse Aggregate': 0.31026368506384183, 'Fine Aggregate': 0.1274889219917823, 'Fly Ash': 0.6288428522857954, 'Superplasticizer': 0.03600226048106676, 'Water': -0.4088992413264414, 'intercept': 0}\n"
     ]
    },
    {
     "name": "stderr",
     "output_type": "stream",
     "text": [
      "/workspaces/codespaces-jupyter/helpers/half_ridge.py:149: RuntimeWarning: Mean of empty slice\n",
      "  post_weights = np.nanmean(samples1, axis=0)\n"
     ]
    },
    {
     "name": "stdout",
     "output_type": "stream",
     "text": [
      "binary comparisons\n",
      "0.574\n",
      "Training Set Value: 10, Eta: 143.8449888287663, Fold: 3 of range(0, 5)\n",
      "Running half-ridge regression...\n",
      "Half ridge regression rejection sampling took 0.03313493728637695 seconds\n",
      "half-ridge coefficients\n",
      "{'Age': 1.3849398747462451, 'Blast Furnace Slag': -1.1144682844927094, 'Cement': -0.8174383167444069, 'Coarse Aggregate': -0.8520949669918617, 'Fine Aggregate': -1.3226701028261079, 'Fly Ash': -0.3584599967196715, 'Superplasticizer': -0.7998743363949692, 'Water': -1.384864752622638, 'intercept': 0}\n"
     ]
    },
    {
     "name": "stderr",
     "output_type": "stream",
     "text": [
      "/workspaces/codespaces-jupyter/helpers/half_ridge.py:149: RuntimeWarning: Mean of empty slice\n",
      "  post_weights = np.nanmean(samples1, axis=0)\n"
     ]
    },
    {
     "name": "stdout",
     "output_type": "stream",
     "text": [
      "binary comparisons\n",
      "0.672\n",
      "Training Set Value: 10, Eta: 143.8449888287663, Fold: 4 of range(0, 5)\n",
      "Running half-ridge regression...\n",
      "Half ridge regression rejection sampling took 0.0337069034576416 seconds\n",
      "half-ridge coefficients\n",
      "{'Age': 0.11847565670769553, 'Blast Furnace Slag': 0.6169876119061717, 'Cement': 1.431924294268485, 'Coarse Aggregate': -0.7708251316342666, 'Fine Aggregate': -0.34421123507635987, 'Fly Ash': 0.8051020128042276, 'Superplasticizer': -1.20012062300716, 'Water': -1.0702316393334421, 'intercept': 0}\n",
      "binary comparisons\n",
      "0.538\n",
      "Training Set Value: 10, Eta: 428.1332398719387, Fold: 0 of range(0, 5)\n"
     ]
    },
    {
     "name": "stderr",
     "output_type": "stream",
     "text": [
      "/workspaces/codespaces-jupyter/helpers/half_ridge.py:149: RuntimeWarning: Mean of empty slice\n",
      "  post_weights = np.nanmean(samples1, axis=0)\n"
     ]
    },
    {
     "name": "stdout",
     "output_type": "stream",
     "text": [
      "Running half-ridge regression...\n",
      "Half ridge regression rejection sampling took 0.03224039077758789 seconds\n",
      "half-ridge coefficients\n",
      "{'Age': 0.21438195736287155, 'Blast Furnace Slag': -1.8230129525696928, 'Cement': -1.8653367305680453, 'Coarse Aggregate': -1.543901010968575, 'Fine Aggregate': -1.7496511887623385, 'Fly Ash': -2.274478192702792, 'Superplasticizer': 0.22969323434231362, 'Water': -1.970232455206158, 'intercept': 0}\n"
     ]
    },
    {
     "name": "stderr",
     "output_type": "stream",
     "text": [
      "/workspaces/codespaces-jupyter/helpers/half_ridge.py:149: RuntimeWarning: Mean of empty slice\n",
      "  post_weights = np.nanmean(samples1, axis=0)\n"
     ]
    },
    {
     "name": "stdout",
     "output_type": "stream",
     "text": [
      "binary comparisons\n",
      "0.645\n",
      "Training Set Value: 10, Eta: 428.1332398719387, Fold: 1 of range(0, 5)\n",
      "Running half-ridge regression...\n",
      "Half ridge regression rejection sampling took 0.038088083267211914 seconds\n",
      "half-ridge coefficients\n",
      "{'Age': 0.6988316241343947, 'Blast Furnace Slag': -0.12124916204922824, 'Cement': 1.5079115404411694, 'Coarse Aggregate': 0.7413004482983457, 'Fine Aggregate': -1.3087889144103744, 'Fly Ash': 0.7591548788669532, 'Superplasticizer': -0.0076572919832713846, 'Water': -0.5086869233605529, 'intercept': 0}\n"
     ]
    },
    {
     "name": "stderr",
     "output_type": "stream",
     "text": [
      "/workspaces/codespaces-jupyter/helpers/half_ridge.py:149: RuntimeWarning: Mean of empty slice\n",
      "  post_weights = np.nanmean(samples1, axis=0)\n"
     ]
    },
    {
     "name": "stdout",
     "output_type": "stream",
     "text": [
      "binary comparisons\n",
      "0.568\n",
      "Training Set Value: 10, Eta: 428.1332398719387, Fold: 2 of range(0, 5)\n",
      "Running half-ridge regression...\n",
      "Half ridge regression rejection sampling took 0.034990787506103516 seconds\n",
      "half-ridge coefficients\n",
      "{'Age': 0.730137718238928, 'Blast Furnace Slag': 0.6323122118228788, 'Cement': 1.313286291193688, 'Coarse Aggregate': 0.31017455187096704, 'Fine Aggregate': 0.1274222006840479, 'Fly Ash': 0.6287255810355145, 'Superplasticizer': 0.03599882755000298, 'Water': -0.40900491884672563, 'intercept': 0}\n"
     ]
    },
    {
     "name": "stderr",
     "output_type": "stream",
     "text": [
      "/workspaces/codespaces-jupyter/helpers/half_ridge.py:149: RuntimeWarning: Mean of empty slice\n",
      "  post_weights = np.nanmean(samples1, axis=0)\n"
     ]
    },
    {
     "name": "stdout",
     "output_type": "stream",
     "text": [
      "binary comparisons\n",
      "0.602\n",
      "Training Set Value: 10, Eta: 428.1332398719387, Fold: 3 of range(0, 5)\n",
      "Running half-ridge regression...\n",
      "Half ridge regression rejection sampling took 0.03209853172302246 seconds\n",
      "half-ridge coefficients\n",
      "{'Age': 1.3849451100905217, 'Blast Furnace Slag': -1.1144983783922207, 'Cement': -0.8174582885810319, 'Coarse Aggregate': -0.85215705818113, 'Fine Aggregate': -1.3227195292082694, 'Fly Ash': -0.3584167243134062, 'Superplasticizer': -0.7999306407075777, 'Water': -1.38491383316272, 'intercept': 0}\n"
     ]
    },
    {
     "name": "stderr",
     "output_type": "stream",
     "text": [
      "/workspaces/codespaces-jupyter/helpers/half_ridge.py:149: RuntimeWarning: Mean of empty slice\n",
      "  post_weights = np.nanmean(samples1, axis=0)\n"
     ]
    },
    {
     "name": "stdout",
     "output_type": "stream",
     "text": [
      "binary comparisons\n",
      "0.708\n",
      "Training Set Value: 10, Eta: 428.1332398719387, Fold: 4 of range(0, 5)\n",
      "Running half-ridge regression...\n",
      "Half ridge regression rejection sampling took 0.03185892105102539 seconds\n",
      "half-ridge coefficients\n",
      "{'Age': 0.11848257403846375, 'Blast Furnace Slag': 0.6170272210097523, 'Cement': 1.431889601550109, 'Coarse Aggregate': -0.7706628017842503, 'Fine Aggregate': -0.34411537871442727, 'Fly Ash': 0.8050500372198467, 'Superplasticizer': -1.1999450790425195, 'Water': -1.0701141464233879, 'intercept': 0}\n"
     ]
    },
    {
     "name": "stderr",
     "output_type": "stream",
     "text": [
      "/workspaces/codespaces-jupyter/helpers/half_ridge.py:149: RuntimeWarning: Mean of empty slice\n",
      "  post_weights = np.nanmean(samples1, axis=0)\n"
     ]
    },
    {
     "name": "stdout",
     "output_type": "stream",
     "text": [
      "binary comparisons\n",
      "0.569\n",
      "Training Set Value: 10, Eta: 1274.2749857031322, Fold: 0 of range(0, 5)\n",
      "Running half-ridge regression...\n",
      "Half ridge regression rejection sampling took 0.043035268783569336 seconds\n",
      "half-ridge coefficients\n",
      "{'Age': 0.21438182310026818, 'Blast Furnace Slag': -1.823023436289236, 'Cement': -1.8653512376132177, 'Coarse Aggregate': -1.5439117798704847, 'Fine Aggregate': -1.7496767751718225, 'Fly Ash': -2.274484057485292, 'Superplasticizer': 0.22969882911208592, 'Water': -1.9702449706585294, 'intercept': 0}\n"
     ]
    },
    {
     "name": "stderr",
     "output_type": "stream",
     "text": [
      "/workspaces/codespaces-jupyter/helpers/half_ridge.py:149: RuntimeWarning: Mean of empty slice\n",
      "  post_weights = np.nanmean(samples1, axis=0)\n"
     ]
    },
    {
     "name": "stdout",
     "output_type": "stream",
     "text": [
      "binary comparisons\n",
      "0.673\n",
      "Training Set Value: 10, Eta: 1274.2749857031322, Fold: 1 of range(0, 5)\n",
      "Running half-ridge regression...\n",
      "Half ridge regression rejection sampling took 0.059827566146850586 seconds\n",
      "half-ridge coefficients\n",
      "{'Age': 0.6988392575654887, 'Blast Furnace Slag': -0.12123980740421195, 'Cement': 1.5079034765152086, 'Coarse Aggregate': 0.7412851955657308, 'Fine Aggregate': -1.3087658470760528, 'Fly Ash': 0.7591537272455946, 'Superplasticizer': -0.0076609257323803515, 'Water': -0.5086825860463188, 'intercept': 0}\n"
     ]
    },
    {
     "name": "stderr",
     "output_type": "stream",
     "text": [
      "/workspaces/codespaces-jupyter/helpers/half_ridge.py:149: RuntimeWarning: Mean of empty slice\n",
      "  post_weights = np.nanmean(samples1, axis=0)\n"
     ]
    },
    {
     "name": "stdout",
     "output_type": "stream",
     "text": [
      "binary comparisons\n",
      "0.565\n",
      "Training Set Value: 10, Eta: 1274.2749857031322, Fold: 2 of range(0, 5)\n",
      "Running half-ridge regression...\n",
      "Half ridge regression rejection sampling took 0.04014778137207031 seconds\n",
      "half-ridge coefficients\n",
      "{'Age': 0.7301366954817052, 'Blast Furnace Slag': 0.6323151523439566, 'Cement': 1.3132967863183735, 'Coarse Aggregate': 0.3101891169689965, 'Fine Aggregate': 0.12742028688489895, 'Fly Ash': 0.628745195616335, 'Superplasticizer': 0.03598602536638046, 'Water': -0.408990170798424, 'intercept': 0}\n"
     ]
    },
    {
     "name": "stderr",
     "output_type": "stream",
     "text": [
      "/workspaces/codespaces-jupyter/helpers/half_ridge.py:149: RuntimeWarning: Mean of empty slice\n",
      "  post_weights = np.nanmean(samples1, axis=0)\n"
     ]
    },
    {
     "name": "stdout",
     "output_type": "stream",
     "text": [
      "binary comparisons\n",
      "0.595\n",
      "Training Set Value: 10, Eta: 1274.2749857031322, Fold: 3 of range(0, 5)\n",
      "Running half-ridge regression...\n",
      "Half ridge regression rejection sampling took 0.03199577331542969 seconds\n",
      "half-ridge coefficients\n",
      "{'Age': 1.3849413097161904, 'Blast Furnace Slag': -1.1144645575853924, 'Cement': -0.8174192719065198, 'Coarse Aggregate': -0.8521363699615936, 'Fine Aggregate': -1.322692221378377, 'Fly Ash': -0.358407026834987, 'Superplasticizer': -0.7999126805116213, 'Water': -1.384893072880612, 'intercept': 0}\n"
     ]
    },
    {
     "name": "stderr",
     "output_type": "stream",
     "text": [
      "/workspaces/codespaces-jupyter/helpers/half_ridge.py:149: RuntimeWarning: Mean of empty slice\n",
      "  post_weights = np.nanmean(samples1, axis=0)\n"
     ]
    },
    {
     "name": "stdout",
     "output_type": "stream",
     "text": [
      "binary comparisons\n",
      "0.676\n",
      "Training Set Value: 10, Eta: 1274.2749857031322, Fold: 4 of range(0, 5)\n",
      "Running half-ridge regression...\n",
      "Half ridge regression rejection sampling took 0.03245353698730469 seconds\n",
      "half-ridge coefficients\n",
      "{'Age': 0.11848296907730313, 'Blast Furnace Slag': 0.6170194704851931, 'Cement': 1.431883480678363, 'Coarse Aggregate': -0.7706886092963595, 'Fine Aggregate': -0.3441446441039606, 'Fly Ash': 0.8050527727261765, 'Superplasticizer': -1.1999685378235998, 'Water': -1.0701397363198302, 'intercept': 0}\n"
     ]
    },
    {
     "name": "stderr",
     "output_type": "stream",
     "text": [
      "/workspaces/codespaces-jupyter/helpers/half_ridge.py:149: RuntimeWarning: Mean of empty slice\n",
      "  post_weights = np.nanmean(samples1, axis=0)\n"
     ]
    },
    {
     "name": "stdout",
     "output_type": "stream",
     "text": [
      "binary comparisons\n",
      "0.543\n",
      "Training Set Value: 10, Eta: 3792.690190732246, Fold: 0 of range(0, 5)\n",
      "Running half-ridge regression...\n",
      "Half ridge regression rejection sampling took 0.03888821601867676 seconds\n",
      "half-ridge coefficients\n",
      "{'Age': 0.21438270993132788, 'Blast Furnace Slag': -1.823012487374869, 'Cement': -1.8653333084427148, 'Coarse Aggregate': -1.543901666089672, 'Fine Aggregate': -1.7496643088276775, 'Fly Ash': -2.2744704804869422, 'Superplasticizer': 0.22970157725589907, 'Water': -1.9702310436896415, 'intercept': 0}\n"
     ]
    },
    {
     "name": "stderr",
     "output_type": "stream",
     "text": [
      "/workspaces/codespaces-jupyter/helpers/half_ridge.py:149: RuntimeWarning: Mean of empty slice\n",
      "  post_weights = np.nanmean(samples1, axis=0)\n"
     ]
    },
    {
     "name": "stdout",
     "output_type": "stream",
     "text": [
      "binary comparisons\n",
      "0.693\n",
      "Training Set Value: 10, Eta: 3792.690190732246, Fold: 1 of range(0, 5)\n",
      "Running half-ridge regression...\n",
      "Half ridge regression rejection sampling took 0.03611350059509277 seconds\n",
      "half-ridge coefficients\n",
      "{'Age': 0.6988363162432234, 'Blast Furnace Slag': -0.12124021134717389, 'Cement': 1.507902441803043, 'Coarse Aggregate': 0.7412815731789243, 'Fine Aggregate': -1.3087657912894044, 'Fly Ash': 0.7591524184623857, 'Superplasticizer': -0.0076640921482705945, 'Water': -0.5086851074818264, 'intercept': 0}\n"
     ]
    },
    {
     "name": "stderr",
     "output_type": "stream",
     "text": [
      "/workspaces/codespaces-jupyter/helpers/half_ridge.py:149: RuntimeWarning: Mean of empty slice\n",
      "  post_weights = np.nanmean(samples1, axis=0)\n"
     ]
    },
    {
     "name": "stdout",
     "output_type": "stream",
     "text": [
      "binary comparisons\n",
      "0.585\n",
      "Training Set Value: 10, Eta: 3792.690190732246, Fold: 2 of range(0, 5)\n",
      "Running half-ridge regression...\n",
      "Half ridge regression rejection sampling took 0.03365063667297363 seconds\n",
      "half-ridge coefficients\n",
      "{'Age': 0.7301361125743854, 'Blast Furnace Slag': 0.6323213162829336, 'Cement': 1.3133005622219438, 'Coarse Aggregate': 0.31019322441058633, 'Fine Aggregate': 0.12742729673636374, 'Fly Ash': 0.6287508314615425, 'Superplasticizer': 0.035990487252846017, 'Water': -0.4089811137867571, 'intercept': 0}\n"
     ]
    },
    {
     "name": "stderr",
     "output_type": "stream",
     "text": [
      "/workspaces/codespaces-jupyter/helpers/half_ridge.py:149: RuntimeWarning: Mean of empty slice\n",
      "  post_weights = np.nanmean(samples1, axis=0)\n"
     ]
    },
    {
     "name": "stdout",
     "output_type": "stream",
     "text": [
      "binary comparisons\n",
      "0.627\n",
      "Training Set Value: 10, Eta: 3792.690190732246, Fold: 3 of range(0, 5)\n",
      "Running half-ridge regression...\n",
      "Half ridge regression rejection sampling took 0.033631086349487305 seconds\n",
      "half-ridge coefficients\n",
      "{'Age': 1.3849413933294743, 'Blast Furnace Slag': -1.1144719082329544, 'Cement': -0.817428686481094, 'Coarse Aggregate': -0.8521373811401057, 'Fine Aggregate': -1.3226982186198046, 'Fly Ash': -0.35841481729695207, 'Superplasticizer': -0.799907750284065, 'Water': -1.384894329428985, 'intercept': 0}\n"
     ]
    },
    {
     "name": "stderr",
     "output_type": "stream",
     "text": [
      "/workspaces/codespaces-jupyter/helpers/half_ridge.py:149: RuntimeWarning: Mean of empty slice\n",
      "  post_weights = np.nanmean(samples1, axis=0)\n"
     ]
    },
    {
     "name": "stdout",
     "output_type": "stream",
     "text": [
      "binary comparisons\n",
      "0.701\n",
      "Training Set Value: 10, Eta: 3792.690190732246, Fold: 4 of range(0, 5)\n",
      "Running half-ridge regression...\n",
      "Half ridge regression rejection sampling took 0.0403599739074707 seconds\n",
      "half-ridge coefficients\n",
      "{'Age': 0.11848440924671873, 'Blast Furnace Slag': 0.6170168838608533, 'Cement': 1.4318747533987235, 'Coarse Aggregate': -0.7706765342380156, 'Fine Aggregate': -0.34414319662642284, 'Fly Ash': 0.805041835004846, 'Superplasticizer': -1.199947463122538, 'Water': -1.0701285190967442, 'intercept': 0}\n"
     ]
    },
    {
     "name": "stderr",
     "output_type": "stream",
     "text": [
      "/workspaces/codespaces-jupyter/helpers/half_ridge.py:149: RuntimeWarning: Mean of empty slice\n",
      "  post_weights = np.nanmean(samples1, axis=0)\n"
     ]
    },
    {
     "name": "stdout",
     "output_type": "stream",
     "text": [
      "binary comparisons\n",
      "0.502\n",
      "Training Set Value: 10, Eta: 11288.378916846883, Fold: 0 of range(0, 5)\n",
      "Running half-ridge regression...\n",
      "Half ridge regression rejection sampling took 0.0350949764251709 seconds\n",
      "half-ridge coefficients\n",
      "{'Age': 0.21438240094451527, 'Blast Furnace Slag': -1.8230139466703477, 'Cement': -1.8653377419786135, 'Coarse Aggregate': -1.5439042389691016, 'Fine Aggregate': -1.7496643194649029, 'Fly Ash': -2.274475572965775, 'Superplasticizer': 0.22970030066758154, 'Water': -1.9702333544644544, 'intercept': 0}\n"
     ]
    },
    {
     "name": "stderr",
     "output_type": "stream",
     "text": [
      "/workspaces/codespaces-jupyter/helpers/half_ridge.py:149: RuntimeWarning: Mean of empty slice\n",
      "  post_weights = np.nanmean(samples1, axis=0)\n"
     ]
    },
    {
     "name": "stdout",
     "output_type": "stream",
     "text": [
      "binary comparisons\n",
      "0.649\n",
      "Training Set Value: 10, Eta: 11288.378916846883, Fold: 1 of range(0, 5)\n",
      "Running half-ridge regression...\n",
      "Half ridge regression rejection sampling took 0.03429007530212402 seconds\n",
      "half-ridge coefficients\n",
      "{'Age': 0.6988369582814614, 'Blast Furnace Slag': -0.12124058248743841, 'Cement': 1.5079034833576686, 'Coarse Aggregate': 0.7412827874593585, 'Fine Aggregate': -1.3087671120407538, 'Fly Ash': 0.759152097379931, 'Superplasticizer': -0.007662952657607794, 'Water': -0.5086837943103537, 'intercept': 0}\n"
     ]
    },
    {
     "name": "stderr",
     "output_type": "stream",
     "text": [
      "/workspaces/codespaces-jupyter/helpers/half_ridge.py:149: RuntimeWarning: Mean of empty slice\n",
      "  post_weights = np.nanmean(samples1, axis=0)\n"
     ]
    },
    {
     "name": "stdout",
     "output_type": "stream",
     "text": [
      "binary comparisons\n",
      "0.558\n",
      "Training Set Value: 10, Eta: 11288.378916846883, Fold: 2 of range(0, 5)\n",
      "Running half-ridge regression...\n",
      "Half ridge regression rejection sampling took 0.03258562088012695 seconds\n",
      "half-ridge coefficients\n",
      "{'Age': 0.7301381475202423, 'Blast Furnace Slag': 0.6323172034399115, 'Cement': 1.313294264322776, 'Coarse Aggregate': 0.31018795643727176, 'Fine Aggregate': 0.1274245576117888, 'Fly Ash': 0.6287442407929962, 'Superplasticizer': 0.03599093556829299, 'Water': -0.4089868478388199, 'intercept': 0}\n",
      "binary comparisons\n",
      "0.615\n",
      "Training Set Value: 10, Eta: 11288.378916846883, Fold: 3 of range(0, 5)\n"
     ]
    },
    {
     "name": "stderr",
     "output_type": "stream",
     "text": [
      "/workspaces/codespaces-jupyter/helpers/half_ridge.py:149: RuntimeWarning: Mean of empty slice\n",
      "  post_weights = np.nanmean(samples1, axis=0)\n"
     ]
    },
    {
     "name": "stdout",
     "output_type": "stream",
     "text": [
      "Running half-ridge regression...\n",
      "Half ridge regression rejection sampling took 0.03230929374694824 seconds\n",
      "half-ridge coefficients\n",
      "{'Age': 1.3849407982688091, 'Blast Furnace Slag': -1.1144681707276072, 'Cement': -0.8174244828006337, 'Coarse Aggregate': -0.8521381830086876, 'Fine Aggregate': -1.3226982200571262, 'Fly Ash': -0.35841163068622545, 'Superplasticizer': -0.7999106618381335, 'Water': -1.3848977196919778, 'intercept': 0}\n"
     ]
    },
    {
     "name": "stderr",
     "output_type": "stream",
     "text": [
      "/workspaces/codespaces-jupyter/helpers/half_ridge.py:149: RuntimeWarning: Mean of empty slice\n",
      "  post_weights = np.nanmean(samples1, axis=0)\n"
     ]
    },
    {
     "name": "stdout",
     "output_type": "stream",
     "text": [
      "binary comparisons\n",
      "0.671\n",
      "Training Set Value: 10, Eta: 11288.378916846883, Fold: 4 of range(0, 5)\n",
      "Running half-ridge regression...\n",
      "Half ridge regression rejection sampling took 0.041234493255615234 seconds\n",
      "half-ridge coefficients\n",
      "{'Age': 0.11848419272562744, 'Blast Furnace Slag': 0.6170172150873993, 'Cement': 1.4318749564004396, 'Coarse Aggregate': -0.7706762735401842, 'Fine Aggregate': -0.34414275767425623, 'Fly Ash': 0.8050423355234175, 'Superplasticizer': -1.1999480681158994, 'Water': -1.070129280721715, 'intercept': 0}\n"
     ]
    },
    {
     "name": "stderr",
     "output_type": "stream",
     "text": [
      "/workspaces/codespaces-jupyter/helpers/half_ridge.py:149: RuntimeWarning: Mean of empty slice\n",
      "  post_weights = np.nanmean(samples1, axis=0)\n"
     ]
    },
    {
     "name": "stdout",
     "output_type": "stream",
     "text": [
      "binary comparisons\n",
      "0.546\n",
      "Training Set Value: 10, Eta: 33598.18286283774, Fold: 0 of range(0, 5)\n",
      "Running half-ridge regression...\n",
      "Half ridge regression rejection sampling took 0.03209495544433594 seconds\n",
      "half-ridge coefficients\n",
      "{'Age': 0.2143826323508376, 'Blast Furnace Slag': -1.8230124614608059, 'Cement': -1.865335595218014, 'Coarse Aggregate': -1.5439030594551648, 'Fine Aggregate': -1.7496632437045128, 'Fly Ash': -2.2744732975217885, 'Superplasticizer': 0.229700399463423, 'Water': -1.9702321286047948, 'intercept': 0}\n"
     ]
    },
    {
     "name": "stderr",
     "output_type": "stream",
     "text": [
      "/workspaces/codespaces-jupyter/helpers/half_ridge.py:149: RuntimeWarning: Mean of empty slice\n",
      "  post_weights = np.nanmean(samples1, axis=0)\n"
     ]
    },
    {
     "name": "stdout",
     "output_type": "stream",
     "text": [
      "binary comparisons\n",
      "0.679\n",
      "Training Set Value: 10, Eta: 33598.18286283774, Fold: 1 of range(0, 5)\n",
      "Running half-ridge regression...\n",
      "Half ridge regression rejection sampling took 0.037346601486206055 seconds\n",
      "half-ridge coefficients\n",
      "{'Age': 0.6988357478372712, 'Blast Furnace Slag': -0.12123975271630759, 'Cement': 1.5079041068082526, 'Coarse Aggregate': 0.7412834643582414, 'Fine Aggregate': -1.3087653148937661, 'Fly Ash': 0.7591528524367632, 'Superplasticizer': -0.007662689546948082, 'Water': -0.5086823937476473, 'intercept': 0}\n"
     ]
    },
    {
     "name": "stderr",
     "output_type": "stream",
     "text": [
      "/workspaces/codespaces-jupyter/helpers/half_ridge.py:149: RuntimeWarning: Mean of empty slice\n",
      "  post_weights = np.nanmean(samples1, axis=0)\n"
     ]
    },
    {
     "name": "stdout",
     "output_type": "stream",
     "text": [
      "binary comparisons\n",
      "0.581\n",
      "Training Set Value: 10, Eta: 33598.18286283774, Fold: 2 of range(0, 5)\n",
      "Running half-ridge regression...\n",
      "Half ridge regression rejection sampling took 0.032240867614746094 seconds\n",
      "half-ridge coefficients\n",
      "{'Age': 0.7301379184627652, 'Blast Furnace Slag': 0.63231668772647, 'Cement': 1.3132931454167227, 'Coarse Aggregate': 0.3101875622788576, 'Fine Aggregate': 0.12742411539464768, 'Fly Ash': 0.6287437176746336, 'Superplasticizer': 0.03599128183627673, 'Water': -0.40898663526198653, 'intercept': 0}\n"
     ]
    },
    {
     "name": "stderr",
     "output_type": "stream",
     "text": [
      "/workspaces/codespaces-jupyter/helpers/half_ridge.py:149: RuntimeWarning: Mean of empty slice\n",
      "  post_weights = np.nanmean(samples1, axis=0)\n"
     ]
    },
    {
     "name": "stdout",
     "output_type": "stream",
     "text": [
      "binary comparisons\n",
      "0.597\n",
      "Training Set Value: 10, Eta: 33598.18286283774, Fold: 3 of range(0, 5)\n",
      "Running half-ridge regression...\n",
      "Half ridge regression rejection sampling took 0.031948089599609375 seconds\n",
      "half-ridge coefficients\n",
      "{'Age': 1.3849407944889263, 'Blast Furnace Slag': -1.1144690284515726, 'Cement': -0.8174256964187965, 'Coarse Aggregate': -0.8521378163856058, 'Fine Aggregate': -1.3226986728216847, 'Fly Ash': -0.3584131438244575, 'Superplasticizer': -0.7999093634818116, 'Water': -1.384897190217896, 'intercept': 0}\n"
     ]
    },
    {
     "name": "stderr",
     "output_type": "stream",
     "text": [
      "/workspaces/codespaces-jupyter/helpers/half_ridge.py:149: RuntimeWarning: Mean of empty slice\n",
      "  post_weights = np.nanmean(samples1, axis=0)\n"
     ]
    },
    {
     "name": "stdout",
     "output_type": "stream",
     "text": [
      "binary comparisons\n",
      "0.683\n",
      "Training Set Value: 10, Eta: 33598.18286283774, Fold: 4 of range(0, 5)\n",
      "Running half-ridge regression...\n",
      "Half ridge regression rejection sampling took 0.06576943397521973 seconds\n",
      "half-ridge coefficients\n",
      "{'Age': 0.11848417981916726, 'Blast Furnace Slag': 0.6170174774176004, 'Cement': 1.4318756080880983, 'Coarse Aggregate': -0.770676394741535, 'Fine Aggregate': -0.3441429068975723, 'Fly Ash': 0.8050426212062559, 'Superplasticizer': -1.1999481153031115, 'Water': -1.0701285369160276, 'intercept': 0}\n",
      "binary comparisons\n",
      "0.564\n",
      "Training Set Value: 10, Eta: 100000.0, Fold: 0 of range(0, 5)\n"
     ]
    },
    {
     "name": "stderr",
     "output_type": "stream",
     "text": [
      "/workspaces/codespaces-jupyter/helpers/half_ridge.py:149: RuntimeWarning: Mean of empty slice\n",
      "  post_weights = np.nanmean(samples1, axis=0)\n"
     ]
    },
    {
     "name": "stdout",
     "output_type": "stream",
     "text": [
      "Running half-ridge regression...\n",
      "Half ridge regression rejection sampling took 0.03244590759277344 seconds\n",
      "half-ridge coefficients\n",
      "{'Age': 0.21438261543172063, 'Blast Furnace Slag': -1.8230127645450411, 'Cement': -1.8653359357561907, 'Coarse Aggregate': -1.5439031802669543, 'Fine Aggregate': -1.749663648658135, 'Fly Ash': -2.274473488395106, 'Superplasticizer': 0.22970049881050042, 'Water': -1.970232327547923, 'intercept': 0}\n"
     ]
    },
    {
     "name": "stderr",
     "output_type": "stream",
     "text": [
      "/workspaces/codespaces-jupyter/helpers/half_ridge.py:149: RuntimeWarning: Mean of empty slice\n",
      "  post_weights = np.nanmean(samples1, axis=0)\n"
     ]
    },
    {
     "name": "stdout",
     "output_type": "stream",
     "text": [
      "binary comparisons\n",
      "0.666\n",
      "Training Set Value: 10, Eta: 100000.0, Fold: 1 of range(0, 5)\n",
      "Running half-ridge regression...\n",
      "Half ridge regression rejection sampling took 0.037870168685913086 seconds\n",
      "half-ridge coefficients\n",
      "{'Age': 0.6988360167106386, 'Blast Furnace Slag': -0.12123983691204905, 'Cement': 1.5079036984236545, 'Coarse Aggregate': 0.7412832663939188, 'Fine Aggregate': -1.3087654966846152, 'Fly Ash': 0.7591526995329674, 'Superplasticizer': -0.007662612744640206, 'Water': -0.508682484048672, 'intercept': 0}\n"
     ]
    },
    {
     "name": "stderr",
     "output_type": "stream",
     "text": [
      "/workspaces/codespaces-jupyter/helpers/half_ridge.py:149: RuntimeWarning: Mean of empty slice\n",
      "  post_weights = np.nanmean(samples1, axis=0)\n"
     ]
    },
    {
     "name": "stdout",
     "output_type": "stream",
     "text": [
      "binary comparisons\n",
      "0.567\n",
      "Training Set Value: 10, Eta: 100000.0, Fold: 2 of range(0, 5)\n",
      "Running half-ridge regression...\n",
      "Half ridge regression rejection sampling took 0.03870105743408203 seconds\n",
      "half-ridge coefficients\n",
      "{'Age': 0.7301376521447986, 'Blast Furnace Slag': 0.6323169289218642, 'Cement': 1.3132936988751545, 'Coarse Aggregate': 0.3101877218271947, 'Fine Aggregate': 0.12742428507125728, 'Fly Ash': 0.6287442692875951, 'Superplasticizer': 0.03599098623068317, 'Water': -0.40898643267548446, 'intercept': 0}\n"
     ]
    },
    {
     "name": "stderr",
     "output_type": "stream",
     "text": [
      "/workspaces/codespaces-jupyter/helpers/half_ridge.py:149: RuntimeWarning: Mean of empty slice\n",
      "  post_weights = np.nanmean(samples1, axis=0)\n"
     ]
    },
    {
     "name": "stdout",
     "output_type": "stream",
     "text": [
      "binary comparisons\n",
      "0.605\n",
      "Training Set Value: 10, Eta: 100000.0, Fold: 3 of range(0, 5)\n",
      "Running half-ridge regression...\n",
      "Half ridge regression rejection sampling took 0.03507184982299805 seconds\n",
      "half-ridge coefficients\n",
      "{'Age': 1.3849409326133055, 'Blast Furnace Slag': -1.1144690133609112, 'Cement': -0.8174255329018545, 'Coarse Aggregate': -0.8521379289773707, 'Fine Aggregate': -1.3226986251252244, 'Fly Ash': -0.3584126435252796, 'Superplasticizer': -0.7999098473312894, 'Water': -1.3848971696003518, 'intercept': 0}\n",
      "binary comparisons\n",
      "0.687\n",
      "Training Set Value: 10, Eta: 100000.0, Fold: 4 of range(0, 5)\n"
     ]
    },
    {
     "name": "stderr",
     "output_type": "stream",
     "text": [
      "/workspaces/codespaces-jupyter/helpers/half_ridge.py:149: RuntimeWarning: Mean of empty slice\n",
      "  post_weights = np.nanmean(samples1, axis=0)\n"
     ]
    },
    {
     "name": "stdout",
     "output_type": "stream",
     "text": [
      "Running half-ridge regression...\n",
      "Half ridge regression rejection sampling took 0.03641057014465332 seconds\n",
      "half-ridge coefficients\n",
      "{'Age': 0.11848417227530987, 'Blast Furnace Slag': 0.6170175644259175, 'Cement': 1.431875641072791, 'Coarse Aggregate': -0.7706759264123912, 'Fine Aggregate': -0.3441426566581501, 'Fly Ash': 0.8050425853793218, 'Superplasticizer': -1.1999478129247856, 'Water': -1.0701283498549792, 'intercept': 0}\n"
     ]
    },
    {
     "name": "stderr",
     "output_type": "stream",
     "text": [
      "/workspaces/codespaces-jupyter/helpers/half_ridge.py:149: RuntimeWarning: Mean of empty slice\n",
      "  post_weights = np.nanmean(samples1, axis=0)\n"
     ]
    },
    {
     "name": "stdout",
     "output_type": "stream",
     "text": [
      "binary comparisons\n",
      "0.563\n",
      "Training Set Value: 10, Eta: inf, Fold: 0 of range(0, 5)\n",
      "Running half-ridge regression...\n",
      "Half ridge regression rejection sampling took 1.9550323486328125e-05 seconds\n",
      "half-ridge coefficients\n",
      "{'Age': -8.368345781889688e-17, 'Blast Furnace Slag': -1.5096186945043219e-16, 'Cement': 1.0000000000000002, 'Coarse Aggregate': -4.347242919660689e-16, 'Fine Aggregate': -3.3052802208565035e-16, 'Fly Ash': -5.041658298357918e-16, 'Superplasticizer': -5.602582774194621e-16, 'Water': -6.106312750029087e-17, 'intercept': 0}\n",
      "binary comparisons\n",
      "0.473\n",
      "Training Set Value: 10, Eta: inf, Fold: 1 of range(0, 5)\n",
      "Running half-ridge regression...\n",
      "Half ridge regression rejection sampling took 1.9311904907226562e-05 seconds\n",
      "half-ridge coefficients\n",
      "{'Age': -8.368345781889688e-17, 'Blast Furnace Slag': -1.5096186945043219e-16, 'Cement': 1.0000000000000002, 'Coarse Aggregate': -4.347242919660689e-16, 'Fine Aggregate': -3.3052802208565035e-16, 'Fly Ash': -5.041658298357918e-16, 'Superplasticizer': -5.602582774194621e-16, 'Water': -6.106312750029087e-17, 'intercept': 0}\n",
      "binary comparisons\n",
      "0.457\n",
      "Training Set Value: 10, Eta: inf, Fold: 2 of range(0, 5)\n",
      "Running half-ridge regression...\n",
      "Half ridge regression rejection sampling took 5.245208740234375e-05 seconds\n",
      "half-ridge coefficients\n",
      "{'Age': -8.368345781889688e-17, 'Blast Furnace Slag': -1.5096186945043219e-16, 'Cement': 1.0000000000000002, 'Coarse Aggregate': -4.347242919660689e-16, 'Fine Aggregate': -3.3052802208565035e-16, 'Fly Ash': -5.041658298357918e-16, 'Superplasticizer': -5.602582774194621e-16, 'Water': -6.106312750029087e-17, 'intercept': 0}\n",
      "binary comparisons\n",
      "0.477\n",
      "Training Set Value: 10, Eta: inf, Fold: 3 of range(0, 5)\n",
      "Running half-ridge regression...\n",
      "Half ridge regression rejection sampling took 2.002716064453125e-05 seconds\n",
      "half-ridge coefficients\n",
      "{'Age': -8.368345781889688e-17, 'Blast Furnace Slag': -1.5096186945043219e-16, 'Cement': 1.0000000000000002, 'Coarse Aggregate': -4.347242919660689e-16, 'Fine Aggregate': -3.3052802208565035e-16, 'Fly Ash': -5.041658298357918e-16, 'Superplasticizer': -5.602582774194621e-16, 'Water': -6.106312750029087e-17, 'intercept': 0}\n",
      "binary comparisons\n",
      "0.476\n",
      "Training Set Value: 10, Eta: inf, Fold: 4 of range(0, 5)\n",
      "Running half-ridge regression...\n",
      "Half ridge regression rejection sampling took 1.9550323486328125e-05 seconds\n",
      "half-ridge coefficients\n",
      "{'Age': -8.368345781889688e-17, 'Blast Furnace Slag': -1.5096186945043219e-16, 'Cement': 1.0000000000000002, 'Coarse Aggregate': -4.347242919660689e-16, 'Fine Aggregate': -3.3052802208565035e-16, 'Fly Ash': -5.041658298357918e-16, 'Superplasticizer': -5.602582774194621e-16, 'Water': -6.106312750029087e-17, 'intercept': 0}\n",
      "binary comparisons\n",
      "0.48\n",
      "Training Set Index: 1, Training Set Value: 40\n",
      "Training Set Value: 40, Eta: 0.0, Fold: 0 of range(0, 5)\n",
      "Running half-ridge regression...\n",
      "{'Cement': 0.7978845608028654, 'Superplasticizer': -0.7978845608028654, 'Age': -0.7978845608028654, 'Water': -0.7978845608028654, 'Fine Aggregate': -0.7978845608028654, 'Coarse Aggregate': -0.7978845608028654, 'Blast Furnace Slag': -0.7978845608028654, 'Fly Ash': -0.7978845608028654}\n",
      "Half ridge regression rejection sampling took 5.817413330078125e-05 seconds\n",
      "half-ridge coefficients\n",
      "{'Age': -0.7978845608028654, 'Blast Furnace Slag': -0.7978845608028654, 'Cement': 0.7978845608028654, 'Coarse Aggregate': -0.7978845608028654, 'Fine Aggregate': -0.7978845608028654, 'Fly Ash': -0.7978845608028654, 'Superplasticizer': -0.7978845608028654, 'Water': -0.7978845608028654, 'intercept': 0}\n",
      "binary comparisons\n",
      "0.473\n",
      "Training Set Value: 40, Eta: 0.0, Fold: 1 of range(0, 5)\n",
      "Running half-ridge regression...\n",
      "{'Cement': 0.7978845608028654, 'Superplasticizer': -0.7978845608028654, 'Age': -0.7978845608028654, 'Water': -0.7978845608028654, 'Fine Aggregate': -0.7978845608028654, 'Coarse Aggregate': -0.7978845608028654, 'Blast Furnace Slag': -0.7978845608028654, 'Fly Ash': -0.7978845608028654}\n",
      "Half ridge regression rejection sampling took 8.416175842285156e-05 seconds\n",
      "half-ridge coefficients\n",
      "{'Age': -0.7978845608028654, 'Blast Furnace Slag': -0.7978845608028654, 'Cement': 0.7978845608028654, 'Coarse Aggregate': -0.7978845608028654, 'Fine Aggregate': -0.7978845608028654, 'Fly Ash': -0.7978845608028654, 'Superplasticizer': -0.7978845608028654, 'Water': -0.7978845608028654, 'intercept': 0}\n",
      "binary comparisons\n",
      "0.461\n",
      "Training Set Value: 40, Eta: 0.0, Fold: 2 of range(0, 5)\n",
      "Running half-ridge regression...\n",
      "{'Cement': 0.7978845608028654, 'Superplasticizer': -0.7978845608028654, 'Age': -0.7978845608028654, 'Water': -0.7978845608028654, 'Fine Aggregate': -0.7978845608028654, 'Coarse Aggregate': -0.7978845608028654, 'Blast Furnace Slag': -0.7978845608028654, 'Fly Ash': -0.7978845608028654}\n",
      "Half ridge regression rejection sampling took 0.00010442733764648438 seconds\n",
      "half-ridge coefficients\n",
      "{'Age': -0.7978845608028654, 'Blast Furnace Slag': -0.7978845608028654, 'Cement': 0.7978845608028654, 'Coarse Aggregate': -0.7978845608028654, 'Fine Aggregate': -0.7978845608028654, 'Fly Ash': -0.7978845608028654, 'Superplasticizer': -0.7978845608028654, 'Water': -0.7978845608028654, 'intercept': 0}\n",
      "binary comparisons\n",
      "0.472\n",
      "Training Set Value: 40, Eta: 0.0, Fold: 3 of range(0, 5)\n",
      "Running half-ridge regression...\n",
      "{'Cement': 0.7978845608028654, 'Superplasticizer': -0.7978845608028654, 'Age': -0.7978845608028654, 'Water': -0.7978845608028654, 'Fine Aggregate': -0.7978845608028654, 'Coarse Aggregate': -0.7978845608028654, 'Blast Furnace Slag': -0.7978845608028654, 'Fly Ash': -0.7978845608028654}\n",
      "Half ridge regression rejection sampling took 8.797645568847656e-05 seconds\n",
      "half-ridge coefficients\n",
      "{'Age': -0.7978845608028654, 'Blast Furnace Slag': -0.7978845608028654, 'Cement': 0.7978845608028654, 'Coarse Aggregate': -0.7978845608028654, 'Fine Aggregate': -0.7978845608028654, 'Fly Ash': -0.7978845608028654, 'Superplasticizer': -0.7978845608028654, 'Water': -0.7978845608028654, 'intercept': 0}\n",
      "binary comparisons\n",
      "0.458\n",
      "Training Set Value: 40, Eta: 0.0, Fold: 4 of range(0, 5)\n",
      "Running half-ridge regression...\n",
      "{'Cement': 0.7978845608028654, 'Superplasticizer': -0.7978845608028654, 'Age': -0.7978845608028654, 'Water': -0.7978845608028654, 'Fine Aggregate': -0.7978845608028654, 'Coarse Aggregate': -0.7978845608028654, 'Blast Furnace Slag': -0.7978845608028654, 'Fly Ash': -0.7978845608028654}\n",
      "Half ridge regression rejection sampling took 5.936622619628906e-05 seconds\n",
      "half-ridge coefficients\n",
      "{'Age': -0.7978845608028654, 'Blast Furnace Slag': -0.7978845608028654, 'Cement': 0.7978845608028654, 'Coarse Aggregate': -0.7978845608028654, 'Fine Aggregate': -0.7978845608028654, 'Fly Ash': -0.7978845608028654, 'Superplasticizer': -0.7978845608028654, 'Water': -0.7978845608028654, 'intercept': 0}\n",
      "binary comparisons\n",
      "0.465\n",
      "Training Set Value: 40, Eta: 0.0001, Fold: 0 of range(0, 5)\n",
      "Running half-ridge regression...\n",
      "Half ridge regression rejection sampling took 0.008674383163452148 seconds\n",
      "half-ridge coefficients\n",
      "{'Age': -8.279580312906248e-09, 'Blast Furnace Slag': -6.889868228318079e-09, 'Cement': 9.018134356701548e-09, 'Coarse Aggregate': -7.218810635972984e-09, 'Fine Aggregate': -7.072770335993e-09, 'Fly Ash': -7.853497503187688e-09, 'Superplasticizer': -7.427763764073543e-09, 'Water': -8.20697773710037e-09, 'intercept': 0}\n",
      "binary comparisons\n",
      "0.476\n",
      "Training Set Value: 40, Eta: 0.0001, Fold: 1 of range(0, 5)\n",
      "Running half-ridge regression...\n",
      "Half ridge regression rejection sampling took 0.008486509323120117 seconds\n",
      "half-ridge coefficients\n",
      "{'Age': -8.686293092208526e-09, 'Blast Furnace Slag': -9.11455902887839e-09, 'Cement': 6.912474736915806e-09, 'Coarse Aggregate': -7.658785634065507e-09, 'Fine Aggregate': -7.270183712450023e-09, 'Fly Ash': -7.692388955915696e-09, 'Superplasticizer': -8.925850771145307e-09, 'Water': -8.210450496005293e-09, 'intercept': 0}\n",
      "binary comparisons\n",
      "0.454\n",
      "Training Set Value: 40, Eta: 0.0001, Fold: 2 of range(0, 5)\n",
      "Running half-ridge regression...\n",
      "Half ridge regression rejection sampling took 0.0070040225982666016 seconds\n",
      "half-ridge coefficients\n",
      "{'Age': -8.771629505496142e-09, 'Blast Furnace Slag': -7.593145973880484e-09, 'Cement': 8.429852755845603e-09, 'Coarse Aggregate': -7.425629159440463e-09, 'Fine Aggregate': -8.452003445874285e-09, 'Fly Ash': -8.068113179216714e-09, 'Superplasticizer': -8.171355830350357e-09, 'Water': -8.319569223736983e-09, 'intercept': 0}\n",
      "binary comparisons\n",
      "0.447\n",
      "Training Set Value: 40, Eta: 0.0001, Fold: 3 of range(0, 5)\n",
      "Running half-ridge regression...\n",
      "Half ridge regression rejection sampling took 0.00677037239074707 seconds\n",
      "half-ridge coefficients\n",
      "{'Age': -8.421376457015247e-09, 'Blast Furnace Slag': -8.329583073725326e-09, 'Cement': 8.181466838752082e-09, 'Coarse Aggregate': -7.702383188606131e-09, 'Fine Aggregate': -7.681542241274476e-09, 'Fly Ash': -8.764128905284215e-09, 'Superplasticizer': -7.871261104880604e-09, 'Water': -8.988338702070196e-09, 'intercept': 0}\n",
      "binary comparisons\n",
      "0.475\n",
      "Training Set Value: 40, Eta: 0.0001, Fold: 4 of range(0, 5)\n",
      "Running half-ridge regression...\n",
      "Half ridge regression rejection sampling took 0.006961345672607422 seconds\n",
      "half-ridge coefficients\n",
      "{'Age': -9.344339365348383e-09, 'Blast Furnace Slag': -7.683965966917618e-09, 'Cement': 7.620532056014481e-09, 'Coarse Aggregate': -8.38950469342818e-09, 'Fine Aggregate': -8.382557126408698e-09, 'Fly Ash': -7.323729402002969e-09, 'Superplasticizer': -7.09944025275141e-09, 'Water': -8.019570444184701e-09, 'intercept': 0}\n",
      "binary comparisons\n",
      "0.458\n",
      "Training Set Value: 40, Eta: 0.00029763514416313193, Fold: 0 of range(0, 5)\n",
      "Running half-ridge regression...\n",
      "Half ridge regression rejection sampling took 0.006970405578613281 seconds\n",
      "half-ridge coefficients\n",
      "{'Age': -6.06148654378521e-08, 'Blast Furnace Slag': -6.674900801412511e-08, 'Cement': 7.240999268379545e-08, 'Coarse Aggregate': -7.070750194433665e-08, 'Fine Aggregate': -7.384618395310094e-08, 'Fly Ash': -7.137843434212987e-08, 'Superplasticizer': -6.753550682826592e-08, 'Water': -7.780715816370088e-08, 'intercept': 0}\n",
      "binary comparisons\n",
      "0.461\n",
      "Training Set Value: 40, Eta: 0.00029763514416313193, Fold: 1 of range(0, 5)\n",
      "Running half-ridge regression...\n",
      "Half ridge regression rejection sampling took 0.008018255233764648 seconds\n",
      "half-ridge coefficients\n",
      "{'Age': -7.372051444133094e-08, 'Blast Furnace Slag': -7.235509692279572e-08, 'Cement': 7.308379872501497e-08, 'Coarse Aggregate': -6.597008141967276e-08, 'Fine Aggregate': -6.425924322587586e-08, 'Fly Ash': -7.0514065532926e-08, 'Superplasticizer': -6.898475225295456e-08, 'Water': -6.99682889765152e-08, 'intercept': 0}\n",
      "binary comparisons\n",
      "0.447\n",
      "Training Set Value: 40, Eta: 0.00029763514416313193, Fold: 2 of range(0, 5)\n",
      "Running half-ridge regression...\n",
      "Half ridge regression rejection sampling took 0.006701469421386719 seconds\n",
      "half-ridge coefficients\n",
      "{'Age': -6.951945746897634e-08, 'Blast Furnace Slag': -7.065955105803326e-08, 'Cement': 6.710922545268799e-08, 'Coarse Aggregate': -6.986941567177062e-08, 'Fine Aggregate': -8.586432640140694e-08, 'Fly Ash': -7.621964156181563e-08, 'Superplasticizer': -8.176590286742828e-08, 'Water': -6.579435555814915e-08, 'intercept': 0}\n",
      "binary comparisons\n",
      "0.465\n",
      "Training Set Value: 40, Eta: 0.00029763514416313193, Fold: 3 of range(0, 5)\n",
      "Running half-ridge regression...\n",
      "Half ridge regression rejection sampling took 0.006967306137084961 seconds\n",
      "half-ridge coefficients\n",
      "{'Age': -7.459013881305491e-08, 'Blast Furnace Slag': -8.033716680264447e-08, 'Cement': 6.496181511457317e-08, 'Coarse Aggregate': -6.501567344131384e-08, 'Fine Aggregate': -7.079340777613965e-08, 'Fly Ash': -6.794839468914166e-08, 'Superplasticizer': -6.621759316678031e-08, 'Water': -7.229058320489946e-08, 'intercept': 0}\n",
      "binary comparisons\n",
      "0.452\n",
      "Training Set Value: 40, Eta: 0.00029763514416313193, Fold: 4 of range(0, 5)\n",
      "Running half-ridge regression...\n",
      "Half ridge regression rejection sampling took 0.0074460506439208984 seconds\n",
      "half-ridge coefficients\n",
      "{'Age': -6.771632137999398e-08, 'Blast Furnace Slag': -5.7877444029402186e-08, 'Cement': 7.98148083987796e-08, 'Coarse Aggregate': -7.351842983729235e-08, 'Fine Aggregate': -6.018355757435106e-08, 'Fly Ash': -7.127271932424737e-08, 'Superplasticizer': -6.859513278446134e-08, 'Water': -7.221514947490277e-08, 'intercept': 0}\n",
      "binary comparisons\n",
      "0.507\n",
      "Training Set Value: 40, Eta: 0.0008858667904100823, Fold: 0 of range(0, 5)\n",
      "Running half-ridge regression...\n",
      "Half ridge regression rejection sampling took 0.006811857223510742 seconds\n",
      "half-ridge coefficients\n",
      "{'Age': -5.409397255439181e-07, 'Blast Furnace Slag': -6.899249050379397e-07, 'Cement': 5.907114363569712e-07, 'Coarse Aggregate': -6.70531313455172e-07, 'Fine Aggregate': -6.641479156172485e-07, 'Fly Ash': -6.818071659779558e-07, 'Superplasticizer': -7.311084392670847e-07, 'Water': -5.878054966767038e-07, 'intercept': 0}\n",
      "binary comparisons\n",
      "0.481\n",
      "Training Set Value: 40, Eta: 0.0008858667904100823, Fold: 1 of range(0, 5)\n",
      "Running half-ridge regression...\n",
      "Half ridge regression rejection sampling took 0.00852656364440918 seconds\n",
      "half-ridge coefficients\n",
      "{'Age': -5.586990542514794e-07, 'Blast Furnace Slag': -6.760682369119281e-07, 'Cement': 5.770591825007996e-07, 'Coarse Aggregate': -6.999825399329515e-07, 'Fine Aggregate': -6.626445590631896e-07, 'Fly Ash': -5.519572053726436e-07, 'Superplasticizer': -5.721251468464323e-07, 'Water': -5.840351655691187e-07, 'intercept': 0}\n",
      "binary comparisons\n",
      "0.488\n",
      "Training Set Value: 40, Eta: 0.0008858667904100823, Fold: 2 of range(0, 5)\n",
      "Running half-ridge regression...\n",
      "Half ridge regression rejection sampling took 0.008499622344970703 seconds\n",
      "half-ridge coefficients\n",
      "{'Age': -5.750354853207494e-07, 'Blast Furnace Slag': -6.491629699844597e-07, 'Cement': 6.893309571460686e-07, 'Coarse Aggregate': -6.073579997566554e-07, 'Fine Aggregate': -6.113329852555624e-07, 'Fly Ash': -6.210589961144925e-07, 'Superplasticizer': -5.655031408547638e-07, 'Water': -7.059403774259352e-07, 'intercept': 0}\n",
      "binary comparisons\n",
      "0.506\n",
      "Training Set Value: 40, Eta: 0.0008858667904100823, Fold: 3 of range(0, 5)\n",
      "Running half-ridge regression...\n",
      "Half ridge regression rejection sampling took 0.009772539138793945 seconds\n",
      "half-ridge coefficients\n",
      "{'Age': -6.649126368083899e-07, 'Blast Furnace Slag': -5.244119547371232e-07, 'Cement': 6.518428761045872e-07, 'Coarse Aggregate': -5.609566687284164e-07, 'Fine Aggregate': -6.100369582546406e-07, 'Fly Ash': -6.257100603905067e-07, 'Superplasticizer': -6.564996650138496e-07, 'Water': -6.457491447685915e-07, 'intercept': 0}\n",
      "binary comparisons\n",
      "0.498\n",
      "Training Set Value: 40, Eta: 0.0008858667904100823, Fold: 4 of range(0, 5)\n",
      "Running half-ridge regression...\n",
      "Half ridge regression rejection sampling took 0.008759021759033203 seconds\n",
      "half-ridge coefficients\n",
      "{'Age': -6.836290457928645e-07, 'Blast Furnace Slag': -5.864687701455455e-07, 'Cement': 6.068652582590208e-07, 'Coarse Aggregate': -5.574398245235935e-07, 'Fine Aggregate': -6.192078822431115e-07, 'Fly Ash': -6.557921690575478e-07, 'Superplasticizer': -5.25441047209523e-07, 'Water': -6.098131651985734e-07, 'intercept': 0}\n",
      "binary comparisons\n",
      "0.476\n",
      "Training Set Value: 40, Eta: 0.0026366508987303583, Fold: 0 of range(0, 5)\n",
      "Running half-ridge regression...\n",
      "Half ridge regression rejection sampling took 0.010025978088378906 seconds\n",
      "half-ridge coefficients\n",
      "{'Age': -6.4378710766043135e-06, 'Blast Furnace Slag': -5.8411949766930666e-06, 'Cement': 5.8054375896474815e-06, 'Coarse Aggregate': -5.721697436226249e-06, 'Fine Aggregate': -5.536004084201583e-06, 'Fly Ash': -5.330925161376426e-06, 'Superplasticizer': -4.836404102816767e-06, 'Water': -5.3664786860717074e-06, 'intercept': 0}\n",
      "binary comparisons\n",
      "0.462\n",
      "Training Set Value: 40, Eta: 0.0026366508987303583, Fold: 1 of range(0, 5)\n",
      "Running half-ridge regression...\n",
      "Half ridge regression rejection sampling took 0.006928443908691406 seconds\n",
      "half-ridge coefficients\n",
      "{'Age': -5.481069071804382e-06, 'Blast Furnace Slag': -5.364239484977011e-06, 'Cement': 6.321653920984791e-06, 'Coarse Aggregate': -6.420799066080517e-06, 'Fine Aggregate': -4.771059207630884e-06, 'Fly Ash': -5.601379604562554e-06, 'Superplasticizer': -5.002873510334448e-06, 'Water': -5.352767488595502e-06, 'intercept': 0}\n",
      "binary comparisons\n",
      "0.482\n",
      "Training Set Value: 40, Eta: 0.0026366508987303583, Fold: 2 of range(0, 5)\n",
      "Running half-ridge regression...\n",
      "Half ridge regression rejection sampling took 0.014632225036621094 seconds\n",
      "half-ridge coefficients\n",
      "{'Age': -6.155968087707564e-06, 'Blast Furnace Slag': -5.3657589465986925e-06, 'Cement': 5.136725182946183e-06, 'Coarse Aggregate': -5.333285223837455e-06, 'Fine Aggregate': -5.632839022603808e-06, 'Fly Ash': -5.298358047496077e-06, 'Superplasticizer': -5.0618166896629535e-06, 'Water': -5.456682388735402e-06, 'intercept': 0}\n",
      "binary comparisons\n",
      "0.436\n",
      "Training Set Value: 40, Eta: 0.0026366508987303583, Fold: 3 of range(0, 5)\n",
      "Running half-ridge regression...\n",
      "Half ridge regression rejection sampling took 0.008630037307739258 seconds\n",
      "half-ridge coefficients\n",
      "{'Age': -5.569702082784976e-06, 'Blast Furnace Slag': -5.275064243873828e-06, 'Cement': 5.24415527968029e-06, 'Coarse Aggregate': -6.537048225285566e-06, 'Fine Aggregate': -5.481516122820203e-06, 'Fly Ash': -5.285846728909224e-06, 'Superplasticizer': -5.82645595927023e-06, 'Water': -5.5006941867868415e-06, 'intercept': 0}\n",
      "binary comparisons\n",
      "0.476\n",
      "Training Set Value: 40, Eta: 0.0026366508987303583, Fold: 4 of range(0, 5)\n",
      "Running half-ridge regression...\n",
      "Half ridge regression rejection sampling took 0.008555412292480469 seconds\n",
      "half-ridge coefficients\n",
      "{'Age': -6.028994953013813e-06, 'Blast Furnace Slag': -5.00309214517395e-06, 'Cement': 5.406239417516761e-06, 'Coarse Aggregate': -4.720576109333526e-06, 'Fine Aggregate': -5.586394688191379e-06, 'Fly Ash': -5.37903273944233e-06, 'Superplasticizer': -4.729471633479287e-06, 'Water': -6.448291976038105e-06, 'intercept': 0}\n",
      "binary comparisons\n",
      "0.456\n",
      "Training Set Value: 40, Eta: 0.007847599703514606, Fold: 0 of range(0, 5)\n",
      "Running half-ridge regression...\n",
      "Half ridge regression rejection sampling took 0.008510828018188477 seconds\n",
      "half-ridge coefficients\n",
      "{'Age': -4.449908263752449e-05, 'Blast Furnace Slag': -4.8241587017821614e-05, 'Cement': 5.3280615698076315e-05, 'Coarse Aggregate': -4.743375117909356e-05, 'Fine Aggregate': -4.727964021436464e-05, 'Fly Ash': -4.078590013416799e-05, 'Superplasticizer': -4.3716301640461543e-05, 'Water': -5.030479336135946e-05, 'intercept': 0}\n",
      "binary comparisons\n",
      "0.484\n",
      "Training Set Value: 40, Eta: 0.007847599703514606, Fold: 1 of range(0, 5)\n",
      "Running half-ridge regression...\n",
      "Half ridge regression rejection sampling took 0.008748054504394531 seconds\n",
      "half-ridge coefficients\n",
      "{'Age': -5.2505709964118344e-05, 'Blast Furnace Slag': -4.873882650341414e-05, 'Cement': 5.527127595110909e-05, 'Coarse Aggregate': -5.2109393846438134e-05, 'Fine Aggregate': -5.0219670916654286e-05, 'Fly Ash': -4.9434485634590736e-05, 'Superplasticizer': -4.622431336363546e-05, 'Water': -4.948371666122249e-05, 'intercept': 0}\n",
      "binary comparisons\n",
      "0.468\n",
      "Training Set Value: 40, Eta: 0.007847599703514606, Fold: 2 of range(0, 5)\n",
      "Running half-ridge regression...\n",
      "Half ridge regression rejection sampling took 0.008595466613769531 seconds\n",
      "half-ridge coefficients\n",
      "{'Age': -5.057524055371762e-05, 'Blast Furnace Slag': -3.9663457982384726e-05, 'Cement': 4.633959631069369e-05, 'Coarse Aggregate': -5.11426740274393e-05, 'Fine Aggregate': -5.474649363162919e-05, 'Fly Ash': -4.4836625697329854e-05, 'Superplasticizer': -5.120726074483899e-05, 'Water': -4.2537142400471903e-05, 'intercept': 0}\n",
      "binary comparisons\n",
      "0.478\n",
      "Training Set Value: 40, Eta: 0.007847599703514606, Fold: 3 of range(0, 5)\n",
      "Running half-ridge regression...\n",
      "Half ridge regression rejection sampling took 0.008554935455322266 seconds\n",
      "half-ridge coefficients\n",
      "{'Age': -4.570760552944721e-05, 'Blast Furnace Slag': -4.540669702611903e-05, 'Cement': 4.963783447669106e-05, 'Coarse Aggregate': -4.574323029997263e-05, 'Fine Aggregate': -5.289756429533929e-05, 'Fly Ash': -4.9152679795449654e-05, 'Superplasticizer': -5.608546366987998e-05, 'Water': -5.7575908537719596e-05, 'intercept': 0}\n",
      "binary comparisons\n",
      "0.493\n",
      "Training Set Value: 40, Eta: 0.007847599703514606, Fold: 4 of range(0, 5)\n",
      "Running half-ridge regression...\n",
      "Half ridge regression rejection sampling took 0.008541584014892578 seconds\n",
      "half-ridge coefficients\n",
      "{'Age': -5.2567540786817535e-05, 'Blast Furnace Slag': -5.593848474699708e-05, 'Cement': 5.556211382071643e-05, 'Coarse Aggregate': -4.361221894487644e-05, 'Fine Aggregate': -4.778847806533501e-05, 'Fly Ash': -4.83059090448205e-05, 'Superplasticizer': -4.465777256858955e-05, 'Water': -5.234769441931867e-05, 'intercept': 0}\n",
      "binary comparisons\n",
      "0.475\n",
      "Training Set Value: 40, Eta: 0.023357214690901212, Fold: 0 of range(0, 5)\n",
      "Running half-ridge regression...\n",
      "Half ridge regression rejection sampling took 0.008544683456420898 seconds\n",
      "half-ridge coefficients\n",
      "{'Age': -0.000381422562861672, 'Blast Furnace Slag': -0.00037691942709867145, 'Cement': 0.00042367016575916157, 'Coarse Aggregate': -0.0004567416291321946, 'Fine Aggregate': -0.00039873039938517155, 'Fly Ash': -0.00044658589285648807, 'Superplasticizer': -0.0004369957781435903, 'Water': -0.0004062287350288626, 'intercept': 0}\n",
      "binary comparisons\n",
      "0.474\n",
      "Training Set Value: 40, Eta: 0.023357214690901212, Fold: 1 of range(0, 5)\n",
      "Running half-ridge regression...\n",
      "Half ridge regression rejection sampling took 0.012958526611328125 seconds\n",
      "half-ridge coefficients\n",
      "{'Age': -0.0003866612007654063, 'Blast Furnace Slag': -0.00046611644202873944, 'Cement': 0.00045443585977072293, 'Coarse Aggregate': -0.00038215327061181354, 'Fine Aggregate': -0.0004329537496581533, 'Fly Ash': -0.000429893571021797, 'Superplasticizer': -0.0004842161105004519, 'Water': -0.0004451165838493421, 'intercept': 0}\n",
      "binary comparisons\n",
      "0.447\n",
      "Training Set Value: 40, Eta: 0.023357214690901212, Fold: 2 of range(0, 5)\n",
      "Running half-ridge regression...\n",
      "Half ridge regression rejection sampling took 0.006846427917480469 seconds\n",
      "half-ridge coefficients\n",
      "{'Age': -0.0004864794445191735, 'Blast Furnace Slag': -0.0004161311547648768, 'Cement': 0.000472918853855832, 'Coarse Aggregate': -0.0003831054123410606, 'Fine Aggregate': -0.0003498396691922159, 'Fly Ash': -0.0003662768155498125, 'Superplasticizer': -0.0005032229158365677, 'Water': -0.00048118298277130176, 'intercept': 0}\n",
      "binary comparisons\n",
      "0.432\n",
      "Training Set Value: 40, Eta: 0.023357214690901212, Fold: 3 of range(0, 5)\n",
      "Running half-ridge regression...\n",
      "Half ridge regression rejection sampling took 0.00687098503112793 seconds\n",
      "half-ridge coefficients\n",
      "{'Age': -0.00047236018175747394, 'Blast Furnace Slag': -0.0004727745759128169, 'Cement': 0.00046761262321352707, 'Coarse Aggregate': -0.0003753022151750002, 'Fine Aggregate': -0.0004896035761975595, 'Fly Ash': -0.00040962077854923883, 'Superplasticizer': -0.0004803339872229924, 'Water': -0.0004483325939719828, 'intercept': 0}\n",
      "binary comparisons\n",
      "0.421\n",
      "Training Set Value: 40, Eta: 0.023357214690901212, Fold: 4 of range(0, 5)\n",
      "Running half-ridge regression...\n",
      "Half ridge regression rejection sampling took 0.009607791900634766 seconds\n",
      "half-ridge coefficients\n",
      "{'Age': -0.0004565412175536371, 'Blast Furnace Slag': -0.0004669875724917354, 'Cement': 0.0004366214178265292, 'Coarse Aggregate': -0.0004320358815516896, 'Fine Aggregate': -0.00043964140397798307, 'Fly Ash': -0.00040239016294182683, 'Superplasticizer': -0.00043442121549576353, 'Water': -0.00039375292146388765, 'intercept': 0}\n",
      "binary comparisons\n",
      "0.465\n",
      "Training Set Value: 40, Eta: 0.06951927961775606, Fold: 0 of range(0, 5)\n",
      "Running half-ridge regression...\n",
      "Half ridge regression rejection sampling took 0.006845712661743164 seconds\n",
      "half-ridge coefficients\n",
      "{'Age': -0.003674149943820166, 'Blast Furnace Slag': -0.0032569889304721713, 'Cement': 0.003921751460459344, 'Coarse Aggregate': -0.004131717943398857, 'Fine Aggregate': -0.0037134970639472976, 'Fly Ash': -0.003541629793341539, 'Superplasticizer': -0.003650911314115516, 'Water': -0.003528821767748329, 'intercept': 0}\n",
      "binary comparisons\n",
      "0.472\n",
      "Training Set Value: 40, Eta: 0.06951927961775606, Fold: 1 of range(0, 5)\n",
      "Running half-ridge regression...\n",
      "Half ridge regression rejection sampling took 0.012786626815795898 seconds\n",
      "half-ridge coefficients\n",
      "{'Age': -0.0034285335148376422, 'Blast Furnace Slag': -0.004205824278266609, 'Cement': 0.004579174853807046, 'Coarse Aggregate': -0.0032821057669893384, 'Fine Aggregate': -0.003623703604083313, 'Fly Ash': -0.004622008232389835, 'Superplasticizer': -0.0036550757093504293, 'Water': -0.00391572969342004, 'intercept': 0}\n",
      "binary comparisons\n",
      "0.463\n",
      "Training Set Value: 40, Eta: 0.06951927961775606, Fold: 2 of range(0, 5)\n",
      "Running half-ridge regression...\n",
      "Half ridge regression rejection sampling took 0.014852285385131836 seconds\n",
      "half-ridge coefficients\n",
      "{'Age': -0.003971956524807335, 'Blast Furnace Slag': -0.0033626925101437524, 'Cement': 0.00401206901363906, 'Coarse Aggregate': -0.003889670700986295, 'Fine Aggregate': -0.003698102106800815, 'Fly Ash': -0.004185345775193004, 'Superplasticizer': -0.0034021908905387402, 'Water': -0.003432073170088918, 'intercept': 0}\n",
      "binary comparisons\n",
      "0.493\n",
      "Training Set Value: 40, Eta: 0.06951927961775606, Fold: 3 of range(0, 5)\n",
      "Running half-ridge regression...\n",
      "Half ridge regression rejection sampling took 0.00852060317993164 seconds\n",
      "half-ridge coefficients\n",
      "{'Age': -0.003991079149534521, 'Blast Furnace Slag': -0.003456273947426754, 'Cement': 0.003479978330935339, 'Coarse Aggregate': -0.003949455067687636, 'Fine Aggregate': -0.0034643575072503805, 'Fly Ash': -0.0035891608931768854, 'Superplasticizer': -0.0045325843434699765, 'Water': -0.004008376257095766, 'intercept': 0}\n",
      "binary comparisons\n",
      "0.444\n",
      "Training Set Value: 40, Eta: 0.06951927961775606, Fold: 4 of range(0, 5)\n",
      "Running half-ridge regression...\n",
      "Half ridge regression rejection sampling took 0.008621931076049805 seconds\n",
      "half-ridge coefficients\n",
      "{'Age': -0.0032784846801135535, 'Blast Furnace Slag': -0.0038074857698005686, 'Cement': 0.0037061524001504357, 'Coarse Aggregate': -0.004061211661480093, 'Fine Aggregate': -0.003404955310922945, 'Fly Ash': -0.004010372974465751, 'Superplasticizer': -0.003105301209841372, 'Water': -0.0041184125910031745, 'intercept': 0}\n",
      "binary comparisons\n",
      "0.511\n",
      "Training Set Value: 40, Eta: 0.2069138081114788, Fold: 0 of range(0, 5)\n",
      "Running half-ridge regression...\n",
      "Half ridge regression rejection sampling took 0.00853276252746582 seconds\n",
      "half-ridge coefficients\n",
      "{'Age': -0.03225274478825193, 'Blast Furnace Slag': -0.0332793979092317, 'Cement': 0.04016168969065286, 'Coarse Aggregate': -0.036288922012664995, 'Fine Aggregate': -0.031354036669765155, 'Fly Ash': -0.03311799070970105, 'Superplasticizer': -0.03884552648979655, 'Water': -0.02905050053263029, 'intercept': 0}\n",
      "binary comparisons\n",
      "0.465\n",
      "Training Set Value: 40, Eta: 0.2069138081114788, Fold: 1 of range(0, 5)\n",
      "Running half-ridge regression...\n",
      "Half ridge regression rejection sampling took 0.007760524749755859 seconds\n",
      "half-ridge coefficients\n",
      "{'Age': -0.0367905751237653, 'Blast Furnace Slag': -0.034566101137314446, 'Cement': 0.036951048022531414, 'Coarse Aggregate': -0.03188019635005482, 'Fine Aggregate': -0.037035732625068846, 'Fly Ash': -0.03479284152741405, 'Superplasticizer': -0.03415600753426299, 'Water': -0.035218778299851324, 'intercept': 0}\n",
      "binary comparisons\n",
      "0.49\n",
      "Training Set Value: 40, Eta: 0.2069138081114788, Fold: 2 of range(0, 5)\n",
      "Running half-ridge regression...\n",
      "Half ridge regression rejection sampling took 0.007066011428833008 seconds\n",
      "half-ridge coefficients\n",
      "{'Age': -0.02512161517369861, 'Blast Furnace Slag': -0.037504154930013495, 'Cement': 0.03345767595568795, 'Coarse Aggregate': -0.03540855656297227, 'Fine Aggregate': -0.0329577696564564, 'Fly Ash': -0.03344444121833588, 'Superplasticizer': -0.03377690305742346, 'Water': -0.03204932108349746, 'intercept': 0}\n",
      "binary comparisons\n",
      "0.486\n",
      "Training Set Value: 40, Eta: 0.2069138081114788, Fold: 3 of range(0, 5)\n",
      "Running half-ridge regression...\n",
      "Half ridge regression rejection sampling took 0.00852823257446289 seconds\n",
      "half-ridge coefficients\n",
      "{'Age': -0.03072054155896057, 'Blast Furnace Slag': -0.03540237376869329, 'Cement': 0.03567388929694082, 'Coarse Aggregate': -0.030457876737316193, 'Fine Aggregate': -0.03331708781843759, 'Fly Ash': -0.03796491031306113, 'Superplasticizer': -0.030780169886529585, 'Water': -0.036964700845128415, 'intercept': 0}\n",
      "binary comparisons\n",
      "0.47\n",
      "Training Set Value: 40, Eta: 0.2069138081114788, Fold: 4 of range(0, 5)\n",
      "Running half-ridge regression...\n",
      "Half ridge regression rejection sampling took 0.012900114059448242 seconds\n",
      "half-ridge coefficients\n",
      "{'Age': -0.03070491418851063, 'Blast Furnace Slag': -0.033023377224962555, 'Cement': 0.033014808046277336, 'Coarse Aggregate': -0.031122484258276236, 'Fine Aggregate': -0.036484551011064514, 'Fly Ash': -0.0360549092868223, 'Superplasticizer': -0.03422445345137286, 'Water': -0.03244859206864804, 'intercept': 0}\n",
      "binary comparisons\n",
      "0.448\n",
      "Training Set Value: 40, Eta: 0.615848211066026, Fold: 0 of range(0, 5)\n",
      "Running half-ridge regression...\n",
      "Half ridge regression rejection sampling took 0.011430978775024414 seconds\n",
      "half-ridge coefficients\n",
      "{'Age': -0.11952217305814054, 'Blast Furnace Slag': -0.16002286756754747, 'Cement': 0.29901070286302145, 'Coarse Aggregate': -0.2813685750433647, 'Fine Aggregate': -0.2650815889844083, 'Fly Ash': -0.232830148176426, 'Superplasticizer': -0.1889053388635409, 'Water': -0.41963991157279174, 'intercept': 0}\n",
      "binary comparisons\n",
      "0.598\n",
      "Training Set Value: 40, Eta: 0.615848211066026, Fold: 1 of range(0, 5)\n",
      "Running half-ridge regression...\n",
      "Half ridge regression rejection sampling took 0.012169122695922852 seconds\n",
      "half-ridge coefficients\n",
      "{'Age': -0.11428660083844387, 'Blast Furnace Slag': -0.19945907643273264, 'Cement': 0.3012102543358702, 'Coarse Aggregate': -0.2661914373996804, 'Fine Aggregate': -0.3884883366956898, 'Fly Ash': -0.2407996952715764, 'Superplasticizer': -0.13652640806226768, 'Water': -0.49359103165208884, 'intercept': 0}\n",
      "binary comparisons\n",
      "0.654\n",
      "Training Set Value: 40, Eta: 0.615848211066026, Fold: 2 of range(0, 5)\n",
      "Running half-ridge regression...\n",
      "Half ridge regression rejection sampling took 0.009786605834960938 seconds\n",
      "half-ridge coefficients\n",
      "{'Age': -0.13780712968859332, 'Blast Furnace Slag': -0.11413542732837202, 'Cement': 0.2719989379083725, 'Coarse Aggregate': -0.4333780281183956, 'Fine Aggregate': -0.27553541219237937, 'Fly Ash': -0.2395146086776968, 'Superplasticizer': -0.14905079646065952, 'Water': -0.41423783763052563, 'intercept': 0}\n",
      "binary comparisons\n",
      "0.593\n",
      "Training Set Value: 40, Eta: 0.615848211066026, Fold: 3 of range(0, 5)\n",
      "Running half-ridge regression...\n",
      "Half ridge regression rejection sampling took 0.0066738128662109375 seconds\n",
      "half-ridge coefficients\n",
      "{'Age': -0.08347364238256624, 'Blast Furnace Slag': -0.15859949413134872, 'Cement': 0.18307760536210338, 'Coarse Aggregate': -0.2936377953307514, 'Fine Aggregate': -0.2080280940504625, 'Fly Ash': -0.2984743819642509, 'Superplasticizer': -0.11439583220184116, 'Water': -0.4204652131374063, 'intercept': 0}\n",
      "binary comparisons\n",
      "0.605\n",
      "Training Set Value: 40, Eta: 0.615848211066026, Fold: 4 of range(0, 5)\n",
      "Running half-ridge regression...\n",
      "Half ridge regression rejection sampling took 0.00680994987487793 seconds\n",
      "half-ridge coefficients\n",
      "{'Age': -0.13048561516898344, 'Blast Furnace Slag': -0.11609598767800933, 'Cement': 0.20779191284491458, 'Coarse Aggregate': -0.30590065826855894, 'Fine Aggregate': -0.18652000761327167, 'Fly Ash': -0.20596519264832625, 'Superplasticizer': -0.1330804358513132, 'Water': -0.4296099089999588, 'intercept': 0}\n",
      "binary comparisons\n",
      "0.593\n",
      "Training Set Value: 40, Eta: 1.8329807108324339, Fold: 0 of range(0, 5)\n",
      "Running half-ridge regression...\n",
      "Half ridge regression rejection sampling took 0.037998199462890625 seconds\n",
      "half-ridge coefficients\n",
      "{'Age': 0.256061936376198, 'Blast Furnace Slag': 1.0143914724770837, 'Cement': 1.0892436325856718, 'Coarse Aggregate': 0.4654275388016957, 'Fine Aggregate': 0.4593749057466341, 'Fly Ash': 0.5748251520106653, 'Superplasticizer': 0.07177365012615182, 'Water': -0.0029128405141467567, 'intercept': 0}\n"
     ]
    },
    {
     "name": "stderr",
     "output_type": "stream",
     "text": [
      "/workspaces/codespaces-jupyter/helpers/half_ridge.py:149: RuntimeWarning: Mean of empty slice\n",
      "  post_weights = np.nanmean(samples1, axis=0)\n"
     ]
    },
    {
     "name": "stdout",
     "output_type": "stream",
     "text": [
      "binary comparisons\n",
      "0.531\n",
      "Training Set Value: 40, Eta: 1.8329807108324339, Fold: 1 of range(0, 5)\n",
      "Running half-ridge regression...\n",
      "Half ridge regression rejection sampling took 0.03258204460144043 seconds\n",
      "half-ridge coefficients\n",
      "{'Age': 1.007093231620514, 'Blast Furnace Slag': 0.11749905173312009, 'Cement': 0.221658254968264, 'Coarse Aggregate': -0.3963311592497927, 'Fine Aggregate': -0.32620153378284533, 'Fly Ash': 0.023424095800263573, 'Superplasticizer': -0.35614967915110224, 'Water': -1.0479178819199253, 'intercept': 0}\n"
     ]
    },
    {
     "name": "stderr",
     "output_type": "stream",
     "text": [
      "/workspaces/codespaces-jupyter/helpers/half_ridge.py:149: RuntimeWarning: Mean of empty slice\n",
      "  post_weights = np.nanmean(samples1, axis=0)\n"
     ]
    },
    {
     "name": "stdout",
     "output_type": "stream",
     "text": [
      "binary comparisons\n",
      "0.75\n",
      "Training Set Value: 40, Eta: 1.8329807108324339, Fold: 2 of range(0, 5)\n",
      "Running half-ridge regression...\n",
      "Half ridge regression rejection sampling took 0.0379939079284668 seconds\n",
      "half-ridge coefficients\n",
      "{'Age': 0.26411286825605296, 'Blast Furnace Slag': 0.7180425679550104, 'Cement': 0.8562186382590352, 'Coarse Aggregate': 0.013375601031855183, 'Fine Aggregate': 0.15217479259753147, 'Fly Ash': 0.359924432588782, 'Superplasticizer': -0.010650802506868876, 'Water': -0.20026591638192834, 'intercept': 0}\n"
     ]
    },
    {
     "name": "stderr",
     "output_type": "stream",
     "text": [
      "/workspaces/codespaces-jupyter/helpers/half_ridge.py:149: RuntimeWarning: Mean of empty slice\n",
      "  post_weights = np.nanmean(samples1, axis=0)\n"
     ]
    },
    {
     "name": "stdout",
     "output_type": "stream",
     "text": [
      "binary comparisons\n",
      "0.588\n",
      "Training Set Value: 40, Eta: 1.8329807108324339, Fold: 3 of range(0, 5)\n",
      "Running half-ridge regression...\n",
      "Half ridge regression rejection sampling took 0.038675546646118164 seconds\n",
      "half-ridge coefficients\n",
      "{'Age': 0.5537868976904456, 'Blast Furnace Slag': 0.6697553877996266, 'Cement': 0.8451095984518151, 'Coarse Aggregate': 0.052097526324121866, 'Fine Aggregate': 0.2668062426577392, 'Fly Ash': 0.46838328921684047, 'Superplasticizer': -0.10980738805443922, 'Water': -0.3159887878165835, 'intercept': 0}\n"
     ]
    },
    {
     "name": "stderr",
     "output_type": "stream",
     "text": [
      "/workspaces/codespaces-jupyter/helpers/half_ridge.py:149: RuntimeWarning: Mean of empty slice\n",
      "  post_weights = np.nanmean(samples1, axis=0)\n"
     ]
    },
    {
     "name": "stdout",
     "output_type": "stream",
     "text": [
      "binary comparisons\n",
      "0.581\n",
      "Training Set Value: 40, Eta: 1.8329807108324339, Fold: 4 of range(0, 5)\n",
      "Running half-ridge regression...\n",
      "Half ridge regression rejection sampling took 0.03588390350341797 seconds\n",
      "half-ridge coefficients\n",
      "{'Age': 0.7191530647778376, 'Blast Furnace Slag': 0.7049779599296243, 'Cement': 0.7608740328568953, 'Coarse Aggregate': 0.22319670118733917, 'Fine Aggregate': 0.26708849828041936, 'Fly Ash': 0.3946796713543514, 'Superplasticizer': 0.11195779038729593, 'Water': 0.007941033576998888, 'intercept': 0}\n"
     ]
    },
    {
     "name": "stderr",
     "output_type": "stream",
     "text": [
      "/workspaces/codespaces-jupyter/helpers/half_ridge.py:149: RuntimeWarning: Mean of empty slice\n",
      "  post_weights = np.nanmean(samples1, axis=0)\n"
     ]
    },
    {
     "name": "stdout",
     "output_type": "stream",
     "text": [
      "binary comparisons\n",
      "0.611\n",
      "Training Set Value: 40, Eta: 5.455594781168514, Fold: 0 of range(0, 5)\n",
      "Running half-ridge regression...\n",
      "Half ridge regression rejection sampling took 0.03240656852722168 seconds\n",
      "half-ridge coefficients\n",
      "{'Age': 0.2564805924905889, 'Blast Furnace Slag': 1.0341260800149892, 'Cement': 1.1074504813419042, 'Coarse Aggregate': 0.48100460074573864, 'Fine Aggregate': 0.47561839836352754, 'Fly Ash': 0.5910186188974258, 'Superplasticizer': 0.0703221667393325, 'Water': 0.009890913896245057, 'intercept': 0}\n"
     ]
    },
    {
     "name": "stderr",
     "output_type": "stream",
     "text": [
      "/workspaces/codespaces-jupyter/helpers/half_ridge.py:149: RuntimeWarning: Mean of empty slice\n",
      "  post_weights = np.nanmean(samples1, axis=0)\n"
     ]
    },
    {
     "name": "stdout",
     "output_type": "stream",
     "text": [
      "binary comparisons\n",
      "0.514\n",
      "Training Set Value: 40, Eta: 5.455594781168514, Fold: 1 of range(0, 5)\n",
      "Running half-ridge regression...\n",
      "Half ridge regression rejection sampling took 0.03818917274475098 seconds\n",
      "half-ridge coefficients\n",
      "{'Age': 1.010205523181132, 'Blast Furnace Slag': 0.11116375980625477, 'Cement': 0.21455633226122406, 'Coarse Aggregate': -0.4038068282786668, 'Fine Aggregate': -0.33375147228216345, 'Fly Ash': 0.017750750183745855, 'Superplasticizer': -0.36046902975117506, 'Water': -1.0587908617477166, 'intercept': 0}\n"
     ]
    },
    {
     "name": "stderr",
     "output_type": "stream",
     "text": [
      "/workspaces/codespaces-jupyter/helpers/half_ridge.py:149: RuntimeWarning: Mean of empty slice\n",
      "  post_weights = np.nanmean(samples1, axis=0)\n"
     ]
    },
    {
     "name": "stdout",
     "output_type": "stream",
     "text": [
      "binary comparisons\n",
      "0.739\n",
      "Training Set Value: 40, Eta: 5.455594781168514, Fold: 2 of range(0, 5)\n",
      "Running half-ridge regression...\n",
      "Half ridge regression rejection sampling took 0.03332376480102539 seconds\n",
      "half-ridge coefficients\n",
      "{'Age': 0.26556939630774995, 'Blast Furnace Slag': 0.7266992525438131, 'Cement': 0.8669667307301293, 'Coarse Aggregate': 0.01821272816086214, 'Fine Aggregate': 0.16260105007694264, 'Fly Ash': 0.3681528764948436, 'Superplasticizer': -0.012724441214046353, 'Water': -0.19370304075836398, 'intercept': 0}\n",
      "binary comparisons\n",
      "0.569\n",
      "Training Set Value: 40, Eta: 5.455594781168514, Fold: 3 of range(0, 5)\n"
     ]
    },
    {
     "name": "stderr",
     "output_type": "stream",
     "text": [
      "/workspaces/codespaces-jupyter/helpers/half_ridge.py:149: RuntimeWarning: Mean of empty slice\n",
      "  post_weights = np.nanmean(samples1, axis=0)\n"
     ]
    },
    {
     "name": "stdout",
     "output_type": "stream",
     "text": [
      "Running half-ridge regression...\n",
      "Half ridge regression rejection sampling took 0.03245091438293457 seconds\n",
      "half-ridge coefficients\n",
      "{'Age': 0.555622723955409, 'Blast Furnace Slag': 0.6848425724718011, 'Cement': 0.8614845341512638, 'Coarse Aggregate': 0.060978913432221615, 'Fine Aggregate': 0.2760376736427025, 'Fly Ash': 0.4833895889971171, 'Superplasticizer': -0.11231888026681416, 'Water': -0.3099676494773003, 'intercept': 0}\n"
     ]
    },
    {
     "name": "stderr",
     "output_type": "stream",
     "text": [
      "/workspaces/codespaces-jupyter/helpers/half_ridge.py:149: RuntimeWarning: Mean of empty slice\n",
      "  post_weights = np.nanmean(samples1, axis=0)\n"
     ]
    },
    {
     "name": "stdout",
     "output_type": "stream",
     "text": [
      "binary comparisons\n",
      "0.586\n",
      "Training Set Value: 40, Eta: 5.455594781168514, Fold: 4 of range(0, 5)\n",
      "Running half-ridge regression...\n",
      "Half ridge regression rejection sampling took 0.03653407096862793 seconds\n",
      "half-ridge coefficients\n",
      "{'Age': 0.7210817336982681, 'Blast Furnace Slag': 0.7168847406490477, 'Cement': 0.7726387129338638, 'Coarse Aggregate': 0.23156234893125122, 'Fine Aggregate': 0.27644399257479074, 'Fly Ash': 0.4045540365581266, 'Superplasticizer': 0.1121772938916473, 'Water': 0.01501673491534239, 'intercept': 0}\n"
     ]
    },
    {
     "name": "stderr",
     "output_type": "stream",
     "text": [
      "/workspaces/codespaces-jupyter/helpers/half_ridge.py:149: RuntimeWarning: Mean of empty slice\n",
      "  post_weights = np.nanmean(samples1, axis=0)\n"
     ]
    },
    {
     "name": "stdout",
     "output_type": "stream",
     "text": [
      "binary comparisons\n",
      "0.579\n",
      "Training Set Value: 40, Eta: 16.23776739188721, Fold: 0 of range(0, 5)\n",
      "Running half-ridge regression...\n",
      "Half ridge regression rejection sampling took 0.032137155532836914 seconds\n",
      "half-ridge coefficients\n",
      "{'Age': 0.25652551887541697, 'Blast Furnace Slag': 1.0354417610520978, 'Cement': 1.1084860122082871, 'Coarse Aggregate': 0.4818661098510947, 'Fine Aggregate': 0.4765891272246842, 'Fly Ash': 0.5920936098932512, 'Superplasticizer': 0.07081511744934975, 'Water': 0.010878438744407604, 'intercept': 0}\n"
     ]
    },
    {
     "name": "stderr",
     "output_type": "stream",
     "text": [
      "/workspaces/codespaces-jupyter/helpers/half_ridge.py:149: RuntimeWarning: Mean of empty slice\n",
      "  post_weights = np.nanmean(samples1, axis=0)\n"
     ]
    },
    {
     "name": "stdout",
     "output_type": "stream",
     "text": [
      "binary comparisons\n",
      "0.516\n",
      "Training Set Value: 40, Eta: 16.23776739188721, Fold: 1 of range(0, 5)\n",
      "Running half-ridge regression...\n",
      "Half ridge regression rejection sampling took 0.03633737564086914 seconds\n",
      "half-ridge coefficients\n",
      "{'Age': 1.0097875179868763, 'Blast Furnace Slag': 0.11100784008758216, 'Cement': 0.21436741121544237, 'Coarse Aggregate': -0.4038520413012541, 'Fine Aggregate': -0.33374457183522194, 'Fly Ash': 0.017840389929424695, 'Superplasticizer': -0.36066212981826545, 'Water': -1.0592406872633895, 'intercept': 0}\n"
     ]
    },
    {
     "name": "stderr",
     "output_type": "stream",
     "text": [
      "/workspaces/codespaces-jupyter/helpers/half_ridge.py:149: RuntimeWarning: Mean of empty slice\n",
      "  post_weights = np.nanmean(samples1, axis=0)\n"
     ]
    },
    {
     "name": "stdout",
     "output_type": "stream",
     "text": [
      "binary comparisons\n",
      "0.735\n",
      "Training Set Value: 40, Eta: 16.23776739188721, Fold: 2 of range(0, 5)\n",
      "Running half-ridge regression...\n",
      "Half ridge regression rejection sampling took 0.03506636619567871 seconds\n",
      "half-ridge coefficients\n",
      "{'Age': 0.2653429907495673, 'Blast Furnace Slag': 0.7266390462528687, 'Cement': 0.8671355805834497, 'Coarse Aggregate': 0.018062794939260243, 'Fine Aggregate': 0.16230758454120672, 'Fly Ash': 0.36810464572148177, 'Superplasticizer': -0.01282403138895634, 'Water': -0.19385529468776172, 'intercept': 0}\n"
     ]
    },
    {
     "name": "stderr",
     "output_type": "stream",
     "text": [
      "/workspaces/codespaces-jupyter/helpers/half_ridge.py:149: RuntimeWarning: Mean of empty slice\n",
      "  post_weights = np.nanmean(samples1, axis=0)\n"
     ]
    },
    {
     "name": "stdout",
     "output_type": "stream",
     "text": [
      "binary comparisons\n",
      "0.573\n",
      "Training Set Value: 40, Eta: 16.23776739188721, Fold: 3 of range(0, 5)\n",
      "Running half-ridge regression...\n",
      "Half ridge regression rejection sampling took 0.03966116905212402 seconds\n",
      "half-ridge coefficients\n",
      "{'Age': 0.5556532815421628, 'Blast Furnace Slag': 0.6855119194747813, 'Cement': 0.86259991217042, 'Coarse Aggregate': 0.06166000325942764, 'Fine Aggregate': 0.2766884670529337, 'Fly Ash': 0.4842429757046187, 'Superplasticizer': -0.1123155420554563, 'Water': -0.30934807717485885, 'intercept': 0}\n"
     ]
    },
    {
     "name": "stderr",
     "output_type": "stream",
     "text": [
      "/workspaces/codespaces-jupyter/helpers/half_ridge.py:149: RuntimeWarning: Mean of empty slice\n",
      "  post_weights = np.nanmean(samples1, axis=0)\n"
     ]
    },
    {
     "name": "stdout",
     "output_type": "stream",
     "text": [
      "binary comparisons\n",
      "0.573\n",
      "Training Set Value: 40, Eta: 16.23776739188721, Fold: 4 of range(0, 5)\n",
      "Running half-ridge regression...\n",
      "Half ridge regression rejection sampling took 0.03215813636779785 seconds\n",
      "half-ridge coefficients\n",
      "{'Age': 0.7206532578456992, 'Blast Furnace Slag': 0.7168031670174254, 'Cement': 0.7726845295666525, 'Coarse Aggregate': 0.2310469888062581, 'Fine Aggregate': 0.27617503886378925, 'Fly Ash': 0.4044627254055166, 'Superplasticizer': 0.11181731398950044, 'Water': 0.014524421399255036, 'intercept': 0}\n"
     ]
    },
    {
     "name": "stderr",
     "output_type": "stream",
     "text": [
      "/workspaces/codespaces-jupyter/helpers/half_ridge.py:149: RuntimeWarning: Mean of empty slice\n",
      "  post_weights = np.nanmean(samples1, axis=0)\n"
     ]
    },
    {
     "name": "stdout",
     "output_type": "stream",
     "text": [
      "binary comparisons\n",
      "0.598\n",
      "Training Set Value: 40, Eta: 48.32930238571752, Fold: 0 of range(0, 5)\n",
      "Running half-ridge regression...\n",
      "Half ridge regression rejection sampling took 0.042331695556640625 seconds\n",
      "half-ridge coefficients\n",
      "{'Age': 0.25652354585021814, 'Blast Furnace Slag': 1.0350699575404376, 'Cement': 1.1080845843576712, 'Coarse Aggregate': 0.48162323526102985, 'Fine Aggregate': 0.47635043102806907, 'Fly Ash': 0.5917604037047346, 'Superplasticizer': 0.07079614135871114, 'Water': 0.010587147022421684, 'intercept': 0}\n",
      "binary comparisons\n",
      "0.505\n",
      "Training Set Value: 40, Eta: 48.32930238571752, Fold: 1 of range(0, 5)\n"
     ]
    },
    {
     "name": "stderr",
     "output_type": "stream",
     "text": [
      "/workspaces/codespaces-jupyter/helpers/half_ridge.py:149: RuntimeWarning: Mean of empty slice\n",
      "  post_weights = np.nanmean(samples1, axis=0)\n"
     ]
    },
    {
     "name": "stdout",
     "output_type": "stream",
     "text": [
      "Running half-ridge regression...\n",
      "Half ridge regression rejection sampling took 0.03769111633300781 seconds\n",
      "half-ridge coefficients\n",
      "{'Age': 1.0098800285585154, 'Blast Furnace Slag': 0.11104916819690722, 'Cement': 0.21448660435852174, 'Coarse Aggregate': -0.40381216051645596, 'Fine Aggregate': -0.333600740099462, 'Fly Ash': 0.01791263717835104, 'Superplasticizer': -0.36066345652444104, 'Water': -1.0591729763866187, 'intercept': 0}\n"
     ]
    },
    {
     "name": "stderr",
     "output_type": "stream",
     "text": [
      "/workspaces/codespaces-jupyter/helpers/half_ridge.py:149: RuntimeWarning: Mean of empty slice\n",
      "  post_weights = np.nanmean(samples1, axis=0)\n"
     ]
    },
    {
     "name": "stdout",
     "output_type": "stream",
     "text": [
      "binary comparisons\n",
      "0.763\n",
      "Training Set Value: 40, Eta: 48.32930238571752, Fold: 2 of range(0, 5)\n",
      "Running half-ridge regression...\n",
      "Half ridge regression rejection sampling took 0.05833315849304199 seconds\n",
      "half-ridge coefficients\n",
      "{'Age': 0.2653658411389027, 'Blast Furnace Slag': 0.7266591256334083, 'Cement': 0.8670282980253616, 'Coarse Aggregate': 0.018066535056961607, 'Fine Aggregate': 0.16216361264161092, 'Fly Ash': 0.36802464299705323, 'Superplasticizer': -0.012776748136315881, 'Water': -0.1939133689720569, 'intercept': 0}\n"
     ]
    },
    {
     "name": "stderr",
     "output_type": "stream",
     "text": [
      "/workspaces/codespaces-jupyter/helpers/half_ridge.py:149: RuntimeWarning: Mean of empty slice\n",
      "  post_weights = np.nanmean(samples1, axis=0)\n"
     ]
    },
    {
     "name": "stdout",
     "output_type": "stream",
     "text": [
      "binary comparisons\n",
      "0.596\n",
      "Training Set Value: 40, Eta: 48.32930238571752, Fold: 3 of range(0, 5)\n",
      "Running half-ridge regression...\n",
      "Half ridge regression rejection sampling took 0.03511810302734375 seconds\n",
      "half-ridge coefficients\n",
      "{'Age': 0.5556833422111717, 'Blast Furnace Slag': 0.6855747233094306, 'Cement': 0.8626470678052552, 'Coarse Aggregate': 0.061639274738419514, 'Fine Aggregate': 0.27666263795190355, 'Fly Ash': 0.4842775137460295, 'Superplasticizer': -0.1123415598508137, 'Water': -0.3092168411780736, 'intercept': 0}\n"
     ]
    },
    {
     "name": "stderr",
     "output_type": "stream",
     "text": [
      "/workspaces/codespaces-jupyter/helpers/half_ridge.py:149: RuntimeWarning: Mean of empty slice\n",
      "  post_weights = np.nanmean(samples1, axis=0)\n"
     ]
    },
    {
     "name": "stdout",
     "output_type": "stream",
     "text": [
      "binary comparisons\n",
      "0.591\n",
      "Training Set Value: 40, Eta: 48.32930238571752, Fold: 4 of range(0, 5)\n",
      "Running half-ridge regression...\n",
      "Half ridge regression rejection sampling took 0.06408119201660156 seconds\n",
      "half-ridge coefficients\n",
      "{'Age': 0.7207104781474926, 'Blast Furnace Slag': 0.7168713097046676, 'Cement': 0.7727231194946826, 'Coarse Aggregate': 0.23123293652728266, 'Fine Aggregate': 0.2763148996878562, 'Fly Ash': 0.40453320950314964, 'Superplasticizer': 0.11193634460411452, 'Water': 0.01467917896173944, 'intercept': 0}\n"
     ]
    },
    {
     "name": "stderr",
     "output_type": "stream",
     "text": [
      "/workspaces/codespaces-jupyter/helpers/half_ridge.py:149: RuntimeWarning: Mean of empty slice\n",
      "  post_weights = np.nanmean(samples1, axis=0)\n"
     ]
    },
    {
     "name": "stdout",
     "output_type": "stream",
     "text": [
      "binary comparisons\n",
      "0.592\n",
      "Training Set Value: 40, Eta: 143.8449888287663, Fold: 0 of range(0, 5)\n",
      "Running half-ridge regression...\n",
      "Half ridge regression rejection sampling took 0.04171490669250488 seconds\n",
      "half-ridge coefficients\n",
      "{'Age': 0.256530097647444, 'Blast Furnace Slag': 1.035089137677755, 'Cement': 1.108094753636301, 'Coarse Aggregate': 0.4816290332888337, 'Fine Aggregate': 0.4763365974731187, 'Fly Ash': 0.5917932613482692, 'Superplasticizer': 0.07081838251219372, 'Water': 0.01059810346466123, 'intercept': 0}\n"
     ]
    },
    {
     "name": "stderr",
     "output_type": "stream",
     "text": [
      "/workspaces/codespaces-jupyter/helpers/half_ridge.py:149: RuntimeWarning: Mean of empty slice\n",
      "  post_weights = np.nanmean(samples1, axis=0)\n"
     ]
    },
    {
     "name": "stdout",
     "output_type": "stream",
     "text": [
      "binary comparisons\n",
      "0.491\n",
      "Training Set Value: 40, Eta: 143.8449888287663, Fold: 1 of range(0, 5)\n",
      "Running half-ridge regression...\n",
      "Half ridge regression rejection sampling took 0.03722715377807617 seconds\n",
      "half-ridge coefficients\n",
      "{'Age': 1.0098479582533204, 'Blast Furnace Slag': 0.11107483858931258, 'Cement': 0.21448231934704415, 'Coarse Aggregate': -0.40380355953017977, 'Fine Aggregate': -0.33358018650159094, 'Fly Ash': 0.01791461574292545, 'Superplasticizer': -0.3607068263175642, 'Water': -1.0592104041149728, 'intercept': 0}\n"
     ]
    },
    {
     "name": "stderr",
     "output_type": "stream",
     "text": [
      "/workspaces/codespaces-jupyter/helpers/half_ridge.py:149: RuntimeWarning: Mean of empty slice\n",
      "  post_weights = np.nanmean(samples1, axis=0)\n"
     ]
    },
    {
     "name": "stdout",
     "output_type": "stream",
     "text": [
      "binary comparisons\n",
      "0.734\n",
      "Training Set Value: 40, Eta: 143.8449888287663, Fold: 2 of range(0, 5)\n",
      "Running half-ridge regression...\n",
      "Half ridge regression rejection sampling took 0.0328218936920166 seconds\n",
      "half-ridge coefficients\n",
      "{'Age': 0.2653779041411046, 'Blast Furnace Slag': 0.7266188992900053, 'Cement': 0.8670233224168702, 'Coarse Aggregate': 0.018064874235400083, 'Fine Aggregate': 0.1621864336735389, 'Fly Ash': 0.36799591115679015, 'Superplasticizer': -0.012754797752599134, 'Water': -0.193914349901384, 'intercept': 0}\n"
     ]
    },
    {
     "name": "stderr",
     "output_type": "stream",
     "text": [
      "/workspaces/codespaces-jupyter/helpers/half_ridge.py:149: RuntimeWarning: Mean of empty slice\n",
      "  post_weights = np.nanmean(samples1, axis=0)\n"
     ]
    },
    {
     "name": "stdout",
     "output_type": "stream",
     "text": [
      "binary comparisons\n",
      "0.587\n",
      "Training Set Value: 40, Eta: 143.8449888287663, Fold: 3 of range(0, 5)\n",
      "Running half-ridge regression...\n",
      "Half ridge regression rejection sampling took 0.03235435485839844 seconds\n",
      "half-ridge coefficients\n",
      "{'Age': 0.5556625994139053, 'Blast Furnace Slag': 0.685539653853201, 'Cement': 0.8626071351664366, 'Coarse Aggregate': 0.061602849022072366, 'Fine Aggregate': 0.27666594529192234, 'Fly Ash': 0.4842292830028534, 'Superplasticizer': -0.11234757053685984, 'Water': -0.30925623913675077, 'intercept': 0}\n"
     ]
    },
    {
     "name": "stderr",
     "output_type": "stream",
     "text": [
      "/workspaces/codespaces-jupyter/helpers/half_ridge.py:149: RuntimeWarning: Mean of empty slice\n",
      "  post_weights = np.nanmean(samples1, axis=0)\n"
     ]
    },
    {
     "name": "stdout",
     "output_type": "stream",
     "text": [
      "binary comparisons\n",
      "0.585\n",
      "Training Set Value: 40, Eta: 143.8449888287663, Fold: 4 of range(0, 5)\n",
      "Running half-ridge regression...\n",
      "Half ridge regression rejection sampling took 0.03287863731384277 seconds\n",
      "half-ridge coefficients\n",
      "{'Age': 0.7207230065800624, 'Blast Furnace Slag': 0.7169058781149241, 'Cement': 0.7727697083726468, 'Coarse Aggregate': 0.2311802847424073, 'Fine Aggregate': 0.27632115774870547, 'Fly Ash': 0.4045762950378298, 'Superplasticizer': 0.11187763934814339, 'Water': 0.014669065011600303, 'intercept': 0}\n"
     ]
    },
    {
     "name": "stderr",
     "output_type": "stream",
     "text": [
      "/workspaces/codespaces-jupyter/helpers/half_ridge.py:149: RuntimeWarning: Mean of empty slice\n",
      "  post_weights = np.nanmean(samples1, axis=0)\n"
     ]
    },
    {
     "name": "stdout",
     "output_type": "stream",
     "text": [
      "binary comparisons\n",
      "0.598\n",
      "Training Set Value: 40, Eta: 428.1332398719387, Fold: 0 of range(0, 5)\n",
      "Running half-ridge regression...\n",
      "Half ridge regression rejection sampling took 0.03177499771118164 seconds\n",
      "half-ridge coefficients\n",
      "{'Age': 0.256538179661096, 'Blast Furnace Slag': 1.0351013149278747, 'Cement': 1.1081141743569263, 'Coarse Aggregate': 0.4816441873648387, 'Fine Aggregate': 0.4763518292801657, 'Fly Ash': 0.5918108757329386, 'Superplasticizer': 0.07081792147888495, 'Water': 0.010617338690147301, 'intercept': 0}\n"
     ]
    },
    {
     "name": "stderr",
     "output_type": "stream",
     "text": [
      "/workspaces/codespaces-jupyter/helpers/half_ridge.py:149: RuntimeWarning: Mean of empty slice\n",
      "  post_weights = np.nanmean(samples1, axis=0)\n"
     ]
    },
    {
     "name": "stdout",
     "output_type": "stream",
     "text": [
      "binary comparisons\n",
      "0.494\n",
      "Training Set Value: 40, Eta: 428.1332398719387, Fold: 1 of range(0, 5)\n",
      "Running half-ridge regression...\n",
      "Half ridge regression rejection sampling took 0.03265714645385742 seconds\n",
      "half-ridge coefficients\n",
      "{'Age': 1.0098427303128725, 'Blast Furnace Slag': 0.11111278615438742, 'Cement': 0.2145300510165791, 'Coarse Aggregate': -0.4037712526118733, 'Fine Aggregate': -0.3335394627331299, 'Fly Ash': 0.01795192254399449, 'Superplasticizer': -0.36069881526604664, 'Water': -1.0591756532242411, 'intercept': 0}\n"
     ]
    },
    {
     "name": "stderr",
     "output_type": "stream",
     "text": [
      "/workspaces/codespaces-jupyter/helpers/half_ridge.py:149: RuntimeWarning: Mean of empty slice\n",
      "  post_weights = np.nanmean(samples1, axis=0)\n"
     ]
    },
    {
     "name": "stdout",
     "output_type": "stream",
     "text": [
      "binary comparisons\n",
      "0.761\n",
      "Training Set Value: 40, Eta: 428.1332398719387, Fold: 2 of range(0, 5)\n",
      "Running half-ridge regression...\n",
      "Half ridge regression rejection sampling took 0.06516194343566895 seconds\n",
      "half-ridge coefficients\n",
      "{'Age': 0.2653767618278431, 'Blast Furnace Slag': 0.7266208200279476, 'Cement': 0.8670117743285635, 'Coarse Aggregate': 0.018056971762833954, 'Fine Aggregate': 0.16218193581638066, 'Fly Ash': 0.36799112897449704, 'Superplasticizer': -0.012762754506618419, 'Water': -0.19393049558609843, 'intercept': 0}\n"
     ]
    },
    {
     "name": "stderr",
     "output_type": "stream",
     "text": [
      "/workspaces/codespaces-jupyter/helpers/half_ridge.py:149: RuntimeWarning: Mean of empty slice\n",
      "  post_weights = np.nanmean(samples1, axis=0)\n"
     ]
    },
    {
     "name": "stdout",
     "output_type": "stream",
     "text": [
      "binary comparisons\n",
      "0.559\n",
      "Training Set Value: 40, Eta: 428.1332398719387, Fold: 3 of range(0, 5)\n",
      "Running half-ridge regression...\n",
      "Half ridge regression rejection sampling took 0.0661020278930664 seconds\n",
      "half-ridge coefficients\n",
      "{'Age': 0.5556544915054114, 'Blast Furnace Slag': 0.6855760116214935, 'Cement': 0.862624797264384, 'Coarse Aggregate': 0.061616893449740126, 'Fine Aggregate': 0.2766762848329615, 'Fly Ash': 0.4842521409900058, 'Superplasticizer': -0.11233977241319593, 'Water': -0.3092406741289442, 'intercept': 0}\n"
     ]
    },
    {
     "name": "stderr",
     "output_type": "stream",
     "text": [
      "/workspaces/codespaces-jupyter/helpers/half_ridge.py:149: RuntimeWarning: Mean of empty slice\n",
      "  post_weights = np.nanmean(samples1, axis=0)\n"
     ]
    },
    {
     "name": "stdout",
     "output_type": "stream",
     "text": [
      "binary comparisons\n",
      "0.599\n",
      "Training Set Value: 40, Eta: 428.1332398719387, Fold: 4 of range(0, 5)\n",
      "Running half-ridge regression...\n",
      "Half ridge regression rejection sampling took 0.04294228553771973 seconds\n",
      "half-ridge coefficients\n",
      "{'Age': 0.720714239686788, 'Blast Furnace Slag': 0.7169047982045744, 'Cement': 0.7727654832351039, 'Coarse Aggregate': 0.23117776100327792, 'Fine Aggregate': 0.27631964022141414, 'Fly Ash': 0.4045736966861672, 'Superplasticizer': 0.11188509036408699, 'Water': 0.014671853374770935, 'intercept': 0}\n"
     ]
    },
    {
     "name": "stderr",
     "output_type": "stream",
     "text": [
      "/workspaces/codespaces-jupyter/helpers/half_ridge.py:149: RuntimeWarning: Mean of empty slice\n",
      "  post_weights = np.nanmean(samples1, axis=0)\n"
     ]
    },
    {
     "name": "stdout",
     "output_type": "stream",
     "text": [
      "binary comparisons\n",
      "0.617\n",
      "Training Set Value: 40, Eta: 1274.2749857031322, Fold: 0 of range(0, 5)\n",
      "Running half-ridge regression...\n",
      "Half ridge regression rejection sampling took 0.0444948673248291 seconds\n",
      "half-ridge coefficients\n",
      "{'Age': 0.25653886149303834, 'Blast Furnace Slag': 1.035097708470413, 'Cement': 1.1081100480080097, 'Coarse Aggregate': 0.4816435190942906, 'Fine Aggregate': 0.4763468482497372, 'Fly Ash': 0.5918066290239835, 'Superplasticizer': 0.07081679236471833, 'Water': 0.01061059182002574, 'intercept': 0}\n"
     ]
    },
    {
     "name": "stderr",
     "output_type": "stream",
     "text": [
      "/workspaces/codespaces-jupyter/helpers/half_ridge.py:149: RuntimeWarning: Mean of empty slice\n",
      "  post_weights = np.nanmean(samples1, axis=0)\n"
     ]
    },
    {
     "name": "stdout",
     "output_type": "stream",
     "text": [
      "binary comparisons\n",
      "0.507\n",
      "Training Set Value: 40, Eta: 1274.2749857031322, Fold: 1 of range(0, 5)\n",
      "Running half-ridge regression...\n",
      "Half ridge regression rejection sampling took 0.033892154693603516 seconds\n",
      "half-ridge coefficients\n",
      "{'Age': 1.0098455060486313, 'Blast Furnace Slag': 0.11111595637466908, 'Cement': 0.2145272478011325, 'Coarse Aggregate': -0.40377157207246106, 'Fine Aggregate': -0.33353966541879637, 'Fly Ash': 0.01795467140082204, 'Superplasticizer': -0.36070068192483157, 'Water': -1.0591779651402844, 'intercept': 0}\n"
     ]
    },
    {
     "name": "stderr",
     "output_type": "stream",
     "text": [
      "/workspaces/codespaces-jupyter/helpers/half_ridge.py:149: RuntimeWarning: Mean of empty slice\n",
      "  post_weights = np.nanmean(samples1, axis=0)\n"
     ]
    },
    {
     "name": "stdout",
     "output_type": "stream",
     "text": [
      "binary comparisons\n",
      "0.754\n",
      "Training Set Value: 40, Eta: 1274.2749857031322, Fold: 2 of range(0, 5)\n",
      "Running half-ridge regression...\n",
      "Half ridge regression rejection sampling took 0.035994768142700195 seconds\n",
      "half-ridge coefficients\n",
      "{'Age': 0.26537999070477236, 'Blast Furnace Slag': 0.7266274239073838, 'Cement': 0.8670218145811333, 'Coarse Aggregate': 0.01806053930049405, 'Fine Aggregate': 0.162192822294258, 'Fly Ash': 0.36799975997296397, 'Superplasticizer': -0.012766793575581128, 'Water': -0.1939265623104287, 'intercept': 0}\n"
     ]
    },
    {
     "name": "stderr",
     "output_type": "stream",
     "text": [
      "/workspaces/codespaces-jupyter/helpers/half_ridge.py:149: RuntimeWarning: Mean of empty slice\n",
      "  post_weights = np.nanmean(samples1, axis=0)\n"
     ]
    },
    {
     "name": "stdout",
     "output_type": "stream",
     "text": [
      "binary comparisons\n",
      "0.594\n",
      "Training Set Value: 40, Eta: 1274.2749857031322, Fold: 3 of range(0, 5)\n",
      "Running half-ridge regression...\n",
      "Half ridge regression rejection sampling took 0.041759490966796875 seconds\n",
      "half-ridge coefficients\n",
      "{'Age': 0.5556565234287694, 'Blast Furnace Slag': 0.6855687660198082, 'Cement': 0.8626175427820318, 'Coarse Aggregate': 0.061611052141217204, 'Fine Aggregate': 0.27667175336410527, 'Fly Ash': 0.4842452062096829, 'Superplasticizer': -0.1123406258509709, 'Water': -0.30924667129374733, 'intercept': 0}\n"
     ]
    },
    {
     "name": "stderr",
     "output_type": "stream",
     "text": [
      "/workspaces/codespaces-jupyter/helpers/half_ridge.py:149: RuntimeWarning: Mean of empty slice\n",
      "  post_weights = np.nanmean(samples1, axis=0)\n"
     ]
    },
    {
     "name": "stdout",
     "output_type": "stream",
     "text": [
      "binary comparisons\n",
      "0.575\n",
      "Training Set Value: 40, Eta: 1274.2749857031322, Fold: 4 of range(0, 5)\n",
      "Running half-ridge regression...\n",
      "Half ridge regression rejection sampling took 0.03430652618408203 seconds\n",
      "half-ridge coefficients\n",
      "{'Age': 0.7207134302363469, 'Blast Furnace Slag': 0.716906669546692, 'Cement': 0.7727644894891341, 'Coarse Aggregate': 0.23117743453996148, 'Fine Aggregate': 0.27631906895983865, 'Fly Ash': 0.404572649564374, 'Superplasticizer': 0.1118853333769398, 'Water': 0.014671393694879992, 'intercept': 0}\n"
     ]
    },
    {
     "name": "stderr",
     "output_type": "stream",
     "text": [
      "/workspaces/codespaces-jupyter/helpers/half_ridge.py:149: RuntimeWarning: Mean of empty slice\n",
      "  post_weights = np.nanmean(samples1, axis=0)\n"
     ]
    },
    {
     "name": "stdout",
     "output_type": "stream",
     "text": [
      "binary comparisons\n",
      "0.62\n",
      "Training Set Value: 40, Eta: 3792.690190732246, Fold: 0 of range(0, 5)\n",
      "Running half-ridge regression...\n",
      "Half ridge regression rejection sampling took 0.03544902801513672 seconds\n",
      "half-ridge coefficients\n",
      "{'Age': 0.2565394850274101, 'Blast Furnace Slag': 1.0350989537836477, 'Cement': 1.1081094974380516, 'Coarse Aggregate': 0.4816452728845978, 'Fine Aggregate': 0.4763486032632702, 'Fly Ash': 0.5918072847770491, 'Superplasticizer': 0.07081730188699319, 'Water': 0.010611979101971668, 'intercept': 0}\n",
      "binary comparisons\n",
      "0.504\n",
      "Training Set Value: 40, Eta: 3792.690190732246, Fold: 1 of range(0, 5)\n"
     ]
    },
    {
     "name": "stderr",
     "output_type": "stream",
     "text": [
      "/workspaces/codespaces-jupyter/helpers/half_ridge.py:149: RuntimeWarning: Mean of empty slice\n",
      "  post_weights = np.nanmean(samples1, axis=0)\n"
     ]
    },
    {
     "name": "stdout",
     "output_type": "stream",
     "text": [
      "Running half-ridge regression...\n",
      "Half ridge regression rejection sampling took 0.03317761421203613 seconds\n",
      "half-ridge coefficients\n",
      "{'Age': 1.0098463416104264, 'Blast Furnace Slag': 0.1111154140153634, 'Cement': 0.21452705382173656, 'Coarse Aggregate': -0.4037716247538357, 'Fine Aggregate': -0.33353991720922355, 'Fly Ash': 0.017953706910343245, 'Superplasticizer': -0.36069925923015, 'Water': -1.0591751377847864, 'intercept': 0}\n"
     ]
    },
    {
     "name": "stderr",
     "output_type": "stream",
     "text": [
      "/workspaces/codespaces-jupyter/helpers/half_ridge.py:149: RuntimeWarning: Mean of empty slice\n",
      "  post_weights = np.nanmean(samples1, axis=0)\n"
     ]
    },
    {
     "name": "stdout",
     "output_type": "stream",
     "text": [
      "binary comparisons\n",
      "0.766\n",
      "Training Set Value: 40, Eta: 3792.690190732246, Fold: 2 of range(0, 5)\n",
      "Running half-ridge regression...\n",
      "Half ridge regression rejection sampling took 0.038782358169555664 seconds\n",
      "half-ridge coefficients\n",
      "{'Age': 0.26537913781401234, 'Blast Furnace Slag': 0.7266272842605174, 'Cement': 0.8670229433758695, 'Coarse Aggregate': 0.01806130762126045, 'Fine Aggregate': 0.16219400023607974, 'Fly Ash': 0.36799936404987627, 'Superplasticizer': -0.01276440529312613, 'Water': -0.19392265420635965, 'intercept': 0}\n"
     ]
    },
    {
     "name": "stderr",
     "output_type": "stream",
     "text": [
      "/workspaces/codespaces-jupyter/helpers/half_ridge.py:149: RuntimeWarning: Mean of empty slice\n",
      "  post_weights = np.nanmean(samples1, axis=0)\n"
     ]
    },
    {
     "name": "stdout",
     "output_type": "stream",
     "text": [
      "binary comparisons\n",
      "0.596\n",
      "Training Set Value: 40, Eta: 3792.690190732246, Fold: 3 of range(0, 5)\n",
      "Running half-ridge regression...\n",
      "Half ridge regression rejection sampling took 0.03390932083129883 seconds\n",
      "half-ridge coefficients\n",
      "{'Age': 0.5556568175693011, 'Blast Furnace Slag': 0.6855706049842151, 'Cement': 0.8626182923665878, 'Coarse Aggregate': 0.06161140115297861, 'Fine Aggregate': 0.2766725655228394, 'Fly Ash': 0.4842472837500685, 'Superplasticizer': -0.11234091708951241, 'Water': -0.30924661865134845, 'intercept': 0}\n"
     ]
    },
    {
     "name": "stderr",
     "output_type": "stream",
     "text": [
      "/workspaces/codespaces-jupyter/helpers/half_ridge.py:149: RuntimeWarning: Mean of empty slice\n",
      "  post_weights = np.nanmean(samples1, axis=0)\n"
     ]
    },
    {
     "name": "stdout",
     "output_type": "stream",
     "text": [
      "binary comparisons\n",
      "0.617\n",
      "Training Set Value: 40, Eta: 3792.690190732246, Fold: 4 of range(0, 5)\n",
      "Running half-ridge regression...\n",
      "Half ridge regression rejection sampling took 0.03397727012634277 seconds\n",
      "half-ridge coefficients\n",
      "{'Age': 0.7207132666001301, 'Blast Furnace Slag': 0.7169085448264284, 'Cement': 0.7727672295222149, 'Coarse Aggregate': 0.23117711038481842, 'Fine Aggregate': 0.27632115196613016, 'Fly Ash': 0.40457401728187026, 'Superplasticizer': 0.1118845294687239, 'Water': 0.014672200955766745, 'intercept': 0}\n"
     ]
    },
    {
     "name": "stderr",
     "output_type": "stream",
     "text": [
      "/workspaces/codespaces-jupyter/helpers/half_ridge.py:149: RuntimeWarning: Mean of empty slice\n",
      "  post_weights = np.nanmean(samples1, axis=0)\n"
     ]
    },
    {
     "name": "stdout",
     "output_type": "stream",
     "text": [
      "binary comparisons\n",
      "0.598\n",
      "Training Set Value: 40, Eta: 11288.378916846883, Fold: 0 of range(0, 5)\n",
      "Running half-ridge regression...\n",
      "Half ridge regression rejection sampling took 0.04112100601196289 seconds\n",
      "half-ridge coefficients\n",
      "{'Age': 0.25653927299909784, 'Blast Furnace Slag': 1.0350983795874888, 'Cement': 1.10810953225204, 'Coarse Aggregate': 0.48164527510669747, 'Fine Aggregate': 0.47634829535662304, 'Fly Ash': 0.5918069533945254, 'Superplasticizer': 0.07081722892632998, 'Water': 0.010611684573101172, 'intercept': 0}\n"
     ]
    },
    {
     "name": "stderr",
     "output_type": "stream",
     "text": [
      "/workspaces/codespaces-jupyter/helpers/half_ridge.py:149: RuntimeWarning: Mean of empty slice\n",
      "  post_weights = np.nanmean(samples1, axis=0)\n"
     ]
    },
    {
     "name": "stdout",
     "output_type": "stream",
     "text": [
      "binary comparisons\n",
      "0.488\n",
      "Training Set Value: 40, Eta: 11288.378916846883, Fold: 1 of range(0, 5)\n",
      "Running half-ridge regression...\n",
      "Half ridge regression rejection sampling took 0.05800986289978027 seconds\n",
      "half-ridge coefficients\n",
      "{'Age': 1.0098462352432895, 'Blast Furnace Slag': 0.11111464115533624, 'Cement': 0.21452641584911677, 'Coarse Aggregate': -0.4037723066063185, 'Fine Aggregate': -0.33354057338146825, 'Fly Ash': 0.017952976420199836, 'Superplasticizer': -0.3606995455067022, 'Water': -1.0591761460558595, 'intercept': 0}\n"
     ]
    },
    {
     "name": "stderr",
     "output_type": "stream",
     "text": [
      "/workspaces/codespaces-jupyter/helpers/half_ridge.py:149: RuntimeWarning: Mean of empty slice\n",
      "  post_weights = np.nanmean(samples1, axis=0)\n"
     ]
    },
    {
     "name": "stdout",
     "output_type": "stream",
     "text": [
      "binary comparisons\n",
      "0.756\n",
      "Training Set Value: 40, Eta: 11288.378916846883, Fold: 2 of range(0, 5)\n",
      "Running half-ridge regression...\n",
      "Half ridge regression rejection sampling took 0.06526303291320801 seconds\n",
      "half-ridge coefficients\n",
      "{'Age': 0.26537957197339884, 'Blast Furnace Slag': 0.7266271612363098, 'Cement': 0.8670225548378989, 'Coarse Aggregate': 0.018061541326973143, 'Fine Aggregate': 0.16219375554706775, 'Fly Ash': 0.3679996126011996, 'Superplasticizer': -0.01276427464772487, 'Water': -0.1939231523701372, 'intercept': 0}\n",
      "binary comparisons\n",
      "0.589\n",
      "Training Set Value: 40, Eta: 11288.378916846883, Fold: 3 of range(0, 5)\n"
     ]
    },
    {
     "name": "stderr",
     "output_type": "stream",
     "text": [
      "/workspaces/codespaces-jupyter/helpers/half_ridge.py:149: RuntimeWarning: Mean of empty slice\n",
      "  post_weights = np.nanmean(samples1, axis=0)\n"
     ]
    },
    {
     "name": "stdout",
     "output_type": "stream",
     "text": [
      "Running half-ridge regression...\n",
      "Half ridge regression rejection sampling took 0.04426741600036621 seconds\n",
      "half-ridge coefficients\n",
      "{'Age': 0.5556569109451712, 'Blast Furnace Slag': 0.685571143631177, 'Cement': 0.8626189480331453, 'Coarse Aggregate': 0.06161193569090687, 'Fine Aggregate': 0.27667297009520214, 'Fly Ash': 0.4842476716697019, 'Superplasticizer': -0.11234020132670716, 'Water': -0.30924542298666186, 'intercept': 0}\n"
     ]
    },
    {
     "name": "stderr",
     "output_type": "stream",
     "text": [
      "/workspaces/codespaces-jupyter/helpers/half_ridge.py:149: RuntimeWarning: Mean of empty slice\n",
      "  post_weights = np.nanmean(samples1, axis=0)\n"
     ]
    },
    {
     "name": "stdout",
     "output_type": "stream",
     "text": [
      "binary comparisons\n",
      "0.595\n",
      "Training Set Value: 40, Eta: 11288.378916846883, Fold: 4 of range(0, 5)\n",
      "Running half-ridge regression...\n",
      "Half ridge regression rejection sampling took 0.0641336441040039 seconds\n",
      "half-ridge coefficients\n",
      "{'Age': 0.7207130018782332, 'Blast Furnace Slag': 0.716908135941872, 'Cement': 0.7727667963201973, 'Coarse Aggregate': 0.23117750154706482, 'Fine Aggregate': 0.2763209729563583, 'Fly Ash': 0.40457381767626527, 'Superplasticizer': 0.11188505953556979, 'Water': 0.014672184181621112, 'intercept': 0}\n"
     ]
    },
    {
     "name": "stderr",
     "output_type": "stream",
     "text": [
      "/workspaces/codespaces-jupyter/helpers/half_ridge.py:149: RuntimeWarning: Mean of empty slice\n",
      "  post_weights = np.nanmean(samples1, axis=0)\n"
     ]
    },
    {
     "name": "stdout",
     "output_type": "stream",
     "text": [
      "binary comparisons\n",
      "0.592\n",
      "Training Set Value: 40, Eta: 33598.18286283774, Fold: 0 of range(0, 5)\n",
      "Running half-ridge regression...\n",
      "Half ridge regression rejection sampling took 0.0437772274017334 seconds\n",
      "half-ridge coefficients\n",
      "{'Age': 0.2565393704091702, 'Blast Furnace Slag': 1.0350987244837793, 'Cement': 1.1081096311134493, 'Coarse Aggregate': 0.48164528396608164, 'Fine Aggregate': 0.4763485212022344, 'Fly Ash': 0.5918072354017387, 'Superplasticizer': 0.07081697053596259, 'Water': 0.010611572187978658, 'intercept': 0}\n"
     ]
    },
    {
     "name": "stderr",
     "output_type": "stream",
     "text": [
      "/workspaces/codespaces-jupyter/helpers/half_ridge.py:149: RuntimeWarning: Mean of empty slice\n",
      "  post_weights = np.nanmean(samples1, axis=0)\n"
     ]
    },
    {
     "name": "stdout",
     "output_type": "stream",
     "text": [
      "binary comparisons\n",
      "0.475\n",
      "Training Set Value: 40, Eta: 33598.18286283774, Fold: 1 of range(0, 5)\n",
      "Running half-ridge regression...\n",
      "Half ridge regression rejection sampling took 0.03464627265930176 seconds\n",
      "half-ridge coefficients\n",
      "{'Age': 1.009845998150236, 'Blast Furnace Slag': 0.1111146576136209, 'Cement': 0.21452640045019117, 'Coarse Aggregate': -0.4037722515558693, 'Fine Aggregate': -0.3335405947509032, 'Fly Ash': 0.017953004585499616, 'Superplasticizer': -0.3606995510260029, 'Water': -1.0591761698422066, 'intercept': 0}\n",
      "binary comparisons\n",
      "0.733\n",
      "Training Set Value: 40, Eta: 33598.18286283774, Fold: 2 of range(0, 5)\n"
     ]
    },
    {
     "name": "stderr",
     "output_type": "stream",
     "text": [
      "/workspaces/codespaces-jupyter/helpers/half_ridge.py:149: RuntimeWarning: Mean of empty slice\n",
      "  post_weights = np.nanmean(samples1, axis=0)\n"
     ]
    },
    {
     "name": "stdout",
     "output_type": "stream",
     "text": [
      "Running half-ridge regression...\n",
      "Half ridge regression rejection sampling took 0.036019325256347656 seconds\n",
      "half-ridge coefficients\n",
      "{'Age': 0.26537953042283674, 'Blast Furnace Slag': 0.7266273013469686, 'Cement': 0.8670226844595852, 'Coarse Aggregate': 0.018061602076259068, 'Fine Aggregate': 0.16219390924370816, 'Fly Ash': 0.3679996476008855, 'Superplasticizer': -0.012764216060033015, 'Water': -0.19392279396450926, 'intercept': 0}\n"
     ]
    },
    {
     "name": "stderr",
     "output_type": "stream",
     "text": [
      "/workspaces/codespaces-jupyter/helpers/half_ridge.py:149: RuntimeWarning: Mean of empty slice\n",
      "  post_weights = np.nanmean(samples1, axis=0)\n"
     ]
    },
    {
     "name": "stdout",
     "output_type": "stream",
     "text": [
      "binary comparisons\n",
      "0.568\n",
      "Training Set Value: 40, Eta: 33598.18286283774, Fold: 3 of range(0, 5)\n",
      "Running half-ridge regression...\n",
      "Half ridge regression rejection sampling took 0.0369260311126709 seconds\n",
      "half-ridge coefficients\n",
      "{'Age': 0.5556568611998839, 'Blast Furnace Slag': 0.6855712599806865, 'Cement': 0.8626191279226509, 'Coarse Aggregate': 0.061612028424777865, 'Fine Aggregate': 0.2766730607175724, 'Fly Ash': 0.4842478199862413, 'Superplasticizer': -0.1123402764489916, 'Water': -0.3092454223944877, 'intercept': 0}\n"
     ]
    },
    {
     "name": "stderr",
     "output_type": "stream",
     "text": [
      "/workspaces/codespaces-jupyter/helpers/half_ridge.py:149: RuntimeWarning: Mean of empty slice\n",
      "  post_weights = np.nanmean(samples1, axis=0)\n"
     ]
    },
    {
     "name": "stdout",
     "output_type": "stream",
     "text": [
      "binary comparisons\n",
      "0.586\n",
      "Training Set Value: 40, Eta: 33598.18286283774, Fold: 4 of range(0, 5)\n",
      "Running half-ridge regression...\n",
      "Half ridge regression rejection sampling took 0.037116289138793945 seconds\n",
      "half-ridge coefficients\n",
      "{'Age': 0.7207129546230321, 'Blast Furnace Slag': 0.7169080666471913, 'Cement': 0.772766645646184, 'Coarse Aggregate': 0.23117729359019365, 'Fine Aggregate': 0.2763208944163993, 'Fly Ash': 0.4045738774855471, 'Superplasticizer': 0.1118848024004676, 'Water': 0.014672115364532183, 'intercept': 0}\n"
     ]
    },
    {
     "name": "stderr",
     "output_type": "stream",
     "text": [
      "/workspaces/codespaces-jupyter/helpers/half_ridge.py:149: RuntimeWarning: Mean of empty slice\n",
      "  post_weights = np.nanmean(samples1, axis=0)\n"
     ]
    },
    {
     "name": "stdout",
     "output_type": "stream",
     "text": [
      "binary comparisons\n",
      "0.598\n",
      "Training Set Value: 40, Eta: 100000.0, Fold: 0 of range(0, 5)\n",
      "Running half-ridge regression...\n",
      "Half ridge regression rejection sampling took 0.035225629806518555 seconds\n",
      "half-ridge coefficients\n",
      "{'Age': 0.2565393850838195, 'Blast Furnace Slag': 1.0350986654404268, 'Cement': 1.1081096316531829, 'Coarse Aggregate': 0.4816452784657918, 'Fine Aggregate': 0.47634848762489834, 'Fly Ash': 0.5918072076717865, 'Superplasticizer': 0.07081698466358986, 'Water': 0.010611580682343538, 'intercept': 0}\n",
      "binary comparisons\n",
      "0.507\n",
      "Training Set Value: 40, Eta: 100000.0, Fold: 1 of range(0, 5)\n"
     ]
    },
    {
     "name": "stderr",
     "output_type": "stream",
     "text": [
      "/workspaces/codespaces-jupyter/helpers/half_ridge.py:149: RuntimeWarning: Mean of empty slice\n",
      "  post_weights = np.nanmean(samples1, axis=0)\n"
     ]
    },
    {
     "name": "stdout",
     "output_type": "stream",
     "text": [
      "Running half-ridge regression...\n",
      "Half ridge regression rejection sampling took 0.05778074264526367 seconds\n",
      "half-ridge coefficients\n",
      "{'Age': 1.009846034688227, 'Blast Furnace Slag': 0.11111462067211171, 'Cement': 0.214526395845921, 'Coarse Aggregate': -0.40377228365868906, 'Fine Aggregate': -0.333540568047496, 'Fly Ash': 0.017952989280345166, 'Superplasticizer': -0.3606995194298373, 'Water': -1.0591760985067231, 'intercept': 0}\n"
     ]
    },
    {
     "name": "stderr",
     "output_type": "stream",
     "text": [
      "/workspaces/codespaces-jupyter/helpers/half_ridge.py:149: RuntimeWarning: Mean of empty slice\n",
      "  post_weights = np.nanmean(samples1, axis=0)\n"
     ]
    },
    {
     "name": "stdout",
     "output_type": "stream",
     "text": [
      "binary comparisons\n",
      "0.773\n",
      "Training Set Value: 40, Eta: 100000.0, Fold: 2 of range(0, 5)\n",
      "Running half-ridge regression...\n",
      "Half ridge regression rejection sampling took 0.056360721588134766 seconds\n",
      "half-ridge coefficients\n",
      "{'Age': 0.26537951296939655, 'Blast Furnace Slag': 0.7266272927759702, 'Cement': 0.8670226650840271, 'Coarse Aggregate': 0.018061545303677283, 'Fine Aggregate': 0.16219388431801315, 'Fly Ash': 0.36799961749279186, 'Superplasticizer': -0.012764272167289578, 'Water': -0.19392285818434088, 'intercept': 0}\n"
     ]
    },
    {
     "name": "stderr",
     "output_type": "stream",
     "text": [
      "/workspaces/codespaces-jupyter/helpers/half_ridge.py:149: RuntimeWarning: Mean of empty slice\n",
      "  post_weights = np.nanmean(samples1, axis=0)\n"
     ]
    },
    {
     "name": "stdout",
     "output_type": "stream",
     "text": [
      "binary comparisons\n",
      "0.611\n",
      "Training Set Value: 40, Eta: 100000.0, Fold: 3 of range(0, 5)\n",
      "Running half-ridge regression...\n",
      "Half ridge regression rejection sampling took 0.03249049186706543 seconds\n",
      "half-ridge coefficients\n",
      "{'Age': 0.5556568496519456, 'Blast Furnace Slag': 0.6855711448215207, 'Cement': 0.8626190073607635, 'Coarse Aggregate': 0.061611957246690496, 'Fine Aggregate': 0.27667299837294534, 'Fly Ash': 0.48424771911763487, 'Superplasticizer': -0.11234034080319955, 'Water': -0.30924551669359385, 'intercept': 0}\n"
     ]
    },
    {
     "name": "stderr",
     "output_type": "stream",
     "text": [
      "/workspaces/codespaces-jupyter/helpers/half_ridge.py:149: RuntimeWarning: Mean of empty slice\n",
      "  post_weights = np.nanmean(samples1, axis=0)\n"
     ]
    },
    {
     "name": "stdout",
     "output_type": "stream",
     "text": [
      "binary comparisons\n",
      "0.593\n",
      "Training Set Value: 40, Eta: 100000.0, Fold: 4 of range(0, 5)\n",
      "Running half-ridge regression...\n",
      "Half ridge regression rejection sampling took 0.032093048095703125 seconds\n",
      "half-ridge coefficients\n",
      "{'Age': 0.720712985506863, 'Blast Furnace Slag': 0.7169080182028358, 'Cement': 0.7727665788501951, 'Coarse Aggregate': 0.2311772887292491, 'Fine Aggregate': 0.2763208542431387, 'Fly Ash': 0.40457382811374065, 'Superplasticizer': 0.11188483803683663, 'Water': 0.0146720887817974, 'intercept': 0}\n"
     ]
    },
    {
     "name": "stderr",
     "output_type": "stream",
     "text": [
      "/workspaces/codespaces-jupyter/helpers/half_ridge.py:149: RuntimeWarning: Mean of empty slice\n",
      "  post_weights = np.nanmean(samples1, axis=0)\n"
     ]
    },
    {
     "name": "stdout",
     "output_type": "stream",
     "text": [
      "binary comparisons\n",
      "0.577\n",
      "Training Set Value: 40, Eta: inf, Fold: 0 of range(0, 5)\n",
      "Running half-ridge regression...\n",
      "Half ridge regression rejection sampling took 1.9311904907226562e-05 seconds\n",
      "half-ridge coefficients\n",
      "{'Age': -8.368345781889688e-17, 'Blast Furnace Slag': -1.5096186945043219e-16, 'Cement': 1.0000000000000002, 'Coarse Aggregate': -4.347242919660689e-16, 'Fine Aggregate': -3.3052802208565035e-16, 'Fly Ash': -5.041658298357918e-16, 'Superplasticizer': -5.602582774194621e-16, 'Water': -6.106312750029087e-17, 'intercept': 0}\n",
      "binary comparisons\n",
      "0.465\n",
      "Training Set Value: 40, Eta: inf, Fold: 1 of range(0, 5)\n",
      "Running half-ridge regression...\n",
      "Half ridge regression rejection sampling took 2.002716064453125e-05 seconds\n",
      "half-ridge coefficients\n",
      "{'Age': -8.368345781889688e-17, 'Blast Furnace Slag': -1.5096186945043219e-16, 'Cement': 1.0000000000000002, 'Coarse Aggregate': -4.347242919660689e-16, 'Fine Aggregate': -3.3052802208565035e-16, 'Fly Ash': -5.041658298357918e-16, 'Superplasticizer': -5.602582774194621e-16, 'Water': -6.106312750029087e-17, 'intercept': 0}\n",
      "binary comparisons\n",
      "0.464\n",
      "Training Set Value: 40, Eta: inf, Fold: 2 of range(0, 5)\n",
      "Running half-ridge regression...\n",
      "Half ridge regression rejection sampling took 5.412101745605469e-05 seconds\n",
      "half-ridge coefficients\n",
      "{'Age': -8.368345781889688e-17, 'Blast Furnace Slag': -1.5096186945043219e-16, 'Cement': 1.0000000000000002, 'Coarse Aggregate': -4.347242919660689e-16, 'Fine Aggregate': -3.3052802208565035e-16, 'Fly Ash': -5.041658298357918e-16, 'Superplasticizer': -5.602582774194621e-16, 'Water': -6.106312750029087e-17, 'intercept': 0}\n",
      "binary comparisons\n",
      "0.467\n",
      "Training Set Value: 40, Eta: inf, Fold: 3 of range(0, 5)\n",
      "Running half-ridge regression...\n",
      "Half ridge regression rejection sampling took 2.1696090698242188e-05 seconds\n",
      "half-ridge coefficients\n",
      "{'Age': -8.368345781889688e-17, 'Blast Furnace Slag': -1.5096186945043219e-16, 'Cement': 1.0000000000000002, 'Coarse Aggregate': -4.347242919660689e-16, 'Fine Aggregate': -3.3052802208565035e-16, 'Fly Ash': -5.041658298357918e-16, 'Superplasticizer': -5.602582774194621e-16, 'Water': -6.106312750029087e-17, 'intercept': 0}\n",
      "binary comparisons\n",
      "0.495\n",
      "Training Set Value: 40, Eta: inf, Fold: 4 of range(0, 5)\n",
      "Running half-ridge regression...\n",
      "Half ridge regression rejection sampling took 1.9550323486328125e-05 seconds\n",
      "half-ridge coefficients\n",
      "{'Age': -8.368345781889688e-17, 'Blast Furnace Slag': -1.5096186945043219e-16, 'Cement': 1.0000000000000002, 'Coarse Aggregate': -4.347242919660689e-16, 'Fine Aggregate': -3.3052802208565035e-16, 'Fly Ash': -5.041658298357918e-16, 'Superplasticizer': -5.602582774194621e-16, 'Water': -6.106312750029087e-17, 'intercept': 0}\n",
      "binary comparisons\n",
      "0.483\n",
      "Training Set Index: 2, Training Set Value: 160\n",
      "Training Set Value: 160, Eta: 0.0, Fold: 0 of range(0, 5)\n",
      "Running half-ridge regression...\n",
      "{'Cement': 0.7978845608028654, 'Superplasticizer': -0.7978845608028654, 'Age': -0.7978845608028654, 'Water': -0.7978845608028654, 'Fine Aggregate': -0.7978845608028654, 'Coarse Aggregate': -0.7978845608028654, 'Blast Furnace Slag': -0.7978845608028654, 'Fly Ash': -0.7978845608028654}\n",
      "Half ridge regression rejection sampling took 5.745887756347656e-05 seconds\n",
      "half-ridge coefficients\n",
      "{'Age': -0.7978845608028654, 'Blast Furnace Slag': -0.7978845608028654, 'Cement': 0.7978845608028654, 'Coarse Aggregate': -0.7978845608028654, 'Fine Aggregate': -0.7978845608028654, 'Fly Ash': -0.7978845608028654, 'Superplasticizer': -0.7978845608028654, 'Water': -0.7978845608028654, 'intercept': 0}\n",
      "binary comparisons\n",
      "0.497\n",
      "Training Set Value: 160, Eta: 0.0, Fold: 1 of range(0, 5)\n",
      "Running half-ridge regression...\n",
      "{'Cement': 0.7978845608028654, 'Superplasticizer': -0.7978845608028654, 'Age': -0.7978845608028654, 'Water': -0.7978845608028654, 'Fine Aggregate': -0.7978845608028654, 'Coarse Aggregate': -0.7978845608028654, 'Blast Furnace Slag': -0.7978845608028654, 'Fly Ash': -0.7978845608028654}\n",
      "Half ridge regression rejection sampling took 0.00010180473327636719 seconds\n",
      "half-ridge coefficients\n",
      "{'Age': -0.7978845608028654, 'Blast Furnace Slag': -0.7978845608028654, 'Cement': 0.7978845608028654, 'Coarse Aggregate': -0.7978845608028654, 'Fine Aggregate': -0.7978845608028654, 'Fly Ash': -0.7978845608028654, 'Superplasticizer': -0.7978845608028654, 'Water': -0.7978845608028654, 'intercept': 0}\n",
      "binary comparisons\n",
      "0.451\n",
      "Training Set Value: 160, Eta: 0.0, Fold: 2 of range(0, 5)\n",
      "Running half-ridge regression...\n",
      "{'Cement': 0.7978845608028654, 'Superplasticizer': -0.7978845608028654, 'Age': -0.7978845608028654, 'Water': -0.7978845608028654, 'Fine Aggregate': -0.7978845608028654, 'Coarse Aggregate': -0.7978845608028654, 'Blast Furnace Slag': -0.7978845608028654, 'Fly Ash': -0.7978845608028654}\n",
      "Half ridge regression rejection sampling took 9.72747802734375e-05 seconds\n",
      "half-ridge coefficients\n",
      "{'Age': -0.7978845608028654, 'Blast Furnace Slag': -0.7978845608028654, 'Cement': 0.7978845608028654, 'Coarse Aggregate': -0.7978845608028654, 'Fine Aggregate': -0.7978845608028654, 'Fly Ash': -0.7978845608028654, 'Superplasticizer': -0.7978845608028654, 'Water': -0.7978845608028654, 'intercept': 0}\n",
      "binary comparisons\n",
      "0.449\n",
      "Training Set Value: 160, Eta: 0.0, Fold: 3 of range(0, 5)\n",
      "Running half-ridge regression...\n",
      "{'Cement': 0.7978845608028654, 'Superplasticizer': -0.7978845608028654, 'Age': -0.7978845608028654, 'Water': -0.7978845608028654, 'Fine Aggregate': -0.7978845608028654, 'Coarse Aggregate': -0.7978845608028654, 'Blast Furnace Slag': -0.7978845608028654, 'Fly Ash': -0.7978845608028654}\n",
      "Half ridge regression rejection sampling took 5.793571472167969e-05 seconds\n",
      "half-ridge coefficients\n",
      "{'Age': -0.7978845608028654, 'Blast Furnace Slag': -0.7978845608028654, 'Cement': 0.7978845608028654, 'Coarse Aggregate': -0.7978845608028654, 'Fine Aggregate': -0.7978845608028654, 'Fly Ash': -0.7978845608028654, 'Superplasticizer': -0.7978845608028654, 'Water': -0.7978845608028654, 'intercept': 0}\n",
      "binary comparisons\n",
      "0.479\n",
      "Training Set Value: 160, Eta: 0.0, Fold: 4 of range(0, 5)\n",
      "Running half-ridge regression...\n",
      "{'Cement': 0.7978845608028654, 'Superplasticizer': -0.7978845608028654, 'Age': -0.7978845608028654, 'Water': -0.7978845608028654, 'Fine Aggregate': -0.7978845608028654, 'Coarse Aggregate': -0.7978845608028654, 'Blast Furnace Slag': -0.7978845608028654, 'Fly Ash': -0.7978845608028654}\n",
      "Half ridge regression rejection sampling took 5.7697296142578125e-05 seconds\n",
      "half-ridge coefficients\n",
      "{'Age': -0.7978845608028654, 'Blast Furnace Slag': -0.7978845608028654, 'Cement': 0.7978845608028654, 'Coarse Aggregate': -0.7978845608028654, 'Fine Aggregate': -0.7978845608028654, 'Fly Ash': -0.7978845608028654, 'Superplasticizer': -0.7978845608028654, 'Water': -0.7978845608028654, 'intercept': 0}\n",
      "binary comparisons\n",
      "0.459\n",
      "Training Set Value: 160, Eta: 0.0001, Fold: 0 of range(0, 5)\n",
      "Running half-ridge regression...\n",
      "Half ridge regression rejection sampling took 0.0409388542175293 seconds\n",
      "half-ridge coefficients\n",
      "{'Age': -8.162946840689689e-09, 'Blast Furnace Slag': -8.485512434405677e-09, 'Cement': 8.380077521983522e-09, 'Coarse Aggregate': -8.399483018140934e-09, 'Fine Aggregate': -8.019181572889824e-09, 'Fly Ash': -8.07472632329204e-09, 'Superplasticizer': -7.80414306346837e-09, 'Water': -7.47124941983111e-09, 'intercept': 0}\n",
      "binary comparisons\n",
      "0.467\n",
      "Training Set Value: 160, Eta: 0.0001, Fold: 1 of range(0, 5)\n",
      "Running half-ridge regression...\n",
      "Half ridge regression rejection sampling took 0.03604531288146973 seconds\n",
      "half-ridge coefficients\n",
      "{'Age': -7.484305037710978e-09, 'Blast Furnace Slag': -8.319932159508974e-09, 'Cement': 7.757493779663223e-09, 'Coarse Aggregate': -7.982173484271421e-09, 'Fine Aggregate': -8.636557524794611e-09, 'Fly Ash': -8.339447493661637e-09, 'Superplasticizer': -7.9126334033471e-09, 'Water': -8.376923810688482e-09, 'intercept': 0}\n",
      "binary comparisons\n",
      "0.449\n",
      "Training Set Value: 160, Eta: 0.0001, Fold: 2 of range(0, 5)\n",
      "Running half-ridge regression...\n",
      "Half ridge regression rejection sampling took 0.03643298149108887 seconds\n",
      "half-ridge coefficients\n",
      "{'Age': -7.835874563342427e-09, 'Blast Furnace Slag': -8.767649634188884e-09, 'Cement': 8.09697897256548e-09, 'Coarse Aggregate': -7.929304384307675e-09, 'Fine Aggregate': -7.943303365070465e-09, 'Fly Ash': -8.175285319976683e-09, 'Superplasticizer': -8.23752717573798e-09, 'Water': -7.677746114343372e-09, 'intercept': 0}\n",
      "binary comparisons\n",
      "0.439\n",
      "Training Set Value: 160, Eta: 0.0001, Fold: 3 of range(0, 5)\n",
      "Running half-ridge regression...\n",
      "Half ridge regression rejection sampling took 0.04159402847290039 seconds\n",
      "half-ridge coefficients\n",
      "{'Age': -7.502533005117554e-09, 'Blast Furnace Slag': -7.398360279261771e-09, 'Cement': 7.770096199609722e-09, 'Coarse Aggregate': -7.640449722058957e-09, 'Fine Aggregate': -7.748029208246776e-09, 'Fly Ash': -8.15051021956811e-09, 'Superplasticizer': -7.238670933835943e-09, 'Water': -7.804080211060994e-09, 'intercept': 0}\n",
      "binary comparisons\n",
      "0.454\n",
      "Training Set Value: 160, Eta: 0.0001, Fold: 4 of range(0, 5)\n",
      "Running half-ridge regression...\n",
      "Half ridge regression rejection sampling took 0.04193282127380371 seconds\n",
      "half-ridge coefficients\n",
      "{'Age': -7.545780121447767e-09, 'Blast Furnace Slag': -7.993377759323629e-09, 'Cement': 7.879593543633843e-09, 'Coarse Aggregate': -8.162314213007319e-09, 'Fine Aggregate': -7.883315898307822e-09, 'Fly Ash': -8.313226490763485e-09, 'Superplasticizer': -8.309755462959563e-09, 'Water': -8.764132500993843e-09, 'intercept': 0}\n",
      "binary comparisons\n",
      "0.456\n",
      "Training Set Value: 160, Eta: 0.00029763514416313193, Fold: 0 of range(0, 5)\n",
      "Running half-ridge regression...\n",
      "Half ridge regression rejection sampling took 0.04085946083068848 seconds\n",
      "half-ridge coefficients\n",
      "{'Age': -6.893246651394114e-08, 'Blast Furnace Slag': -7.084810043743553e-08, 'Cement': 7.485423580518316e-08, 'Coarse Aggregate': -7.103748067263929e-08, 'Fine Aggregate': -7.03045003857758e-08, 'Fly Ash': -6.8847612520805e-08, 'Superplasticizer': -6.941750554971647e-08, 'Water': -7.237924872475043e-08, 'intercept': 0}\n",
      "binary comparisons\n",
      "0.483\n",
      "Training Set Value: 160, Eta: 0.00029763514416313193, Fold: 1 of range(0, 5)\n",
      "Running half-ridge regression...\n",
      "Half ridge regression rejection sampling took 0.034427642822265625 seconds\n",
      "half-ridge coefficients\n",
      "{'Age': -6.862532512266503e-08, 'Blast Furnace Slag': -7.096921697867044e-08, 'Cement': 7.29778273024236e-08, 'Coarse Aggregate': -7.006802490456602e-08, 'Fine Aggregate': -6.770305731444955e-08, 'Fly Ash': -7.303820937011394e-08, 'Superplasticizer': -6.685233792387605e-08, 'Water': -7.107587433012312e-08, 'intercept': 0}\n",
      "binary comparisons\n",
      "0.476\n",
      "Training Set Value: 160, Eta: 0.00029763514416313193, Fold: 2 of range(0, 5)\n",
      "Running half-ridge regression...\n",
      "Half ridge regression rejection sampling took 0.03461456298828125 seconds\n",
      "half-ridge coefficients\n",
      "{'Age': -7.468887574572345e-08, 'Blast Furnace Slag': -7.155463955678202e-08, 'Cement': 6.5795510125305e-08, 'Coarse Aggregate': -7.105605535608287e-08, 'Fine Aggregate': -6.696913263650129e-08, 'Fly Ash': -7.36843021190411e-08, 'Superplasticizer': -6.784169602988322e-08, 'Water': -7.355535746950532e-08, 'intercept': 0}\n",
      "binary comparisons\n",
      "0.471\n",
      "Training Set Value: 160, Eta: 0.00029763514416313193, Fold: 3 of range(0, 5)\n",
      "Running half-ridge regression...\n",
      "Half ridge regression rejection sampling took 0.03506159782409668 seconds\n",
      "half-ridge coefficients\n",
      "{'Age': -6.92566718219759e-08, 'Blast Furnace Slag': -6.985734300825984e-08, 'Cement': 7.074485259141215e-08, 'Coarse Aggregate': -7.467092226624103e-08, 'Fine Aggregate': -7.01368538861851e-08, 'Fly Ash': -6.972340560251473e-08, 'Superplasticizer': -6.895118651254131e-08, 'Water': -7.672268208177604e-08, 'intercept': 0}\n",
      "binary comparisons\n",
      "0.464\n",
      "Training Set Value: 160, Eta: 0.00029763514416313193, Fold: 4 of range(0, 5)\n",
      "Running half-ridge regression...\n",
      "Half ridge regression rejection sampling took 0.03736138343811035 seconds\n",
      "half-ridge coefficients\n",
      "{'Age': -7.04855191047647e-08, 'Blast Furnace Slag': -7.360882069042074e-08, 'Cement': 7.406531203660768e-08, 'Coarse Aggregate': -6.86401594143478e-08, 'Fine Aggregate': -6.811306809367441e-08, 'Fly Ash': -7.137990938237667e-08, 'Superplasticizer': -7.388095511695448e-08, 'Water': -7.195845616554253e-08, 'intercept': 0}\n",
      "binary comparisons\n",
      "0.522\n",
      "Training Set Value: 160, Eta: 0.0008858667904100823, Fold: 0 of range(0, 5)\n",
      "Running half-ridge regression...\n",
      "Half ridge regression rejection sampling took 0.04954123497009277 seconds\n",
      "half-ridge coefficients\n",
      "{'Age': -6.291002871362831e-07, 'Blast Furnace Slag': -6.04736011559295e-07, 'Cement': 6.312021002188723e-07, 'Coarse Aggregate': -6.098120148617518e-07, 'Fine Aggregate': -5.943325640408211e-07, 'Fly Ash': -6.48042519872223e-07, 'Superplasticizer': -6.082194375605176e-07, 'Water': -6.174198927287327e-07, 'intercept': 0}\n",
      "binary comparisons\n",
      "0.449\n",
      "Training Set Value: 160, Eta: 0.0008858667904100823, Fold: 1 of range(0, 5)\n",
      "Running half-ridge regression...\n",
      "Half ridge regression rejection sampling took 0.03444671630859375 seconds\n",
      "half-ridge coefficients\n",
      "{'Age': -6.004543672554392e-07, 'Blast Furnace Slag': -6.086644166646614e-07, 'Cement': 5.913401453267585e-07, 'Coarse Aggregate': -6.218003652090778e-07, 'Fine Aggregate': -6.081094540862147e-07, 'Fly Ash': -6.07876399766787e-07, 'Superplasticizer': -5.965541123442856e-07, 'Water': -6.312293940710727e-07, 'intercept': 0}\n",
      "binary comparisons\n",
      "0.469\n",
      "Training Set Value: 160, Eta: 0.0008858667904100823, Fold: 2 of range(0, 5)\n",
      "Running half-ridge regression...\n",
      "Half ridge regression rejection sampling took 0.03857779502868652 seconds\n",
      "half-ridge coefficients\n",
      "{'Age': -6.227657239802802e-07, 'Blast Furnace Slag': -6.556540356008069e-07, 'Cement': 6.317265736885129e-07, 'Coarse Aggregate': -6.452420752307651e-07, 'Fine Aggregate': -6.491397419743447e-07, 'Fly Ash': -6.149907354185681e-07, 'Superplasticizer': -6.41780479238448e-07, 'Water': -6.269136442932767e-07, 'intercept': 0}\n",
      "binary comparisons\n",
      "0.443\n",
      "Training Set Value: 160, Eta: 0.0008858667904100823, Fold: 3 of range(0, 5)\n",
      "Running half-ridge regression...\n",
      "Half ridge regression rejection sampling took 0.03658294677734375 seconds\n",
      "half-ridge coefficients\n",
      "{'Age': -6.371826745611344e-07, 'Blast Furnace Slag': -6.430001723451651e-07, 'Cement': 6.770475370360086e-07, 'Coarse Aggregate': -6.591189667436146e-07, 'Fine Aggregate': -6.062977462774413e-07, 'Fly Ash': -6.364349699349533e-07, 'Superplasticizer': -6.573571699337434e-07, 'Water': -5.979233912346102e-07, 'intercept': 0}\n",
      "binary comparisons\n",
      "0.443\n",
      "Training Set Value: 160, Eta: 0.0008858667904100823, Fold: 4 of range(0, 5)\n",
      "Running half-ridge regression...\n",
      "Half ridge regression rejection sampling took 0.03530311584472656 seconds\n",
      "half-ridge coefficients\n",
      "{'Age': -6.068358231244634e-07, 'Blast Furnace Slag': -6.495061409879559e-07, 'Cement': 6.164340309542425e-07, 'Coarse Aggregate': -6.401984425965615e-07, 'Fine Aggregate': -6.341504157444959e-07, 'Fly Ash': -6.059635433501024e-07, 'Superplasticizer': -6.063811650586741e-07, 'Water': -6.037819683545082e-07, 'intercept': 0}\n",
      "binary comparisons\n",
      "0.491\n",
      "Training Set Value: 160, Eta: 0.0026366508987303583, Fold: 0 of range(0, 5)\n",
      "Running half-ridge regression...\n",
      "Half ridge regression rejection sampling took 0.04883074760437012 seconds\n",
      "half-ridge coefficients\n",
      "{'Age': -5.721870913261086e-06, 'Blast Furnace Slag': -5.665852223923053e-06, 'Cement': 5.607177125984341e-06, 'Coarse Aggregate': -5.396760775310766e-06, 'Fine Aggregate': -5.62256480189113e-06, 'Fly Ash': -5.124659703893336e-06, 'Superplasticizer': -5.76153692241735e-06, 'Water': -5.606409158424235e-06, 'intercept': 0}\n",
      "binary comparisons\n",
      "0.456\n",
      "Training Set Value: 160, Eta: 0.0026366508987303583, Fold: 1 of range(0, 5)\n",
      "Running half-ridge regression...\n",
      "Half ridge regression rejection sampling took 0.0426480770111084 seconds\n",
      "half-ridge coefficients\n",
      "{'Age': -5.507967563733957e-06, 'Blast Furnace Slag': -5.449043436533714e-06, 'Cement': 5.537849992550812e-06, 'Coarse Aggregate': -6.2264776470761435e-06, 'Fine Aggregate': -5.304438103058132e-06, 'Fly Ash': -5.6089208366790735e-06, 'Superplasticizer': -5.530435705071945e-06, 'Water': -5.809131304700095e-06, 'intercept': 0}\n",
      "binary comparisons\n",
      "0.456\n",
      "Training Set Value: 160, Eta: 0.0026366508987303583, Fold: 2 of range(0, 5)\n",
      "Running half-ridge regression...\n",
      "Half ridge regression rejection sampling took 0.04012656211853027 seconds\n",
      "half-ridge coefficients\n",
      "{'Age': -5.594838371286354e-06, 'Blast Furnace Slag': -5.330500423952293e-06, 'Cement': 5.522759086277861e-06, 'Coarse Aggregate': -5.686351390710254e-06, 'Fine Aggregate': -5.405929916152417e-06, 'Fly Ash': -5.643524366353505e-06, 'Superplasticizer': -5.664731288907234e-06, 'Water': -5.677160978644978e-06, 'intercept': 0}\n",
      "binary comparisons\n",
      "0.455\n",
      "Training Set Value: 160, Eta: 0.0026366508987303583, Fold: 3 of range(0, 5)\n",
      "Running half-ridge regression...\n",
      "Half ridge regression rejection sampling took 0.03475213050842285 seconds\n",
      "half-ridge coefficients\n",
      "{'Age': -5.512806441839167e-06, 'Blast Furnace Slag': -5.711525443385076e-06, 'Cement': 5.744342020104652e-06, 'Coarse Aggregate': -5.326433908452061e-06, 'Fine Aggregate': -5.649381573915938e-06, 'Fly Ash': -5.637200049194459e-06, 'Superplasticizer': -5.121937798099303e-06, 'Water': -5.71052910600097e-06, 'intercept': 0}\n",
      "binary comparisons\n",
      "0.474\n",
      "Training Set Value: 160, Eta: 0.0026366508987303583, Fold: 4 of range(0, 5)\n",
      "Running half-ridge regression...\n",
      "Half ridge regression rejection sampling took 0.034537315368652344 seconds\n",
      "half-ridge coefficients\n",
      "{'Age': -5.2645901574490115e-06, 'Blast Furnace Slag': -5.457059638117287e-06, 'Cement': 5.456526100288637e-06, 'Coarse Aggregate': -5.697496875793494e-06, 'Fine Aggregate': -5.651923031764293e-06, 'Fly Ash': -5.8772430474851705e-06, 'Superplasticizer': -5.268882782316326e-06, 'Water': -5.341433946697714e-06, 'intercept': 0}\n",
      "binary comparisons\n",
      "0.499\n",
      "Training Set Value: 160, Eta: 0.007847599703514606, Fold: 0 of range(0, 5)\n",
      "Running half-ridge regression...\n",
      "Half ridge regression rejection sampling took 0.03471088409423828 seconds\n",
      "half-ridge coefficients\n",
      "{'Age': -4.6980190882591615e-05, 'Blast Furnace Slag': -5.130735003169068e-05, 'Cement': 4.756177892399479e-05, 'Coarse Aggregate': -4.8647937939113255e-05, 'Fine Aggregate': -4.8806460739796765e-05, 'Fly Ash': -5.043851169283692e-05, 'Superplasticizer': -5.0034239631923126e-05, 'Water': -4.655547880809415e-05, 'intercept': 0}\n",
      "binary comparisons\n",
      "0.487\n",
      "Training Set Value: 160, Eta: 0.007847599703514606, Fold: 1 of range(0, 5)\n",
      "Running half-ridge regression...\n",
      "Half ridge regression rejection sampling took 0.03464484214782715 seconds\n",
      "half-ridge coefficients\n",
      "{'Age': -4.861315208158876e-05, 'Blast Furnace Slag': -4.905179431676048e-05, 'Cement': 4.727857480817868e-05, 'Coarse Aggregate': -5.183560867290577e-05, 'Fine Aggregate': -4.8348496443686085e-05, 'Fly Ash': -5.3782539359834574e-05, 'Superplasticizer': -4.786700910913273e-05, 'Water': -5.142523650488957e-05, 'intercept': 0}\n",
      "binary comparisons\n",
      "0.487\n",
      "Training Set Value: 160, Eta: 0.007847599703514606, Fold: 2 of range(0, 5)\n",
      "Running half-ridge regression...\n",
      "Half ridge regression rejection sampling took 0.03481650352478027 seconds\n",
      "half-ridge coefficients\n",
      "{'Age': -5.179813945382786e-05, 'Blast Furnace Slag': -4.9835667812919316e-05, 'Cement': 4.8538946319403815e-05, 'Coarse Aggregate': -4.751551132032766e-05, 'Fine Aggregate': -4.8452719779108145e-05, 'Fly Ash': -4.7276654102390706e-05, 'Superplasticizer': -4.70204599210535e-05, 'Water': -4.958459243052713e-05, 'intercept': 0}\n",
      "binary comparisons\n",
      "0.469\n",
      "Training Set Value: 160, Eta: 0.007847599703514606, Fold: 3 of range(0, 5)\n",
      "Running half-ridge regression...\n",
      "Half ridge regression rejection sampling took 0.04824090003967285 seconds\n",
      "half-ridge coefficients\n",
      "{'Age': -5.009180344160267e-05, 'Blast Furnace Slag': -4.724453519814602e-05, 'Cement': 4.8663567370015897e-05, 'Coarse Aggregate': -4.9191409048559805e-05, 'Fine Aggregate': -5.205057232254022e-05, 'Fly Ash': -4.589317084357677e-05, 'Superplasticizer': -5.4184280882159825e-05, 'Water': -5.005244319627769e-05, 'intercept': 0}\n",
      "binary comparisons\n",
      "0.429\n",
      "Training Set Value: 160, Eta: 0.007847599703514606, Fold: 4 of range(0, 5)\n",
      "Running half-ridge regression...\n",
      "Half ridge regression rejection sampling took 0.03459787368774414 seconds\n",
      "half-ridge coefficients\n",
      "{'Age': -4.702711767184886e-05, 'Blast Furnace Slag': -5.1379285622065025e-05, 'Cement': 4.846990022616448e-05, 'Coarse Aggregate': -5.119550668079225e-05, 'Fine Aggregate': -5.248654792637796e-05, 'Fly Ash': -4.8861292009159635e-05, 'Superplasticizer': -4.99102755315426e-05, 'Water': -4.971972241466974e-05, 'intercept': 0}\n",
      "binary comparisons\n",
      "0.486\n",
      "Training Set Value: 160, Eta: 0.023357214690901212, Fold: 0 of range(0, 5)\n",
      "Running half-ridge regression...\n",
      "Half ridge regression rejection sampling took 0.044040679931640625 seconds\n",
      "half-ridge coefficients\n",
      "{'Age': -0.0004061415308213328, 'Blast Furnace Slag': -0.00047833164843456594, 'Cement': 0.00045442464795083707, 'Coarse Aggregate': -0.0004557388176775935, 'Fine Aggregate': -0.0004336612473511082, 'Fly Ash': -0.0004239640480942572, 'Superplasticizer': -0.0004178302887794668, 'Water': -0.00041883513744409516, 'intercept': 0}\n",
      "binary comparisons\n",
      "0.465\n",
      "Training Set Value: 160, Eta: 0.023357214690901212, Fold: 1 of range(0, 5)\n",
      "Running half-ridge regression...\n",
      "Half ridge regression rejection sampling took 0.04355144500732422 seconds\n",
      "half-ridge coefficients\n",
      "{'Age': -0.0004388994651479161, 'Blast Furnace Slag': -0.00041996206166536375, 'Cement': 0.00041774266562478204, 'Coarse Aggregate': -0.0004209035916754587, 'Fine Aggregate': -0.0004167748521812447, 'Fly Ash': -0.0004780484212069173, 'Superplasticizer': -0.000424215713654503, 'Water': -0.00044956645582065193, 'intercept': 0}\n",
      "binary comparisons\n",
      "0.469\n",
      "Training Set Value: 160, Eta: 0.023357214690901212, Fold: 2 of range(0, 5)\n",
      "Running half-ridge regression...\n",
      "Half ridge regression rejection sampling took 0.04925966262817383 seconds\n",
      "half-ridge coefficients\n",
      "{'Age': -0.0004512633442042639, 'Blast Furnace Slag': -0.0004641598800148091, 'Cement': 0.00044615793257474624, 'Coarse Aggregate': -0.0004044949994623479, 'Fine Aggregate': -0.0004357078789657167, 'Fly Ash': -0.00042712001072553105, 'Superplasticizer': -0.0004368467607453025, 'Water': -0.00041533421399929317, 'intercept': 0}\n",
      "binary comparisons\n",
      "0.455\n",
      "Training Set Value: 160, Eta: 0.023357214690901212, Fold: 3 of range(0, 5)\n",
      "Running half-ridge regression...\n",
      "Half ridge regression rejection sampling took 0.03565692901611328 seconds\n",
      "half-ridge coefficients\n",
      "{'Age': -0.00046314327911736264, 'Blast Furnace Slag': -0.00042955590648456425, 'Cement': 0.0004422286293790377, 'Coarse Aggregate': -0.00045218448176855854, 'Fine Aggregate': -0.00041655799908286105, 'Fly Ash': -0.0004327372117686402, 'Superplasticizer': -0.0004468667605086963, 'Water': -0.0004362164183611204, 'intercept': 0}\n",
      "binary comparisons\n",
      "0.44\n",
      "Training Set Value: 160, Eta: 0.023357214690901212, Fold: 4 of range(0, 5)\n",
      "Running half-ridge regression...\n",
      "Half ridge regression rejection sampling took 0.034886837005615234 seconds\n",
      "half-ridge coefficients\n",
      "{'Age': -0.0004672498452031303, 'Blast Furnace Slag': -0.00043185545771422327, 'Cement': 0.00039979136873469884, 'Coarse Aggregate': -0.00047741060994158216, 'Fine Aggregate': -0.0004241300827216489, 'Fly Ash': -0.0004372873423543257, 'Superplasticizer': -0.00039735493576950024, 'Water': -0.00044398713032665644, 'intercept': 0}\n",
      "binary comparisons\n",
      "0.504\n",
      "Training Set Value: 160, Eta: 0.06951927961775606, Fold: 0 of range(0, 5)\n",
      "Running half-ridge regression...\n",
      "Half ridge regression rejection sampling took 0.035358428955078125 seconds\n",
      "half-ridge coefficients\n",
      "{'Age': -0.003757389670221778, 'Blast Furnace Slag': -0.003737489797190843, 'Cement': 0.003731160187311574, 'Coarse Aggregate': -0.003723253142478786, 'Fine Aggregate': -0.003886356310335502, 'Fly Ash': -0.0037710959096873137, 'Superplasticizer': -0.0036364881048196484, 'Water': -0.003911267856385911, 'intercept': 0}\n",
      "binary comparisons\n",
      "0.453\n",
      "Training Set Value: 160, Eta: 0.06951927961775606, Fold: 1 of range(0, 5)\n",
      "Running half-ridge regression...\n",
      "Half ridge regression rejection sampling took 0.0409693717956543 seconds\n",
      "half-ridge coefficients\n",
      "{'Age': -0.004053897540573263, 'Blast Furnace Slag': -0.0037079053404746555, 'Cement': 0.004045686508899713, 'Coarse Aggregate': -0.003915869399341997, 'Fine Aggregate': -0.00397770879783357, 'Fly Ash': -0.004005567344575483, 'Superplasticizer': -0.0038631041141279784, 'Water': -0.003797262165220962, 'intercept': 0}\n",
      "binary comparisons\n",
      "0.449\n",
      "Training Set Value: 160, Eta: 0.06951927961775606, Fold: 2 of range(0, 5)\n",
      "Running half-ridge regression...\n",
      "Half ridge regression rejection sampling took 0.05888676643371582 seconds\n",
      "half-ridge coefficients\n",
      "{'Age': -0.0038842374894506276, 'Blast Furnace Slag': -0.003917518860014555, 'Cement': 0.0036581669320520406, 'Coarse Aggregate': -0.0038979131496811557, 'Fine Aggregate': -0.004057501957257796, 'Fly Ash': -0.004093367263945956, 'Superplasticizer': -0.003917636100439245, 'Water': -0.003684969589507337, 'intercept': 0}\n",
      "binary comparisons\n",
      "0.477\n",
      "Training Set Value: 160, Eta: 0.06951927961775606, Fold: 3 of range(0, 5)\n",
      "Running half-ridge regression...\n",
      "Half ridge regression rejection sampling took 0.054688215255737305 seconds\n",
      "half-ridge coefficients\n",
      "{'Age': -0.004084315898321145, 'Blast Furnace Slag': -0.0038027019152798497, 'Cement': 0.003759968790775824, 'Coarse Aggregate': -0.003912839298658217, 'Fine Aggregate': -0.003967978955554645, 'Fly Ash': -0.0037462956595918943, 'Superplasticizer': -0.003905965655420928, 'Water': -0.0037789887973362106, 'intercept': 0}\n",
      "binary comparisons\n",
      "0.461\n",
      "Training Set Value: 160, Eta: 0.06951927961775606, Fold: 4 of range(0, 5)\n",
      "Running half-ridge regression...\n",
      "Half ridge regression rejection sampling took 0.03528189659118652 seconds\n",
      "half-ridge coefficients\n",
      "{'Age': -0.0037356404182854685, 'Blast Furnace Slag': -0.0039008806634298634, 'Cement': 0.003726507651385968, 'Coarse Aggregate': -0.003935691134050873, 'Fine Aggregate': -0.0038416841287524555, 'Fly Ash': -0.0038854372384433495, 'Superplasticizer': -0.003998156636634569, 'Water': -0.0038609317303834986, 'intercept': 0}\n",
      "binary comparisons\n",
      "0.472\n",
      "Training Set Value: 160, Eta: 0.2069138081114788, Fold: 0 of range(0, 5)\n",
      "Running half-ridge regression...\n",
      "Half ridge regression rejection sampling took 0.03487133979797363 seconds\n",
      "half-ridge coefficients\n",
      "{'Age': -0.0322891673847565, 'Blast Furnace Slag': -0.03580609075676803, 'Cement': 0.036145752365027525, 'Coarse Aggregate': -0.03544861430356063, 'Fine Aggregate': -0.031793476086772715, 'Fly Ash': -0.03445504785500907, 'Superplasticizer': -0.03387640453882693, 'Water': -0.037564996342135885, 'intercept': 0}\n",
      "binary comparisons\n",
      "0.469\n",
      "Training Set Value: 160, Eta: 0.2069138081114788, Fold: 1 of range(0, 5)\n",
      "Running half-ridge regression...\n",
      "Half ridge regression rejection sampling took 0.0349576473236084 seconds\n",
      "half-ridge coefficients\n",
      "{'Age': -0.03168271102116888, 'Blast Furnace Slag': -0.03367447194662182, 'Cement': 0.03585103030073767, 'Coarse Aggregate': -0.03302741443892455, 'Fine Aggregate': -0.03496693378234126, 'Fly Ash': -0.032996096686956064, 'Superplasticizer': -0.0306038282064401, 'Water': -0.03483248274803956, 'intercept': 0}\n",
      "binary comparisons\n",
      "0.473\n",
      "Training Set Value: 160, Eta: 0.2069138081114788, Fold: 2 of range(0, 5)\n",
      "Running half-ridge regression...\n",
      "Half ridge regression rejection sampling took 0.048749446868896484 seconds\n",
      "half-ridge coefficients\n",
      "{'Age': -0.03377716463341158, 'Blast Furnace Slag': -0.033363434737223606, 'Cement': 0.03858235966247488, 'Coarse Aggregate': -0.0354042213868928, 'Fine Aggregate': -0.0352524639156099, 'Fly Ash': -0.03359590639662844, 'Superplasticizer': -0.03251122761438126, 'Water': -0.03828521608345519, 'intercept': 0}\n",
      "binary comparisons\n",
      "0.481\n",
      "Training Set Value: 160, Eta: 0.2069138081114788, Fold: 3 of range(0, 5)\n",
      "Running half-ridge regression...\n",
      "Half ridge regression rejection sampling took 0.03496193885803223 seconds\n",
      "half-ridge coefficients\n",
      "{'Age': -0.031122271483844645, 'Blast Furnace Slag': -0.032352733700648846, 'Cement': 0.035661257946481596, 'Coarse Aggregate': -0.033824230554987414, 'Fine Aggregate': -0.0346551659164952, 'Fly Ash': -0.034334942597304026, 'Superplasticizer': -0.03316072509819623, 'Water': -0.031918902617067965, 'intercept': 0}\n",
      "binary comparisons\n",
      "0.471\n",
      "Training Set Value: 160, Eta: 0.2069138081114788, Fold: 4 of range(0, 5)\n",
      "Running half-ridge regression...\n",
      "Half ridge regression rejection sampling took 0.035242319107055664 seconds\n",
      "half-ridge coefficients\n",
      "{'Age': -0.03213484454131523, 'Blast Furnace Slag': -0.035181861798167326, 'Cement': 0.03470092953658764, 'Coarse Aggregate': -0.03594609326689176, 'Fine Aggregate': -0.03545065760786024, 'Fly Ash': -0.03414259184977401, 'Superplasticizer': -0.030218705750653732, 'Water': -0.03436563320803389, 'intercept': 0}\n",
      "binary comparisons\n",
      "0.45\n",
      "Training Set Value: 160, Eta: 0.615848211066026, Fold: 0 of range(0, 5)\n",
      "Running half-ridge regression...\n",
      "Half ridge regression rejection sampling took 0.03500008583068848 seconds\n",
      "half-ridge coefficients\n",
      "{'Age': -0.03513839213282301, 'Blast Furnace Slag': -0.10407936160692818, 'Cement': 0.25366547051196775, 'Coarse Aggregate': -0.2962692155916836, 'Fine Aggregate': -0.4082671949985089, 'Fly Ash': -0.13056693380656215, 'Superplasticizer': -0.05493851833869468, 'Water': -0.45628810238298645, 'intercept': 0}\n",
      "binary comparisons\n",
      "0.688\n",
      "Training Set Value: 160, Eta: 0.615848211066026, Fold: 1 of range(0, 5)\n",
      "Running half-ridge regression...\n",
      "Half ridge regression rejection sampling took 0.03466224670410156 seconds\n",
      "half-ridge coefficients\n",
      "{'Age': -0.004751361834663015, 'Blast Furnace Slag': -0.08903080873095823, 'Cement': 0.2725550965031832, 'Coarse Aggregate': -0.22130057545180637, 'Fine Aggregate': -0.49877672256742533, 'Fly Ash': -0.18937440016766982, 'Superplasticizer': -0.10152230540646348, 'Water': -0.7409175201345739, 'intercept': 0}\n",
      "binary comparisons\n",
      "0.698\n",
      "Training Set Value: 160, Eta: 0.615848211066026, Fold: 2 of range(0, 5)\n",
      "Running half-ridge regression...\n",
      "Half ridge regression rejection sampling took 0.039559125900268555 seconds\n",
      "half-ridge coefficients\n",
      "{'Age': -0.040702340007714416, 'Blast Furnace Slag': -0.07548694853010934, 'Cement': 0.3212494779420712, 'Coarse Aggregate': -0.35154846994911015, 'Fine Aggregate': -0.2529003092900223, 'Fly Ash': -0.14598046869761794, 'Superplasticizer': -0.08270607640668937, 'Water': -0.5086136051198022, 'intercept': 0}\n",
      "binary comparisons\n",
      "0.633\n",
      "Training Set Value: 160, Eta: 0.615848211066026, Fold: 3 of range(0, 5)\n",
      "Running half-ridge regression...\n",
      "Half ridge regression rejection sampling took 0.034668684005737305 seconds\n",
      "half-ridge coefficients\n",
      "{'Age': -0.019159108834170935, 'Blast Furnace Slag': -0.09987396176295392, 'Cement': 0.22209831003247604, 'Coarse Aggregate': -0.40234097749374775, 'Fine Aggregate': -0.41141648730740316, 'Fly Ash': -0.24521702909174756, 'Superplasticizer': -0.11488349697147256, 'Water': -0.4996120037859608, 'intercept': 0}\n",
      "binary comparisons\n",
      "0.667\n",
      "Training Set Value: 160, Eta: 0.615848211066026, Fold: 4 of range(0, 5)\n",
      "Running half-ridge regression...\n",
      "Half ridge regression rejection sampling took 0.03548908233642578 seconds\n",
      "half-ridge coefficients\n",
      "{'Age': -0.009022772441743154, 'Blast Furnace Slag': -0.25904005365525473, 'Cement': 0.17727003716342807, 'Coarse Aggregate': -0.37835339171013477, 'Fine Aggregate': -0.4421560736602087, 'Fly Ash': -0.07370587303247361, 'Superplasticizer': -0.0701161016029514, 'Water': -0.6295977509923602, 'intercept': 0}\n",
      "binary comparisons\n",
      "0.674\n",
      "Training Set Value: 160, Eta: 1.8329807108324339, Fold: 0 of range(0, 5)\n",
      "Running half-ridge regression...\n",
      "Half ridge regression rejection sampling took 0.056232452392578125 seconds\n",
      "half-ridge coefficients\n",
      "{'Age': 0.45519335212547224, 'Blast Furnace Slag': 0.6085745541069091, 'Cement': 0.7805853135574344, 'Coarse Aggregate': 0.13092968195506602, 'Fine Aggregate': 0.15807326757367263, 'Fly Ash': 0.3963487732442616, 'Superplasticizer': 0.1168800664878884, 'Water': -0.10548017632234856, 'intercept': 0}\n"
     ]
    },
    {
     "name": "stderr",
     "output_type": "stream",
     "text": [
      "/workspaces/codespaces-jupyter/helpers/half_ridge.py:149: RuntimeWarning: Mean of empty slice\n",
      "  post_weights = np.nanmean(samples1, axis=0)\n"
     ]
    },
    {
     "name": "stdout",
     "output_type": "stream",
     "text": [
      "binary comparisons\n",
      "0.604\n",
      "Training Set Value: 160, Eta: 1.8329807108324339, Fold: 1 of range(0, 5)\n",
      "Running half-ridge regression...\n",
      "Half ridge regression rejection sampling took 0.06136965751647949 seconds\n",
      "half-ridge coefficients\n",
      "{'Age': 0.336328506067216, 'Blast Furnace Slag': 0.5221369868079244, 'Cement': 0.6801121127238461, 'Coarse Aggregate': 0.1067809451990321, 'Fine Aggregate': 0.07239414224266902, 'Fly Ash': 0.3726499928026717, 'Superplasticizer': 0.13215943471013153, 'Water': -0.17318740200554134, 'intercept': 0}\n"
     ]
    },
    {
     "name": "stderr",
     "output_type": "stream",
     "text": [
      "/workspaces/codespaces-jupyter/helpers/half_ridge.py:149: RuntimeWarning: Mean of empty slice\n",
      "  post_weights = np.nanmean(samples1, axis=0)\n"
     ]
    },
    {
     "name": "stdout",
     "output_type": "stream",
     "text": [
      "binary comparisons\n",
      "0.62\n",
      "Training Set Value: 160, Eta: 1.8329807108324339, Fold: 2 of range(0, 5)\n",
      "Running half-ridge regression...\n",
      "Half ridge regression rejection sampling took 0.056260108947753906 seconds\n",
      "half-ridge coefficients\n",
      "{'Age': 0.4705016502574804, 'Blast Furnace Slag': 0.46684273886737065, 'Cement': 0.7282200459467936, 'Coarse Aggregate': 0.05639209466236095, 'Fine Aggregate': 0.07630938734823065, 'Fly Ash': 0.2665291445062208, 'Superplasticizer': 0.11581023220256169, 'Water': -0.2585094539324376, 'intercept': 0}\n",
      "binary comparisons\n",
      "0.671\n",
      "Training Set Value: 160, Eta: 1.8329807108324339, Fold: 3 of range(0, 5)\n"
     ]
    },
    {
     "name": "stderr",
     "output_type": "stream",
     "text": [
      "/workspaces/codespaces-jupyter/helpers/half_ridge.py:149: RuntimeWarning: Mean of empty slice\n",
      "  post_weights = np.nanmean(samples1, axis=0)\n"
     ]
    },
    {
     "name": "stdout",
     "output_type": "stream",
     "text": [
      "Running half-ridge regression...\n",
      "Half ridge regression rejection sampling took 0.06444072723388672 seconds\n",
      "half-ridge coefficients\n",
      "{'Age': 0.45331124463100597, 'Blast Furnace Slag': 0.3366451022567093, 'Cement': 0.6104764494916393, 'Coarse Aggregate': -0.13853655258704942, 'Fine Aggregate': -0.05785245339580115, 'Fly Ash': 0.1630341378227769, 'Superplasticizer': -0.008670342356935127, 'Water': -0.39355593148931156, 'intercept': 0}\n"
     ]
    },
    {
     "name": "stderr",
     "output_type": "stream",
     "text": [
      "/workspaces/codespaces-jupyter/helpers/half_ridge.py:149: RuntimeWarning: Mean of empty slice\n",
      "  post_weights = np.nanmean(samples1, axis=0)\n"
     ]
    },
    {
     "name": "stdout",
     "output_type": "stream",
     "text": [
      "binary comparisons\n",
      "0.704\n",
      "Training Set Value: 160, Eta: 1.8329807108324339, Fold: 4 of range(0, 5)\n",
      "Running half-ridge regression...\n",
      "Half ridge regression rejection sampling took 0.06116890907287598 seconds\n",
      "half-ridge coefficients\n",
      "{'Age': 0.402780712425552, 'Blast Furnace Slag': 0.28998929588592537, 'Cement': 0.47743095420564663, 'Coarse Aggregate': -0.15703518487529408, 'Fine Aggregate': -0.20435070930500754, 'Fly Ash': 0.1809928180571039, 'Superplasticizer': 0.01823749885058996, 'Water': -0.560432960022718, 'intercept': 0}\n"
     ]
    },
    {
     "name": "stderr",
     "output_type": "stream",
     "text": [
      "/workspaces/codespaces-jupyter/helpers/half_ridge.py:149: RuntimeWarning: Mean of empty slice\n",
      "  post_weights = np.nanmean(samples1, axis=0)\n"
     ]
    },
    {
     "name": "stdout",
     "output_type": "stream",
     "text": [
      "binary comparisons\n",
      "0.718\n",
      "Training Set Value: 160, Eta: 5.455594781168514, Fold: 0 of range(0, 5)\n",
      "Running half-ridge regression...\n",
      "Half ridge regression rejection sampling took 0.05625295639038086 seconds\n",
      "half-ridge coefficients\n",
      "{'Age': 0.45548644416560885, 'Blast Furnace Slag': 0.6110047697729389, 'Cement': 0.7823624814159034, 'Coarse Aggregate': 0.13220544386516675, 'Fine Aggregate': 0.15965321114983283, 'Fly Ash': 0.3979315302583453, 'Superplasticizer': 0.11645823976178543, 'Water': -0.10422213398517019, 'intercept': 0}\n"
     ]
    },
    {
     "name": "stderr",
     "output_type": "stream",
     "text": [
      "/workspaces/codespaces-jupyter/helpers/half_ridge.py:149: RuntimeWarning: Mean of empty slice\n",
      "  post_weights = np.nanmean(samples1, axis=0)\n"
     ]
    },
    {
     "name": "stdout",
     "output_type": "stream",
     "text": [
      "binary comparisons\n",
      "0.599\n",
      "Training Set Value: 160, Eta: 5.455594781168514, Fold: 1 of range(0, 5)\n",
      "Running half-ridge regression...\n",
      "Half ridge regression rejection sampling took 0.10228300094604492 seconds\n",
      "half-ridge coefficients\n",
      "{'Age': 0.33678187784379765, 'Blast Furnace Slag': 0.5233559818738499, 'Cement': 0.6816318031300952, 'Coarse Aggregate': 0.10729088540537278, 'Fine Aggregate': 0.07381810768129936, 'Fly Ash': 0.3740864940128542, 'Superplasticizer': 0.13152949315074672, 'Water': -0.17229410144328175, 'intercept': 0}\n"
     ]
    },
    {
     "name": "stderr",
     "output_type": "stream",
     "text": [
      "/workspaces/codespaces-jupyter/helpers/half_ridge.py:149: RuntimeWarning: Mean of empty slice\n",
      "  post_weights = np.nanmean(samples1, axis=0)\n"
     ]
    },
    {
     "name": "stdout",
     "output_type": "stream",
     "text": [
      "binary comparisons\n",
      "0.597\n",
      "Training Set Value: 160, Eta: 5.455594781168514, Fold: 2 of range(0, 5)\n",
      "Running half-ridge regression...\n",
      "Half ridge regression rejection sampling took 0.066070556640625 seconds\n",
      "half-ridge coefficients\n",
      "{'Age': 0.47082597014982924, 'Blast Furnace Slag': 0.46820080147267, 'Cement': 0.7296781362974372, 'Coarse Aggregate': 0.05714171011966053, 'Fine Aggregate': 0.07751649245870638, 'Fly Ash': 0.26779491623462104, 'Superplasticizer': 0.11546306942636861, 'Water': -0.25756252144575903, 'intercept': 0}\n"
     ]
    },
    {
     "name": "stderr",
     "output_type": "stream",
     "text": [
      "/workspaces/codespaces-jupyter/helpers/half_ridge.py:149: RuntimeWarning: Mean of empty slice\n",
      "  post_weights = np.nanmean(samples1, axis=0)\n"
     ]
    },
    {
     "name": "stdout",
     "output_type": "stream",
     "text": [
      "binary comparisons\n",
      "0.647\n",
      "Training Set Value: 160, Eta: 5.455594781168514, Fold: 3 of range(0, 5)\n",
      "Running half-ridge regression...\n",
      "Half ridge regression rejection sampling took 0.06398892402648926 seconds\n",
      "half-ridge coefficients\n",
      "{'Age': 0.45344195740904253, 'Blast Furnace Slag': 0.33748217172553324, 'Cement': 0.6115490732022214, 'Coarse Aggregate': -0.1378342169311251, 'Fine Aggregate': -0.056994921407606404, 'Fly Ash': 0.16395198770989325, 'Superplasticizer': -0.008442878769391097, 'Water': -0.3923595106500431, 'intercept': 0}\n"
     ]
    },
    {
     "name": "stderr",
     "output_type": "stream",
     "text": [
      "/workspaces/codespaces-jupyter/helpers/half_ridge.py:149: RuntimeWarning: Mean of empty slice\n",
      "  post_weights = np.nanmean(samples1, axis=0)\n"
     ]
    },
    {
     "name": "stdout",
     "output_type": "stream",
     "text": [
      "binary comparisons\n",
      "0.685\n",
      "Training Set Value: 160, Eta: 5.455594781168514, Fold: 4 of range(0, 5)\n",
      "Running half-ridge regression...\n",
      "Half ridge regression rejection sampling took 0.06892251968383789 seconds\n",
      "half-ridge coefficients\n",
      "{'Age': 0.4028416417093652, 'Blast Furnace Slag': 0.29047761721182996, 'Cement': 0.4773684779084026, 'Coarse Aggregate': -0.15668033891893265, 'Fine Aggregate': -0.20396096225773222, 'Fly Ash': 0.18143942472859767, 'Superplasticizer': 0.01809602727125193, 'Water': -0.560646908145756, 'intercept': 0}\n"
     ]
    },
    {
     "name": "stderr",
     "output_type": "stream",
     "text": [
      "/workspaces/codespaces-jupyter/helpers/half_ridge.py:149: RuntimeWarning: Mean of empty slice\n",
      "  post_weights = np.nanmean(samples1, axis=0)\n"
     ]
    },
    {
     "name": "stdout",
     "output_type": "stream",
     "text": [
      "binary comparisons\n",
      "0.699\n",
      "Training Set Value: 160, Eta: 16.23776739188721, Fold: 0 of range(0, 5)\n",
      "Running half-ridge regression...\n",
      "Half ridge regression rejection sampling took 0.07779121398925781 seconds\n",
      "half-ridge coefficients\n",
      "{'Age': 0.45548986927511714, 'Blast Furnace Slag': 0.6110859052370787, 'Cement': 0.782530812077101, 'Coarse Aggregate': 0.13232085531420912, 'Fine Aggregate': 0.15977408130630236, 'Fly Ash': 0.39798457250423186, 'Superplasticizer': 0.11648421874668127, 'Water': -0.10410831727327045, 'intercept': 0}\n"
     ]
    },
    {
     "name": "stderr",
     "output_type": "stream",
     "text": [
      "/workspaces/codespaces-jupyter/helpers/half_ridge.py:149: RuntimeWarning: Mean of empty slice\n",
      "  post_weights = np.nanmean(samples1, axis=0)\n"
     ]
    },
    {
     "name": "stdout",
     "output_type": "stream",
     "text": [
      "binary comparisons\n",
      "0.623\n",
      "Training Set Value: 160, Eta: 16.23776739188721, Fold: 1 of range(0, 5)\n",
      "Running half-ridge regression...\n",
      "Half ridge regression rejection sampling took 0.05669260025024414 seconds\n",
      "half-ridge coefficients\n",
      "{'Age': 0.3366282533488103, 'Blast Furnace Slag': 0.5236399233486292, 'Cement': 0.6818050189849469, 'Coarse Aggregate': 0.10744858912112949, 'Fine Aggregate': 0.07404334921490999, 'Fly Ash': 0.37433722206927733, 'Superplasticizer': 0.13158246935311554, 'Water': -0.17207783645589317, 'intercept': 0}\n",
      "binary comparisons\n",
      "0.585\n",
      "Training Set Value: 160, Eta: 16.23776739188721, Fold: 2 of range(0, 5)\n"
     ]
    },
    {
     "name": "stderr",
     "output_type": "stream",
     "text": [
      "/workspaces/codespaces-jupyter/helpers/half_ridge.py:149: RuntimeWarning: Mean of empty slice\n",
      "  post_weights = np.nanmean(samples1, axis=0)\n"
     ]
    },
    {
     "name": "stdout",
     "output_type": "stream",
     "text": [
      "Running half-ridge regression...\n",
      "Half ridge regression rejection sampling took 0.05722999572753906 seconds\n",
      "half-ridge coefficients\n",
      "{'Age': 0.47064853961663733, 'Blast Furnace Slag': 0.4683083341911485, 'Cement': 0.7298256609225892, 'Coarse Aggregate': 0.05730549016649619, 'Fine Aggregate': 0.07768374310694415, 'Fly Ash': 0.2679186044420168, 'Superplasticizer': 0.11550987126224074, 'Water': -0.2575366696940576, 'intercept': 0}\n"
     ]
    },
    {
     "name": "stderr",
     "output_type": "stream",
     "text": [
      "/workspaces/codespaces-jupyter/helpers/half_ridge.py:149: RuntimeWarning: Mean of empty slice\n",
      "  post_weights = np.nanmean(samples1, axis=0)\n"
     ]
    },
    {
     "name": "stdout",
     "output_type": "stream",
     "text": [
      "binary comparisons\n",
      "0.66\n",
      "Training Set Value: 160, Eta: 16.23776739188721, Fold: 3 of range(0, 5)\n",
      "Running half-ridge regression...\n",
      "Half ridge regression rejection sampling took 0.05730271339416504 seconds\n",
      "half-ridge coefficients\n",
      "{'Age': 0.45340064367256744, 'Blast Furnace Slag': 0.33745057265754297, 'Cement': 0.6115005311230761, 'Coarse Aggregate': -0.13803127875563037, 'Fine Aggregate': -0.057188203257269025, 'Fly Ash': 0.16393793178649424, 'Superplasticizer': -0.008431655874540303, 'Water': -0.3924620845603526, 'intercept': 0}\n"
     ]
    },
    {
     "name": "stderr",
     "output_type": "stream",
     "text": [
      "/workspaces/codespaces-jupyter/helpers/half_ridge.py:149: RuntimeWarning: Mean of empty slice\n",
      "  post_weights = np.nanmean(samples1, axis=0)\n"
     ]
    },
    {
     "name": "stdout",
     "output_type": "stream",
     "text": [
      "binary comparisons\n",
      "0.698\n",
      "Training Set Value: 160, Eta: 16.23776739188721, Fold: 4 of range(0, 5)\n",
      "Running half-ridge regression...\n",
      "Half ridge regression rejection sampling took 0.058075666427612305 seconds\n",
      "half-ridge coefficients\n",
      "{'Age': 0.4028360288075522, 'Blast Furnace Slag': 0.29026748775443917, 'Cement': 0.4774157656403537, 'Coarse Aggregate': -0.15689670398519337, 'Fine Aggregate': -0.2041025862676602, 'Fly Ash': 0.18138938354827502, 'Superplasticizer': 0.01795900867922167, 'Water': -0.5608741736358385, 'intercept': 0}\n"
     ]
    },
    {
     "name": "stderr",
     "output_type": "stream",
     "text": [
      "/workspaces/codespaces-jupyter/helpers/half_ridge.py:149: RuntimeWarning: Mean of empty slice\n",
      "  post_weights = np.nanmean(samples1, axis=0)\n"
     ]
    },
    {
     "name": "stdout",
     "output_type": "stream",
     "text": [
      "binary comparisons\n",
      "0.709\n",
      "Training Set Value: 160, Eta: 48.32930238571752, Fold: 0 of range(0, 5)\n",
      "Running half-ridge regression...\n",
      "Half ridge regression rejection sampling took 0.06170845031738281 seconds\n",
      "half-ridge coefficients\n",
      "{'Age': 0.45548389616222573, 'Blast Furnace Slag': 0.6109851634962082, 'Cement': 0.7824406557902197, 'Coarse Aggregate': 0.13224728732688038, 'Fine Aggregate': 0.1596973748227702, 'Fly Ash': 0.39791748713278846, 'Superplasticizer': 0.11644524875834039, 'Water': -0.10422740381123015, 'intercept': 0}\n"
     ]
    },
    {
     "name": "stderr",
     "output_type": "stream",
     "text": [
      "/workspaces/codespaces-jupyter/helpers/half_ridge.py:149: RuntimeWarning: Mean of empty slice\n",
      "  post_weights = np.nanmean(samples1, axis=0)\n"
     ]
    },
    {
     "name": "stdout",
     "output_type": "stream",
     "text": [
      "binary comparisons\n",
      "0.58\n",
      "Training Set Value: 160, Eta: 48.32930238571752, Fold: 1 of range(0, 5)\n",
      "Running half-ridge regression...\n",
      "Half ridge regression rejection sampling took 0.06091570854187012 seconds\n",
      "half-ridge coefficients\n",
      "{'Age': 0.33665196364208705, 'Blast Furnace Slag': 0.5235129476730258, 'Cement': 0.6816798288678211, 'Coarse Aggregate': 0.10733301490444068, 'Fine Aggregate': 0.07388711662814673, 'Fly Ash': 0.37426018623063784, 'Superplasticizer': 0.13150854562513226, 'Water': -0.17225151157313912, 'intercept': 0}\n"
     ]
    },
    {
     "name": "stderr",
     "output_type": "stream",
     "text": [
      "/workspaces/codespaces-jupyter/helpers/half_ridge.py:149: RuntimeWarning: Mean of empty slice\n",
      "  post_weights = np.nanmean(samples1, axis=0)\n"
     ]
    },
    {
     "name": "stdout",
     "output_type": "stream",
     "text": [
      "binary comparisons\n",
      "0.619\n",
      "Training Set Value: 160, Eta: 48.32930238571752, Fold: 2 of range(0, 5)\n",
      "Running half-ridge regression...\n",
      "Half ridge regression rejection sampling took 0.06354260444641113 seconds\n",
      "half-ridge coefficients\n",
      "{'Age': 0.4706779310287624, 'Blast Furnace Slag': 0.46835915414103046, 'Cement': 0.7298697144958937, 'Coarse Aggregate': 0.05730706015504385, 'Fine Aggregate': 0.07770398788349533, 'Fly Ash': 0.2679836709930183, 'Superplasticizer': 0.11546513431670859, 'Water': -0.2575259938488748, 'intercept': 0}\n"
     ]
    },
    {
     "name": "stderr",
     "output_type": "stream",
     "text": [
      "/workspaces/codespaces-jupyter/helpers/half_ridge.py:149: RuntimeWarning: Mean of empty slice\n",
      "  post_weights = np.nanmean(samples1, axis=0)\n"
     ]
    },
    {
     "name": "stdout",
     "output_type": "stream",
     "text": [
      "binary comparisons\n",
      "0.655\n",
      "Training Set Value: 160, Eta: 48.32930238571752, Fold: 3 of range(0, 5)\n",
      "Running half-ridge regression...\n",
      "Half ridge regression rejection sampling took 0.06184244155883789 seconds\n",
      "half-ridge coefficients\n",
      "{'Age': 0.4533868528876784, 'Blast Furnace Slag': 0.3374679586661518, 'Cement': 0.6115054735705646, 'Coarse Aggregate': -0.1380010680238111, 'Fine Aggregate': -0.057121464843532324, 'Fly Ash': 0.163917467967601, 'Superplasticizer': -0.008427672328445272, 'Water': -0.39243580538899936, 'intercept': 0}\n"
     ]
    },
    {
     "name": "stderr",
     "output_type": "stream",
     "text": [
      "/workspaces/codespaces-jupyter/helpers/half_ridge.py:149: RuntimeWarning: Mean of empty slice\n",
      "  post_weights = np.nanmean(samples1, axis=0)\n"
     ]
    },
    {
     "name": "stdout",
     "output_type": "stream",
     "text": [
      "binary comparisons\n",
      "0.684\n",
      "Training Set Value: 160, Eta: 48.32930238571752, Fold: 4 of range(0, 5)\n",
      "Running half-ridge regression...\n",
      "Half ridge regression rejection sampling took 0.05604124069213867 seconds\n",
      "half-ridge coefficients\n",
      "{'Age': 0.402856943662296, 'Blast Furnace Slag': 0.29041257037956986, 'Cement': 0.47750534127355954, 'Coarse Aggregate': -0.15677169847290523, 'Fine Aggregate': -0.2040006548842897, 'Fly Ash': 0.18144393039303394, 'Superplasticizer': 0.018015181212825956, 'Water': -0.5607479399746532, 'intercept': 0}\n"
     ]
    },
    {
     "name": "stderr",
     "output_type": "stream",
     "text": [
      "/workspaces/codespaces-jupyter/helpers/half_ridge.py:149: RuntimeWarning: Mean of empty slice\n",
      "  post_weights = np.nanmean(samples1, axis=0)\n"
     ]
    },
    {
     "name": "stdout",
     "output_type": "stream",
     "text": [
      "binary comparisons\n",
      "0.681\n",
      "Training Set Value: 160, Eta: 143.8449888287663, Fold: 0 of range(0, 5)\n",
      "Running half-ridge regression...\n",
      "Half ridge regression rejection sampling took 0.10726690292358398 seconds\n",
      "half-ridge coefficients\n",
      "{'Age': 0.45548523962083504, 'Blast Furnace Slag': 0.6110182646405248, 'Cement': 0.7824731833086276, 'Coarse Aggregate': 0.13227340659237935, 'Fine Aggregate': 0.15971911134195788, 'Fly Ash': 0.39794801747324726, 'Superplasticizer': 0.11645008618426832, 'Water': -0.10419972100980868, 'intercept': 0}\n"
     ]
    },
    {
     "name": "stderr",
     "output_type": "stream",
     "text": [
      "/workspaces/codespaces-jupyter/helpers/half_ridge.py:149: RuntimeWarning: Mean of empty slice\n",
      "  post_weights = np.nanmean(samples1, axis=0)\n"
     ]
    },
    {
     "name": "stdout",
     "output_type": "stream",
     "text": [
      "binary comparisons\n",
      "0.634\n",
      "Training Set Value: 160, Eta: 143.8449888287663, Fold: 1 of range(0, 5)\n",
      "Running half-ridge regression...\n",
      "Half ridge regression rejection sampling took 0.06081104278564453 seconds\n",
      "half-ridge coefficients\n",
      "{'Age': 0.3366478948976763, 'Blast Furnace Slag': 0.5234904822482732, 'Cement': 0.6816553528237281, 'Coarse Aggregate': 0.10732759742373371, 'Fine Aggregate': 0.07388708804226923, 'Fly Ash': 0.37422505468305295, 'Superplasticizer': 0.13153123665215016, 'Water': -0.17223971244886968, 'intercept': 0}\n"
     ]
    },
    {
     "name": "stderr",
     "output_type": "stream",
     "text": [
      "/workspaces/codespaces-jupyter/helpers/half_ridge.py:149: RuntimeWarning: Mean of empty slice\n",
      "  post_weights = np.nanmean(samples1, axis=0)\n"
     ]
    },
    {
     "name": "stdout",
     "output_type": "stream",
     "text": [
      "binary comparisons\n",
      "0.62\n",
      "Training Set Value: 160, Eta: 143.8449888287663, Fold: 2 of range(0, 5)\n",
      "Running half-ridge regression...\n",
      "Half ridge regression rejection sampling took 0.05482649803161621 seconds\n",
      "half-ridge coefficients\n",
      "{'Age': 0.4706775817055631, 'Blast Furnace Slag': 0.4683667424716821, 'Cement': 0.7298636369423983, 'Coarse Aggregate': 0.05730785686779614, 'Fine Aggregate': 0.07770685570987539, 'Fly Ash': 0.2679850505070043, 'Superplasticizer': 0.11546954825119288, 'Water': -0.2575303258221826, 'intercept': 0}\n"
     ]
    },
    {
     "name": "stderr",
     "output_type": "stream",
     "text": [
      "/workspaces/codespaces-jupyter/helpers/half_ridge.py:149: RuntimeWarning: Mean of empty slice\n",
      "  post_weights = np.nanmean(samples1, axis=0)\n"
     ]
    },
    {
     "name": "stdout",
     "output_type": "stream",
     "text": [
      "binary comparisons\n",
      "0.664\n",
      "Training Set Value: 160, Eta: 143.8449888287663, Fold: 3 of range(0, 5)\n",
      "Running half-ridge regression...\n",
      "Half ridge regression rejection sampling took 0.06363892555236816 seconds\n",
      "half-ridge coefficients\n",
      "{'Age': 0.4533850643189105, 'Blast Furnace Slag': 0.33743138310427667, 'Cement': 0.6114857821994909, 'Coarse Aggregate': -0.13801209828661135, 'Fine Aggregate': -0.05714898992796705, 'Fly Ash': 0.16390366464073755, 'Superplasticizer': -0.008446845877791067, 'Water': -0.39246320307412896, 'intercept': 0}\n"
     ]
    },
    {
     "name": "stderr",
     "output_type": "stream",
     "text": [
      "/workspaces/codespaces-jupyter/helpers/half_ridge.py:149: RuntimeWarning: Mean of empty slice\n",
      "  post_weights = np.nanmean(samples1, axis=0)\n"
     ]
    },
    {
     "name": "stdout",
     "output_type": "stream",
     "text": [
      "binary comparisons\n",
      "0.708\n",
      "Training Set Value: 160, Eta: 143.8449888287663, Fold: 4 of range(0, 5)\n",
      "Running half-ridge regression...\n",
      "Half ridge regression rejection sampling took 0.06346464157104492 seconds\n",
      "half-ridge coefficients\n",
      "{'Age': 0.4028434461671139, 'Blast Furnace Slag': 0.29041486489382873, 'Cement': 0.4775037004459042, 'Coarse Aggregate': -0.15677734704991594, 'Fine Aggregate': -0.20400631781258297, 'Fly Ash': 0.18144655482167268, 'Superplasticizer': 0.018024758360289387, 'Water': -0.5607364048443009, 'intercept': 0}\n"
     ]
    },
    {
     "name": "stderr",
     "output_type": "stream",
     "text": [
      "/workspaces/codespaces-jupyter/helpers/half_ridge.py:149: RuntimeWarning: Mean of empty slice\n",
      "  post_weights = np.nanmean(samples1, axis=0)\n"
     ]
    },
    {
     "name": "stdout",
     "output_type": "stream",
     "text": [
      "binary comparisons\n",
      "0.685\n",
      "Training Set Value: 160, Eta: 428.1332398719387, Fold: 0 of range(0, 5)\n",
      "Running half-ridge regression...\n",
      "Half ridge regression rejection sampling took 0.05776667594909668 seconds\n",
      "half-ridge coefficients\n",
      "{'Age': 0.45548428770159965, 'Blast Furnace Slag': 0.6110099709739756, 'Cement': 0.7824640614310379, 'Coarse Aggregate': 0.13226697936799992, 'Fine Aggregate': 0.15971029859213057, 'Fly Ash': 0.39794347040593653, 'Superplasticizer': 0.1164467083980272, 'Water': -0.1042057363061365, 'intercept': 0}\n"
     ]
    },
    {
     "name": "stderr",
     "output_type": "stream",
     "text": [
      "/workspaces/codespaces-jupyter/helpers/half_ridge.py:149: RuntimeWarning: Mean of empty slice\n",
      "  post_weights = np.nanmean(samples1, axis=0)\n"
     ]
    },
    {
     "name": "stdout",
     "output_type": "stream",
     "text": [
      "binary comparisons\n",
      "0.615\n",
      "Training Set Value: 160, Eta: 428.1332398719387, Fold: 1 of range(0, 5)\n",
      "Running half-ridge regression...\n",
      "Half ridge regression rejection sampling took 0.08908891677856445 seconds\n",
      "half-ridge coefficients\n",
      "{'Age': 0.33664861069413327, 'Blast Furnace Slag': 0.52349994802214, 'Cement': 0.6816661383263489, 'Coarse Aggregate': 0.1073317701583209, 'Fine Aggregate': 0.0738964568117718, 'Fly Ash': 0.37423705041222144, 'Superplasticizer': 0.13152225514873694, 'Water': -0.17224068897544784, 'intercept': 0}\n",
      "binary comparisons\n",
      "0.622\n",
      "Training Set Value: 160, Eta: 428.1332398719387, Fold: 2 of range(0, 5)\n"
     ]
    },
    {
     "name": "stderr",
     "output_type": "stream",
     "text": [
      "/workspaces/codespaces-jupyter/helpers/half_ridge.py:149: RuntimeWarning: Mean of empty slice\n",
      "  post_weights = np.nanmean(samples1, axis=0)\n"
     ]
    },
    {
     "name": "stdout",
     "output_type": "stream",
     "text": [
      "Running half-ridge regression...\n",
      "Half ridge regression rejection sampling took 0.05539655685424805 seconds\n",
      "half-ridge coefficients\n",
      "{'Age': 0.4706731102006352, 'Blast Furnace Slag': 0.4683628897477312, 'Cement': 0.7298590757961145, 'Coarse Aggregate': 0.05730445588436349, 'Fine Aggregate': 0.0777029335347167, 'Fly Ash': 0.26797734839708803, 'Superplasticizer': 0.11547337703778361, 'Water': -0.2575298830731424, 'intercept': 0}\n",
      "binary comparisons\n",
      "0.623\n",
      "Training Set Value: 160, Eta: 428.1332398719387, Fold: 3 of range(0, 5)\n"
     ]
    },
    {
     "name": "stderr",
     "output_type": "stream",
     "text": [
      "/workspaces/codespaces-jupyter/helpers/half_ridge.py:149: RuntimeWarning: Mean of empty slice\n",
      "  post_weights = np.nanmean(samples1, axis=0)\n"
     ]
    },
    {
     "name": "stdout",
     "output_type": "stream",
     "text": [
      "Running half-ridge regression...\n",
      "Half ridge regression rejection sampling took 0.0555572509765625 seconds\n",
      "half-ridge coefficients\n",
      "{'Age': 0.4533855550146544, 'Blast Furnace Slag': 0.3374465740171553, 'Cement': 0.6114997228689752, 'Coarse Aggregate': -0.13800522597570972, 'Fine Aggregate': -0.057134203451966924, 'Fly Ash': 0.163914196630403, 'Superplasticizer': -0.00844677202326996, 'Water': -0.3924514907628929, 'intercept': 0}\n"
     ]
    },
    {
     "name": "stderr",
     "output_type": "stream",
     "text": [
      "/workspaces/codespaces-jupyter/helpers/half_ridge.py:149: RuntimeWarning: Mean of empty slice\n",
      "  post_weights = np.nanmean(samples1, axis=0)\n"
     ]
    },
    {
     "name": "stdout",
     "output_type": "stream",
     "text": [
      "binary comparisons\n",
      "0.698\n",
      "Training Set Value: 160, Eta: 428.1332398719387, Fold: 4 of range(0, 5)\n",
      "Running half-ridge regression...\n",
      "Half ridge regression rejection sampling took 0.055013418197631836 seconds\n",
      "half-ridge coefficients\n",
      "{'Age': 0.4028408210284765, 'Blast Furnace Slag': 0.2904194041543576, 'Cement': 0.47751379857699694, 'Coarse Aggregate': -0.15676859211300548, 'Fine Aggregate': -0.20399874613951025, 'Fly Ash': 0.1814519486407151, 'Superplasticizer': 0.018029687298025832, 'Water': -0.5607262098800356, 'intercept': 0}\n",
      "binary comparisons\n",
      "0.693\n",
      "Training Set Value: 160, Eta: 1274.2749857031322, Fold: 0 of range(0, 5)\n"
     ]
    },
    {
     "name": "stderr",
     "output_type": "stream",
     "text": [
      "/workspaces/codespaces-jupyter/helpers/half_ridge.py:149: RuntimeWarning: Mean of empty slice\n",
      "  post_weights = np.nanmean(samples1, axis=0)\n"
     ]
    },
    {
     "name": "stdout",
     "output_type": "stream",
     "text": [
      "Running half-ridge regression...\n",
      "Half ridge regression rejection sampling took 0.05899667739868164 seconds\n",
      "half-ridge coefficients\n",
      "{'Age': 0.4554826644181897, 'Blast Furnace Slag': 0.6110103612308331, 'Cement': 0.7824651802741457, 'Coarse Aggregate': 0.13226780142131378, 'Fine Aggregate': 0.15971115157662752, 'Fly Ash': 0.39794305580445244, 'Superplasticizer': 0.11644913196713985, 'Water': -0.10420338903679274, 'intercept': 0}\n",
      "binary comparisons\n",
      "0.616\n",
      "Training Set Value: 160, Eta: 1274.2749857031322, Fold: 1 of range(0, 5)\n"
     ]
    },
    {
     "name": "stderr",
     "output_type": "stream",
     "text": [
      "/workspaces/codespaces-jupyter/helpers/half_ridge.py:149: RuntimeWarning: Mean of empty slice\n",
      "  post_weights = np.nanmean(samples1, axis=0)\n"
     ]
    },
    {
     "name": "stdout",
     "output_type": "stream",
     "text": [
      "Running half-ridge regression...\n",
      "Half ridge regression rejection sampling took 0.06375360488891602 seconds\n",
      "half-ridge coefficients\n",
      "{'Age': 0.33664928294950514, 'Blast Furnace Slag': 0.5234984957395752, 'Cement': 0.6816646596090674, 'Coarse Aggregate': 0.10733207177199124, 'Fine Aggregate': 0.07389481936185127, 'Fly Ash': 0.3742339603816224, 'Superplasticizer': 0.13152355514147115, 'Water': -0.17224179883661253, 'intercept': 0}\n"
     ]
    },
    {
     "name": "stderr",
     "output_type": "stream",
     "text": [
      "/workspaces/codespaces-jupyter/helpers/half_ridge.py:149: RuntimeWarning: Mean of empty slice\n",
      "  post_weights = np.nanmean(samples1, axis=0)\n"
     ]
    },
    {
     "name": "stdout",
     "output_type": "stream",
     "text": [
      "binary comparisons\n",
      "0.613\n",
      "Training Set Value: 160, Eta: 1274.2749857031322, Fold: 2 of range(0, 5)\n",
      "Running half-ridge regression...\n",
      "Half ridge regression rejection sampling took 0.06337904930114746 seconds\n",
      "half-ridge coefficients\n",
      "{'Age': 0.47067227156353175, 'Blast Furnace Slag': 0.4683655320246611, 'Cement': 0.7298640575763776, 'Coarse Aggregate': 0.05730722726179788, 'Fine Aggregate': 0.07770669557092309, 'Fly Ash': 0.2679814924792383, 'Superplasticizer': 0.11547216215517504, 'Water': -0.2575270807996179, 'intercept': 0}\n"
     ]
    },
    {
     "name": "stderr",
     "output_type": "stream",
     "text": [
      "/workspaces/codespaces-jupyter/helpers/half_ridge.py:149: RuntimeWarning: Mean of empty slice\n",
      "  post_weights = np.nanmean(samples1, axis=0)\n"
     ]
    },
    {
     "name": "stdout",
     "output_type": "stream",
     "text": [
      "binary comparisons\n",
      "0.687\n",
      "Training Set Value: 160, Eta: 1274.2749857031322, Fold: 3 of range(0, 5)\n",
      "Running half-ridge regression...\n",
      "Half ridge regression rejection sampling took 0.06484270095825195 seconds\n",
      "half-ridge coefficients\n",
      "{'Age': 0.4533866889504449, 'Blast Furnace Slag': 0.33744353495056734, 'Cement': 0.6114948416998518, 'Coarse Aggregate': -0.13800786580178684, 'Fine Aggregate': -0.057138322307728674, 'Fly Ash': 0.16391127755249044, 'Superplasticizer': -0.008447150115885356, 'Water': -0.3924561769089326, 'intercept': 0}\n"
     ]
    },
    {
     "name": "stderr",
     "output_type": "stream",
     "text": [
      "/workspaces/codespaces-jupyter/helpers/half_ridge.py:149: RuntimeWarning: Mean of empty slice\n",
      "  post_weights = np.nanmean(samples1, axis=0)\n"
     ]
    },
    {
     "name": "stdout",
     "output_type": "stream",
     "text": [
      "binary comparisons\n",
      "0.686\n",
      "Training Set Value: 160, Eta: 1274.2749857031322, Fold: 4 of range(0, 5)\n",
      "Running half-ridge regression...\n",
      "Half ridge regression rejection sampling took 0.05754995346069336 seconds\n",
      "half-ridge coefficients\n",
      "{'Age': 0.4028411007571939, 'Blast Furnace Slag': 0.2904189083818649, 'Cement': 0.47751241189043003, 'Coarse Aggregate': -0.15677016827998083, 'Fine Aggregate': -0.2040003448208774, 'Fly Ash': 0.18145236175507723, 'Superplasticizer': 0.018027559321834113, 'Water': -0.5607288045895514, 'intercept': 0}\n"
     ]
    },
    {
     "name": "stderr",
     "output_type": "stream",
     "text": [
      "/workspaces/codespaces-jupyter/helpers/half_ridge.py:149: RuntimeWarning: Mean of empty slice\n",
      "  post_weights = np.nanmean(samples1, axis=0)\n"
     ]
    },
    {
     "name": "stdout",
     "output_type": "stream",
     "text": [
      "binary comparisons\n",
      "0.694\n",
      "Training Set Value: 160, Eta: 3792.690190732246, Fold: 0 of range(0, 5)\n",
      "Running half-ridge regression...\n",
      "Half ridge regression rejection sampling took 0.05872035026550293 seconds\n",
      "half-ridge coefficients\n",
      "{'Age': 0.4554827409312065, 'Blast Furnace Slag': 0.611010140926165, 'Cement': 0.7824646834127865, 'Coarse Aggregate': 0.13226713911115326, 'Fine Aggregate': 0.1597110214398196, 'Fly Ash': 0.3979429575362565, 'Superplasticizer': 0.11644903655062479, 'Water': -0.10420394041427124, 'intercept': 0}\n"
     ]
    },
    {
     "name": "stderr",
     "output_type": "stream",
     "text": [
      "/workspaces/codespaces-jupyter/helpers/half_ridge.py:149: RuntimeWarning: Mean of empty slice\n",
      "  post_weights = np.nanmean(samples1, axis=0)\n"
     ]
    },
    {
     "name": "stdout",
     "output_type": "stream",
     "text": [
      "binary comparisons\n",
      "0.622\n",
      "Training Set Value: 160, Eta: 3792.690190732246, Fold: 1 of range(0, 5)\n",
      "Running half-ridge regression...\n",
      "Half ridge regression rejection sampling took 0.05556678771972656 seconds\n",
      "half-ridge coefficients\n",
      "{'Age': 0.336649146277636, 'Blast Furnace Slag': 0.5234993340324896, 'Cement': 0.6816654360540629, 'Coarse Aggregate': 0.10733257738235594, 'Fine Aggregate': 0.07389551130928473, 'Fly Ash': 0.3742351191996939, 'Superplasticizer': 0.13152356697015122, 'Water': -0.1722409304065574, 'intercept': 0}\n"
     ]
    },
    {
     "name": "stderr",
     "output_type": "stream",
     "text": [
      "/workspaces/codespaces-jupyter/helpers/half_ridge.py:149: RuntimeWarning: Mean of empty slice\n",
      "  post_weights = np.nanmean(samples1, axis=0)\n"
     ]
    },
    {
     "name": "stdout",
     "output_type": "stream",
     "text": [
      "binary comparisons\n",
      "0.622\n",
      "Training Set Value: 160, Eta: 3792.690190732246, Fold: 2 of range(0, 5)\n",
      "Running half-ridge regression...\n",
      "Half ridge regression rejection sampling took 0.05496478080749512 seconds\n",
      "half-ridge coefficients\n",
      "{'Age': 0.47067254698108246, 'Blast Furnace Slag': 0.4683662569954766, 'Cement': 0.7298640256411342, 'Coarse Aggregate': 0.05730753498166344, 'Fine Aggregate': 0.07770667704370413, 'Fly Ash': 0.2679821279299383, 'Superplasticizer': 0.11547246049966876, 'Water': -0.25752721743965773, 'intercept': 0}\n"
     ]
    },
    {
     "name": "stderr",
     "output_type": "stream",
     "text": [
      "/workspaces/codespaces-jupyter/helpers/half_ridge.py:149: RuntimeWarning: Mean of empty slice\n",
      "  post_weights = np.nanmean(samples1, axis=0)\n"
     ]
    },
    {
     "name": "stdout",
     "output_type": "stream",
     "text": [
      "binary comparisons\n",
      "0.656\n",
      "Training Set Value: 160, Eta: 3792.690190732246, Fold: 3 of range(0, 5)\n",
      "Running half-ridge regression...\n",
      "Half ridge regression rejection sampling took 0.059006690979003906 seconds\n",
      "half-ridge coefficients\n",
      "{'Age': 0.45338650347934917, 'Blast Furnace Slag': 0.3374427940546446, 'Cement': 0.6114945677052832, 'Coarse Aggregate': -0.13800843549025207, 'Fine Aggregate': -0.05713868561390622, 'Fly Ash': 0.16391069832709917, 'Superplasticizer': -0.008447604497869273, 'Water': -0.39245643162574817, 'intercept': 0}\n"
     ]
    },
    {
     "name": "stderr",
     "output_type": "stream",
     "text": [
      "/workspaces/codespaces-jupyter/helpers/half_ridge.py:149: RuntimeWarning: Mean of empty slice\n",
      "  post_weights = np.nanmean(samples1, axis=0)\n"
     ]
    },
    {
     "name": "stdout",
     "output_type": "stream",
     "text": [
      "binary comparisons\n",
      "0.692\n",
      "Training Set Value: 160, Eta: 3792.690190732246, Fold: 4 of range(0, 5)\n",
      "Running half-ridge regression...\n",
      "Half ridge regression rejection sampling took 0.06389355659484863 seconds\n",
      "half-ridge coefficients\n",
      "{'Age': 0.40284132860987476, 'Blast Furnace Slag': 0.2904179855300116, 'Cement': 0.477511496766451, 'Coarse Aggregate': -0.15677082468513648, 'Fine Aggregate': -0.20400136537767186, 'Fly Ash': 0.18145157128594439, 'Superplasticizer': 0.01802840373031663, 'Water': -0.5607290978186431, 'intercept': 0}\n"
     ]
    },
    {
     "name": "stderr",
     "output_type": "stream",
     "text": [
      "/workspaces/codespaces-jupyter/helpers/half_ridge.py:149: RuntimeWarning: Mean of empty slice\n",
      "  post_weights = np.nanmean(samples1, axis=0)\n"
     ]
    },
    {
     "name": "stdout",
     "output_type": "stream",
     "text": [
      "binary comparisons\n",
      "0.689\n",
      "Training Set Value: 160, Eta: 11288.378916846883, Fold: 0 of range(0, 5)\n",
      "Running half-ridge regression...\n",
      "Half ridge regression rejection sampling took 0.055062294006347656 seconds\n",
      "half-ridge coefficients\n",
      "{'Age': 0.4554826360873114, 'Blast Furnace Slag': 0.6110103456408322, 'Cement': 0.7824648927299251, 'Coarse Aggregate': 0.1322673439024942, 'Fine Aggregate': 0.15971128704900378, 'Fly Ash': 0.3979431677659422, 'Superplasticizer': 0.11644897285688673, 'Water': -0.10420377178600497, 'intercept': 0}\n"
     ]
    },
    {
     "name": "stderr",
     "output_type": "stream",
     "text": [
      "/workspaces/codespaces-jupyter/helpers/half_ridge.py:149: RuntimeWarning: Mean of empty slice\n",
      "  post_weights = np.nanmean(samples1, axis=0)\n"
     ]
    },
    {
     "name": "stdout",
     "output_type": "stream",
     "text": [
      "binary comparisons\n",
      "0.593\n",
      "Training Set Value: 160, Eta: 11288.378916846883, Fold: 1 of range(0, 5)\n",
      "Running half-ridge regression...\n",
      "Half ridge regression rejection sampling took 0.05724501609802246 seconds\n",
      "half-ridge coefficients\n",
      "{'Age': 0.3366492595437121, 'Blast Furnace Slag': 0.5234988700300368, 'Cement': 0.6816648500374347, 'Coarse Aggregate': 0.10733224465816643, 'Fine Aggregate': 0.07389504212247108, 'Fly Ash': 0.37423461235875977, 'Superplasticizer': 0.13152371381710132, 'Water': -0.17224125757621686, 'intercept': 0}\n"
     ]
    },
    {
     "name": "stderr",
     "output_type": "stream",
     "text": [
      "/workspaces/codespaces-jupyter/helpers/half_ridge.py:149: RuntimeWarning: Mean of empty slice\n",
      "  post_weights = np.nanmean(samples1, axis=0)\n"
     ]
    },
    {
     "name": "stdout",
     "output_type": "stream",
     "text": [
      "binary comparisons\n",
      "0.61\n",
      "Training Set Value: 160, Eta: 11288.378916846883, Fold: 2 of range(0, 5)\n",
      "Running half-ridge regression...\n",
      "Half ridge regression rejection sampling took 0.05791759490966797 seconds\n",
      "half-ridge coefficients\n",
      "{'Age': 0.4706725581241666, 'Blast Furnace Slag': 0.46836613430808327, 'Cement': 0.7298638735029953, 'Coarse Aggregate': 0.057307317398727076, 'Fine Aggregate': 0.07770624503217298, 'Fly Ash': 0.26798192539229176, 'Superplasticizer': 0.11547233294362022, 'Water': -0.25752757677869537, 'intercept': 0}\n"
     ]
    },
    {
     "name": "stderr",
     "output_type": "stream",
     "text": [
      "/workspaces/codespaces-jupyter/helpers/half_ridge.py:149: RuntimeWarning: Mean of empty slice\n",
      "  post_weights = np.nanmean(samples1, axis=0)\n"
     ]
    },
    {
     "name": "stdout",
     "output_type": "stream",
     "text": [
      "binary comparisons\n",
      "0.648\n",
      "Training Set Value: 160, Eta: 11288.378916846883, Fold: 3 of range(0, 5)\n",
      "Running half-ridge regression...\n",
      "Half ridge regression rejection sampling took 0.055769920349121094 seconds\n",
      "half-ridge coefficients\n",
      "{'Age': 0.4533863104168094, 'Blast Furnace Slag': 0.3374431169530638, 'Cement': 0.6114949848484015, 'Coarse Aggregate': -0.1380081842104971, 'Fine Aggregate': -0.05713841106969964, 'Fly Ash': 0.16391073420473054, 'Superplasticizer': -0.008447560054438351, 'Water': -0.392456355374798, 'intercept': 0}\n"
     ]
    },
    {
     "name": "stderr",
     "output_type": "stream",
     "text": [
      "/workspaces/codespaces-jupyter/helpers/half_ridge.py:149: RuntimeWarning: Mean of empty slice\n",
      "  post_weights = np.nanmean(samples1, axis=0)\n"
     ]
    },
    {
     "name": "stdout",
     "output_type": "stream",
     "text": [
      "binary comparisons\n",
      "0.694\n",
      "Training Set Value: 160, Eta: 11288.378916846883, Fold: 4 of range(0, 5)\n",
      "Running half-ridge regression...\n",
      "Half ridge regression rejection sampling took 0.06498932838439941 seconds\n",
      "half-ridge coefficients\n",
      "{'Age': 0.40284150047385586, 'Blast Furnace Slag': 0.2904184639541976, 'Cement': 0.4775117402470212, 'Coarse Aggregate': -0.15677041710296413, 'Fine Aggregate': -0.20400105700412394, 'Fly Ash': 0.18145156433488444, 'Superplasticizer': 0.018028747482326454, 'Water': -0.5607287134976269, 'intercept': 0}\n"
     ]
    },
    {
     "name": "stderr",
     "output_type": "stream",
     "text": [
      "/workspaces/codespaces-jupyter/helpers/half_ridge.py:149: RuntimeWarning: Mean of empty slice\n",
      "  post_weights = np.nanmean(samples1, axis=0)\n"
     ]
    },
    {
     "name": "stdout",
     "output_type": "stream",
     "text": [
      "binary comparisons\n",
      "0.707\n",
      "Training Set Value: 160, Eta: 33598.18286283774, Fold: 0 of range(0, 5)\n",
      "Running half-ridge regression...\n",
      "Half ridge regression rejection sampling took 0.07203531265258789 seconds\n",
      "half-ridge coefficients\n",
      "{'Age': 0.45548270993594625, 'Blast Furnace Slag': 0.6110104150309124, 'Cement': 0.7824649035476503, 'Coarse Aggregate': 0.1322673335056963, 'Fine Aggregate': 0.15971126537086167, 'Fly Ash': 0.3979431936882164, 'Superplasticizer': 0.11644892673952868, 'Water': -0.10420381619772098, 'intercept': 0}\n"
     ]
    },
    {
     "name": "stderr",
     "output_type": "stream",
     "text": [
      "/workspaces/codespaces-jupyter/helpers/half_ridge.py:149: RuntimeWarning: Mean of empty slice\n",
      "  post_weights = np.nanmean(samples1, axis=0)\n"
     ]
    },
    {
     "name": "stdout",
     "output_type": "stream",
     "text": [
      "binary comparisons\n",
      "0.607\n",
      "Training Set Value: 160, Eta: 33598.18286283774, Fold: 1 of range(0, 5)\n",
      "Running half-ridge regression...\n",
      "Half ridge regression rejection sampling took 0.055502891540527344 seconds\n",
      "half-ridge coefficients\n",
      "{'Age': 0.33664927926431626, 'Blast Furnace Slag': 0.5234989420012846, 'Cement': 0.6816649170166893, 'Coarse Aggregate': 0.10733232203034476, 'Fine Aggregate': 0.07389510939467264, 'Fly Ash': 0.3742347245607795, 'Superplasticizer': 0.1315237884556489, 'Water': -0.17224112820405102, 'intercept': 0}\n",
      "binary comparisons\n",
      "0.629\n",
      "Training Set Value: 160, Eta: 33598.18286283774, Fold: 2 of range(0, 5)\n"
     ]
    },
    {
     "name": "stderr",
     "output_type": "stream",
     "text": [
      "/workspaces/codespaces-jupyter/helpers/half_ridge.py:149: RuntimeWarning: Mean of empty slice\n",
      "  post_weights = np.nanmean(samples1, axis=0)\n"
     ]
    },
    {
     "name": "stdout",
     "output_type": "stream",
     "text": [
      "Running half-ridge regression...\n",
      "Half ridge regression rejection sampling took 0.05852937698364258 seconds\n",
      "half-ridge coefficients\n",
      "{'Age': 0.4706725287522545, 'Blast Furnace Slag': 0.46836609299502496, 'Cement': 0.7298638799275422, 'Coarse Aggregate': 0.05730736944590345, 'Fine Aggregate': 0.07770627640414489, 'Fly Ash': 0.2679819157574436, 'Superplasticizer': 0.11547238074597112, 'Water': -0.2575275332604995, 'intercept': 0}\n",
      "binary comparisons\n",
      "0.663\n",
      "Training Set Value: 160, Eta: 33598.18286283774, Fold: 3 of range(0, 5)\n"
     ]
    },
    {
     "name": "stderr",
     "output_type": "stream",
     "text": [
      "/workspaces/codespaces-jupyter/helpers/half_ridge.py:149: RuntimeWarning: Mean of empty slice\n",
      "  post_weights = np.nanmean(samples1, axis=0)\n"
     ]
    },
    {
     "name": "stdout",
     "output_type": "stream",
     "text": [
      "Running half-ridge regression...\n",
      "Half ridge regression rejection sampling took 0.05583453178405762 seconds\n",
      "half-ridge coefficients\n",
      "{'Age': 0.4533863472141092, 'Blast Furnace Slag': 0.3374431580759828, 'Cement': 0.6114950010661951, 'Coarse Aggregate': -0.13800815978347408, 'Fine Aggregate': -0.05713835326232865, 'Fly Ash': 0.16391080948344336, 'Superplasticizer': -0.008447534000333943, 'Water': -0.39245629438740326, 'intercept': 0}\n",
      "binary comparisons\n",
      "0.72\n",
      "Training Set Value: 160, Eta: 33598.18286283774, Fold: 4 of range(0, 5)\n"
     ]
    },
    {
     "name": "stderr",
     "output_type": "stream",
     "text": [
      "/workspaces/codespaces-jupyter/helpers/half_ridge.py:149: RuntimeWarning: Mean of empty slice\n",
      "  post_weights = np.nanmean(samples1, axis=0)\n"
     ]
    },
    {
     "name": "stdout",
     "output_type": "stream",
     "text": [
      "Running half-ridge regression...\n",
      "Half ridge regression rejection sampling took 0.055245161056518555 seconds\n",
      "half-ridge coefficients\n",
      "{'Age': 0.402841499127418, 'Blast Furnace Slag': 0.2904183589529775, 'Cement': 0.477511674263509, 'Coarse Aggregate': -0.15677053225265516, 'Fine Aggregate': -0.20400108200012365, 'Fly Ash': 0.18145155324349907, 'Superplasticizer': 0.018028747765075185, 'Water': -0.5607287176259791, 'intercept': 0}\n"
     ]
    },
    {
     "name": "stderr",
     "output_type": "stream",
     "text": [
      "/workspaces/codespaces-jupyter/helpers/half_ridge.py:149: RuntimeWarning: Mean of empty slice\n",
      "  post_weights = np.nanmean(samples1, axis=0)\n"
     ]
    },
    {
     "name": "stdout",
     "output_type": "stream",
     "text": [
      "binary comparisons\n",
      "0.714\n",
      "Training Set Value: 160, Eta: 100000.0, Fold: 0 of range(0, 5)\n",
      "Running half-ridge regression...\n",
      "Half ridge regression rejection sampling took 0.05489659309387207 seconds\n",
      "half-ridge coefficients\n",
      "{'Age': 0.4554826865133103, 'Blast Furnace Slag': 0.6110104319453328, 'Cement': 0.7824649329155448, 'Coarse Aggregate': 0.13226736548942317, 'Fine Aggregate': 0.15971129775016957, 'Fly Ash': 0.3979432244660104, 'Superplasticizer': 0.11644897422422609, 'Water': -0.10420375654582965, 'intercept': 0}\n"
     ]
    },
    {
     "name": "stderr",
     "output_type": "stream",
     "text": [
      "/workspaces/codespaces-jupyter/helpers/half_ridge.py:149: RuntimeWarning: Mean of empty slice\n",
      "  post_weights = np.nanmean(samples1, axis=0)\n"
     ]
    },
    {
     "name": "stdout",
     "output_type": "stream",
     "text": [
      "binary comparisons\n",
      "0.61\n",
      "Training Set Value: 160, Eta: 100000.0, Fold: 1 of range(0, 5)\n",
      "Running half-ridge regression...\n",
      "Half ridge regression rejection sampling took 0.056865692138671875 seconds\n",
      "half-ridge coefficients\n",
      "{'Age': 0.33664926806396206, 'Blast Furnace Slag': 0.5234989660175243, 'Cement': 0.6816649206471088, 'Coarse Aggregate': 0.10733233098109718, 'Fine Aggregate': 0.07389511962956538, 'Fly Ash': 0.3742346999348057, 'Superplasticizer': 0.1315238060668145, 'Water': -0.17224110400366813, 'intercept': 0}\n"
     ]
    },
    {
     "name": "stderr",
     "output_type": "stream",
     "text": [
      "/workspaces/codespaces-jupyter/helpers/half_ridge.py:149: RuntimeWarning: Mean of empty slice\n",
      "  post_weights = np.nanmean(samples1, axis=0)\n"
     ]
    },
    {
     "name": "stdout",
     "output_type": "stream",
     "text": [
      "binary comparisons\n",
      "0.612\n",
      "Training Set Value: 160, Eta: 100000.0, Fold: 2 of range(0, 5)\n",
      "Running half-ridge regression...\n",
      "Half ridge regression rejection sampling took 0.05873394012451172 seconds\n",
      "half-ridge coefficients\n",
      "{'Age': 0.47067254111551454, 'Blast Furnace Slag': 0.4683661039853723, 'Cement': 0.7298638862240134, 'Coarse Aggregate': 0.05730739480295285, 'Fine Aggregate': 0.07770629985978054, 'Fly Ash': 0.2679819116988912, 'Superplasticizer': 0.11547238222101214, 'Water': -0.25752753432538955, 'intercept': 0}\n"
     ]
    },
    {
     "name": "stderr",
     "output_type": "stream",
     "text": [
      "/workspaces/codespaces-jupyter/helpers/half_ridge.py:149: RuntimeWarning: Mean of empty slice\n",
      "  post_weights = np.nanmean(samples1, axis=0)\n"
     ]
    },
    {
     "name": "stdout",
     "output_type": "stream",
     "text": [
      "binary comparisons\n",
      "0.654\n",
      "Training Set Value: 160, Eta: 100000.0, Fold: 3 of range(0, 5)\n",
      "Running half-ridge regression...\n",
      "Half ridge regression rejection sampling took 0.056630849838256836 seconds\n",
      "half-ridge coefficients\n",
      "{'Age': 0.4533863343899216, 'Blast Furnace Slag': 0.337443136925666, 'Cement': 0.6114949772262368, 'Coarse Aggregate': -0.1380081588302158, 'Fine Aggregate': -0.057138380509801016, 'Fly Ash': 0.16391078862521943, 'Superplasticizer': -0.008447529966872478, 'Water': -0.3924563091940867, 'intercept': 0}\n"
     ]
    },
    {
     "name": "stderr",
     "output_type": "stream",
     "text": [
      "/workspaces/codespaces-jupyter/helpers/half_ridge.py:149: RuntimeWarning: Mean of empty slice\n",
      "  post_weights = np.nanmean(samples1, axis=0)\n"
     ]
    },
    {
     "name": "stdout",
     "output_type": "stream",
     "text": [
      "binary comparisons\n",
      "0.711\n",
      "Training Set Value: 160, Eta: 100000.0, Fold: 4 of range(0, 5)\n",
      "Running half-ridge regression...\n",
      "Half ridge regression rejection sampling took 0.05437588691711426 seconds\n",
      "half-ridge coefficients\n",
      "{'Age': 0.4028414993546073, 'Blast Furnace Slag': 0.2904183782760584, 'Cement': 0.4775116768386541, 'Coarse Aggregate': -0.1567705037347354, 'Fine Aggregate': -0.20400107359000852, 'Fly Ash': 0.18145157303567738, 'Superplasticizer': 0.0180287512777637, 'Water': -0.5607286838078719, 'intercept': 0}\n"
     ]
    },
    {
     "name": "stderr",
     "output_type": "stream",
     "text": [
      "/workspaces/codespaces-jupyter/helpers/half_ridge.py:149: RuntimeWarning: Mean of empty slice\n",
      "  post_weights = np.nanmean(samples1, axis=0)\n"
     ]
    },
    {
     "name": "stdout",
     "output_type": "stream",
     "text": [
      "binary comparisons\n",
      "0.706\n",
      "Training Set Value: 160, Eta: inf, Fold: 0 of range(0, 5)\n",
      "Running half-ridge regression...\n",
      "Half ridge regression rejection sampling took 1.8835067749023438e-05 seconds\n",
      "half-ridge coefficients\n",
      "{'Age': -8.368345781889688e-17, 'Blast Furnace Slag': -1.5096186945043219e-16, 'Cement': 1.0000000000000002, 'Coarse Aggregate': -4.347242919660689e-16, 'Fine Aggregate': -3.3052802208565035e-16, 'Fly Ash': -5.041658298357918e-16, 'Superplasticizer': -5.602582774194621e-16, 'Water': -6.106312750029087e-17, 'intercept': 0}\n",
      "binary comparisons\n",
      "0.503\n",
      "Training Set Value: 160, Eta: inf, Fold: 1 of range(0, 5)\n",
      "Running half-ridge regression...\n",
      "Half ridge regression rejection sampling took 2.47955322265625e-05 seconds\n",
      "half-ridge coefficients\n",
      "{'Age': -8.368345781889688e-17, 'Blast Furnace Slag': -1.5096186945043219e-16, 'Cement': 1.0000000000000002, 'Coarse Aggregate': -4.347242919660689e-16, 'Fine Aggregate': -3.3052802208565035e-16, 'Fly Ash': -5.041658298357918e-16, 'Superplasticizer': -5.602582774194621e-16, 'Water': -6.106312750029087e-17, 'intercept': 0}\n",
      "binary comparisons\n",
      "0.452\n",
      "Training Set Value: 160, Eta: inf, Fold: 2 of range(0, 5)\n",
      "Running half-ridge regression...\n",
      "Half ridge regression rejection sampling took 5.030632019042969e-05 seconds\n",
      "half-ridge coefficients\n",
      "{'Age': -8.368345781889688e-17, 'Blast Furnace Slag': -1.5096186945043219e-16, 'Cement': 1.0000000000000002, 'Coarse Aggregate': -4.347242919660689e-16, 'Fine Aggregate': -3.3052802208565035e-16, 'Fly Ash': -5.041658298357918e-16, 'Superplasticizer': -5.602582774194621e-16, 'Water': -6.106312750029087e-17, 'intercept': 0}\n",
      "binary comparisons\n",
      "0.492\n",
      "Training Set Value: 160, Eta: inf, Fold: 3 of range(0, 5)\n",
      "Running half-ridge regression...\n",
      "Half ridge regression rejection sampling took 5.14984130859375e-05 seconds\n",
      "half-ridge coefficients\n",
      "{'Age': -8.368345781889688e-17, 'Blast Furnace Slag': -1.5096186945043219e-16, 'Cement': 1.0000000000000002, 'Coarse Aggregate': -4.347242919660689e-16, 'Fine Aggregate': -3.3052802208565035e-16, 'Fly Ash': -5.041658298357918e-16, 'Superplasticizer': -5.602582774194621e-16, 'Water': -6.106312750029087e-17, 'intercept': 0}\n",
      "binary comparisons\n",
      "0.471\n",
      "Training Set Value: 160, Eta: inf, Fold: 4 of range(0, 5)\n",
      "Running half-ridge regression...\n",
      "Half ridge regression rejection sampling took 1.9550323486328125e-05 seconds\n",
      "half-ridge coefficients\n",
      "{'Age': -8.368345781889688e-17, 'Blast Furnace Slag': -1.5096186945043219e-16, 'Cement': 1.0000000000000002, 'Coarse Aggregate': -4.347242919660689e-16, 'Fine Aggregate': -3.3052802208565035e-16, 'Fly Ash': -5.041658298357918e-16, 'Superplasticizer': -5.602582774194621e-16, 'Water': -6.106312750029087e-17, 'intercept': 0}\n",
      "binary comparisons\n",
      "0.477\n",
      "Training Set Index: 3, Training Set Value: 610\n",
      "Training Set Value: 610, Eta: 0.0, Fold: 0 of range(0, 5)\n",
      "Running half-ridge regression...\n",
      "{'Cement': 0.7978845608028654, 'Superplasticizer': -0.7978845608028654, 'Age': -0.7978845608028654, 'Water': -0.7978845608028654, 'Fine Aggregate': -0.7978845608028654, 'Coarse Aggregate': -0.7978845608028654, 'Blast Furnace Slag': -0.7978845608028654, 'Fly Ash': -0.7978845608028654}\n",
      "Half ridge regression rejection sampling took 5.650520324707031e-05 seconds\n",
      "half-ridge coefficients\n",
      "{'Age': -0.7978845608028654, 'Blast Furnace Slag': -0.7978845608028654, 'Cement': 0.7978845608028654, 'Coarse Aggregate': -0.7978845608028654, 'Fine Aggregate': -0.7978845608028654, 'Fly Ash': -0.7978845608028654, 'Superplasticizer': -0.7978845608028654, 'Water': -0.7978845608028654, 'intercept': 0}\n",
      "binary comparisons\n",
      "0.472\n",
      "Training Set Value: 610, Eta: 0.0, Fold: 1 of range(0, 5)\n",
      "Running half-ridge regression...\n",
      "{'Cement': 0.7978845608028654, 'Superplasticizer': -0.7978845608028654, 'Age': -0.7978845608028654, 'Water': -0.7978845608028654, 'Fine Aggregate': -0.7978845608028654, 'Coarse Aggregate': -0.7978845608028654, 'Blast Furnace Slag': -0.7978845608028654, 'Fly Ash': -0.7978845608028654}\n",
      "Half ridge regression rejection sampling took 8.440017700195312e-05 seconds\n",
      "half-ridge coefficients\n",
      "{'Age': -0.7978845608028654, 'Blast Furnace Slag': -0.7978845608028654, 'Cement': 0.7978845608028654, 'Coarse Aggregate': -0.7978845608028654, 'Fine Aggregate': -0.7978845608028654, 'Fly Ash': -0.7978845608028654, 'Superplasticizer': -0.7978845608028654, 'Water': -0.7978845608028654, 'intercept': 0}\n",
      "binary comparisons\n",
      "0.459\n",
      "Training Set Value: 610, Eta: 0.0, Fold: 2 of range(0, 5)\n",
      "Running half-ridge regression...\n",
      "{'Cement': 0.7978845608028654, 'Superplasticizer': -0.7978845608028654, 'Age': -0.7978845608028654, 'Water': -0.7978845608028654, 'Fine Aggregate': -0.7978845608028654, 'Coarse Aggregate': -0.7978845608028654, 'Blast Furnace Slag': -0.7978845608028654, 'Fly Ash': -0.7978845608028654}\n",
      "Half ridge regression rejection sampling took 8.797645568847656e-05 seconds\n",
      "half-ridge coefficients\n",
      "{'Age': -0.7978845608028654, 'Blast Furnace Slag': -0.7978845608028654, 'Cement': 0.7978845608028654, 'Coarse Aggregate': -0.7978845608028654, 'Fine Aggregate': -0.7978845608028654, 'Fly Ash': -0.7978845608028654, 'Superplasticizer': -0.7978845608028654, 'Water': -0.7978845608028654, 'intercept': 0}\n",
      "binary comparisons\n",
      "0.453\n",
      "Training Set Value: 610, Eta: 0.0, Fold: 3 of range(0, 5)\n",
      "Running half-ridge regression...\n",
      "{'Cement': 0.7978845608028654, 'Superplasticizer': -0.7978845608028654, 'Age': -0.7978845608028654, 'Water': -0.7978845608028654, 'Fine Aggregate': -0.7978845608028654, 'Coarse Aggregate': -0.7978845608028654, 'Blast Furnace Slag': -0.7978845608028654, 'Fly Ash': -0.7978845608028654}\n",
      "Half ridge regression rejection sampling took 9.775161743164062e-05 seconds\n",
      "half-ridge coefficients\n",
      "{'Age': -0.7978845608028654, 'Blast Furnace Slag': -0.7978845608028654, 'Cement': 0.7978845608028654, 'Coarse Aggregate': -0.7978845608028654, 'Fine Aggregate': -0.7978845608028654, 'Fly Ash': -0.7978845608028654, 'Superplasticizer': -0.7978845608028654, 'Water': -0.7978845608028654, 'intercept': 0}\n",
      "binary comparisons\n",
      "0.464\n",
      "Training Set Value: 610, Eta: 0.0, Fold: 4 of range(0, 5)\n",
      "Running half-ridge regression...\n",
      "{'Cement': 0.7978845608028654, 'Superplasticizer': -0.7978845608028654, 'Age': -0.7978845608028654, 'Water': -0.7978845608028654, 'Fine Aggregate': -0.7978845608028654, 'Coarse Aggregate': -0.7978845608028654, 'Blast Furnace Slag': -0.7978845608028654, 'Fly Ash': -0.7978845608028654}\n",
      "Half ridge regression rejection sampling took 5.984306335449219e-05 seconds\n",
      "half-ridge coefficients\n",
      "{'Age': -0.7978845608028654, 'Blast Furnace Slag': -0.7978845608028654, 'Cement': 0.7978845608028654, 'Coarse Aggregate': -0.7978845608028654, 'Fine Aggregate': -0.7978845608028654, 'Fly Ash': -0.7978845608028654, 'Superplasticizer': -0.7978845608028654, 'Water': -0.7978845608028654, 'intercept': 0}\n",
      "binary comparisons\n",
      "0.468\n",
      "Training Set Value: 610, Eta: 0.0001, Fold: 0 of range(0, 5)\n",
      "Running half-ridge regression...\n",
      "Half ridge regression rejection sampling took 0.052573204040527344 seconds\n",
      "half-ridge coefficients\n",
      "{'Age': -7.813325816604666e-09, 'Blast Furnace Slag': -7.482548971433336e-09, 'Cement': 7.92878098894929e-09, 'Coarse Aggregate': -8.067040239162671e-09, 'Fine Aggregate': -8.516380066065146e-09, 'Fly Ash': -7.862815245614567e-09, 'Superplasticizer': -7.433744903738972e-09, 'Water': -7.868251328858524e-09, 'intercept': 0}\n",
      "binary comparisons\n",
      "0.488\n",
      "Training Set Value: 610, Eta: 0.0001, Fold: 1 of range(0, 5)\n",
      "Running half-ridge regression...\n",
      "Half ridge regression rejection sampling took 0.03447747230529785 seconds\n",
      "half-ridge coefficients\n",
      "{'Age': -7.769242819702065e-09, 'Blast Furnace Slag': -7.965584270308385e-09, 'Cement': 7.921952529087003e-09, 'Coarse Aggregate': -8.105567506578342e-09, 'Fine Aggregate': -7.97309026587338e-09, 'Fly Ash': -8.40875817992778e-09, 'Superplasticizer': -7.82345522179634e-09, 'Water': -7.784283127556437e-09, 'intercept': 0}\n",
      "binary comparisons\n",
      "0.445\n",
      "Training Set Value: 610, Eta: 0.0001, Fold: 2 of range(0, 5)\n",
      "Running half-ridge regression...\n",
      "Half ridge regression rejection sampling took 0.0346524715423584 seconds\n",
      "half-ridge coefficients\n",
      "{'Age': -7.725884555373188e-09, 'Blast Furnace Slag': -7.577189923045381e-09, 'Cement': 8.60066295107718e-09, 'Coarse Aggregate': -8.016072532857085e-09, 'Fine Aggregate': -7.519734567783014e-09, 'Fly Ash': -8.014067937126516e-09, 'Superplasticizer': -7.376482741363382e-09, 'Water': -7.65255485979586e-09, 'intercept': 0}\n",
      "binary comparisons\n",
      "0.468\n",
      "Training Set Value: 610, Eta: 0.0001, Fold: 3 of range(0, 5)\n",
      "Running half-ridge regression...\n",
      "Half ridge regression rejection sampling took 0.0352475643157959 seconds\n",
      "half-ridge coefficients\n",
      "{'Age': -7.88046848999952e-09, 'Blast Furnace Slag': -8.225795148743075e-09, 'Cement': 8.208400891039857e-09, 'Coarse Aggregate': -7.775788838964141e-09, 'Fine Aggregate': -7.987325522331658e-09, 'Fly Ash': -7.729113803346433e-09, 'Superplasticizer': -8.081518495989438e-09, 'Water': -7.811241854819937e-09, 'intercept': 0}\n",
      "binary comparisons\n",
      "0.453\n",
      "Training Set Value: 610, Eta: 0.0001, Fold: 4 of range(0, 5)\n",
      "Running half-ridge regression...\n",
      "Half ridge regression rejection sampling took 0.04901242256164551 seconds\n",
      "half-ridge coefficients\n",
      "{'Age': -7.933264085727734e-09, 'Blast Furnace Slag': -7.748640927982933e-09, 'Cement': 7.424772876681003e-09, 'Coarse Aggregate': -7.721750408537455e-09, 'Fine Aggregate': -8.171422672390159e-09, 'Fly Ash': -8.005633106085493e-09, 'Superplasticizer': -8.167594204321377e-09, 'Water': -7.280934433705523e-09, 'intercept': 0}\n",
      "binary comparisons\n",
      "0.46\n",
      "Training Set Value: 610, Eta: 0.00029763514416313193, Fold: 0 of range(0, 5)\n",
      "Running half-ridge regression...\n",
      "Half ridge regression rejection sampling took 0.034929752349853516 seconds\n",
      "half-ridge coefficients\n",
      "{'Age': -7.053962220992282e-08, 'Blast Furnace Slag': -6.682310235807196e-08, 'Cement': 7.172962654788802e-08, 'Coarse Aggregate': -7.231483037037197e-08, 'Fine Aggregate': -7.018354566905806e-08, 'Fly Ash': -7.187791695292608e-08, 'Superplasticizer': -6.993869062630972e-08, 'Water': -7.095681419397887e-08, 'intercept': 0}\n",
      "binary comparisons\n",
      "0.469\n",
      "Training Set Value: 610, Eta: 0.00029763514416313193, Fold: 1 of range(0, 5)\n",
      "Running half-ridge regression...\n",
      "Half ridge regression rejection sampling took 0.03436446189880371 seconds\n",
      "half-ridge coefficients\n",
      "{'Age': -6.916851799037297e-08, 'Blast Furnace Slag': -7.04317864716757e-08, 'Cement': 7.028453048630065e-08, 'Coarse Aggregate': -7.194826915309248e-08, 'Fine Aggregate': -6.882582027585741e-08, 'Fly Ash': -6.351443102811219e-08, 'Superplasticizer': -7.200674935369414e-08, 'Water': -6.648886483164177e-08, 'intercept': 0}\n",
      "binary comparisons\n",
      "0.495\n",
      "Training Set Value: 610, Eta: 0.00029763514416313193, Fold: 2 of range(0, 5)\n",
      "Running half-ridge regression...\n",
      "Half ridge regression rejection sampling took 0.03467845916748047 seconds\n",
      "half-ridge coefficients\n",
      "{'Age': -7.206223481097887e-08, 'Blast Furnace Slag': -7.373090394481903e-08, 'Cement': 7.120002530455906e-08, 'Coarse Aggregate': -7.114965668073042e-08, 'Fine Aggregate': -7.163535097598426e-08, 'Fly Ash': -7.047669860713501e-08, 'Superplasticizer': -7.125962849018914e-08, 'Water': -7.15889439164874e-08, 'intercept': 0}\n",
      "binary comparisons\n",
      "0.457\n",
      "Training Set Value: 610, Eta: 0.00029763514416313193, Fold: 3 of range(0, 5)\n",
      "Running half-ridge regression...\n",
      "Half ridge regression rejection sampling took 0.03410029411315918 seconds\n",
      "half-ridge coefficients\n",
      "{'Age': -7.194518032570401e-08, 'Blast Furnace Slag': -7.508665224608315e-08, 'Cement': 6.983045810091179e-08, 'Coarse Aggregate': -7.142097878896331e-08, 'Fine Aggregate': -7.196052649396515e-08, 'Fly Ash': -6.803951603829882e-08, 'Superplasticizer': -7.13673898902357e-08, 'Water': -7.005249995314844e-08, 'intercept': 0}\n",
      "binary comparisons\n",
      "0.482\n",
      "Training Set Value: 610, Eta: 0.00029763514416313193, Fold: 4 of range(0, 5)\n",
      "Running half-ridge regression...\n",
      "Half ridge regression rejection sampling took 0.03420686721801758 seconds\n",
      "half-ridge coefficients\n",
      "{'Age': -7.094499406550648e-08, 'Blast Furnace Slag': -6.668514500975625e-08, 'Cement': 7.295291471656147e-08, 'Coarse Aggregate': -7.610991222679263e-08, 'Fine Aggregate': -7.018010600350401e-08, 'Fly Ash': -7.175230055901943e-08, 'Superplasticizer': -6.836029691057286e-08, 'Water': -7.139976106879047e-08, 'intercept': 0}\n",
      "binary comparisons\n",
      "0.47\n",
      "Training Set Value: 610, Eta: 0.0008858667904100823, Fold: 0 of range(0, 5)\n",
      "Running half-ridge regression...\n",
      "Half ridge regression rejection sampling took 0.03675341606140137 seconds\n",
      "half-ridge coefficients\n",
      "{'Age': -6.351564679295144e-07, 'Blast Furnace Slag': -6.248483015420844e-07, 'Cement': 6.436248528458845e-07, 'Coarse Aggregate': -6.051677107298914e-07, 'Fine Aggregate': -6.24260489962054e-07, 'Fly Ash': -6.470047841248792e-07, 'Superplasticizer': -6.678490445405656e-07, 'Water': -6.112580405554838e-07, 'intercept': 0}\n",
      "binary comparisons\n",
      "0.483\n",
      "Training Set Value: 610, Eta: 0.0008858667904100823, Fold: 1 of range(0, 5)\n",
      "Running half-ridge regression...\n",
      "Half ridge regression rejection sampling took 0.03500628471374512 seconds\n",
      "half-ridge coefficients\n",
      "{'Age': -6.290718765302885e-07, 'Blast Furnace Slag': -6.218090775943082e-07, 'Cement': 6.512968728665486e-07, 'Coarse Aggregate': -6.306853973190478e-07, 'Fine Aggregate': -5.77461409789127e-07, 'Fly Ash': -6.418771629853446e-07, 'Superplasticizer': -6.499790740190515e-07, 'Water': -6.246718377870153e-07, 'intercept': 0}\n",
      "binary comparisons\n",
      "0.482\n",
      "Training Set Value: 610, Eta: 0.0008858667904100823, Fold: 2 of range(0, 5)\n",
      "Running half-ridge regression...\n",
      "Half ridge regression rejection sampling took 0.03464317321777344 seconds\n",
      "half-ridge coefficients\n",
      "{'Age': -6.358214020982414e-07, 'Blast Furnace Slag': -6.374594762426529e-07, 'Cement': 6.15782090674245e-07, 'Coarse Aggregate': -6.176937542618051e-07, 'Fine Aggregate': -6.535899376408143e-07, 'Fly Ash': -6.046362571523992e-07, 'Superplasticizer': -6.468346771341071e-07, 'Water': -6.236236440713614e-07, 'intercept': 0}\n",
      "binary comparisons\n",
      "0.474\n",
      "Training Set Value: 610, Eta: 0.0008858667904100823, Fold: 3 of range(0, 5)\n",
      "Running half-ridge regression...\n",
      "Half ridge regression rejection sampling took 0.06388020515441895 seconds\n",
      "half-ridge coefficients\n",
      "{'Age': -6.411512224478554e-07, 'Blast Furnace Slag': -6.47203758410099e-07, 'Cement': 6.130511342211903e-07, 'Coarse Aggregate': -6.316818970373403e-07, 'Fine Aggregate': -5.968129794559806e-07, 'Fly Ash': -6.364134574907412e-07, 'Superplasticizer': -6.036307046292684e-07, 'Water': -6.369315676626739e-07, 'intercept': 0}\n",
      "binary comparisons\n",
      "0.499\n",
      "Training Set Value: 610, Eta: 0.0008858667904100823, Fold: 4 of range(0, 5)\n",
      "Running half-ridge regression...\n",
      "Half ridge regression rejection sampling took 0.03475832939147949 seconds\n",
      "half-ridge coefficients\n",
      "{'Age': -6.195602651421778e-07, 'Blast Furnace Slag': -6.678825019460156e-07, 'Cement': 5.940886123472441e-07, 'Coarse Aggregate': -6.530534775039694e-07, 'Fine Aggregate': -6.254833961306844e-07, 'Fly Ash': -6.346784377661665e-07, 'Superplasticizer': -6.264191511221866e-07, 'Water': -6.30955633456586e-07, 'intercept': 0}\n",
      "binary comparisons\n",
      "0.447\n",
      "Training Set Value: 610, Eta: 0.0026366508987303583, Fold: 0 of range(0, 5)\n",
      "Running half-ridge regression...\n",
      "Half ridge regression rejection sampling took 0.03948378562927246 seconds\n",
      "half-ridge coefficients\n",
      "{'Age': -5.8220357795107115e-06, 'Blast Furnace Slag': -5.527635035396729e-06, 'Cement': 5.660350432913108e-06, 'Coarse Aggregate': -5.2805116289840235e-06, 'Fine Aggregate': -5.772523564235992e-06, 'Fly Ash': -5.768650845900141e-06, 'Superplasticizer': -5.288530455170871e-06, 'Water': -5.856992560149475e-06, 'intercept': 0}\n",
      "binary comparisons\n",
      "0.489\n",
      "Training Set Value: 610, Eta: 0.0026366508987303583, Fold: 1 of range(0, 5)\n",
      "Running half-ridge regression...\n",
      "Half ridge regression rejection sampling took 0.03528285026550293 seconds\n",
      "half-ridge coefficients\n",
      "{'Age': -5.718855306329079e-06, 'Blast Furnace Slag': -5.436206654222804e-06, 'Cement': 5.399422819721728e-06, 'Coarse Aggregate': -5.4655767596592245e-06, 'Fine Aggregate': -5.501957878683798e-06, 'Fly Ash': -5.294341327219733e-06, 'Superplasticizer': -5.627420077524053e-06, 'Water': -5.62356785336635e-06, 'intercept': 0}\n",
      "binary comparisons\n",
      "0.477\n",
      "Training Set Value: 610, Eta: 0.0026366508987303583, Fold: 2 of range(0, 5)\n",
      "Running half-ridge regression...\n",
      "Half ridge regression rejection sampling took 0.0343019962310791 seconds\n",
      "half-ridge coefficients\n",
      "{'Age': -5.561032597893618e-06, 'Blast Furnace Slag': -5.519568739017366e-06, 'Cement': 5.485124332265618e-06, 'Coarse Aggregate': -5.249734666012893e-06, 'Fine Aggregate': -5.5229041641198115e-06, 'Fly Ash': -5.611098374564207e-06, 'Superplasticizer': -5.201827236101298e-06, 'Water': -5.282608486518362e-06, 'intercept': 0}\n",
      "binary comparisons\n",
      "0.467\n",
      "Training Set Value: 610, Eta: 0.0026366508987303583, Fold: 3 of range(0, 5)\n",
      "Running half-ridge regression...\n",
      "Half ridge regression rejection sampling took 0.03459811210632324 seconds\n",
      "half-ridge coefficients\n",
      "{'Age': -5.937456946303288e-06, 'Blast Furnace Slag': -6.020291436164595e-06, 'Cement': 5.4002705086767064e-06, 'Coarse Aggregate': -5.482853122388704e-06, 'Fine Aggregate': -5.886323596470031e-06, 'Fly Ash': -5.321778480343147e-06, 'Superplasticizer': -5.856789978555043e-06, 'Water': -5.731764765932494e-06, 'intercept': 0}\n",
      "binary comparisons\n",
      "0.463\n",
      "Training Set Value: 610, Eta: 0.0026366508987303583, Fold: 4 of range(0, 5)\n",
      "Running half-ridge regression...\n",
      "Half ridge regression rejection sampling took 0.034352779388427734 seconds\n",
      "half-ridge coefficients\n",
      "{'Age': -5.4687901877336476e-06, 'Blast Furnace Slag': -5.750582284305599e-06, 'Cement': 5.609647353811008e-06, 'Coarse Aggregate': -5.262912104668841e-06, 'Fine Aggregate': -5.7243432771970865e-06, 'Fly Ash': -5.3731490204627805e-06, 'Superplasticizer': -6.006217494730192e-06, 'Water': -5.5641971086418664e-06, 'intercept': 0}\n",
      "binary comparisons\n",
      "0.466\n",
      "Training Set Value: 610, Eta: 0.007847599703514606, Fold: 0 of range(0, 5)\n",
      "Running half-ridge regression...\n",
      "Half ridge regression rejection sampling took 0.03437376022338867 seconds\n",
      "half-ridge coefficients\n",
      "{'Age': -4.703988698522668e-05, 'Blast Furnace Slag': -4.8233595394899545e-05, 'Cement': 5.2044432065548085e-05, 'Coarse Aggregate': -5.264969996015191e-05, 'Fine Aggregate': -5.004524326158695e-05, 'Fly Ash': -4.9388451292621026e-05, 'Superplasticizer': -5.0752070250927056e-05, 'Water': -4.9373573433870825e-05, 'intercept': 0}\n",
      "binary comparisons\n",
      "0.479\n",
      "Training Set Value: 610, Eta: 0.007847599703514606, Fold: 1 of range(0, 5)\n",
      "Running half-ridge regression...\n",
      "Half ridge regression rejection sampling took 0.04353809356689453 seconds\n",
      "half-ridge coefficients\n",
      "{'Age': -4.901115532150885e-05, 'Blast Furnace Slag': -5.090244875158881e-05, 'Cement': 4.671756542793914e-05, 'Coarse Aggregate': -4.750734270860692e-05, 'Fine Aggregate': -4.801221149385623e-05, 'Fly Ash': -4.7354648815023627e-05, 'Superplasticizer': -5.1436599907405626e-05, 'Water': -4.785733854335313e-05, 'intercept': 0}\n",
      "binary comparisons\n",
      "0.457\n",
      "Training Set Value: 610, Eta: 0.007847599703514606, Fold: 2 of range(0, 5)\n",
      "Running half-ridge regression...\n",
      "Half ridge regression rejection sampling took 0.034229278564453125 seconds\n",
      "half-ridge coefficients\n",
      "{'Age': -4.8819910806353e-05, 'Blast Furnace Slag': -4.810236428992487e-05, 'Cement': 4.922951999893179e-05, 'Coarse Aggregate': -4.8986221946892446e-05, 'Fine Aggregate': -4.656891104303949e-05, 'Fly Ash': -4.427948999511311e-05, 'Superplasticizer': -5.036534446589006e-05, 'Water': -4.9152670228333885e-05, 'intercept': 0}\n",
      "binary comparisons\n",
      "0.469\n",
      "Training Set Value: 610, Eta: 0.007847599703514606, Fold: 3 of range(0, 5)\n",
      "Running half-ridge regression...\n",
      "Half ridge regression rejection sampling took 0.034322261810302734 seconds\n",
      "half-ridge coefficients\n",
      "{'Age': -4.889350772031361e-05, 'Blast Furnace Slag': -4.91968082301522e-05, 'Cement': 5.085539339692973e-05, 'Coarse Aggregate': -4.5083976450892495e-05, 'Fine Aggregate': -5.150744087331258e-05, 'Fly Ash': -4.6042912742270895e-05, 'Superplasticizer': -4.899291373091258e-05, 'Water': -5.145500554287221e-05, 'intercept': 0}\n",
      "binary comparisons\n",
      "0.466\n",
      "Training Set Value: 610, Eta: 0.007847599703514606, Fold: 4 of range(0, 5)\n",
      "Running half-ridge regression...\n",
      "Half ridge regression rejection sampling took 0.0349884033203125 seconds\n",
      "half-ridge coefficients\n",
      "{'Age': -5.1149404966610085e-05, 'Blast Furnace Slag': -5.2693908107000044e-05, 'Cement': 4.8415247082202297e-05, 'Coarse Aggregate': -4.658718478148656e-05, 'Fine Aggregate': -4.7387486249350225e-05, 'Fly Ash': -5.3719110724005985e-05, 'Superplasticizer': -4.8912595267696465e-05, 'Water': -4.9339495885553916e-05, 'intercept': 0}\n",
      "binary comparisons\n",
      "0.479\n",
      "Training Set Value: 610, Eta: 0.023357214690901212, Fold: 0 of range(0, 5)\n",
      "Running half-ridge regression...\n",
      "Half ridge regression rejection sampling took 0.04878640174865723 seconds\n",
      "half-ridge coefficients\n",
      "{'Age': -0.0004429591252347711, 'Blast Furnace Slag': -0.00042788486995657787, 'Cement': 0.00042186867510905427, 'Coarse Aggregate': -0.000472545884617312, 'Fine Aggregate': -0.00043613552683242267, 'Fly Ash': -0.00044014849006034204, 'Superplasticizer': -0.0004276549506224071, 'Water': -0.0004603130328820464, 'intercept': 0}\n",
      "binary comparisons\n",
      "0.457\n",
      "Training Set Value: 610, Eta: 0.023357214690901212, Fold: 1 of range(0, 5)\n",
      "Running half-ridge regression...\n",
      "Half ridge regression rejection sampling took 0.04351210594177246 seconds\n",
      "half-ridge coefficients\n",
      "{'Age': -0.00040916450685568346, 'Blast Furnace Slag': -0.00043056503698008853, 'Cement': 0.0004351377142688709, 'Coarse Aggregate': -0.00044746235446642033, 'Fine Aggregate': -0.00043713460756629897, 'Fly Ash': -0.0004478659049750076, 'Superplasticizer': -0.00043786287994369784, 'Water': -0.00044157124939460526, 'intercept': 0}\n",
      "binary comparisons\n",
      "0.491\n",
      "Training Set Value: 610, Eta: 0.023357214690901212, Fold: 2 of range(0, 5)\n",
      "Running half-ridge regression...\n",
      "Half ridge regression rejection sampling took 0.03490257263183594 seconds\n",
      "half-ridge coefficients\n",
      "{'Age': -0.00040788743658140347, 'Blast Furnace Slag': -0.0004103561975327978, 'Cement': 0.0004434066668203637, 'Coarse Aggregate': -0.0004246291235612047, 'Fine Aggregate': -0.0004129767579810188, 'Fly Ash': -0.00040952098797012533, 'Superplasticizer': -0.0004709663272016333, 'Water': -0.00041953255177310666, 'intercept': 0}\n",
      "binary comparisons\n",
      "0.469\n",
      "Training Set Value: 610, Eta: 0.023357214690901212, Fold: 3 of range(0, 5)\n",
      "Running half-ridge regression...\n",
      "Half ridge regression rejection sampling took 0.0343625545501709 seconds\n",
      "half-ridge coefficients\n",
      "{'Age': -0.00045120994672634337, 'Blast Furnace Slag': -0.00043622293890100225, 'Cement': 0.00045204392028783927, 'Coarse Aggregate': -0.00044828608238327246, 'Fine Aggregate': -0.00043177507821806323, 'Fly Ash': -0.0004403259644504387, 'Superplasticizer': -0.0004265738338099403, 'Water': -0.0004211341711806635, 'intercept': 0}\n",
      "binary comparisons\n",
      "0.474\n",
      "Training Set Value: 610, Eta: 0.023357214690901212, Fold: 4 of range(0, 5)\n",
      "Running half-ridge regression...\n",
      "Half ridge regression rejection sampling took 0.03430056571960449 seconds\n",
      "half-ridge coefficients\n",
      "{'Age': -0.0004260902389625586, 'Blast Furnace Slag': -0.0004317558573585313, 'Cement': 0.0004628341931430812, 'Coarse Aggregate': -0.0004228890873709917, 'Fine Aggregate': -0.00043819171360746966, 'Fly Ash': -0.00044715498653549073, 'Superplasticizer': -0.0004261909600575155, 'Water': -0.0004484883434781708, 'intercept': 0}\n",
      "binary comparisons\n",
      "0.451\n",
      "Training Set Value: 610, Eta: 0.06951927961775606, Fold: 0 of range(0, 5)\n",
      "Running half-ridge regression...\n",
      "Half ridge regression rejection sampling took 0.03461956977844238 seconds\n",
      "half-ridge coefficients\n",
      "{'Age': -0.003933352942294617, 'Blast Furnace Slag': -0.004017711881178216, 'Cement': 0.0037478755853552234, 'Coarse Aggregate': -0.004227293183492753, 'Fine Aggregate': -0.003839615054589434, 'Fly Ash': -0.003812057363873825, 'Superplasticizer': -0.0037872157482790147, 'Water': -0.0036975267637629873, 'intercept': 0}\n",
      "binary comparisons\n",
      "0.447\n",
      "Training Set Value: 610, Eta: 0.06951927961775606, Fold: 1 of range(0, 5)\n",
      "Running half-ridge regression...\n",
      "Half ridge regression rejection sampling took 0.03408217430114746 seconds\n",
      "half-ridge coefficients\n",
      "{'Age': -0.003643139283766342, 'Blast Furnace Slag': -0.0038446547691640435, 'Cement': 0.0037822315353678282, 'Coarse Aggregate': -0.0040241693116388946, 'Fine Aggregate': -0.003780161871010115, 'Fly Ash': -0.003664076378918169, 'Superplasticizer': -0.004078186824598564, 'Water': -0.004024175476146425, 'intercept': 0}\n",
      "binary comparisons\n",
      "0.476\n",
      "Training Set Value: 610, Eta: 0.06951927961775606, Fold: 2 of range(0, 5)\n",
      "Running half-ridge regression...\n",
      "Half ridge regression rejection sampling took 0.034891605377197266 seconds\n",
      "half-ridge coefficients\n",
      "{'Age': -0.0038289008538805445, 'Blast Furnace Slag': -0.0037426760355427735, 'Cement': 0.003818328837713018, 'Coarse Aggregate': -0.003613698081403948, 'Fine Aggregate': -0.004108467640926523, 'Fly Ash': -0.0040802050406353475, 'Superplasticizer': -0.0038506600275460693, 'Water': -0.0038610400518161695, 'intercept': 0}\n",
      "binary comparisons\n",
      "0.443\n",
      "Training Set Value: 610, Eta: 0.06951927961775606, Fold: 3 of range(0, 5)\n",
      "Running half-ridge regression...\n",
      "Half ridge regression rejection sampling took 0.03439950942993164 seconds\n",
      "half-ridge coefficients\n",
      "{'Age': -0.0037887864859971554, 'Blast Furnace Slag': -0.003967785336325614, 'Cement': 0.003764578140606153, 'Coarse Aggregate': -0.004106850920837313, 'Fine Aggregate': -0.004035229083955036, 'Fly Ash': -0.004042214870696641, 'Superplasticizer': -0.003698150244524764, 'Water': -0.0037388293615398375, 'intercept': 0}\n",
      "binary comparisons\n",
      "0.467\n",
      "Training Set Value: 610, Eta: 0.06951927961775606, Fold: 4 of range(0, 5)\n",
      "Running half-ridge regression...\n",
      "Half ridge regression rejection sampling took 0.03427386283874512 seconds\n",
      "half-ridge coefficients\n",
      "{'Age': -0.003695330461402399, 'Blast Furnace Slag': -0.0039016540163837677, 'Cement': 0.0037407289622517666, 'Coarse Aggregate': -0.0038160719837674554, 'Fine Aggregate': -0.0039162645671363145, 'Fly Ash': -0.003629882137789438, 'Superplasticizer': -0.0037089692014939542, 'Water': -0.004043406903354852, 'intercept': 0}\n",
      "binary comparisons\n",
      "0.475\n",
      "Training Set Value: 610, Eta: 0.2069138081114788, Fold: 0 of range(0, 5)\n",
      "Running half-ridge regression...\n",
      "Half ridge regression rejection sampling took 0.034331321716308594 seconds\n",
      "half-ridge coefficients\n",
      "{'Age': -0.02773681439235532, 'Blast Furnace Slag': -0.03187536503307398, 'Cement': 0.04148933230320748, 'Coarse Aggregate': -0.037393673258557976, 'Fine Aggregate': -0.03677864360591327, 'Fly Ash': -0.036809347761342315, 'Superplasticizer': -0.027502672651594624, 'Water': -0.03936609898972595, 'intercept': 0}\n",
      "binary comparisons\n",
      "0.533\n",
      "Training Set Value: 610, Eta: 0.2069138081114788, Fold: 1 of range(0, 5)\n",
      "Running half-ridge regression...\n",
      "Half ridge regression rejection sampling took 0.034703731536865234 seconds\n",
      "half-ridge coefficients\n",
      "{'Age': -0.0275782001648208, 'Blast Furnace Slag': -0.033982451417355806, 'Cement': 0.0415327406288651, 'Coarse Aggregate': -0.036717595409647134, 'Fine Aggregate': -0.03679899657179034, 'Fly Ash': -0.034844213326233234, 'Superplasticizer': -0.028572942514317523, 'Water': -0.037581011944159415, 'intercept': 0}\n",
      "binary comparisons\n",
      "0.495\n",
      "Training Set Value: 610, Eta: 0.2069138081114788, Fold: 2 of range(0, 5)\n",
      "Running half-ridge regression...\n",
      "Half ridge regression rejection sampling took 0.0408787727355957 seconds\n",
      "half-ridge coefficients\n",
      "{'Age': -0.03462190493242995, 'Blast Furnace Slag': -0.03445241274352519, 'Cement': 0.034140623047420104, 'Coarse Aggregate': -0.03461579129076631, 'Fine Aggregate': -0.0348738515395714, 'Fly Ash': -0.03269470247002232, 'Superplasticizer': -0.03411318121977863, 'Water': -0.03503564140340423, 'intercept': 0}\n",
      "binary comparisons\n",
      "0.492\n",
      "Training Set Value: 610, Eta: 0.2069138081114788, Fold: 3 of range(0, 5)\n",
      "Running half-ridge regression...\n",
      "Half ridge regression rejection sampling took 0.03385615348815918 seconds\n",
      "half-ridge coefficients\n",
      "{'Age': -0.033962606168227764, 'Blast Furnace Slag': -0.03273625760645371, 'Cement': 0.0340641763818319, 'Coarse Aggregate': -0.036963665554229364, 'Fine Aggregate': -0.03270565387913963, 'Fly Ash': -0.03668196995687707, 'Superplasticizer': -0.03539685530624442, 'Water': -0.03361566268355557, 'intercept': 0}\n",
      "binary comparisons\n",
      "0.447\n",
      "Training Set Value: 610, Eta: 0.2069138081114788, Fold: 4 of range(0, 5)\n",
      "Running half-ridge regression...\n",
      "Half ridge regression rejection sampling took 0.04734539985656738 seconds\n",
      "half-ridge coefficients\n",
      "{'Age': -0.03478370325255285, 'Blast Furnace Slag': -0.03364751383872811, 'Cement': 0.03430625017149415, 'Coarse Aggregate': -0.03446141913849479, 'Fine Aggregate': -0.03473408340830251, 'Fly Ash': -0.03464223948439281, 'Superplasticizer': -0.03344586245314282, 'Water': -0.03536353045981302, 'intercept': 0}\n",
      "binary comparisons\n",
      "0.467\n",
      "Training Set Value: 610, Eta: 0.615848211066026, Fold: 0 of range(0, 5)\n",
      "Running half-ridge regression...\n",
      "Half ridge regression rejection sampling took 0.06343650817871094 seconds\n",
      "half-ridge coefficients\n",
      "{'Age': 0.43211830609469687, 'Blast Furnace Slag': 0.3703364292241307, 'Cement': 0.5798784323213193, 'Coarse Aggregate': -0.01788702738148592, 'Fine Aggregate': -0.04626554470235344, 'Fly Ash': 0.1929572931241402, 'Superplasticizer': 0.09518566769764046, 'Water': -0.2877639864828285, 'intercept': 0}\n"
     ]
    },
    {
     "name": "stderr",
     "output_type": "stream",
     "text": [
      "/workspaces/codespaces-jupyter/helpers/half_ridge.py:149: RuntimeWarning: Mean of empty slice\n",
      "  post_weights = np.nanmean(samples1, axis=0)\n"
     ]
    },
    {
     "name": "stdout",
     "output_type": "stream",
     "text": [
      "binary comparisons\n",
      "0.691\n",
      "Training Set Value: 610, Eta: 0.615848211066026, Fold: 1 of range(0, 5)\n",
      "Running half-ridge regression...\n",
      "Half ridge regression rejection sampling took 0.06388282775878906 seconds\n",
      "half-ridge coefficients\n",
      "{'Age': 0.3714777786037305, 'Blast Furnace Slag': 0.3092369916085188, 'Cement': 0.517805226806261, 'Coarse Aggregate': -0.05590918295476788, 'Fine Aggregate': -0.08172839022531572, 'Fly Ash': 0.1264836980187097, 'Superplasticizer': 0.1626188825336357, 'Water': -0.2971855096024302, 'intercept': 0}\n"
     ]
    },
    {
     "name": "stderr",
     "output_type": "stream",
     "text": [
      "/workspaces/codespaces-jupyter/helpers/half_ridge.py:149: RuntimeWarning: Mean of empty slice\n",
      "  post_weights = np.nanmean(samples1, axis=0)\n"
     ]
    },
    {
     "name": "stdout",
     "output_type": "stream",
     "text": [
      "binary comparisons\n",
      "0.72\n",
      "Training Set Value: 610, Eta: 0.615848211066026, Fold: 2 of range(0, 5)\n",
      "Running half-ridge regression...\n",
      "Half ridge regression rejection sampling took 0.03858804702758789 seconds\n",
      "half-ridge coefficients\n",
      "{'Age': -0.3092739236146368, 'Blast Furnace Slag': -0.30204871577911624, 'Cement': 0.29396816730446146, 'Coarse Aggregate': -0.2873353745625893, 'Fine Aggregate': -0.29876326124521907, 'Fly Ash': -0.30049468953551295, 'Superplasticizer': -0.2951666837204104, 'Water': -0.30036624824332125, 'intercept': 0}\n",
      "binary comparisons\n",
      "0.476\n",
      "Training Set Value: 610, Eta: 0.615848211066026, Fold: 3 of range(0, 5)\n",
      "Running half-ridge regression...\n",
      "Half ridge regression rejection sampling took 0.04714393615722656 seconds\n",
      "half-ridge coefficients\n",
      "{'Age': -0.28758081117154033, 'Blast Furnace Slag': -0.2980773250373134, 'Cement': 0.3089732985120562, 'Coarse Aggregate': -0.30992352726780614, 'Fine Aggregate': -0.308298858273592, 'Fly Ash': -0.31905529001057564, 'Superplasticizer': -0.31626669067978286, 'Water': -0.29647129196913513, 'intercept': 0}\n",
      "binary comparisons\n",
      "0.473\n",
      "Training Set Value: 610, Eta: 0.615848211066026, Fold: 4 of range(0, 5)\n",
      "Running half-ridge regression...\n",
      "Half ridge regression rejection sampling took 0.03563046455383301 seconds\n",
      "half-ridge coefficients\n",
      "{'Age': -0.32024243721892787, 'Blast Furnace Slag': -0.30676948079421534, 'Cement': 0.3241622710808992, 'Coarse Aggregate': -0.3260590989815502, 'Fine Aggregate': -0.3040040380987611, 'Fly Ash': -0.29597919788683014, 'Superplasticizer': -0.30881535041979313, 'Water': -0.29522211065774634, 'intercept': 0}\n",
      "binary comparisons\n",
      "0.467\n",
      "Training Set Value: 610, Eta: 1.8329807108324339, Fold: 0 of range(0, 5)\n",
      "Running half-ridge regression...\n",
      "Half ridge regression rejection sampling took 0.057616233825683594 seconds\n",
      "half-ridge coefficients\n",
      "{'Age': 0.4537115667092718, 'Blast Furnace Slag': 0.5418621656358669, 'Cement': 0.7549995222078064, 'Coarse Aggregate': 0.09096825207131568, 'Fine Aggregate': 0.09814387805894091, 'Fly Ash': 0.34496611172297525, 'Superplasticizer': 0.08081920095209336, 'Water': -0.19344851036130137, 'intercept': 0}\n"
     ]
    },
    {
     "name": "stderr",
     "output_type": "stream",
     "text": [
      "/workspaces/codespaces-jupyter/helpers/half_ridge.py:149: RuntimeWarning: Mean of empty slice\n",
      "  post_weights = np.nanmean(samples1, axis=0)\n"
     ]
    },
    {
     "name": "stdout",
     "output_type": "stream",
     "text": [
      "binary comparisons\n",
      "0.633\n",
      "Training Set Value: 610, Eta: 1.8329807108324339, Fold: 1 of range(0, 5)\n",
      "Running half-ridge regression...\n",
      "Half ridge regression rejection sampling took 0.05974459648132324 seconds\n",
      "half-ridge coefficients\n",
      "{'Age': 0.4023741585759427, 'Blast Furnace Slag': 0.5155479961753231, 'Cement': 0.7331838151195884, 'Coarse Aggregate': 0.06628224334805632, 'Fine Aggregate': 0.08261097760485829, 'Fly Ash': 0.3175688820340804, 'Superplasticizer': 0.1381583833697029, 'Water': -0.19203833644841797, 'intercept': 0}\n",
      "binary comparisons\n",
      "0.637\n",
      "Training Set Value: 610, Eta: 1.8329807108324339, Fold: 2 of range(0, 5)\n"
     ]
    },
    {
     "name": "stderr",
     "output_type": "stream",
     "text": [
      "/workspaces/codespaces-jupyter/helpers/half_ridge.py:149: RuntimeWarning: Mean of empty slice\n",
      "  post_weights = np.nanmean(samples1, axis=0)\n"
     ]
    },
    {
     "name": "stdout",
     "output_type": "stream",
     "text": [
      "Running half-ridge regression...\n",
      "Half ridge regression rejection sampling took 0.03484463691711426 seconds\n",
      "half-ridge coefficients\n",
      "{'Age': -2.6329660374526527, 'Blast Furnace Slag': -2.4992844170519066, 'Cement': 2.6261652191763267, 'Coarse Aggregate': -2.657574197261163, 'Fine Aggregate': -2.69128577059136, 'Fly Ash': -2.8102899140734627, 'Superplasticizer': -2.69623477835664, 'Water': -2.7487238552167446, 'intercept': 0}\n",
      "binary comparisons\n",
      "0.46\n",
      "Training Set Value: 610, Eta: 1.8329807108324339, Fold: 3 of range(0, 5)\n",
      "Running half-ridge regression...\n",
      "Half ridge regression rejection sampling took 0.07044339179992676 seconds\n",
      "half-ridge coefficients\n",
      "{'Age': -2.8274364380430526, 'Blast Furnace Slag': -2.735252982868042, 'Cement': 2.7417838487622825, 'Coarse Aggregate': -2.6534973045848878, 'Fine Aggregate': -2.678722610058511, 'Fly Ash': -2.4224717417821284, 'Superplasticizer': -2.601985174532339, 'Water': -2.6154141492309217, 'intercept': 0}\n",
      "binary comparisons\n",
      "0.472\n",
      "Training Set Value: 610, Eta: 1.8329807108324339, Fold: 4 of range(0, 5)\n",
      "Running half-ridge regression...\n",
      "Half ridge regression rejection sampling took 0.04018139839172363 seconds\n",
      "half-ridge coefficients\n",
      "{'Age': -2.6808431892297264, 'Blast Furnace Slag': -2.7694806635986877, 'Cement': 2.864113866796713, 'Coarse Aggregate': -2.5261473133001973, 'Fine Aggregate': -2.6132041215867323, 'Fly Ash': -2.445600010270592, 'Superplasticizer': -2.649019514090854, 'Water': -2.73673446823237, 'intercept': 0}\n",
      "binary comparisons\n",
      "0.44\n",
      "Training Set Value: 610, Eta: 5.455594781168514, Fold: 0 of range(0, 5)\n",
      "Running half-ridge regression...\n",
      "Half ridge regression rejection sampling took 0.05558156967163086 seconds\n",
      "half-ridge coefficients\n",
      "{'Age': 0.45392872871892576, 'Blast Furnace Slag': 0.5421706094912712, 'Cement': 0.7553988094650579, 'Coarse Aggregate': 0.09111201349835352, 'Fine Aggregate': 0.09864054842654697, 'Fly Ash': 0.34511844872606634, 'Superplasticizer': 0.08082131739488234, 'Water': -0.1933233590544167, 'intercept': 0}\n"
     ]
    },
    {
     "name": "stderr",
     "output_type": "stream",
     "text": [
      "/workspaces/codespaces-jupyter/helpers/half_ridge.py:149: RuntimeWarning: Mean of empty slice\n",
      "  post_weights = np.nanmean(samples1, axis=0)\n"
     ]
    },
    {
     "name": "stdout",
     "output_type": "stream",
     "text": [
      "binary comparisons\n",
      "0.626\n",
      "Training Set Value: 610, Eta: 5.455594781168514, Fold: 1 of range(0, 5)\n",
      "Running half-ridge regression...\n",
      "Half ridge regression rejection sampling took 0.0742189884185791 seconds\n",
      "half-ridge coefficients\n",
      "{'Age': 0.4023890845425338, 'Blast Furnace Slag': 0.5159521859659916, 'Cement': 0.7335710660443565, 'Coarse Aggregate': 0.06669542436556049, 'Fine Aggregate': 0.08303377130438226, 'Fly Ash': 0.3178274462439619, 'Superplasticizer': 0.13850319401384142, 'Water': -0.19155213026024434, 'intercept': 0}\n"
     ]
    },
    {
     "name": "stderr",
     "output_type": "stream",
     "text": [
      "/workspaces/codespaces-jupyter/helpers/half_ridge.py:149: RuntimeWarning: Mean of empty slice\n",
      "  post_weights = np.nanmean(samples1, axis=0)\n"
     ]
    },
    {
     "name": "stdout",
     "output_type": "stream",
     "text": [
      "binary comparisons\n",
      "0.648\n",
      "Training Set Value: 610, Eta: 5.455594781168514, Fold: 2 of range(0, 5)\n",
      "Running half-ridge regression...\n",
      "Half ridge regression rejection sampling took 0.0355839729309082 seconds\n",
      "half-ridge coefficients\n",
      "{'Age': -20.855712637321943, 'Blast Furnace Slag': -23.959382224969872, 'Cement': 24.75114131980938, 'Coarse Aggregate': -24.6580787034144, 'Fine Aggregate': -23.29343375733544, 'Fly Ash': -23.147368803077534, 'Superplasticizer': -22.38279812094173, 'Water': -24.06502709211466, 'intercept': 0}\n",
      "binary comparisons\n",
      "0.469\n",
      "Training Set Value: 610, Eta: 5.455594781168514, Fold: 3 of range(0, 5)\n",
      "Running half-ridge regression...\n",
      "Half ridge regression rejection sampling took 0.05028104782104492 seconds\n",
      "half-ridge coefficients\n",
      "{'Age': -22.982106137544037, 'Blast Furnace Slag': -22.716948542361205, 'Cement': 22.337502319557448, 'Coarse Aggregate': -22.803001783231906, 'Fine Aggregate': -24.14911810677151, 'Fly Ash': -24.548835670469195, 'Superplasticizer': -22.86491331161574, 'Water': -24.35403921815571, 'intercept': 0}\n",
      "binary comparisons\n",
      "0.507\n",
      "Training Set Value: 610, Eta: 5.455594781168514, Fold: 4 of range(0, 5)\n",
      "Running half-ridge regression...\n",
      "Half ridge regression rejection sampling took 0.0353546142578125 seconds\n",
      "half-ridge coefficients\n",
      "{'Age': -24.022475949622564, 'Blast Furnace Slag': -23.4004361761587, 'Cement': 24.278423546418228, 'Coarse Aggregate': -23.325457354188508, 'Fine Aggregate': -22.883461767423515, 'Fly Ash': -22.07286830412838, 'Superplasticizer': -24.563311199470277, 'Water': -23.90237734305891, 'intercept': 0}\n",
      "binary comparisons\n",
      "0.469\n",
      "Training Set Value: 610, Eta: 16.23776739188721, Fold: 0 of range(0, 5)\n",
      "Running half-ridge regression...\n",
      "Half ridge regression rejection sampling took 0.06257057189941406 seconds\n",
      "half-ridge coefficients\n",
      "{'Age': 0.45395745406341825, 'Blast Furnace Slag': 0.5421677127083129, 'Cement': 0.7554215954670737, 'Coarse Aggregate': 0.09110268596983533, 'Fine Aggregate': 0.09874403177860323, 'Fly Ash': 0.34519499775107865, 'Superplasticizer': 0.08081883461359401, 'Water': -0.19327711076869303, 'intercept': 0}\n"
     ]
    },
    {
     "name": "stderr",
     "output_type": "stream",
     "text": [
      "/workspaces/codespaces-jupyter/helpers/half_ridge.py:149: RuntimeWarning: Mean of empty slice\n",
      "  post_weights = np.nanmean(samples1, axis=0)\n"
     ]
    },
    {
     "name": "stdout",
     "output_type": "stream",
     "text": [
      "binary comparisons\n",
      "0.624\n",
      "Training Set Value: 610, Eta: 16.23776739188721, Fold: 1 of range(0, 5)\n",
      "Running half-ridge regression...\n",
      "Half ridge regression rejection sampling took 0.054968833923339844 seconds\n",
      "half-ridge coefficients\n",
      "{'Age': 0.4023745249155464, 'Blast Furnace Slag': 0.516031384760997, 'Cement': 0.7336271333839561, 'Coarse Aggregate': 0.06679384745118522, 'Fine Aggregate': 0.08314179433401098, 'Fly Ash': 0.3178557979080453, 'Superplasticizer': 0.13853709164610187, 'Water': -0.1914437093139778, 'intercept': 0}\n"
     ]
    },
    {
     "name": "stderr",
     "output_type": "stream",
     "text": [
      "/workspaces/codespaces-jupyter/helpers/half_ridge.py:149: RuntimeWarning: Mean of empty slice\n",
      "  post_weights = np.nanmean(samples1, axis=0)\n"
     ]
    },
    {
     "name": "stdout",
     "output_type": "stream",
     "text": [
      "binary comparisons\n",
      "0.623\n",
      "Training Set Value: 610, Eta: 16.23776739188721, Fold: 2 of range(0, 5)\n",
      "Running half-ridge regression...\n",
      "Half ridge regression rejection sampling took 0.0343017578125 seconds\n",
      "half-ridge coefficients\n",
      "{'Age': -207.03683775266452, 'Blast Furnace Slag': -198.6680810666325, 'Cement': 210.40447211759064, 'Coarse Aggregate': -215.39082866201014, 'Fine Aggregate': -213.86051864553434, 'Fly Ash': -215.15098993951855, 'Superplasticizer': -200.73506172473148, 'Water': -218.3129924521152, 'intercept': 0}\n",
      "binary comparisons\n",
      "0.47\n",
      "Training Set Value: 610, Eta: 16.23776739188721, Fold: 3 of range(0, 5)\n",
      "Running half-ridge regression...\n",
      "Half ridge regression rejection sampling took 0.043060302734375 seconds\n",
      "half-ridge coefficients\n",
      "{'Age': -194.91727721399135, 'Blast Furnace Slag': -213.68102421633796, 'Cement': 213.22112037122997, 'Coarse Aggregate': -219.31378285672565, 'Fine Aggregate': -208.78973578628384, 'Fly Ash': -205.72600111095795, 'Superplasticizer': -196.24573402342756, 'Water': -212.98148133886312, 'intercept': 0}\n",
      "binary comparisons\n",
      "0.508\n",
      "Training Set Value: 610, Eta: 16.23776739188721, Fold: 4 of range(0, 5)\n",
      "Running half-ridge regression...\n",
      "Half ridge regression rejection sampling took 0.04335784912109375 seconds\n",
      "half-ridge coefficients\n",
      "{'Age': -208.38340154685775, 'Blast Furnace Slag': -201.937018787733, 'Cement': 207.6811818795976, 'Coarse Aggregate': -202.60725562899748, 'Fine Aggregate': -215.92810242232355, 'Fly Ash': -207.20893981214243, 'Superplasticizer': -211.87088792739007, 'Water': -213.4437826869238, 'intercept': 0}\n",
      "binary comparisons\n",
      "0.486\n",
      "Training Set Value: 610, Eta: 48.32930238571752, Fold: 0 of range(0, 5)\n",
      "Running half-ridge regression...\n",
      "Half ridge regression rejection sampling took 0.06609296798706055 seconds\n",
      "half-ridge coefficients\n",
      "{'Age': 0.45393697739257527, 'Blast Furnace Slag': 0.5421543924540027, 'Cement': 0.7554112676762431, 'Coarse Aggregate': 0.0910925628665308, 'Fine Aggregate': 0.09874290019432241, 'Fly Ash': 0.34518983483998716, 'Superplasticizer': 0.0808217677480233, 'Water': -0.19328649062895276, 'intercept': 0}\n",
      "binary comparisons\n",
      "0.643\n",
      "Training Set Value: 610, Eta: 48.32930238571752, Fold: 1 of range(0, 5)\n"
     ]
    },
    {
     "name": "stderr",
     "output_type": "stream",
     "text": [
      "/workspaces/codespaces-jupyter/helpers/half_ridge.py:149: RuntimeWarning: Mean of empty slice\n",
      "  post_weights = np.nanmean(samples1, axis=0)\n"
     ]
    },
    {
     "name": "stdout",
     "output_type": "stream",
     "text": [
      "Running half-ridge regression...\n",
      "Half ridge regression rejection sampling took 0.06394600868225098 seconds\n",
      "half-ridge coefficients\n",
      "{'Age': 0.40235973781189677, 'Blast Furnace Slag': 0.5159753552874913, 'Cement': 0.7335879730589148, 'Coarse Aggregate': 0.06674316509079974, 'Fine Aggregate': 0.0831026372363353, 'Fly Ash': 0.3178347690091276, 'Superplasticizer': 0.13850644625024588, 'Water': -0.1914950991565625, 'intercept': 0}\n"
     ]
    },
    {
     "name": "stderr",
     "output_type": "stream",
     "text": [
      "/workspaces/codespaces-jupyter/helpers/half_ridge.py:149: RuntimeWarning: Mean of empty slice\n",
      "  post_weights = np.nanmean(samples1, axis=0)\n"
     ]
    },
    {
     "name": "stdout",
     "output_type": "stream",
     "text": [
      "binary comparisons\n",
      "0.635\n",
      "Training Set Value: 610, Eta: 48.32930238571752, Fold: 2 of range(0, 5)\n",
      "Running half-ridge regression...\n",
      "Half ridge regression rejection sampling took 0.043657779693603516 seconds\n",
      "half-ridge coefficients\n",
      "{'Age': -1850.9457130159549, 'Blast Furnace Slag': -1859.6400737350311, 'Cement': 1964.124450456094, 'Coarse Aggregate': -1806.830857670971, 'Fine Aggregate': -1965.1558755044405, 'Fly Ash': -1930.6875318309103, 'Superplasticizer': -2050.337989550187, 'Water': -1820.6534413479253, 'intercept': 0}\n",
      "binary comparisons\n",
      "0.476\n",
      "Training Set Value: 610, Eta: 48.32930238571752, Fold: 3 of range(0, 5)\n",
      "Running half-ridge regression...\n",
      "Half ridge regression rejection sampling took 0.04654836654663086 seconds\n",
      "half-ridge coefficients\n",
      "{'Age': -1644.0301334278931, 'Blast Furnace Slag': -1910.4995460717225, 'Cement': 1966.1518167826778, 'Coarse Aggregate': -1785.0927061461373, 'Fine Aggregate': -1841.8287038352785, 'Fly Ash': -1904.8335648383047, 'Superplasticizer': -1789.9490946340673, 'Water': -1942.330340070691, 'intercept': 0}\n",
      "binary comparisons\n",
      "0.43\n",
      "Training Set Value: 610, Eta: 48.32930238571752, Fold: 4 of range(0, 5)\n",
      "Running half-ridge regression...\n",
      "Half ridge regression rejection sampling took 0.03581857681274414 seconds\n",
      "half-ridge coefficients\n",
      "{'Age': -1878.3913267509572, 'Blast Furnace Slag': -1884.4730817528257, 'Cement': 1879.580568989549, 'Coarse Aggregate': -1860.1427024848672, 'Fine Aggregate': -1954.8974065227987, 'Fly Ash': -1929.434472884576, 'Superplasticizer': -1846.3112726108209, 'Water': -1872.4797576731562, 'intercept': 0}\n",
      "binary comparisons\n",
      "0.468\n",
      "Training Set Value: 610, Eta: 143.8449888287663, Fold: 0 of range(0, 5)\n",
      "Running half-ridge regression...\n",
      "Half ridge regression rejection sampling took 0.05635523796081543 seconds\n",
      "half-ridge coefficients\n",
      "{'Age': 0.45393630592821826, 'Blast Furnace Slag': 0.5421418863706924, 'Cement': 0.7553986892016631, 'Coarse Aggregate': 0.09108954921422258, 'Fine Aggregate': 0.09873671390762621, 'Fly Ash': 0.345182915972591, 'Superplasticizer': 0.08082220307668438, 'Water': -0.19328965842791332, 'intercept': 0}\n"
     ]
    },
    {
     "name": "stderr",
     "output_type": "stream",
     "text": [
      "/workspaces/codespaces-jupyter/helpers/half_ridge.py:149: RuntimeWarning: Mean of empty slice\n",
      "  post_weights = np.nanmean(samples1, axis=0)\n"
     ]
    },
    {
     "name": "stdout",
     "output_type": "stream",
     "text": [
      "binary comparisons\n",
      "0.638\n",
      "Training Set Value: 610, Eta: 143.8449888287663, Fold: 1 of range(0, 5)\n",
      "Running half-ridge regression...\n",
      "Half ridge regression rejection sampling took 0.06799745559692383 seconds\n",
      "half-ridge coefficients\n",
      "{'Age': 0.40236276653681025, 'Blast Furnace Slag': 0.5159697591507227, 'Cement': 0.7335777277810726, 'Coarse Aggregate': 0.06673603483946207, 'Fine Aggregate': 0.08309578146810051, 'Fly Ash': 0.3178258339100602, 'Superplasticizer': 0.13851809791207467, 'Water': -0.19149372782403767, 'intercept': 0}\n"
     ]
    },
    {
     "name": "stderr",
     "output_type": "stream",
     "text": [
      "/workspaces/codespaces-jupyter/helpers/half_ridge.py:149: RuntimeWarning: Mean of empty slice\n",
      "  post_weights = np.nanmean(samples1, axis=0)\n"
     ]
    },
    {
     "name": "stdout",
     "output_type": "stream",
     "text": [
      "binary comparisons\n",
      "0.641\n",
      "Training Set Value: 610, Eta: 143.8449888287663, Fold: 2 of range(0, 5)\n",
      "Running half-ridge regression...\n",
      "Half ridge regression rejection sampling took 0.043488264083862305 seconds\n",
      "half-ridge coefficients\n",
      "{'Age': -16712.670280047034, 'Blast Furnace Slag': -17507.39267331199, 'Cement': 16346.320098732986, 'Coarse Aggregate': -17559.942305054912, 'Fine Aggregate': -15675.653389608282, 'Fly Ash': -15691.041231012692, 'Superplasticizer': -16465.5329205794, 'Water': -17259.347556589208, 'intercept': 0}\n",
      "binary comparisons\n",
      "0.486\n",
      "Training Set Value: 610, Eta: 143.8449888287663, Fold: 3 of range(0, 5)\n",
      "Running half-ridge regression...\n",
      "Half ridge regression rejection sampling took 0.04363584518432617 seconds\n",
      "half-ridge coefficients\n",
      "{'Age': -17226.214217190744, 'Blast Furnace Slag': -16673.991720856277, 'Cement': 16036.496210749894, 'Coarse Aggregate': -15649.287233138775, 'Fine Aggregate': -16061.614479690097, 'Fly Ash': -16666.13242845371, 'Superplasticizer': -16358.035732206326, 'Water': -15574.28675200527, 'intercept': 0}\n",
      "binary comparisons\n",
      "0.463\n",
      "Training Set Value: 610, Eta: 143.8449888287663, Fold: 4 of range(0, 5)\n",
      "Running half-ridge regression...\n",
      "Half ridge regression rejection sampling took 0.03424334526062012 seconds\n",
      "half-ridge coefficients\n",
      "{'Age': -16760.093171461118, 'Blast Furnace Slag': -15317.122936723417, 'Cement': 16188.471305955056, 'Coarse Aggregate': -16762.745219935132, 'Fine Aggregate': -16635.766817560943, 'Fly Ash': -15870.905744499301, 'Superplasticizer': -16983.356200812726, 'Water': -16798.18758077584, 'intercept': 0}\n",
      "binary comparisons\n",
      "0.459\n",
      "Training Set Value: 610, Eta: 428.1332398719387, Fold: 0 of range(0, 5)\n",
      "Running half-ridge regression...\n",
      "Half ridge regression rejection sampling took 0.09274482727050781 seconds\n",
      "half-ridge coefficients\n",
      "{'Age': 0.45393671628658133, 'Blast Furnace Slag': 0.5421481434184364, 'Cement': 0.7554058179493316, 'Coarse Aggregate': 0.09109404550745712, 'Fine Aggregate': 0.09873937118532126, 'Fly Ash': 0.3451875967800378, 'Superplasticizer': 0.08082394730660036, 'Water': -0.19328611749329833, 'intercept': 0}\n"
     ]
    },
    {
     "name": "stderr",
     "output_type": "stream",
     "text": [
      "/workspaces/codespaces-jupyter/helpers/half_ridge.py:149: RuntimeWarning: Mean of empty slice\n",
      "  post_weights = np.nanmean(samples1, axis=0)\n"
     ]
    },
    {
     "name": "stdout",
     "output_type": "stream",
     "text": [
      "binary comparisons\n",
      "0.639\n",
      "Training Set Value: 610, Eta: 428.1332398719387, Fold: 1 of range(0, 5)\n",
      "Running half-ridge regression...\n",
      "Half ridge regression rejection sampling took 0.10416889190673828 seconds\n",
      "half-ridge coefficients\n",
      "{'Age': 0.4023639932693561, 'Blast Furnace Slag': 0.5159690324729026, 'Cement': 0.733577554830282, 'Coarse Aggregate': 0.06673530766001913, 'Fine Aggregate': 0.0830958899789901, 'Fly Ash': 0.31782291155372505, 'Superplasticizer': 0.1385163562050176, 'Water': -0.1914983212772297, 'intercept': 0}\n"
     ]
    },
    {
     "name": "stderr",
     "output_type": "stream",
     "text": [
      "/workspaces/codespaces-jupyter/helpers/half_ridge.py:149: RuntimeWarning: Mean of empty slice\n",
      "  post_weights = np.nanmean(samples1, axis=0)\n"
     ]
    },
    {
     "name": "stdout",
     "output_type": "stream",
     "text": [
      "binary comparisons\n",
      "0.643\n",
      "Training Set Value: 610, Eta: 428.1332398719387, Fold: 2 of range(0, 5)\n",
      "Running half-ridge regression...\n",
      "Half ridge regression rejection sampling took 0.038300514221191406 seconds\n",
      "half-ridge coefficients\n",
      "{'Age': -149504.85811654566, 'Blast Furnace Slag': -143583.15903319343, 'Cement': 152349.71427418172, 'Coarse Aggregate': -142099.60221564557, 'Fine Aggregate': -149889.29740218734, 'Fly Ash': -142786.9388508717, 'Superplasticizer': -143249.4131508501, 'Water': -149126.02384300463, 'intercept': 0}\n",
      "binary comparisons\n",
      "0.485\n",
      "Training Set Value: 610, Eta: 428.1332398719387, Fold: 3 of range(0, 5)\n",
      "Running half-ridge regression...\n",
      "Half ridge regression rejection sampling took 0.03523969650268555 seconds\n",
      "half-ridge coefficients\n",
      "{'Age': -147866.72847951783, 'Blast Furnace Slag': -150887.62321907844, 'Cement': 136561.21876223356, 'Coarse Aggregate': -152430.47585906755, 'Fine Aggregate': -148454.8577707678, 'Fly Ash': -152364.65107565743, 'Superplasticizer': -144675.04234367146, 'Water': -150461.97134980158, 'intercept': 0}\n",
      "binary comparisons\n",
      "0.467\n",
      "Training Set Value: 610, Eta: 428.1332398719387, Fold: 4 of range(0, 5)\n",
      "Running half-ridge regression...\n",
      "Half ridge regression rejection sampling took 0.03560352325439453 seconds\n",
      "half-ridge coefficients\n",
      "{'Age': -144800.9311386046, 'Blast Furnace Slag': -151344.8291479946, 'Cement': 151016.38137254966, 'Coarse Aggregate': -152239.2756125456, 'Fine Aggregate': -147417.8608698509, 'Fly Ash': -153707.76765288075, 'Superplasticizer': -148669.3114778542, 'Water': -151312.6130518485, 'intercept': 0}\n",
      "binary comparisons\n",
      "0.494\n",
      "Training Set Value: 610, Eta: 1274.2749857031322, Fold: 0 of range(0, 5)\n",
      "Running half-ridge regression...\n",
      "Half ridge regression rejection sampling took 0.05739855766296387 seconds\n",
      "half-ridge coefficients\n",
      "{'Age': 0.4539362000080487, 'Blast Furnace Slag': 0.5421478416799049, 'Cement': 0.7554051347351582, 'Coarse Aggregate': 0.09109369092666281, 'Fine Aggregate': 0.09873935781203189, 'Fly Ash': 0.3451865657541358, 'Superplasticizer': 0.08082417262664479, 'Water': -0.19328585446110116, 'intercept': 0}\n",
      "binary comparisons\n",
      "0.628\n",
      "Training Set Value: 610, Eta: 1274.2749857031322, Fold: 1 of range(0, 5)\n"
     ]
    },
    {
     "name": "stderr",
     "output_type": "stream",
     "text": [
      "/workspaces/codespaces-jupyter/helpers/half_ridge.py:149: RuntimeWarning: Mean of empty slice\n",
      "  post_weights = np.nanmean(samples1, axis=0)\n"
     ]
    },
    {
     "name": "stdout",
     "output_type": "stream",
     "text": [
      "Running half-ridge regression...\n",
      "Half ridge regression rejection sampling took 0.05869102478027344 seconds\n",
      "half-ridge coefficients\n",
      "{'Age': 0.40236398293046705, 'Blast Furnace Slag': 0.5159682482775368, 'Cement': 0.7335779961601284, 'Coarse Aggregate': 0.06673459090597231, 'Fine Aggregate': 0.08309470993398776, 'Fly Ash': 0.31782213382701247, 'Superplasticizer': 0.13851585525306817, 'Water': -0.1914990365469878, 'intercept': 0}\n",
      "binary comparisons\n",
      "0.641\n",
      "Training Set Value: 610, Eta: 1274.2749857031322, Fold: 2 of range(0, 5)\n"
     ]
    },
    {
     "name": "stderr",
     "output_type": "stream",
     "text": [
      "/workspaces/codespaces-jupyter/helpers/half_ridge.py:149: RuntimeWarning: Mean of empty slice\n",
      "  post_weights = np.nanmean(samples1, axis=0)\n"
     ]
    },
    {
     "name": "stdout",
     "output_type": "stream",
     "text": [
      "Running half-ridge regression...\n",
      "Half ridge regression rejection sampling took 0.034763336181640625 seconds\n",
      "half-ridge coefficients\n",
      "{'Age': -1319247.4478095071, 'Blast Furnace Slag': -1325376.9470971045, 'Cement': 1341299.0931915587, 'Coarse Aggregate': -1344611.1804738466, 'Fine Aggregate': -1293070.564819113, 'Fly Ash': -1359053.3119908494, 'Superplasticizer': -1242697.867370914, 'Water': -1227924.2357177194, 'intercept': 0}\n",
      "binary comparisons\n",
      "0.482\n",
      "Training Set Value: 610, Eta: 1274.2749857031322, Fold: 3 of range(0, 5)\n",
      "Running half-ridge regression...\n",
      "Half ridge regression rejection sampling took 0.034800052642822266 seconds\n",
      "half-ridge coefficients\n",
      "{'Age': -1254898.6427610312, 'Blast Furnace Slag': -1348380.2239072907, 'Cement': 1282988.0146537446, 'Coarse Aggregate': -1336391.1383599376, 'Fine Aggregate': -1406830.084429587, 'Fly Ash': -1275750.6013790169, 'Superplasticizer': -1297835.9063385352, 'Water': -1242555.5586024453, 'intercept': 0}\n",
      "binary comparisons\n",
      "0.476\n",
      "Training Set Value: 610, Eta: 1274.2749857031322, Fold: 4 of range(0, 5)\n",
      "Running half-ridge regression...\n",
      "Half ridge regression rejection sampling took 0.03432893753051758 seconds\n",
      "half-ridge coefficients\n",
      "{'Age': -1283084.5301983478, 'Blast Furnace Slag': -1328481.1174437087, 'Cement': 1248486.7742821823, 'Coarse Aggregate': -1277765.1816328207, 'Fine Aggregate': -1299730.692441272, 'Fly Ash': -1247085.8783433612, 'Superplasticizer': -1292540.9364391007, 'Water': -1252606.8840482938, 'intercept': 0}\n",
      "binary comparisons\n",
      "0.467\n",
      "Training Set Value: 610, Eta: 3792.690190732246, Fold: 0 of range(0, 5)\n",
      "Running half-ridge regression...\n",
      "Half ridge regression rejection sampling took 0.06392621994018555 seconds\n",
      "half-ridge coefficients\n",
      "{'Age': 0.4539363292107108, 'Blast Furnace Slag': 0.5421478974944989, 'Cement': 0.7554049580905334, 'Coarse Aggregate': 0.09109386123499429, 'Fine Aggregate': 0.09873926164441073, 'Fly Ash': 0.34518686125408726, 'Superplasticizer': 0.0808242048030246, 'Water': -0.19328603814963546, 'intercept': 0}\n"
     ]
    },
    {
     "name": "stderr",
     "output_type": "stream",
     "text": [
      "/workspaces/codespaces-jupyter/helpers/half_ridge.py:149: RuntimeWarning: Mean of empty slice\n",
      "  post_weights = np.nanmean(samples1, axis=0)\n"
     ]
    },
    {
     "name": "stdout",
     "output_type": "stream",
     "text": [
      "binary comparisons\n",
      "0.667\n",
      "Training Set Value: 610, Eta: 3792.690190732246, Fold: 1 of range(0, 5)\n",
      "Running half-ridge regression...\n",
      "Half ridge regression rejection sampling took 0.06166958808898926 seconds\n",
      "half-ridge coefficients\n",
      "{'Age': 0.40236368212588647, 'Blast Furnace Slag': 0.515968340859852, 'Cement': 0.7335778647047606, 'Coarse Aggregate': 0.06673463125123742, 'Fine Aggregate': 0.08309473877901417, 'Fly Ash': 0.3178223427818664, 'Superplasticizer': 0.1385158827362156, 'Water': -0.1914988908346929, 'intercept': 0}\n"
     ]
    },
    {
     "name": "stderr",
     "output_type": "stream",
     "text": [
      "/workspaces/codespaces-jupyter/helpers/half_ridge.py:149: RuntimeWarning: Mean of empty slice\n",
      "  post_weights = np.nanmean(samples1, axis=0)\n"
     ]
    },
    {
     "name": "stdout",
     "output_type": "stream",
     "text": [
      "binary comparisons\n",
      "0.647\n",
      "Training Set Value: 610, Eta: 3792.690190732246, Fold: 2 of range(0, 5)\n",
      "Running half-ridge regression...\n",
      "Half ridge regression rejection sampling took 0.037624359130859375 seconds\n",
      "half-ridge coefficients\n",
      "{'Age': -10773742.973068979, 'Blast Furnace Slag': -11650635.682591869, 'Cement': 11284338.751992146, 'Coarse Aggregate': -10860691.16013946, 'Fine Aggregate': -11350083.228996197, 'Fly Ash': -11708718.525019333, 'Superplasticizer': -10964408.064084059, 'Water': -11698742.293919792, 'intercept': 0}\n",
      "binary comparisons\n",
      "0.483\n",
      "Training Set Value: 610, Eta: 3792.690190732246, Fold: 3 of range(0, 5)\n",
      "Running half-ridge regression...\n",
      "Half ridge regression rejection sampling took 0.04103970527648926 seconds\n",
      "half-ridge coefficients\n",
      "{'Age': -10926936.466314543, 'Blast Furnace Slag': -11699802.335546965, 'Cement': 11156018.82621239, 'Coarse Aggregate': -11361165.929050582, 'Fine Aggregate': -11450345.204930294, 'Fly Ash': -11348101.922367467, 'Superplasticizer': -11249481.073377116, 'Water': -11546570.436847722, 'intercept': 0}\n",
      "binary comparisons\n",
      "0.463\n",
      "Training Set Value: 610, Eta: 3792.690190732246, Fold: 4 of range(0, 5)\n",
      "Running half-ridge regression...\n",
      "Half ridge regression rejection sampling took 0.035095930099487305 seconds\n",
      "half-ridge coefficients\n",
      "{'Age': -10782151.979621235, 'Blast Furnace Slag': -11918372.575096635, 'Cement': 11736203.44913345, 'Coarse Aggregate': -11802898.385045072, 'Fine Aggregate': -11561743.144224072, 'Fly Ash': -11591667.867771147, 'Superplasticizer': -11724465.678260863, 'Water': -12587933.110319331, 'intercept': 0}\n",
      "binary comparisons\n",
      "0.495\n",
      "Training Set Value: 610, Eta: 11288.378916846883, Fold: 0 of range(0, 5)\n",
      "Running half-ridge regression...\n",
      "Half ridge regression rejection sampling took 0.06485342979431152 seconds\n",
      "half-ridge coefficients\n",
      "{'Age': 0.4539363593780037, 'Blast Furnace Slag': 0.5421477421629642, 'Cement': 0.7554047862645602, 'Coarse Aggregate': 0.09109373301131571, 'Fine Aggregate': 0.09873910533498023, 'Fly Ash': 0.3451867111420502, 'Superplasticizer': 0.08082412954554775, 'Water': -0.19328611455666908, 'intercept': 0}\n",
      "binary comparisons\n",
      "0.612\n",
      "Training Set Value: 610, Eta: 11288.378916846883, Fold: 1 of range(0, 5)\n"
     ]
    },
    {
     "name": "stderr",
     "output_type": "stream",
     "text": [
      "/workspaces/codespaces-jupyter/helpers/half_ridge.py:149: RuntimeWarning: Mean of empty slice\n",
      "  post_weights = np.nanmean(samples1, axis=0)\n"
     ]
    },
    {
     "name": "stdout",
     "output_type": "stream",
     "text": [
      "Running half-ridge regression...\n",
      "Half ridge regression rejection sampling took 0.0634145736694336 seconds\n",
      "half-ridge coefficients\n",
      "{'Age': 0.40236384490804095, 'Blast Furnace Slag': 0.5159683295621266, 'Cement': 0.7335777448029133, 'Coarse Aggregate': 0.06673466619436157, 'Fine Aggregate': 0.0830947998395024, 'Fly Ash': 0.31782230184615956, 'Superplasticizer': 0.13851595952162502, 'Water': -0.19149890413595894, 'intercept': 0}\n"
     ]
    },
    {
     "name": "stderr",
     "output_type": "stream",
     "text": [
      "/workspaces/codespaces-jupyter/helpers/half_ridge.py:149: RuntimeWarning: Mean of empty slice\n",
      "  post_weights = np.nanmean(samples1, axis=0)\n"
     ]
    },
    {
     "name": "stdout",
     "output_type": "stream",
     "text": [
      "binary comparisons\n",
      "0.627\n",
      "Training Set Value: 610, Eta: 11288.378916846883, Fold: 2 of range(0, 5)\n",
      "Running half-ridge regression...\n",
      "Half ridge regression rejection sampling took 0.034711599349975586 seconds\n",
      "half-ridge coefficients\n",
      "{'Age': -103008920.9376634, 'Blast Furnace Slag': -94277822.56862271, 'Cement': 103475934.8991237, 'Coarse Aggregate': -105734545.00778499, 'Fine Aggregate': -105417781.06853537, 'Fly Ash': -98901159.08764173, 'Superplasticizer': -98008378.60845825, 'Water': -100306784.24293622, 'intercept': 0}\n",
      "binary comparisons\n",
      "0.447\n",
      "Training Set Value: 610, Eta: 11288.378916846883, Fold: 3 of range(0, 5)\n",
      "Running half-ridge regression...\n",
      "Half ridge regression rejection sampling took 0.0348968505859375 seconds\n",
      "half-ridge coefficients\n",
      "{'Age': -101084959.59761007, 'Blast Furnace Slag': -95261994.95228775, 'Cement': 104111094.17627114, 'Coarse Aggregate': -100765759.58053897, 'Fine Aggregate': -102236370.15875578, 'Fly Ash': -97334633.98141713, 'Superplasticizer': -96974454.88183233, 'Water': -97053666.35447466, 'intercept': 0}\n",
      "binary comparisons\n",
      "0.46\n",
      "Training Set Value: 610, Eta: 11288.378916846883, Fold: 4 of range(0, 5)\n",
      "Running half-ridge regression...\n",
      "Half ridge regression rejection sampling took 0.0436701774597168 seconds\n",
      "half-ridge coefficients\n",
      "{'Age': -94557898.89118892, 'Blast Furnace Slag': -99978927.32234608, 'Cement': 105537936.57389511, 'Coarse Aggregate': -104717879.3753312, 'Fine Aggregate': -101137911.81813133, 'Fly Ash': -99990141.410892, 'Superplasticizer': -95934681.68401814, 'Water': -108104837.64373164, 'intercept': 0}\n",
      "binary comparisons\n",
      "0.454\n",
      "Training Set Value: 610, Eta: 33598.18286283774, Fold: 0 of range(0, 5)\n",
      "Running half-ridge regression...\n",
      "Half ridge regression rejection sampling took 0.06984448432922363 seconds\n",
      "half-ridge coefficients\n",
      "{'Age': 0.4539363604983185, 'Blast Furnace Slag': 0.5421477355177697, 'Cement': 0.75540477694363, 'Coarse Aggregate': 0.09109371917826425, 'Fine Aggregate': 0.09873912841504283, 'Fly Ash': 0.34518672637367365, 'Superplasticizer': 0.08082411867517168, 'Water': -0.1932861124974136, 'intercept': 0}\n"
     ]
    },
    {
     "name": "stderr",
     "output_type": "stream",
     "text": [
      "/workspaces/codespaces-jupyter/helpers/half_ridge.py:149: RuntimeWarning: Mean of empty slice\n",
      "  post_weights = np.nanmean(samples1, axis=0)\n"
     ]
    },
    {
     "name": "stdout",
     "output_type": "stream",
     "text": [
      "binary comparisons\n",
      "0.638\n",
      "Training Set Value: 610, Eta: 33598.18286283774, Fold: 1 of range(0, 5)\n",
      "Running half-ridge regression...\n",
      "Half ridge regression rejection sampling took 0.056841373443603516 seconds\n",
      "half-ridge coefficients\n",
      "{'Age': 0.4023638351639993, 'Blast Furnace Slag': 0.5159684033170148, 'Cement': 0.7335778403792486, 'Coarse Aggregate': 0.06673467370236037, 'Fine Aggregate': 0.08309485774972054, 'Fly Ash': 0.3178223771328104, 'Superplasticizer': 0.1385158979664743, 'Water': -0.1914989025870331, 'intercept': 0}\n"
     ]
    },
    {
     "name": "stderr",
     "output_type": "stream",
     "text": [
      "/workspaces/codespaces-jupyter/helpers/half_ridge.py:149: RuntimeWarning: Mean of empty slice\n",
      "  post_weights = np.nanmean(samples1, axis=0)\n"
     ]
    },
    {
     "name": "stdout",
     "output_type": "stream",
     "text": [
      "binary comparisons\n",
      "0.622\n",
      "Training Set Value: 610, Eta: 33598.18286283774, Fold: 2 of range(0, 5)\n",
      "Running half-ridge regression...\n",
      "Half ridge regression rejection sampling took 0.04992556571960449 seconds\n",
      "half-ridge coefficients\n",
      "{'Age': -892696544.2082748, 'Blast Furnace Slag': -890584959.5319138, 'Cement': 908064947.937328, 'Coarse Aggregate': -955770336.2931805, 'Fine Aggregate': -887764360.6736556, 'Fly Ash': -918120093.6343566, 'Superplasticizer': -876834660.0379034, 'Water': -896574020.3869593, 'intercept': 0}\n",
      "binary comparisons\n",
      "0.457\n",
      "Training Set Value: 610, Eta: 33598.18286283774, Fold: 3 of range(0, 5)\n",
      "Running half-ridge regression...\n",
      "Half ridge regression rejection sampling took 0.03947091102600098 seconds\n",
      "half-ridge coefficients\n",
      "{'Age': -842048855.3341707, 'Blast Furnace Slag': -851459595.6908666, 'Cement': 821031265.444242, 'Coarse Aggregate': -969839259.6464537, 'Fine Aggregate': -902049433.095334, 'Fly Ash': -873006218.2197667, 'Superplasticizer': -918104972.6201371, 'Water': -898275399.2283161, 'intercept': 0}\n",
      "binary comparisons\n",
      "0.477\n",
      "Training Set Value: 610, Eta: 33598.18286283774, Fold: 4 of range(0, 5)\n",
      "Running half-ridge regression...\n",
      "Half ridge regression rejection sampling took 0.035845279693603516 seconds\n",
      "half-ridge coefficients\n",
      "{'Age': -872961316.3622643, 'Blast Furnace Slag': -922165430.332322, 'Cement': 886541487.1114603, 'Coarse Aggregate': -860858318.3503954, 'Fine Aggregate': -918501870.737129, 'Fly Ash': -897389054.4876248, 'Superplasticizer': -905516844.910191, 'Water': -914561729.5027196, 'intercept': 0}\n",
      "binary comparisons\n",
      "0.443\n",
      "Training Set Value: 610, Eta: 100000.0, Fold: 0 of range(0, 5)\n",
      "Running half-ridge regression...\n",
      "Half ridge regression rejection sampling took 0.056511878967285156 seconds\n",
      "half-ridge coefficients\n",
      "{'Age': 0.4539363550680976, 'Blast Furnace Slag': 0.5421477687904964, 'Cement': 0.7554048209433079, 'Coarse Aggregate': 0.09109374597387512, 'Fine Aggregate': 0.09873916468686189, 'Fly Ash': 0.34518675393068343, 'Superplasticizer': 0.08082412508292156, 'Water': -0.19328608335972833, 'intercept': 0}\n"
     ]
    },
    {
     "name": "stderr",
     "output_type": "stream",
     "text": [
      "/workspaces/codespaces-jupyter/helpers/half_ridge.py:149: RuntimeWarning: Mean of empty slice\n",
      "  post_weights = np.nanmean(samples1, axis=0)\n"
     ]
    },
    {
     "name": "stdout",
     "output_type": "stream",
     "text": [
      "binary comparisons\n",
      "0.627\n",
      "Training Set Value: 610, Eta: 100000.0, Fold: 1 of range(0, 5)\n",
      "Running half-ridge regression...\n",
      "Half ridge regression rejection sampling took 0.05923008918762207 seconds\n",
      "half-ridge coefficients\n",
      "{'Age': 0.40236383535358755, 'Blast Furnace Slag': 0.5159683873451046, 'Cement': 0.7335778193093351, 'Coarse Aggregate': 0.06673465949138079, 'Fine Aggregate': 0.08309483963378568, 'Fly Ash': 0.3178223585997527, 'Superplasticizer': 0.13851589766147285, 'Water': -0.19149892383746014, 'intercept': 0}\n",
      "binary comparisons\n",
      "0.649\n",
      "Training Set Value: 610, Eta: 100000.0, Fold: 2 of range(0, 5)\n"
     ]
    },
    {
     "name": "stderr",
     "output_type": "stream",
     "text": [
      "/workspaces/codespaces-jupyter/helpers/half_ridge.py:149: RuntimeWarning: Mean of empty slice\n",
      "  post_weights = np.nanmean(samples1, axis=0)\n"
     ]
    },
    {
     "name": "stdout",
     "output_type": "stream",
     "text": [
      "Running half-ridge regression...\n",
      "Half ridge regression rejection sampling took 0.03505086898803711 seconds\n",
      "half-ridge coefficients\n",
      "{'Age': -7868721726.384825, 'Blast Furnace Slag': -8020012997.545368, 'Cement': 7540157462.935725, 'Coarse Aggregate': -8236118333.917766, 'Fine Aggregate': -8074873731.141058, 'Fly Ash': -7844889559.640875, 'Superplasticizer': -8107589466.870805, 'Water': -7812233393.416296, 'intercept': 0}\n",
      "binary comparisons\n",
      "0.473\n",
      "Training Set Value: 610, Eta: 100000.0, Fold: 3 of range(0, 5)\n",
      "Running half-ridge regression...\n",
      "Half ridge regression rejection sampling took 0.035455942153930664 seconds\n",
      "half-ridge coefficients\n",
      "{'Age': -8254475703.957775, 'Blast Furnace Slag': -8540624210.124124, 'Cement': 7897589603.063478, 'Coarse Aggregate': -8084245841.822736, 'Fine Aggregate': -8151865843.185234, 'Fly Ash': -8241803596.270858, 'Superplasticizer': -8648610542.920622, 'Water': -8079922705.28779, 'intercept': 0}\n",
      "binary comparisons\n",
      "0.443\n",
      "Training Set Value: 610, Eta: 100000.0, Fold: 4 of range(0, 5)\n",
      "Running half-ridge regression...\n",
      "Half ridge regression rejection sampling took 0.03460383415222168 seconds\n",
      "half-ridge coefficients\n",
      "{'Age': -7880647157.236897, 'Blast Furnace Slag': -7514435900.198887, 'Cement': 8121480931.960988, 'Coarse Aggregate': -7860049183.810215, 'Fine Aggregate': -8155969901.034161, 'Fly Ash': -7652169323.780137, 'Superplasticizer': -7815719180.755278, 'Water': -8163656764.11505, 'intercept': 0}\n",
      "binary comparisons\n",
      "0.467\n",
      "Training Set Value: 610, Eta: inf, Fold: 0 of range(0, 5)\n",
      "Running half-ridge regression...\n",
      "Half ridge regression rejection sampling took 2.0742416381835938e-05 seconds\n",
      "half-ridge coefficients\n",
      "{'Age': -8.368345781889688e-17, 'Blast Furnace Slag': -1.5096186945043219e-16, 'Cement': 1.0000000000000002, 'Coarse Aggregate': -4.347242919660689e-16, 'Fine Aggregate': -3.3052802208565035e-16, 'Fly Ash': -5.041658298357918e-16, 'Superplasticizer': -5.602582774194621e-16, 'Water': -6.106312750029087e-17, 'intercept': 0}\n",
      "binary comparisons\n",
      "0.462\n",
      "Training Set Value: 610, Eta: inf, Fold: 1 of range(0, 5)\n",
      "Running half-ridge regression...\n",
      "Half ridge regression rejection sampling took 2.0265579223632812e-05 seconds\n",
      "half-ridge coefficients\n",
      "{'Age': -8.368345781889688e-17, 'Blast Furnace Slag': -1.5096186945043219e-16, 'Cement': 1.0000000000000002, 'Coarse Aggregate': -4.347242919660689e-16, 'Fine Aggregate': -3.3052802208565035e-16, 'Fly Ash': -5.041658298357918e-16, 'Superplasticizer': -5.602582774194621e-16, 'Water': -6.106312750029087e-17, 'intercept': 0}\n",
      "binary comparisons\n",
      "0.48\n",
      "Training Set Value: 610, Eta: inf, Fold: 2 of range(0, 5)\n",
      "Running half-ridge regression...\n",
      "Half ridge regression rejection sampling took 1.9550323486328125e-05 seconds\n",
      "half-ridge coefficients\n",
      "{'Age': -8.368345781889688e-17, 'Blast Furnace Slag': -1.5096186945043219e-16, 'Cement': 1.0000000000000002, 'Coarse Aggregate': -4.347242919660689e-16, 'Fine Aggregate': -3.3052802208565035e-16, 'Fly Ash': -5.041658298357918e-16, 'Superplasticizer': -5.602582774194621e-16, 'Water': -6.106312750029087e-17, 'intercept': 0}\n",
      "binary comparisons\n",
      "0.498\n",
      "Training Set Value: 610, Eta: inf, Fold: 3 of range(0, 5)\n",
      "Running half-ridge regression...\n",
      "Half ridge regression rejection sampling took 1.8835067749023438e-05 seconds\n",
      "half-ridge coefficients\n",
      "{'Age': -8.368345781889688e-17, 'Blast Furnace Slag': -1.5096186945043219e-16, 'Cement': 1.0000000000000002, 'Coarse Aggregate': -4.347242919660689e-16, 'Fine Aggregate': -3.3052802208565035e-16, 'Fly Ash': -5.041658298357918e-16, 'Superplasticizer': -5.602582774194621e-16, 'Water': -6.106312750029087e-17, 'intercept': 0}\n",
      "binary comparisons\n",
      "0.466\n",
      "Training Set Value: 610, Eta: inf, Fold: 4 of range(0, 5)\n",
      "Running half-ridge regression...\n",
      "Half ridge regression rejection sampling took 2.1457672119140625e-05 seconds\n",
      "half-ridge coefficients\n",
      "{'Age': -8.368345781889688e-17, 'Blast Furnace Slag': -1.5096186945043219e-16, 'Cement': 1.0000000000000002, 'Coarse Aggregate': -4.347242919660689e-16, 'Fine Aggregate': -3.3052802208565035e-16, 'Fly Ash': -5.041658298357918e-16, 'Superplasticizer': -5.602582774194621e-16, 'Water': -6.106312750029087e-17, 'intercept': 0}\n",
      "binary comparisons\n",
      "0.488\n"
     ]
    }
   ],
   "source": [
    "# Load the ICU dataset, normalize the data, and split into training, validation, and test sets\n",
    "\n",
    "# Loop over each dataset, loaded from file and formatted\n",
    "for dataset in uci_datasets:\n",
    "    model = Model()\n",
    "    model.import_from_file('uci_ml_datasets/ucirepo_' + str(dataset) + '.csv')\n",
    "    model.format_data()\n",
    "    training_set_values = model.set_up_training_values(training_set_sizes, .6)\n",
    "\n",
    "    print(training_set_values)\n",
    "    \n",
    "    # Initialize the comparison results\n",
    "    binary_comparisons = {}\n",
    "\n",
    "    # loop over the training set values\n",
    "    for training_set_index, training_set_value in enumerate(training_set_values):\n",
    "        print(f\"Training Set Index: {training_set_index}, Training Set Value: {training_set_value}\")\n",
    "\n",
    "        # Check if a file exists for the dataset in the dataset_models folder\n",
    "        # if it does, skip the rest of the code and continue with the loop\n",
    "        # if it doesn't, continue with the rest of the code\n",
    "        if os.path.isfile(f\"models/uci_repo_{dataset}/{training_set_value}.csv\") and not overwrite_model:\n",
    "            print(f\"Model already exists for dataset {dataset} and training_set_value {training_set_value}. Skipping...\")\n",
    "            continue\n",
    "\n",
    "        # Generate cross-validation indices\n",
    "        cv = cv_indexing(cv_folds, model.X.shape[0], training_set_value)\n",
    "\n",
    "        # Initialize the comparison results for this training set value\n",
    "        binary_comparisons[training_set_value] = {}\n",
    "\n",
    "        # Vary eta values from 10^-4 to 10^5 and loop over them\n",
    "        etas = np.logspace(-4, 5, num=num_etas)\n",
    "        etas = np.insert(etas, 0, 0)\n",
    "        etas = np.append(etas, np.inf)\n",
    "        for eta in etas:\n",
    "\n",
    "            # Initialize the comparison results for this eta\n",
    "            binary_comparisons[training_set_value][eta] = []\n",
    "\n",
    "            # Crossvalidate over the folds for a specific tau\n",
    "            for i in range(cv_folds):\n",
    "\n",
    "                # Print info about this iteration\n",
    "                print(f\"Training Set Value: {training_set_value}, Eta: {eta}, Fold: {i} of {range(cv_folds)}\")\n",
    "\n",
    "                # Get training and test indices for the i-th fold\n",
    "                train_indices = np.where(cv[i] == 1)[0]\n",
    "                test_indices = np.where(cv[i] == 0)[0]\n",
    "                \n",
    "                # Split the data\n",
    "                X_train, X_test = model.X.iloc[train_indices], model.X.iloc[test_indices]\n",
    "                y_train, y_test = model.y.iloc[train_indices], model.y.iloc[test_indices]\n",
    "\n",
    "                # Determine the signs of the coefficients using OLS\n",
    "                ols_coefficients = model.determine_signs_of_coefficients(ols_use_all_data, X_train, y_train)\n",
    "\n",
    "                # Run the half ridge regression with mcmc\n",
    "                #half_ridge_trace = half_ridge(X_train, y_train, model.ols_coefficients, prior_eta=eta)\n",
    "                #var_dict = {}\n",
    "                #for variable in half_ridge_trace.posterior:\n",
    "                #    var_dict[variable] = half_ridge_trace.posterior[variable].values.flatten()\n",
    "                # Results into a dataframe\n",
    "                #var_weights = pd.DataFrame(var_dict)\n",
    "                # Means for all the weights\n",
    "                #var_means_array = var_weights.mean(axis=0)\n",
    "                # Convert the dataframe var_means_array to a dictionary with the column names as keys\n",
    "                #half_ridge_coefficients = {col: var_means_array[col] for col in var_weights.columns}\n",
    "                \n",
    "                # Run the half ridge regression with rejection sampling\n",
    "                start_time = time.time()\n",
    "                half_ridge_coefficients = half_ridge_rejection_sampling(ols_coefficients, X_train, y_train, eta, chain_lengths[training_set_index])\n",
    "                end_time = time.time()\n",
    "                duration = end_time - start_time\n",
    "                print(f\"Half ridge regression rejection sampling took {duration} seconds\")\n",
    "\n",
    "                # Calculate the binary comparisons for the models\n",
    "                sorted_half_ridge_coefficients = {k: half_ridge_coefficients[k] for k in sorted(half_ridge_coefficients)}\n",
    "                sorted_half_ridge_coefficients['intercept'] = 0\n",
    "                print('half-ridge coefficients')\n",
    "                print(sorted_half_ridge_coefficients)\n",
    "                binary_comparison = calculate_binary_comparison(sorted_half_ridge_coefficients, X_test, y_test)\n",
    "                binary_comparisons[training_set_value][eta].append(binary_comparison)\n",
    "                print('binary comparisons')\n",
    "                print(binary_comparison)   \n",
    "\n",
    "    with open('model_results/ucirepo_' + str(dataset) + '.csv', 'wb') as file:\n",
    "        pickle.dump(binary_comparisons, file)\n"
   ]
  }
 ],
 "metadata": {
  "kernelspec": {
   "display_name": "pymc_env",
   "language": "python",
   "name": "python3"
  },
  "language_info": {
   "codemirror_mode": {
    "name": "ipython",
    "version": 3
   },
   "file_extension": ".py",
   "mimetype": "text/x-python",
   "name": "python",
   "nbconvert_exporter": "python",
   "pygments_lexer": "ipython3",
   "version": "3.12.1"
  }
 },
 "nbformat": 4,
 "nbformat_minor": 2
}
