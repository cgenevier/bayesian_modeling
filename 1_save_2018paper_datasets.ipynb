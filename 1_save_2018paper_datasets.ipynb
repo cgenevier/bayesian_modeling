{
 "cells": [
  {
   "cell_type": "code",
   "execution_count": 6,
   "metadata": {},
   "outputs": [],
   "source": [
    "# List of file names provided in the R code from 2018 Half Ridge Paper\n",
    "paper2018_datasets = [\n",
    "    \"house.world\", \"mortality\", \"cit.world\", \"prf.world\", \"bodyfat.world\", \n",
    "    \"car.world\", \"cloud\", \"dropout\", \"fat.world\", \"fuel.world\", \"glps\",\n",
    "    \"homeless.world\", \"landrent.world\", \"mammal.world\", \"oxidants\",\n",
    "    \"attractiveness.men\", \"attractiveness.women\", \"fish.fertility\", \n",
    "    \"oxygen\", \"ozone\"\n",
    "]"
   ]
  },
  {
   "cell_type": "code",
   "execution_count": 7,
   "metadata": {},
   "outputs": [],
   "source": [
    "# Load necessary libraries and helper functions\n",
    "import pandas as pd\n",
    " \n",
    "# import dataset class\n",
    "from helpers.model import Model"
   ]
  },
  {
   "cell_type": "code",
   "execution_count": 8,
   "metadata": {},
   "outputs": [],
   "source": [
    "# Loop through each file, process, and save as a CSV\n",
    "for file_name in paper2018_datasets:\n",
    "    # Read the tab-delimited file\n",
    "    df = pd.read_csv(f'../2018_paper/Data/{file_name}.txt', sep='\\t')\n",
    "    \n",
    "    # Remove columns 1, 2, and 4 (index 0, 1, and 3 in Python) - for some reason, the target column is #3, and features start at #5+\n",
    "    df = df.drop(columns=[df.columns[0], df.columns[1], df.columns[3]])\n",
    "    \n",
    "    # Move new target column to the end\n",
    "    df = df[[col for col in df.columns if col != df.columns[0]] + [df.columns[0]]]\n",
    "\n",
    "    # Save the modified DataFrame as a CSV file\n",
    "    df.to_csv(f'2018paper_datasets/2018paper_{file_name}_0.csv', index=False)\n",
    "\n",
    "\n"
   ]
  },
  {
   "cell_type": "markdown",
   "metadata": {},
   "source": [
    "## Manual Adjustments Necessary:\n",
    "\n",
    "Dataset cloud: There's an empty column that needs deleting"
   ]
  }
 ],
 "metadata": {
  "kernelspec": {
   "display_name": "pymc_env",
   "language": "python",
   "name": "python3"
  },
  "language_info": {
   "codemirror_mode": {
    "name": "ipython",
    "version": 3
   },
   "file_extension": ".py",
   "mimetype": "text/x-python",
   "name": "python",
   "nbconvert_exporter": "python",
   "pygments_lexer": "ipython3",
   "version": "3.12.4"
  }
 },
 "nbformat": 4,
 "nbformat_minor": 2
}
